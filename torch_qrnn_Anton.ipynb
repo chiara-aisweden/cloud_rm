{
 "cells": [
  {
   "cell_type": "code",
   "execution_count": null,
   "metadata": {},
   "outputs": [
    {
     "name": "stderr",
     "output_type": "stream",
     "text": [
      "2024-02-15 08:14:24.355576: I tensorflow/core/platform/cpu_feature_guard.cc:182] This TensorFlow binary is optimized to use available CPU instructions in performance-critical operations.\n",
      "To enable the following instructions: AVX2 FMA, in other operations, rebuild TensorFlow with the appropriate compiler flags.\n"
     ]
    }
   ],
   "source": [
    "import numpy as np\n",
    "import pandas as pd\n",
    "import matplotlib.pyplot as plt\n",
    "import sys\n",
    "print('ass')\n",
    "import functions.parse_data as parse\n",
    "import functions.handy_functions as hf\n",
    "\n",
    "from multivariate_quantile_regression.anton_trial_model import QuantileNetwork\n",
    "import torch.nn as nn\n",
    "\n",
    "from sklearn.metrics import mean_squared_error\n",
    "from sklearn.model_selection import train_test_split"
   ]
  },
  {
   "cell_type": "code",
   "execution_count": 2,
   "metadata": {},
   "outputs": [],
   "source": [
    "channel_labels= ['Cloud_B02','Cloud_B03','Cloud_B04','Cloud_B05','Cloud_B06','Cloud_B07',\n",
    "                 'Cloud_B08','Cloud_B09','Cloud_B10','Cloud_B11','Cloud_B12','Cloud_B13']\n",
    "\n",
    "data_water=parse.parse('SMHIdata/cloudrm_water.dat')\n",
    "data_clear=parse.parse('SMHIdata/cloudrm_clear.dat')\n",
    "data_ice=parse.parse('SMHIdata/cloudrm_ice.dat')\n",
    "data_mixed=parse.parse('SMHIdata/cloudrm_mixed.dat')\n",
    "\n",
    "#Concatinate all datasets\n",
    "data_all=pd.concat([data_water, data_clear, data_ice, data_mixed])"
   ]
  },
  {
   "cell_type": "code",
   "execution_count": 3,
   "metadata": {},
   "outputs": [
    {
     "name": "stdout",
     "output_type": "stream",
     "text": [
      "Noise standard deviation for Cloud_B02: 0.00335001428051948\n",
      "Noise standard deviation for Cloud_B03: 0.002912530185416667\n",
      "Noise standard deviation for Cloud_B04: 0.004058081082042254\n",
      "Noise standard deviation for Cloud_B05: 0.0046524891611111115\n",
      "Noise standard deviation for Cloud_B06: 0.007455351321348316\n",
      "Noise standard deviation for Cloud_B07: 0.008871707484285717\n",
      "Noise standard deviation for Cloud_B08: 0.04489677938000001\n",
      "Noise standard deviation for Cloud_B09: 0.005688141120114942\n",
      "Noise standard deviation for Cloud_B10: 0.003909328971491229\n",
      "Noise standard deviation for Cloud_B11: 0.0014014724139999996\n",
      "Noise standard deviation for Cloud_B12: 0.005030040539999999\n",
      "Noise standard deviation for Cloud_B13: 0.004041267081999999\n"
     ]
    }
   ],
   "source": [
    "channel_labels= ['Cloud_B02','Cloud_B03','Cloud_B04','Cloud_B05','Cloud_B06','Cloud_B07',\n",
    "                 'Cloud_B08','Cloud_B09','Cloud_B10','Cloud_B11','Cloud_B12','Cloud_B13']\n",
    "\n",
    "data_water=parse.parse('SMHIdata/cloudrm_water.dat')\n",
    "data_clear=parse.parse('SMHIdata/cloudrm_clear.dat')\n",
    "data_ice=parse.parse('SMHIdata/cloudrm_ice.dat')\n",
    "data_mixed=parse.parse('SMHIdata/cloudrm_mixed.dat')\n",
    "\n",
    "#Concatinate all datasets\n",
    "data_all=pd.concat([data_water, data_clear, data_ice, data_mixed])\n",
    "data_all=data_all.drop(columns=['Surface_Desc','Cloud_B01','Clear_B01'])\n",
    "data_all=hf.add_MSI_noise(data_all,channel_labels)"
   ]
  },
  {
   "cell_type": "code",
   "execution_count": 4,
   "metadata": {},
   "outputs": [],
   "source": [
    "##Train test validation split##\n",
    "X_labels= ['Cloud_B02','Cloud_B03','Cloud_B04','Cloud_B05','Cloud_B06',\n",
    "           'Cloud_B07','Cloud_B08','Cloud_B09','Cloud_B10','Cloud_B11','Cloud_B12','Cloud_B13',\n",
    "           'Sat_Zenith_Angle','Sun_Zenith_Angle','Azimuth_Diff_Angle']\n",
    "\n",
    "#Leave out 'GOT', 'Water_Vapor'\n",
    "#Band 1 no go.\n",
    "y_labels=['Clear_B02','Clear_B03','Clear_B04','Clear_B05','Clear_B06',\n",
    "           'Clear_B07','Clear_B08','Clear_B09','Clear_B10','Clear_B11','Clear_B12','Clear_B13']\n",
    "\n",
    "df=hf.normalise_input_df(data_all,X_labels)\n",
    "df=hf.add_noise(df,X_labels,sigma=0.001)\n",
    "\n",
    "##Split data##\n",
    "X=df[X_labels]\n",
    "y=df[y_labels]\n",
    "\n",
    "X_train, X_test, y_train, y_test=train_test_split(X,y,test_size=0.05)"
   ]
  },
  {
   "cell_type": "code",
   "execution_count": 5,
   "metadata": {},
   "outputs": [],
   "source": [
    "import random\n",
    "\n",
    "val_size=0.05\n",
    "\n",
    "validation_indices1=np.array(random.sample(range(len(X_train['Cloud_B02'])), int(len(X_train['Cloud_B02'])*val_size)))\n",
    "train_indices1=[i for i in range(len(X_train['Cloud_B02'])) if np.any(validation_indices1==i)==False]\n",
    "\n",
    "validation_indices2=np.array(random.sample(range(len(X_train['Cloud_B02'])), int(len(X_train['Cloud_B02'])*val_size)))\n",
    "train_indices2=[i for i in range(len(X_train['Cloud_B02'])) if np.any(validation_indices2==i)==False]\n",
    "\n",
    "validation_indices3=np.array(random.sample(range(len(X_train['Cloud_B02'])), int(len(X_train['Cloud_B02'])*val_size)))\n",
    "train_indices3=[i for i in range(len(X_train['Cloud_B02'])) if np.any(validation_indices3==i)==False]\n",
    "\n",
    "validation_indices4=np.array(random.sample(range(len(X_train['Cloud_B02'])), int(len(X_train['Cloud_B02'])*val_size)))\n",
    "train_indices4=[i for i in range(len(X_train['Cloud_B02'])) if np.any(validation_indices4==i)==False]\n",
    "\n",
    "validation_indices5=np.array(random.sample(range(len(X_train['Cloud_B02'])), int(len(X_train['Cloud_B02'])*val_size)))\n",
    "train_indices5=[i for i in range(len(X_train['Cloud_B02'])) if np.any(validation_indices5==i)==False]"
   ]
  },
  {
   "cell_type": "code",
   "execution_count": 6,
   "metadata": {},
   "outputs": [
    {
     "name": "stdout",
     "output_type": "stream",
     "text": [
      "Epoch 1\n"
     ]
    },
    {
     "name": "stderr",
     "output_type": "stream",
     "text": [
      "Batch number: 100%|██████████| 1805/1805 [00:06<00:00, 274.74it/s]\n"
     ]
    },
    {
     "name": "stdout",
     "output_type": "stream",
     "text": [
      "Training loss [0.73318523] Validation loss [0.57546157]\n",
      "----New best validation loss---- [0.57546157]\n",
      "Epoch 2\n"
     ]
    },
    {
     "name": "stderr",
     "output_type": "stream",
     "text": [
      "Batch number: 100%|██████████| 1805/1805 [01:12<00:00, 24.99it/s] \n"
     ]
    },
    {
     "name": "stdout",
     "output_type": "stream",
     "text": [
      "Training loss [0.5397119] Validation loss [0.50913996]\n",
      "----New best validation loss---- [0.50913996]\n",
      "Epoch 3\n"
     ]
    },
    {
     "name": "stderr",
     "output_type": "stream",
     "text": [
      "Batch number: 100%|██████████| 1805/1805 [00:15<00:00, 118.30it/s]\n"
     ]
    },
    {
     "name": "stdout",
     "output_type": "stream",
     "text": [
      "Training loss [0.49806985] Validation loss [0.4801194]\n",
      "----New best validation loss---- [0.4801194]\n",
      "Epoch 4\n"
     ]
    },
    {
     "name": "stderr",
     "output_type": "stream",
     "text": [
      "Batch number: 100%|██████████| 1805/1805 [00:15<00:00, 119.31it/s]\n"
     ]
    },
    {
     "name": "stdout",
     "output_type": "stream",
     "text": [
      "Training loss [0.47495136] Validation loss [0.45671695]\n",
      "----New best validation loss---- [0.45671695]\n",
      "Epoch 5\n"
     ]
    },
    {
     "name": "stderr",
     "output_type": "stream",
     "text": [
      "Batch number: 100%|██████████| 1805/1805 [00:10<00:00, 166.95it/s]"
     ]
    },
    {
     "name": "stdout",
     "output_type": "stream",
     "text": [
      "Training loss [0.45947927] Validation loss [0.4464892]\n",
      "----New best validation loss---- [0.4464892]\n",
      "Epoch 6\n"
     ]
    },
    {
     "name": "stderr",
     "output_type": "stream",
     "text": [
      "\n",
      "Batch number: 100%|██████████| 1805/1805 [00:09<00:00, 187.47it/s]\n"
     ]
    },
    {
     "name": "stdout",
     "output_type": "stream",
     "text": [
      "Training loss [0.44843858] Validation loss [0.4410218]\n",
      "----New best validation loss---- [0.4410218]\n",
      "Epoch 7\n"
     ]
    },
    {
     "name": "stderr",
     "output_type": "stream",
     "text": [
      "Batch number: 100%|██████████| 1805/1805 [00:13<00:00, 132.73it/s]\n"
     ]
    },
    {
     "name": "stdout",
     "output_type": "stream",
     "text": [
      "Training loss [0.4397338] Validation loss [0.4313604]\n",
      "----New best validation loss---- [0.4313604]\n",
      "Epoch 8\n"
     ]
    },
    {
     "name": "stderr",
     "output_type": "stream",
     "text": [
      "Batch number: 100%|██████████| 1805/1805 [00:10<00:00, 179.01it/s]\n"
     ]
    },
    {
     "name": "stdout",
     "output_type": "stream",
     "text": [
      "Training loss [0.43450174] Validation loss [0.42140493]\n",
      "----New best validation loss---- [0.42140493]\n",
      "Epoch 9\n"
     ]
    },
    {
     "name": "stderr",
     "output_type": "stream",
     "text": [
      "Batch number: 100%|██████████| 1805/1805 [00:06<00:00, 275.96it/s]"
     ]
    },
    {
     "name": "stdout",
     "output_type": "stream",
     "text": [
      "Training loss [0.42803457] Validation loss [0.42498928]\n",
      "Epoch 10\n"
     ]
    },
    {
     "name": "stderr",
     "output_type": "stream",
     "text": [
      "\n",
      "Batch number: 100%|██████████| 1805/1805 [00:12<00:00, 140.71it/s]\n"
     ]
    },
    {
     "name": "stdout",
     "output_type": "stream",
     "text": [
      "Training loss [0.4232394] Validation loss [0.41640294]\n",
      "----New best validation loss---- [0.41640294]\n",
      "Epoch 11\n"
     ]
    },
    {
     "name": "stderr",
     "output_type": "stream",
     "text": [
      "Batch number: 100%|██████████| 1805/1805 [00:07<00:00, 241.08it/s]\n"
     ]
    },
    {
     "name": "stdout",
     "output_type": "stream",
     "text": [
      "Training loss [0.42000625] Validation loss [0.40634626]\n",
      "----New best validation loss---- [0.40634626]\n",
      "Epoch 12\n"
     ]
    },
    {
     "name": "stderr",
     "output_type": "stream",
     "text": [
      "Batch number: 100%|██████████| 1805/1805 [00:10<00:00, 167.37it/s]\n"
     ]
    },
    {
     "name": "stdout",
     "output_type": "stream",
     "text": [
      "Training loss [0.41658372] Validation loss [0.39951828]\n",
      "----New best validation loss---- [0.39951828]\n",
      "Epoch 13\n"
     ]
    },
    {
     "name": "stderr",
     "output_type": "stream",
     "text": [
      "Batch number: 100%|██████████| 1805/1805 [00:05<00:00, 304.61it/s]\n"
     ]
    },
    {
     "name": "stdout",
     "output_type": "stream",
     "text": [
      "Training loss [0.4140691] Validation loss [0.3970171]\n",
      "----New best validation loss---- [0.3970171]\n",
      "Epoch 14\n"
     ]
    },
    {
     "name": "stderr",
     "output_type": "stream",
     "text": [
      "Batch number: 100%|██████████| 1805/1805 [00:05<00:00, 332.93it/s]\n"
     ]
    },
    {
     "name": "stdout",
     "output_type": "stream",
     "text": [
      "Training loss [0.41039616] Validation loss [0.39785907]\n",
      "Epoch 15\n"
     ]
    },
    {
     "name": "stderr",
     "output_type": "stream",
     "text": [
      "Batch number: 100%|██████████| 1805/1805 [00:05<00:00, 317.41it/s]\n"
     ]
    },
    {
     "name": "stdout",
     "output_type": "stream",
     "text": [
      "Training loss [0.4077459] Validation loss [0.3956576]\n",
      "----New best validation loss---- [0.3956576]\n",
      "Epoch 16\n"
     ]
    },
    {
     "name": "stderr",
     "output_type": "stream",
     "text": [
      "Batch number: 100%|██████████| 1805/1805 [00:05<00:00, 303.39it/s]\n"
     ]
    },
    {
     "name": "stdout",
     "output_type": "stream",
     "text": [
      "Training loss [0.40554962] Validation loss [0.39590994]\n",
      "Epoch 17\n"
     ]
    },
    {
     "name": "stderr",
     "output_type": "stream",
     "text": [
      "Batch number: 100%|██████████| 1805/1805 [00:13<00:00, 135.15it/s]\n"
     ]
    },
    {
     "name": "stdout",
     "output_type": "stream",
     "text": [
      "Training loss [0.40300706] Validation loss [0.38690695]\n",
      "----New best validation loss---- [0.38690695]\n",
      "Epoch 18\n"
     ]
    },
    {
     "name": "stderr",
     "output_type": "stream",
     "text": [
      "Batch number: 100%|██████████| 1805/1805 [00:08<00:00, 219.81it/s]\n"
     ]
    },
    {
     "name": "stdout",
     "output_type": "stream",
     "text": [
      "Training loss [0.40028372] Validation loss [0.38640493]\n",
      "----New best validation loss---- [0.38640493]\n",
      "Epoch 19\n"
     ]
    },
    {
     "name": "stderr",
     "output_type": "stream",
     "text": [
      "Batch number: 100%|██████████| 1805/1805 [00:13<00:00, 133.98it/s]\n"
     ]
    },
    {
     "name": "stdout",
     "output_type": "stream",
     "text": [
      "Training loss [0.39937073] Validation loss [0.38882288]\n",
      "Epoch 20\n"
     ]
    },
    {
     "name": "stderr",
     "output_type": "stream",
     "text": [
      "Batch number: 100%|██████████| 1805/1805 [00:06<00:00, 279.40it/s]\n"
     ]
    },
    {
     "name": "stdout",
     "output_type": "stream",
     "text": [
      "Training loss [0.396452] Validation loss [0.38147122]\n",
      "----New best validation loss---- [0.38147122]\n",
      "Best model out of total max epochs found at epoch 20\n",
      "Epoch 1\n"
     ]
    },
    {
     "name": "stderr",
     "output_type": "stream",
     "text": [
      "Batch number: 100%|██████████| 1805/1805 [00:32<00:00, 55.25it/s] \n"
     ]
    },
    {
     "name": "stdout",
     "output_type": "stream",
     "text": [
      "Training loss [0.7475923] Validation loss [0.5742439]\n",
      "----New best validation loss---- [0.5742439]\n",
      "Epoch 2\n"
     ]
    },
    {
     "name": "stderr",
     "output_type": "stream",
     "text": [
      "Batch number: 100%|██████████| 1805/1805 [00:36<00:00, 49.66it/s] \n"
     ]
    },
    {
     "name": "stdout",
     "output_type": "stream",
     "text": [
      "Training loss [0.54131985] Validation loss [0.5201124]\n",
      "----New best validation loss---- [0.5201124]\n",
      "Epoch 3\n"
     ]
    },
    {
     "name": "stderr",
     "output_type": "stream",
     "text": [
      "Batch number: 100%|██████████| 1805/1805 [00:07<00:00, 239.74it/s]\n"
     ]
    },
    {
     "name": "stdout",
     "output_type": "stream",
     "text": [
      "Training loss [0.49950933] Validation loss [0.4809908]\n",
      "----New best validation loss---- [0.4809908]\n",
      "Epoch 4\n"
     ]
    },
    {
     "name": "stderr",
     "output_type": "stream",
     "text": [
      "Batch number: 100%|██████████| 1805/1805 [00:09<00:00, 196.58it/s]\n"
     ]
    },
    {
     "name": "stdout",
     "output_type": "stream",
     "text": [
      "Training loss [0.4767225] Validation loss [0.46949732]\n",
      "----New best validation loss---- [0.46949732]\n",
      "Epoch 5\n"
     ]
    },
    {
     "name": "stderr",
     "output_type": "stream",
     "text": [
      "Batch number: 100%|██████████| 1805/1805 [00:08<00:00, 217.76it/s]\n"
     ]
    },
    {
     "name": "stdout",
     "output_type": "stream",
     "text": [
      "Training loss [0.46180907] Validation loss [0.45278788]\n",
      "----New best validation loss---- [0.45278788]\n",
      "Epoch 6\n"
     ]
    },
    {
     "name": "stderr",
     "output_type": "stream",
     "text": [
      "Batch number: 100%|██████████| 1805/1805 [00:08<00:00, 219.51it/s]\n"
     ]
    },
    {
     "name": "stdout",
     "output_type": "stream",
     "text": [
      "Training loss [0.45232052] Validation loss [0.4543179]\n",
      "Epoch 7\n"
     ]
    },
    {
     "name": "stderr",
     "output_type": "stream",
     "text": [
      "Batch number: 100%|██████████| 1805/1805 [00:06<00:00, 273.13it/s]\n"
     ]
    },
    {
     "name": "stdout",
     "output_type": "stream",
     "text": [
      "Training loss [0.4442469] Validation loss [0.4364026]\n",
      "----New best validation loss---- [0.4364026]\n",
      "Epoch 8\n"
     ]
    },
    {
     "name": "stderr",
     "output_type": "stream",
     "text": [
      "Batch number: 100%|██████████| 1805/1805 [00:07<00:00, 234.53it/s]\n"
     ]
    },
    {
     "name": "stdout",
     "output_type": "stream",
     "text": [
      "Training loss [0.4383929] Validation loss [0.43716785]\n",
      "Epoch 9\n"
     ]
    },
    {
     "name": "stderr",
     "output_type": "stream",
     "text": [
      "Batch number: 100%|██████████| 1805/1805 [00:07<00:00, 234.09it/s]\n"
     ]
    },
    {
     "name": "stdout",
     "output_type": "stream",
     "text": [
      "Training loss [0.43223724] Validation loss [0.4254259]\n",
      "----New best validation loss---- [0.4254259]\n",
      "Epoch 10\n"
     ]
    },
    {
     "name": "stderr",
     "output_type": "stream",
     "text": [
      "Batch number: 100%|██████████| 1805/1805 [00:07<00:00, 256.87it/s]\n"
     ]
    },
    {
     "name": "stdout",
     "output_type": "stream",
     "text": [
      "Training loss [0.4282684] Validation loss [0.42660493]\n",
      "Epoch 11\n"
     ]
    },
    {
     "name": "stderr",
     "output_type": "stream",
     "text": [
      "Batch number: 100%|██████████| 1805/1805 [00:07<00:00, 250.18it/s]\n"
     ]
    },
    {
     "name": "stdout",
     "output_type": "stream",
     "text": [
      "Training loss [0.42393023] Validation loss [0.4164878]\n",
      "----New best validation loss---- [0.4164878]\n",
      "Epoch 12\n"
     ]
    },
    {
     "name": "stderr",
     "output_type": "stream",
     "text": [
      "Batch number: 100%|██████████| 1805/1805 [00:09<00:00, 192.18it/s]"
     ]
    },
    {
     "name": "stdout",
     "output_type": "stream",
     "text": [
      "Training loss [0.42049465] Validation loss [0.41653278]\n"
     ]
    },
    {
     "name": "stderr",
     "output_type": "stream",
     "text": [
      "\n"
     ]
    },
    {
     "name": "stdout",
     "output_type": "stream",
     "text": [
      "Epoch 13\n"
     ]
    },
    {
     "name": "stderr",
     "output_type": "stream",
     "text": [
      "Batch number: 100%|██████████| 1805/1805 [00:08<00:00, 218.09it/s]\n"
     ]
    },
    {
     "name": "stdout",
     "output_type": "stream",
     "text": [
      "Training loss [0.41567352] Validation loss [0.41472682]\n",
      "----New best validation loss---- [0.41472682]\n",
      "Epoch 14\n"
     ]
    },
    {
     "name": "stderr",
     "output_type": "stream",
     "text": [
      "Batch number: 100%|██████████| 1805/1805 [00:07<00:00, 248.84it/s]\n"
     ]
    },
    {
     "name": "stdout",
     "output_type": "stream",
     "text": [
      "Training loss [0.41359094] Validation loss [0.41481096]\n",
      "Epoch 15\n"
     ]
    },
    {
     "name": "stderr",
     "output_type": "stream",
     "text": [
      "Batch number: 100%|██████████| 1805/1805 [00:06<00:00, 266.20it/s]"
     ]
    },
    {
     "name": "stdout",
     "output_type": "stream",
     "text": [
      "Training loss [0.4109546] Validation loss [0.4174729]\n",
      "Epoch 16\n"
     ]
    },
    {
     "name": "stderr",
     "output_type": "stream",
     "text": [
      "\n",
      "Batch number: 100%|██████████| 1805/1805 [00:08<00:00, 214.27it/s]"
     ]
    },
    {
     "name": "stdout",
     "output_type": "stream",
     "text": [
      "Training loss [0.40843958] Validation loss [0.41309267]\n"
     ]
    },
    {
     "name": "stderr",
     "output_type": "stream",
     "text": [
      "\n"
     ]
    },
    {
     "name": "stdout",
     "output_type": "stream",
     "text": [
      "----New best validation loss---- [0.41309267]\n",
      "Epoch 17\n"
     ]
    },
    {
     "name": "stderr",
     "output_type": "stream",
     "text": [
      "Batch number: 100%|██████████| 1805/1805 [00:06<00:00, 262.56it/s]\n"
     ]
    },
    {
     "name": "stdout",
     "output_type": "stream",
     "text": [
      "Training loss [0.40708518] Validation loss [0.39779553]\n",
      "----New best validation loss---- [0.39779553]\n",
      "Epoch 18\n"
     ]
    },
    {
     "name": "stderr",
     "output_type": "stream",
     "text": [
      "Batch number: 100%|██████████| 1805/1805 [00:08<00:00, 225.28it/s]\n"
     ]
    },
    {
     "name": "stdout",
     "output_type": "stream",
     "text": [
      "Training loss [0.40406665] Validation loss [0.4035939]\n",
      "Epoch 19\n"
     ]
    },
    {
     "name": "stderr",
     "output_type": "stream",
     "text": [
      "Batch number: 100%|██████████| 1805/1805 [00:07<00:00, 256.41it/s]\n"
     ]
    },
    {
     "name": "stdout",
     "output_type": "stream",
     "text": [
      "Training loss [0.40178454] Validation loss [0.40777585]\n",
      "Epoch 20\n"
     ]
    },
    {
     "name": "stderr",
     "output_type": "stream",
     "text": [
      "Batch number: 100%|██████████| 1805/1805 [00:05<00:00, 348.23it/s]"
     ]
    },
    {
     "name": "stdout",
     "output_type": "stream",
     "text": [
      "Training loss [0.4001785] Validation loss [0.40251237]\n"
     ]
    },
    {
     "name": "stderr",
     "output_type": "stream",
     "text": [
      "\n"
     ]
    },
    {
     "name": "stdout",
     "output_type": "stream",
     "text": [
      "Best model out of total max epochs found at epoch 17\n",
      "Epoch 1\n"
     ]
    },
    {
     "name": "stderr",
     "output_type": "stream",
     "text": [
      "Batch number: 100%|██████████| 1805/1805 [00:41<00:00, 43.04it/s] "
     ]
    },
    {
     "name": "stdout",
     "output_type": "stream",
     "text": [
      "Training loss [0.7369201] Validation loss [0.58054554]\n"
     ]
    },
    {
     "name": "stderr",
     "output_type": "stream",
     "text": [
      "\n"
     ]
    },
    {
     "name": "stdout",
     "output_type": "stream",
     "text": [
      "----New best validation loss---- [0.58054554]\n",
      "Epoch 2\n"
     ]
    },
    {
     "name": "stderr",
     "output_type": "stream",
     "text": [
      "Batch number: 100%|██████████| 1805/1805 [00:43<00:00, 41.11it/s] \n"
     ]
    },
    {
     "name": "stdout",
     "output_type": "stream",
     "text": [
      "Training loss [0.5308826] Validation loss [0.5198786]\n",
      "----New best validation loss---- [0.5198786]\n",
      "Epoch 3\n"
     ]
    },
    {
     "name": "stderr",
     "output_type": "stream",
     "text": [
      "Batch number: 100%|██████████| 1805/1805 [00:11<00:00, 158.43it/s]\n"
     ]
    },
    {
     "name": "stdout",
     "output_type": "stream",
     "text": [
      "Training loss [0.4945869] Validation loss [0.49039462]\n",
      "----New best validation loss---- [0.49039462]\n",
      "Epoch 4\n"
     ]
    },
    {
     "name": "stderr",
     "output_type": "stream",
     "text": [
      "Batch number: 100%|██████████| 1805/1805 [00:11<00:00, 158.96it/s]\n"
     ]
    },
    {
     "name": "stdout",
     "output_type": "stream",
     "text": [
      "Training loss [0.47284937] Validation loss [0.46709302]\n",
      "----New best validation loss---- [0.46709302]\n",
      "Epoch 5\n"
     ]
    },
    {
     "name": "stderr",
     "output_type": "stream",
     "text": [
      "Batch number: 100%|██████████| 1805/1805 [00:08<00:00, 204.32it/s]\n"
     ]
    },
    {
     "name": "stdout",
     "output_type": "stream",
     "text": [
      "Training loss [0.46043453] Validation loss [0.46549937]\n",
      "----New best validation loss---- [0.46549937]\n",
      "Epoch 6\n"
     ]
    },
    {
     "name": "stderr",
     "output_type": "stream",
     "text": [
      "Batch number: 100%|██████████| 1805/1805 [00:23<00:00, 76.01it/s] \n"
     ]
    },
    {
     "name": "stdout",
     "output_type": "stream",
     "text": [
      "Training loss [0.4511405] Validation loss [0.4570829]\n",
      "----New best validation loss---- [0.4570829]\n",
      "Epoch 7\n"
     ]
    },
    {
     "name": "stderr",
     "output_type": "stream",
     "text": [
      "Batch number: 100%|██████████| 1805/1805 [00:12<00:00, 140.84it/s]\n"
     ]
    },
    {
     "name": "stdout",
     "output_type": "stream",
     "text": [
      "Training loss [0.44227174] Validation loss [0.44550502]\n",
      "----New best validation loss---- [0.44550502]\n",
      "Epoch 8\n"
     ]
    },
    {
     "name": "stderr",
     "output_type": "stream",
     "text": [
      "Batch number: 100%|██████████| 1805/1805 [00:14<00:00, 128.16it/s]\n"
     ]
    },
    {
     "name": "stdout",
     "output_type": "stream",
     "text": [
      "Training loss [0.43592897] Validation loss [0.4360714]\n",
      "----New best validation loss---- [0.4360714]\n",
      "Epoch 9\n"
     ]
    },
    {
     "name": "stderr",
     "output_type": "stream",
     "text": [
      "Batch number: 100%|██████████| 1805/1805 [00:11<00:00, 153.67it/s]\n"
     ]
    },
    {
     "name": "stdout",
     "output_type": "stream",
     "text": [
      "Training loss [0.4319564] Validation loss [0.4356561]\n",
      "----New best validation loss---- [0.4356561]\n",
      "Epoch 10\n"
     ]
    },
    {
     "name": "stderr",
     "output_type": "stream",
     "text": [
      "Batch number: 100%|██████████| 1805/1805 [00:09<00:00, 181.99it/s]\n"
     ]
    },
    {
     "name": "stdout",
     "output_type": "stream",
     "text": [
      "Training loss [0.42671] Validation loss [0.4253144]\n",
      "----New best validation loss---- [0.4253144]\n",
      "Epoch 11\n"
     ]
    },
    {
     "name": "stderr",
     "output_type": "stream",
     "text": [
      "Batch number: 100%|██████████| 1805/1805 [00:20<00:00, 89.40it/s] \n"
     ]
    },
    {
     "name": "stdout",
     "output_type": "stream",
     "text": [
      "Training loss [0.42237777] Validation loss [0.4268944]\n",
      "Epoch 12\n"
     ]
    },
    {
     "name": "stderr",
     "output_type": "stream",
     "text": [
      "Batch number: 100%|██████████| 1805/1805 [00:12<00:00, 139.64it/s]\n"
     ]
    },
    {
     "name": "stdout",
     "output_type": "stream",
     "text": [
      "Training loss [0.41953072] Validation loss [0.4287168]\n",
      "Epoch 13\n"
     ]
    },
    {
     "name": "stderr",
     "output_type": "stream",
     "text": [
      "Batch number: 100%|██████████| 1805/1805 [00:11<00:00, 163.92it/s]\n"
     ]
    },
    {
     "name": "stdout",
     "output_type": "stream",
     "text": [
      "Training loss [0.4171063] Validation loss [0.42105904]\n",
      "----New best validation loss---- [0.42105904]\n",
      "Epoch 14\n"
     ]
    },
    {
     "name": "stderr",
     "output_type": "stream",
     "text": [
      "Batch number: 100%|██████████| 1805/1805 [00:19<00:00, 91.53it/s] \n"
     ]
    },
    {
     "name": "stdout",
     "output_type": "stream",
     "text": [
      "Training loss [0.4141871] Validation loss [0.41452566]\n",
      "----New best validation loss---- [0.41452566]\n",
      "Epoch 15\n"
     ]
    },
    {
     "name": "stderr",
     "output_type": "stream",
     "text": [
      "Batch number: 100%|██████████| 1805/1805 [00:16<00:00, 109.85it/s]\n"
     ]
    },
    {
     "name": "stdout",
     "output_type": "stream",
     "text": [
      "Training loss [0.41020483] Validation loss [0.41518587]\n",
      "Epoch 16\n"
     ]
    },
    {
     "name": "stderr",
     "output_type": "stream",
     "text": [
      "Batch number: 100%|██████████| 1805/1805 [00:15<00:00, 119.33it/s]\n"
     ]
    },
    {
     "name": "stdout",
     "output_type": "stream",
     "text": [
      "Training loss [0.40892464] Validation loss [0.41893148]\n",
      "Epoch 17\n"
     ]
    },
    {
     "name": "stderr",
     "output_type": "stream",
     "text": [
      "Batch number: 100%|██████████| 1805/1805 [00:09<00:00, 181.69it/s]\n"
     ]
    },
    {
     "name": "stdout",
     "output_type": "stream",
     "text": [
      "Training loss [0.40639007] Validation loss [0.40913814]\n",
      "----New best validation loss---- [0.40913814]\n",
      "Epoch 18\n"
     ]
    },
    {
     "name": "stderr",
     "output_type": "stream",
     "text": [
      "Batch number: 100%|██████████| 1805/1805 [00:11<00:00, 162.65it/s]\n"
     ]
    },
    {
     "name": "stdout",
     "output_type": "stream",
     "text": [
      "Training loss [0.40476143] Validation loss [0.40244767]\n",
      "----New best validation loss---- [0.40244767]\n",
      "Epoch 19\n"
     ]
    },
    {
     "name": "stderr",
     "output_type": "stream",
     "text": [
      "Batch number: 100%|██████████| 1805/1805 [00:09<00:00, 181.07it/s]\n"
     ]
    },
    {
     "name": "stdout",
     "output_type": "stream",
     "text": [
      "Training loss [0.4016371] Validation loss [0.40493026]\n",
      "Epoch 20\n"
     ]
    },
    {
     "name": "stderr",
     "output_type": "stream",
     "text": [
      "Batch number: 100%|██████████| 1805/1805 [00:20<00:00, 89.03it/s] \n"
     ]
    },
    {
     "name": "stdout",
     "output_type": "stream",
     "text": [
      "Training loss [0.3998055] Validation loss [0.40957347]\n",
      "Best model out of total max epochs found at epoch 18\n",
      "Epoch 1\n"
     ]
    },
    {
     "name": "stderr",
     "output_type": "stream",
     "text": [
      "Batch number: 100%|██████████| 1805/1805 [00:52<00:00, 34.14it/s] \n"
     ]
    },
    {
     "name": "stdout",
     "output_type": "stream",
     "text": [
      "Training loss [0.7465553] Validation loss [0.5765552]\n",
      "----New best validation loss---- [0.5765552]\n",
      "Epoch 2\n"
     ]
    },
    {
     "name": "stderr",
     "output_type": "stream",
     "text": [
      "Batch number: 100%|██████████| 1805/1805 [00:55<00:00, 32.34it/s] \n"
     ]
    },
    {
     "name": "stdout",
     "output_type": "stream",
     "text": [
      "Training loss [0.5391624] Validation loss [0.5133797]\n",
      "----New best validation loss---- [0.5133797]\n",
      "Epoch 3\n"
     ]
    },
    {
     "name": "stderr",
     "output_type": "stream",
     "text": [
      "Batch number: 100%|██████████| 1805/1805 [00:06<00:00, 262.14it/s]\n"
     ]
    },
    {
     "name": "stdout",
     "output_type": "stream",
     "text": [
      "Training loss [0.49689794] Validation loss [0.4936138]\n",
      "----New best validation loss---- [0.4936138]\n",
      "Epoch 4\n"
     ]
    },
    {
     "name": "stderr",
     "output_type": "stream",
     "text": [
      "Batch number: 100%|██████████| 1805/1805 [00:07<00:00, 225.73it/s]\n"
     ]
    },
    {
     "name": "stdout",
     "output_type": "stream",
     "text": [
      "Training loss [0.4746739] Validation loss [0.47018272]\n",
      "----New best validation loss---- [0.47018272]\n",
      "Epoch 5\n"
     ]
    },
    {
     "name": "stderr",
     "output_type": "stream",
     "text": [
      "Batch number: 100%|██████████| 1805/1805 [00:09<00:00, 189.49it/s]\n"
     ]
    },
    {
     "name": "stdout",
     "output_type": "stream",
     "text": [
      "Training loss [0.4598074] Validation loss [0.45241818]\n",
      "----New best validation loss---- [0.45241818]\n",
      "Epoch 6\n"
     ]
    },
    {
     "name": "stderr",
     "output_type": "stream",
     "text": [
      "Batch number: 100%|██████████| 1805/1805 [00:09<00:00, 197.12it/s]\n"
     ]
    },
    {
     "name": "stdout",
     "output_type": "stream",
     "text": [
      "Training loss [0.44921482] Validation loss [0.44445753]\n",
      "----New best validation loss---- [0.44445753]\n",
      "Epoch 7\n"
     ]
    },
    {
     "name": "stderr",
     "output_type": "stream",
     "text": [
      "Batch number: 100%|██████████| 1805/1805 [00:09<00:00, 182.66it/s]\n"
     ]
    },
    {
     "name": "stdout",
     "output_type": "stream",
     "text": [
      "Training loss [0.4418823] Validation loss [0.43807006]\n",
      "----New best validation loss---- [0.43807006]\n",
      "Epoch 8\n"
     ]
    },
    {
     "name": "stderr",
     "output_type": "stream",
     "text": [
      "Batch number: 100%|██████████| 1805/1805 [00:09<00:00, 189.82it/s]\n"
     ]
    },
    {
     "name": "stdout",
     "output_type": "stream",
     "text": [
      "Training loss [0.43497857] Validation loss [0.4307814]\n",
      "----New best validation loss---- [0.4307814]\n",
      "Epoch 9\n"
     ]
    },
    {
     "name": "stderr",
     "output_type": "stream",
     "text": [
      "Batch number: 100%|██████████| 1805/1805 [00:09<00:00, 194.59it/s]\n"
     ]
    },
    {
     "name": "stdout",
     "output_type": "stream",
     "text": [
      "Training loss [0.42926303] Validation loss [0.4324324]\n",
      "Epoch 10\n"
     ]
    },
    {
     "name": "stderr",
     "output_type": "stream",
     "text": [
      "Batch number: 100%|██████████| 1805/1805 [00:06<00:00, 279.92it/s]\n"
     ]
    },
    {
     "name": "stdout",
     "output_type": "stream",
     "text": [
      "Training loss [0.42492318] Validation loss [0.43176198]\n",
      "Epoch 11\n"
     ]
    },
    {
     "name": "stderr",
     "output_type": "stream",
     "text": [
      "Batch number: 100%|██████████| 1805/1805 [00:08<00:00, 206.48it/s]\n"
     ]
    },
    {
     "name": "stdout",
     "output_type": "stream",
     "text": [
      "Training loss [0.4209613] Validation loss [0.4274302]\n",
      "----New best validation loss---- [0.4274302]\n",
      "Epoch 12\n"
     ]
    },
    {
     "name": "stderr",
     "output_type": "stream",
     "text": [
      "Batch number: 100%|██████████| 1805/1805 [00:10<00:00, 167.98it/s]\n"
     ]
    },
    {
     "name": "stdout",
     "output_type": "stream",
     "text": [
      "Training loss [0.41697016] Validation loss [0.4141352]\n",
      "----New best validation loss---- [0.4141352]\n",
      "Epoch 13\n"
     ]
    },
    {
     "name": "stderr",
     "output_type": "stream",
     "text": [
      "Batch number: 100%|██████████| 1805/1805 [00:09<00:00, 190.80it/s]\n"
     ]
    },
    {
     "name": "stdout",
     "output_type": "stream",
     "text": [
      "Training loss [0.41410846] Validation loss [0.41750044]\n",
      "Epoch 14\n"
     ]
    },
    {
     "name": "stderr",
     "output_type": "stream",
     "text": [
      "Batch number: 100%|██████████| 1805/1805 [00:08<00:00, 224.48it/s]\n"
     ]
    },
    {
     "name": "stdout",
     "output_type": "stream",
     "text": [
      "Training loss [0.41054484] Validation loss [0.40993664]\n",
      "----New best validation loss---- [0.40993664]\n",
      "Epoch 15\n"
     ]
    },
    {
     "name": "stderr",
     "output_type": "stream",
     "text": [
      "Batch number: 100%|██████████| 1805/1805 [00:08<00:00, 203.77it/s]\n"
     ]
    },
    {
     "name": "stdout",
     "output_type": "stream",
     "text": [
      "Training loss [0.40843457] Validation loss [0.41816097]\n",
      "Epoch 16\n"
     ]
    },
    {
     "name": "stderr",
     "output_type": "stream",
     "text": [
      "Batch number: 100%|██████████| 1805/1805 [00:07<00:00, 254.15it/s]\n"
     ]
    },
    {
     "name": "stdout",
     "output_type": "stream",
     "text": [
      "Training loss [0.4057088] Validation loss [0.41870564]\n",
      "Epoch 17\n"
     ]
    },
    {
     "name": "stderr",
     "output_type": "stream",
     "text": [
      "Batch number: 100%|██████████| 1805/1805 [00:06<00:00, 288.50it/s]\n"
     ]
    },
    {
     "name": "stdout",
     "output_type": "stream",
     "text": [
      "Training loss [0.40374157] Validation loss [0.4122204]\n",
      "Epoch 18\n"
     ]
    },
    {
     "name": "stderr",
     "output_type": "stream",
     "text": [
      "Batch number: 100%|██████████| 1805/1805 [00:06<00:00, 294.72it/s]\n"
     ]
    },
    {
     "name": "stdout",
     "output_type": "stream",
     "text": [
      "Training loss [0.4025751] Validation loss [0.40183532]\n",
      "----New best validation loss---- [0.40183532]\n",
      "Epoch 19\n"
     ]
    },
    {
     "name": "stderr",
     "output_type": "stream",
     "text": [
      "Batch number: 100%|██████████| 1805/1805 [00:07<00:00, 241.55it/s]\n"
     ]
    },
    {
     "name": "stdout",
     "output_type": "stream",
     "text": [
      "Training loss [0.3996724] Validation loss [0.41124067]\n",
      "Epoch 20\n"
     ]
    },
    {
     "name": "stderr",
     "output_type": "stream",
     "text": [
      "Batch number: 100%|██████████| 1805/1805 [00:06<00:00, 297.52it/s]\n"
     ]
    },
    {
     "name": "stdout",
     "output_type": "stream",
     "text": [
      "Training loss [0.39778847] Validation loss [0.3994605]\n",
      "----New best validation loss---- [0.3994605]\n",
      "Best model out of total max epochs found at epoch 20\n",
      "Epoch 1\n"
     ]
    },
    {
     "name": "stderr",
     "output_type": "stream",
     "text": [
      "Batch number: 100%|██████████| 1805/1805 [00:38<00:00, 46.51it/s] \n"
     ]
    },
    {
     "name": "stdout",
     "output_type": "stream",
     "text": [
      "Training loss [0.745755] Validation loss [0.5801161]\n",
      "----New best validation loss---- [0.5801161]\n",
      "Epoch 2\n"
     ]
    },
    {
     "name": "stderr",
     "output_type": "stream",
     "text": [
      "Batch number: 100%|██████████| 1805/1805 [00:34<00:00, 52.36it/s] \n"
     ]
    },
    {
     "name": "stdout",
     "output_type": "stream",
     "text": [
      "Training loss [0.5407469] Validation loss [0.52705216]\n",
      "----New best validation loss---- [0.52705216]\n",
      "Epoch 3\n"
     ]
    },
    {
     "name": "stderr",
     "output_type": "stream",
     "text": [
      "Batch number: 100%|██████████| 1805/1805 [00:06<00:00, 264.16it/s]\n"
     ]
    },
    {
     "name": "stdout",
     "output_type": "stream",
     "text": [
      "Training loss [0.49788812] Validation loss [0.4910203]\n",
      "----New best validation loss---- [0.4910203]\n",
      "Epoch 4\n"
     ]
    },
    {
     "name": "stderr",
     "output_type": "stream",
     "text": [
      "Batch number: 100%|██████████| 1805/1805 [00:06<00:00, 264.74it/s]\n"
     ]
    },
    {
     "name": "stdout",
     "output_type": "stream",
     "text": [
      "Training loss [0.47557124] Validation loss [0.45736113]\n",
      "----New best validation loss---- [0.45736113]\n",
      "Epoch 5\n"
     ]
    },
    {
     "name": "stderr",
     "output_type": "stream",
     "text": [
      "Batch number: 100%|██████████| 1805/1805 [00:06<00:00, 259.54it/s]\n"
     ]
    },
    {
     "name": "stdout",
     "output_type": "stream",
     "text": [
      "Training loss [0.46132264] Validation loss [0.46654797]\n",
      "Epoch 6\n"
     ]
    },
    {
     "name": "stderr",
     "output_type": "stream",
     "text": [
      "Batch number: 100%|██████████| 1805/1805 [00:06<00:00, 269.19it/s]\n"
     ]
    },
    {
     "name": "stdout",
     "output_type": "stream",
     "text": [
      "Training loss [0.4503763] Validation loss [0.44241494]\n",
      "----New best validation loss---- [0.44241494]\n",
      "Epoch 7\n"
     ]
    },
    {
     "name": "stderr",
     "output_type": "stream",
     "text": [
      "Batch number: 100%|██████████| 1805/1805 [00:09<00:00, 191.36it/s]\n"
     ]
    },
    {
     "name": "stdout",
     "output_type": "stream",
     "text": [
      "Training loss [0.44266278] Validation loss [0.43347672]\n",
      "----New best validation loss---- [0.43347672]\n",
      "Epoch 8\n"
     ]
    },
    {
     "name": "stderr",
     "output_type": "stream",
     "text": [
      "Batch number: 100%|██████████| 1805/1805 [00:07<00:00, 252.07it/s]\n"
     ]
    },
    {
     "name": "stdout",
     "output_type": "stream",
     "text": [
      "Training loss [0.4349136] Validation loss [0.43139473]\n",
      "----New best validation loss---- [0.43139473]\n",
      "Epoch 9\n"
     ]
    },
    {
     "name": "stderr",
     "output_type": "stream",
     "text": [
      "Batch number: 100%|██████████| 1805/1805 [00:07<00:00, 245.47it/s]\n"
     ]
    },
    {
     "name": "stdout",
     "output_type": "stream",
     "text": [
      "Training loss [0.42966846] Validation loss [0.42985216]\n",
      "----New best validation loss---- [0.42985216]\n",
      "Epoch 10\n"
     ]
    },
    {
     "name": "stderr",
     "output_type": "stream",
     "text": [
      "Batch number: 100%|██████████| 1805/1805 [00:07<00:00, 235.13it/s]\n"
     ]
    },
    {
     "name": "stdout",
     "output_type": "stream",
     "text": [
      "Training loss [0.425086] Validation loss [0.42703027]\n",
      "----New best validation loss---- [0.42703027]\n",
      "Epoch 11\n"
     ]
    },
    {
     "name": "stderr",
     "output_type": "stream",
     "text": [
      "Batch number: 100%|██████████| 1805/1805 [00:07<00:00, 231.39it/s]\n"
     ]
    },
    {
     "name": "stdout",
     "output_type": "stream",
     "text": [
      "Training loss [0.42045707] Validation loss [0.4154596]\n",
      "----New best validation loss---- [0.4154596]\n",
      "Epoch 12\n"
     ]
    },
    {
     "name": "stderr",
     "output_type": "stream",
     "text": [
      "Batch number: 100%|██████████| 1805/1805 [00:07<00:00, 247.09it/s]"
     ]
    },
    {
     "name": "stdout",
     "output_type": "stream",
     "text": [
      "Training loss [0.41693833] Validation loss [0.41199395]\n",
      "----New best validation loss---- [0.41199395]\n",
      "Epoch 13\n"
     ]
    },
    {
     "name": "stderr",
     "output_type": "stream",
     "text": [
      "\n",
      "Batch number: 100%|██████████| 1805/1805 [00:06<00:00, 280.04it/s]\n"
     ]
    },
    {
     "name": "stdout",
     "output_type": "stream",
     "text": [
      "Training loss [0.4128655] Validation loss [0.41505677]\n",
      "Epoch 14\n"
     ]
    },
    {
     "name": "stderr",
     "output_type": "stream",
     "text": [
      "Batch number: 100%|██████████| 1805/1805 [00:06<00:00, 286.97it/s]\n"
     ]
    },
    {
     "name": "stdout",
     "output_type": "stream",
     "text": [
      "Training loss [0.4104082] Validation loss [0.41071513]\n",
      "----New best validation loss---- [0.41071513]\n",
      "Epoch 15\n"
     ]
    },
    {
     "name": "stderr",
     "output_type": "stream",
     "text": [
      "Batch number: 100%|██████████| 1805/1805 [00:06<00:00, 270.05it/s]\n"
     ]
    },
    {
     "name": "stdout",
     "output_type": "stream",
     "text": [
      "Training loss [0.40798226] Validation loss [0.40443876]\n",
      "----New best validation loss---- [0.40443876]\n",
      "Epoch 16\n"
     ]
    },
    {
     "name": "stderr",
     "output_type": "stream",
     "text": [
      "Batch number: 100%|██████████| 1805/1805 [00:06<00:00, 260.81it/s]\n"
     ]
    },
    {
     "name": "stdout",
     "output_type": "stream",
     "text": [
      "Training loss [0.40560812] Validation loss [0.40119153]\n",
      "----New best validation loss---- [0.40119153]\n",
      "Epoch 17\n"
     ]
    },
    {
     "name": "stderr",
     "output_type": "stream",
     "text": [
      "Batch number: 100%|██████████| 1805/1805 [00:06<00:00, 262.13it/s]\n"
     ]
    },
    {
     "name": "stdout",
     "output_type": "stream",
     "text": [
      "Training loss [0.40353587] Validation loss [0.40994543]\n",
      "Epoch 18\n"
     ]
    },
    {
     "name": "stderr",
     "output_type": "stream",
     "text": [
      "Batch number: 100%|██████████| 1805/1805 [00:06<00:00, 257.95it/s]\n"
     ]
    },
    {
     "name": "stdout",
     "output_type": "stream",
     "text": [
      "Training loss [0.40042937] Validation loss [0.3995782]\n",
      "----New best validation loss---- [0.3995782]\n",
      "Epoch 19\n"
     ]
    },
    {
     "name": "stderr",
     "output_type": "stream",
     "text": [
      "Batch number: 100%|██████████| 1805/1805 [00:06<00:00, 274.53it/s]\n"
     ]
    },
    {
     "name": "stdout",
     "output_type": "stream",
     "text": [
      "Training loss [0.39923528] Validation loss [0.40543324]\n",
      "Epoch 20\n"
     ]
    },
    {
     "name": "stderr",
     "output_type": "stream",
     "text": [
      "Batch number: 100%|██████████| 1805/1805 [00:07<00:00, 234.49it/s]\n"
     ]
    },
    {
     "name": "stdout",
     "output_type": "stream",
     "text": [
      "Training loss [0.39797196] Validation loss [0.39413]\n",
      "----New best validation loss---- [0.39413]\n",
      "Best model out of total max epochs found at epoch 20\n",
      "Epoch 1\n"
     ]
    },
    {
     "name": "stderr",
     "output_type": "stream",
     "text": [
      "Batch number: 100%|██████████| 1805/1805 [00:36<00:00, 48.79it/s] \n"
     ]
    },
    {
     "name": "stdout",
     "output_type": "stream",
     "text": [
      "Training loss [0.7434175] Validation loss [0.54826367]\n",
      "----New best validation loss---- [0.54826367]\n",
      "Epoch 2\n"
     ]
    },
    {
     "name": "stderr",
     "output_type": "stream",
     "text": [
      "Batch number: 100%|██████████| 1805/1805 [00:35<00:00, 50.69it/s] \n"
     ]
    },
    {
     "name": "stdout",
     "output_type": "stream",
     "text": [
      "Training loss [0.53808326] Validation loss [0.5009238]\n",
      "----New best validation loss---- [0.5009238]\n",
      "Epoch 3\n"
     ]
    },
    {
     "name": "stderr",
     "output_type": "stream",
     "text": [
      "Batch number: 100%|██████████| 1805/1805 [00:09<00:00, 197.75it/s]\n"
     ]
    },
    {
     "name": "stdout",
     "output_type": "stream",
     "text": [
      "Training loss [0.49597904] Validation loss [0.47093365]\n",
      "----New best validation loss---- [0.47093365]\n",
      "Epoch 4\n"
     ]
    },
    {
     "name": "stderr",
     "output_type": "stream",
     "text": [
      "Batch number: 100%|██████████| 1805/1805 [00:08<00:00, 218.96it/s]\n"
     ]
    },
    {
     "name": "stdout",
     "output_type": "stream",
     "text": [
      "Training loss [0.47299814] Validation loss [0.45119748]\n",
      "----New best validation loss---- [0.45119748]\n",
      "Epoch 5\n"
     ]
    },
    {
     "name": "stderr",
     "output_type": "stream",
     "text": [
      "Batch number: 100%|██████████| 1805/1805 [00:07<00:00, 255.68it/s]\n"
     ]
    },
    {
     "name": "stdout",
     "output_type": "stream",
     "text": [
      "Training loss [0.45835242] Validation loss [0.43315676]\n",
      "----New best validation loss---- [0.43315676]\n",
      "Epoch 6\n"
     ]
    },
    {
     "name": "stderr",
     "output_type": "stream",
     "text": [
      "Batch number: 100%|██████████| 1805/1805 [00:07<00:00, 257.80it/s]\n"
     ]
    },
    {
     "name": "stdout",
     "output_type": "stream",
     "text": [
      "Training loss [0.44838905] Validation loss [0.42969513]\n",
      "----New best validation loss---- [0.42969513]\n",
      "Epoch 7\n"
     ]
    },
    {
     "name": "stderr",
     "output_type": "stream",
     "text": [
      "Batch number: 100%|██████████| 1805/1805 [00:07<00:00, 242.91it/s]"
     ]
    },
    {
     "name": "stdout",
     "output_type": "stream",
     "text": [
      "Training loss [0.44051817] Validation loss [0.41733897]\n"
     ]
    },
    {
     "name": "stderr",
     "output_type": "stream",
     "text": [
      "\n"
     ]
    },
    {
     "name": "stdout",
     "output_type": "stream",
     "text": [
      "----New best validation loss---- [0.41733897]\n",
      "Epoch 8\n"
     ]
    },
    {
     "name": "stderr",
     "output_type": "stream",
     "text": [
      "Batch number: 100%|██████████| 1805/1805 [00:07<00:00, 252.93it/s]"
     ]
    },
    {
     "name": "stdout",
     "output_type": "stream",
     "text": [
      "Training loss [0.4334326] Validation loss [0.4174575]\n"
     ]
    },
    {
     "name": "stderr",
     "output_type": "stream",
     "text": [
      "\n"
     ]
    },
    {
     "name": "stdout",
     "output_type": "stream",
     "text": [
      "Epoch 9\n"
     ]
    },
    {
     "name": "stderr",
     "output_type": "stream",
     "text": [
      "Batch number: 100%|██████████| 1805/1805 [00:08<00:00, 217.16it/s]\n"
     ]
    },
    {
     "name": "stdout",
     "output_type": "stream",
     "text": [
      "Training loss [0.42860344] Validation loss [0.41037318]\n",
      "----New best validation loss---- [0.41037318]\n",
      "Epoch 10\n"
     ]
    },
    {
     "name": "stderr",
     "output_type": "stream",
     "text": [
      "Batch number: 100%|██████████| 1805/1805 [00:07<00:00, 246.86it/s]\n"
     ]
    },
    {
     "name": "stdout",
     "output_type": "stream",
     "text": [
      "Training loss [0.42318186] Validation loss [0.40673074]\n",
      "----New best validation loss---- [0.40673074]\n",
      "Epoch 11\n"
     ]
    },
    {
     "name": "stderr",
     "output_type": "stream",
     "text": [
      "Batch number: 100%|██████████| 1805/1805 [00:07<00:00, 247.30it/s]\n"
     ]
    },
    {
     "name": "stdout",
     "output_type": "stream",
     "text": [
      "Training loss [0.41910574] Validation loss [0.40862894]\n",
      "Epoch 12\n"
     ]
    },
    {
     "name": "stderr",
     "output_type": "stream",
     "text": [
      "Batch number: 100%|██████████| 1805/1805 [00:18<00:00, 95.84it/s] \n"
     ]
    },
    {
     "name": "stdout",
     "output_type": "stream",
     "text": [
      "Training loss [0.4157811] Validation loss [0.4130007]\n",
      "Epoch 13\n"
     ]
    },
    {
     "name": "stderr",
     "output_type": "stream",
     "text": [
      "Batch number: 100%|██████████| 1805/1805 [00:06<00:00, 261.83it/s]\n"
     ]
    },
    {
     "name": "stdout",
     "output_type": "stream",
     "text": [
      "Training loss [0.4128863] Validation loss [0.4026784]\n",
      "----New best validation loss---- [0.4026784]\n",
      "Epoch 14\n"
     ]
    },
    {
     "name": "stderr",
     "output_type": "stream",
     "text": [
      "Batch number: 100%|██████████| 1805/1805 [00:07<00:00, 250.68it/s]\n"
     ]
    },
    {
     "name": "stdout",
     "output_type": "stream",
     "text": [
      "Training loss [0.40989098] Validation loss [0.40690035]\n",
      "Epoch 15\n"
     ]
    },
    {
     "name": "stderr",
     "output_type": "stream",
     "text": [
      "Batch number: 100%|██████████| 1805/1805 [00:08<00:00, 215.34it/s]\n"
     ]
    },
    {
     "name": "stdout",
     "output_type": "stream",
     "text": [
      "Training loss [0.4066184] Validation loss [0.38838127]\n",
      "----New best validation loss---- [0.38838127]\n",
      "Epoch 16\n"
     ]
    },
    {
     "name": "stderr",
     "output_type": "stream",
     "text": [
      "Batch number: 100%|██████████| 1805/1805 [00:09<00:00, 181.84it/s]\n"
     ]
    },
    {
     "name": "stdout",
     "output_type": "stream",
     "text": [
      "Training loss [0.40440512] Validation loss [0.39074686]\n",
      "Epoch 17\n"
     ]
    },
    {
     "name": "stderr",
     "output_type": "stream",
     "text": [
      "Batch number: 100%|██████████| 1805/1805 [00:08<00:00, 219.49it/s]\n"
     ]
    },
    {
     "name": "stdout",
     "output_type": "stream",
     "text": [
      "Training loss [0.40216804] Validation loss [0.38355088]\n",
      "----New best validation loss---- [0.38355088]\n",
      "Epoch 18\n"
     ]
    },
    {
     "name": "stderr",
     "output_type": "stream",
     "text": [
      "Batch number: 100%|██████████| 1805/1805 [00:08<00:00, 217.56it/s]"
     ]
    },
    {
     "name": "stdout",
     "output_type": "stream",
     "text": [
      "Training loss [0.39932263] Validation loss [0.3882445]\n",
      "Epoch 19\n"
     ]
    },
    {
     "name": "stderr",
     "output_type": "stream",
     "text": [
      "\n",
      "Batch number: 100%|██████████| 1805/1805 [00:06<00:00, 282.17it/s]\n"
     ]
    },
    {
     "name": "stdout",
     "output_type": "stream",
     "text": [
      "Training loss [0.39855728] Validation loss [0.3855554]\n",
      "Epoch 20\n"
     ]
    },
    {
     "name": "stderr",
     "output_type": "stream",
     "text": [
      "Batch number: 100%|██████████| 1805/1805 [00:09<00:00, 180.56it/s]\n"
     ]
    },
    {
     "name": "stdout",
     "output_type": "stream",
     "text": [
      "Training loss [0.39614388] Validation loss [0.38371038]\n",
      "Best model out of total max epochs found at epoch 17\n",
      "Epoch 1\n"
     ]
    },
    {
     "name": "stderr",
     "output_type": "stream",
     "text": [
      "Batch number: 100%|██████████| 1805/1805 [00:46<00:00, 38.80it/s] \n"
     ]
    },
    {
     "name": "stdout",
     "output_type": "stream",
     "text": [
      "Training loss [0.741987] Validation loss [0.5729995]\n",
      "----New best validation loss---- [0.5729995]\n",
      "Epoch 2\n"
     ]
    },
    {
     "name": "stderr",
     "output_type": "stream",
     "text": [
      "Batch number: 100%|██████████| 1805/1805 [00:45<00:00, 39.42it/s] \n"
     ]
    },
    {
     "name": "stdout",
     "output_type": "stream",
     "text": [
      "Training loss [0.5418804] Validation loss [0.5082754]\n",
      "----New best validation loss---- [0.5082754]\n",
      "Epoch 3\n"
     ]
    },
    {
     "name": "stderr",
     "output_type": "stream",
     "text": [
      "Batch number: 100%|██████████| 1805/1805 [00:09<00:00, 196.29it/s]\n"
     ]
    },
    {
     "name": "stdout",
     "output_type": "stream",
     "text": [
      "Training loss [0.50408334] Validation loss [0.48735106]\n",
      "----New best validation loss---- [0.48735106]\n",
      "Epoch 4\n"
     ]
    },
    {
     "name": "stderr",
     "output_type": "stream",
     "text": [
      "Batch number: 100%|██████████| 1805/1805 [00:10<00:00, 174.75it/s]"
     ]
    },
    {
     "name": "stdout",
     "output_type": "stream",
     "text": [
      "Training loss [0.48091048] Validation loss [0.47042152]\n"
     ]
    },
    {
     "name": "stderr",
     "output_type": "stream",
     "text": [
      "\n"
     ]
    },
    {
     "name": "stdout",
     "output_type": "stream",
     "text": [
      "----New best validation loss---- [0.47042152]\n",
      "Epoch 5\n"
     ]
    },
    {
     "name": "stderr",
     "output_type": "stream",
     "text": [
      "Batch number: 100%|██████████| 1805/1805 [00:09<00:00, 184.68it/s]\n"
     ]
    },
    {
     "name": "stdout",
     "output_type": "stream",
     "text": [
      "Training loss [0.46772498] Validation loss [0.46395868]\n",
      "----New best validation loss---- [0.46395868]\n",
      "Epoch 6\n"
     ]
    },
    {
     "name": "stderr",
     "output_type": "stream",
     "text": [
      "Batch number: 100%|██████████| 1805/1805 [00:08<00:00, 217.33it/s]\n"
     ]
    },
    {
     "name": "stdout",
     "output_type": "stream",
     "text": [
      "Training loss [0.4561837] Validation loss [0.45349696]\n",
      "----New best validation loss---- [0.45349696]\n",
      "Epoch 7\n"
     ]
    },
    {
     "name": "stderr",
     "output_type": "stream",
     "text": [
      "Batch number: 100%|██████████| 1805/1805 [00:13<00:00, 132.25it/s]\n"
     ]
    },
    {
     "name": "stdout",
     "output_type": "stream",
     "text": [
      "Training loss [0.4484345] Validation loss [0.4401765]\n",
      "----New best validation loss---- [0.4401765]\n",
      "Epoch 8\n"
     ]
    },
    {
     "name": "stderr",
     "output_type": "stream",
     "text": [
      "Batch number: 100%|██████████| 1805/1805 [00:13<00:00, 134.46it/s]\n"
     ]
    },
    {
     "name": "stdout",
     "output_type": "stream",
     "text": [
      "Training loss [0.44108367] Validation loss [0.45010567]\n",
      "Epoch 9\n"
     ]
    },
    {
     "name": "stderr",
     "output_type": "stream",
     "text": [
      "Batch number: 100%|██████████| 1805/1805 [00:08<00:00, 203.18it/s]"
     ]
    },
    {
     "name": "stdout",
     "output_type": "stream",
     "text": [
      "Training loss [0.43528968] Validation loss [0.43324274]\n"
     ]
    },
    {
     "name": "stderr",
     "output_type": "stream",
     "text": [
      "\n"
     ]
    },
    {
     "name": "stdout",
     "output_type": "stream",
     "text": [
      "----New best validation loss---- [0.43324274]\n",
      "Epoch 10\n"
     ]
    },
    {
     "name": "stderr",
     "output_type": "stream",
     "text": [
      "Batch number: 100%|██████████| 1805/1805 [00:07<00:00, 230.88it/s]\n"
     ]
    },
    {
     "name": "stdout",
     "output_type": "stream",
     "text": [
      "Training loss [0.4302491] Validation loss [0.4259905]\n",
      "----New best validation loss---- [0.4259905]\n",
      "Epoch 11\n"
     ]
    },
    {
     "name": "stderr",
     "output_type": "stream",
     "text": [
      "Batch number: 100%|██████████| 1805/1805 [00:20<00:00, 87.96it/s] "
     ]
    },
    {
     "name": "stdout",
     "output_type": "stream",
     "text": [
      "Training loss [0.4270453] Validation loss [0.41647708]\n",
      "----New best validation loss---- [0.41647708]\n",
      "Epoch 12\n"
     ]
    },
    {
     "name": "stderr",
     "output_type": "stream",
     "text": [
      "\n",
      "Batch number: 100%|██████████| 1805/1805 [00:11<00:00, 158.90it/s]\n"
     ]
    },
    {
     "name": "stdout",
     "output_type": "stream",
     "text": [
      "Training loss [0.42329407] Validation loss [0.42345905]\n",
      "Epoch 13\n"
     ]
    },
    {
     "name": "stderr",
     "output_type": "stream",
     "text": [
      "Batch number: 100%|██████████| 1805/1805 [00:12<00:00, 149.15it/s]\n"
     ]
    },
    {
     "name": "stdout",
     "output_type": "stream",
     "text": [
      "Training loss [0.41885838] Validation loss [0.41617084]\n",
      "----New best validation loss---- [0.41617084]\n",
      "Epoch 14\n"
     ]
    },
    {
     "name": "stderr",
     "output_type": "stream",
     "text": [
      "Batch number: 100%|██████████| 1805/1805 [00:09<00:00, 183.90it/s]\n"
     ]
    },
    {
     "name": "stdout",
     "output_type": "stream",
     "text": [
      "Training loss [0.41673377] Validation loss [0.41689712]\n",
      "Epoch 15\n"
     ]
    },
    {
     "name": "stderr",
     "output_type": "stream",
     "text": [
      "Batch number: 100%|██████████| 1805/1805 [00:09<00:00, 191.04it/s]\n"
     ]
    },
    {
     "name": "stdout",
     "output_type": "stream",
     "text": [
      "Training loss [0.41358137] Validation loss [0.4162584]\n",
      "Epoch 16\n"
     ]
    },
    {
     "name": "stderr",
     "output_type": "stream",
     "text": [
      "Batch number: 100%|██████████| 1805/1805 [00:06<00:00, 278.79it/s]"
     ]
    },
    {
     "name": "stdout",
     "output_type": "stream",
     "text": [
      "Training loss [0.41049802] Validation loss [0.41783175]\n",
      "Epoch 17\n"
     ]
    },
    {
     "name": "stderr",
     "output_type": "stream",
     "text": [
      "\n",
      "Batch number: 100%|██████████| 1805/1805 [00:08<00:00, 219.31it/s]\n"
     ]
    },
    {
     "name": "stdout",
     "output_type": "stream",
     "text": [
      "Training loss [0.40802047] Validation loss [0.4039236]\n",
      "----New best validation loss---- [0.4039236]\n",
      "Epoch 18\n"
     ]
    },
    {
     "name": "stderr",
     "output_type": "stream",
     "text": [
      "Batch number: 100%|██████████| 1805/1805 [00:08<00:00, 203.71it/s]\n"
     ]
    },
    {
     "name": "stdout",
     "output_type": "stream",
     "text": [
      "Training loss [0.4061982] Validation loss [0.41148308]\n",
      "Epoch 19\n"
     ]
    },
    {
     "name": "stderr",
     "output_type": "stream",
     "text": [
      "Batch number: 100%|██████████| 1805/1805 [00:08<00:00, 203.73it/s]\n"
     ]
    },
    {
     "name": "stdout",
     "output_type": "stream",
     "text": [
      "Training loss [0.40411192] Validation loss [0.40744802]\n",
      "Epoch 20\n"
     ]
    },
    {
     "name": "stderr",
     "output_type": "stream",
     "text": [
      "Batch number: 100%|██████████| 1805/1805 [00:07<00:00, 242.66it/s]\n"
     ]
    },
    {
     "name": "stdout",
     "output_type": "stream",
     "text": [
      "Training loss [0.40229475] Validation loss [0.3984113]\n",
      "----New best validation loss---- [0.3984113]\n",
      "Best model out of total max epochs found at epoch 20\n",
      "Epoch 1\n"
     ]
    },
    {
     "name": "stderr",
     "output_type": "stream",
     "text": [
      "Batch number: 100%|██████████| 1805/1805 [00:57<00:00, 31.18it/s] \n"
     ]
    },
    {
     "name": "stdout",
     "output_type": "stream",
     "text": [
      "Training loss [0.7417301] Validation loss [0.5752544]\n",
      "----New best validation loss---- [0.5752544]\n",
      "Epoch 2\n"
     ]
    },
    {
     "name": "stderr",
     "output_type": "stream",
     "text": [
      "Batch number: 100%|██████████| 1805/1805 [01:26<00:00, 20.96it/s] \n"
     ]
    },
    {
     "name": "stdout",
     "output_type": "stream",
     "text": [
      "Training loss [0.53500485] Validation loss [0.51669466]\n",
      "----New best validation loss---- [0.51669466]\n",
      "Epoch 3\n"
     ]
    },
    {
     "name": "stderr",
     "output_type": "stream",
     "text": [
      "Batch number: 100%|██████████| 1805/1805 [00:10<00:00, 176.64it/s]\n"
     ]
    },
    {
     "name": "stdout",
     "output_type": "stream",
     "text": [
      "Training loss [0.4944985] Validation loss [0.4836066]\n",
      "----New best validation loss---- [0.4836066]\n",
      "Epoch 4\n"
     ]
    },
    {
     "name": "stderr",
     "output_type": "stream",
     "text": [
      "Batch number: 100%|██████████| 1805/1805 [00:11<00:00, 155.54it/s]\n"
     ]
    },
    {
     "name": "stdout",
     "output_type": "stream",
     "text": [
      "Training loss [0.4724678] Validation loss [0.47528172]\n",
      "----New best validation loss---- [0.47528172]\n",
      "Epoch 5\n"
     ]
    },
    {
     "name": "stderr",
     "output_type": "stream",
     "text": [
      "Batch number: 100%|██████████| 1805/1805 [00:08<00:00, 224.47it/s]\n"
     ]
    },
    {
     "name": "stdout",
     "output_type": "stream",
     "text": [
      "Training loss [0.4593126] Validation loss [0.47457618]\n",
      "----New best validation loss---- [0.47457618]\n",
      "Epoch 6\n"
     ]
    },
    {
     "name": "stderr",
     "output_type": "stream",
     "text": [
      "Batch number: 100%|██████████| 1805/1805 [00:10<00:00, 177.68it/s]\n"
     ]
    },
    {
     "name": "stdout",
     "output_type": "stream",
     "text": [
      "Training loss [0.44942322] Validation loss [0.4485388]\n",
      "----New best validation loss---- [0.4485388]\n",
      "Epoch 7\n"
     ]
    },
    {
     "name": "stderr",
     "output_type": "stream",
     "text": [
      "Batch number: 100%|██████████| 1805/1805 [00:11<00:00, 154.73it/s]\n"
     ]
    },
    {
     "name": "stdout",
     "output_type": "stream",
     "text": [
      "Training loss [0.44307986] Validation loss [0.45150462]\n",
      "Epoch 8\n"
     ]
    },
    {
     "name": "stderr",
     "output_type": "stream",
     "text": [
      "Batch number: 100%|██████████| 1805/1805 [00:32<00:00, 55.90it/s] \n"
     ]
    },
    {
     "name": "stdout",
     "output_type": "stream",
     "text": [
      "Training loss [0.4356645] Validation loss [0.43987542]\n",
      "----New best validation loss---- [0.43987542]\n",
      "Epoch 9\n"
     ]
    },
    {
     "name": "stderr",
     "output_type": "stream",
     "text": [
      "Batch number: 100%|██████████| 1805/1805 [00:12<00:00, 149.86it/s]\n"
     ]
    },
    {
     "name": "stdout",
     "output_type": "stream",
     "text": [
      "Training loss [0.43044797] Validation loss [0.44044635]\n",
      "Epoch 10\n"
     ]
    },
    {
     "name": "stderr",
     "output_type": "stream",
     "text": [
      "Batch number: 100%|██████████| 1805/1805 [00:08<00:00, 211.36it/s]\n"
     ]
    },
    {
     "name": "stdout",
     "output_type": "stream",
     "text": [
      "Training loss [0.42717555] Validation loss [0.45639634]\n",
      "Epoch 11\n"
     ]
    },
    {
     "name": "stderr",
     "output_type": "stream",
     "text": [
      "Batch number: 100%|██████████| 1805/1805 [00:18<00:00, 95.95it/s] \n"
     ]
    },
    {
     "name": "stdout",
     "output_type": "stream",
     "text": [
      "Training loss [0.4229143] Validation loss [0.430835]\n",
      "----New best validation loss---- [0.430835]\n",
      "Epoch 12\n"
     ]
    },
    {
     "name": "stderr",
     "output_type": "stream",
     "text": [
      "Batch number: 100%|██████████| 1805/1805 [00:19<00:00, 93.41it/s] "
     ]
    },
    {
     "name": "stdout",
     "output_type": "stream",
     "text": [
      "Training loss [0.41907448] Validation loss [0.41585848]\n",
      "----New best validation loss---- [0.41585848]\n",
      "Epoch 13\n"
     ]
    },
    {
     "name": "stderr",
     "output_type": "stream",
     "text": [
      "\n",
      "Batch number: 100%|██████████| 1805/1805 [00:10<00:00, 165.87it/s]\n"
     ]
    },
    {
     "name": "stdout",
     "output_type": "stream",
     "text": [
      "Training loss [0.41520128] Validation loss [0.42202526]\n",
      "Epoch 14\n"
     ]
    },
    {
     "name": "stderr",
     "output_type": "stream",
     "text": [
      "Batch number: 100%|██████████| 1805/1805 [00:07<00:00, 242.35it/s]\n"
     ]
    },
    {
     "name": "stdout",
     "output_type": "stream",
     "text": [
      "Training loss [0.41257277] Validation loss [0.4130411]\n",
      "----New best validation loss---- [0.4130411]\n",
      "Epoch 15\n"
     ]
    },
    {
     "name": "stderr",
     "output_type": "stream",
     "text": [
      "Batch number: 100%|██████████| 1805/1805 [00:11<00:00, 157.38it/s]\n"
     ]
    },
    {
     "name": "stdout",
     "output_type": "stream",
     "text": [
      "Training loss [0.4095822] Validation loss [0.4157464]\n",
      "Epoch 16\n"
     ]
    },
    {
     "name": "stderr",
     "output_type": "stream",
     "text": [
      "Batch number: 100%|██████████| 1805/1805 [00:09<00:00, 190.87it/s]\n"
     ]
    },
    {
     "name": "stdout",
     "output_type": "stream",
     "text": [
      "Training loss [0.40654472] Validation loss [0.4138069]\n",
      "Epoch 17\n"
     ]
    },
    {
     "name": "stderr",
     "output_type": "stream",
     "text": [
      "Batch number: 100%|██████████| 1805/1805 [00:08<00:00, 205.12it/s]\n"
     ]
    },
    {
     "name": "stdout",
     "output_type": "stream",
     "text": [
      "Training loss [0.40428326] Validation loss [0.4041334]\n",
      "----New best validation loss---- [0.4041334]\n",
      "Epoch 18\n"
     ]
    },
    {
     "name": "stderr",
     "output_type": "stream",
     "text": [
      "Batch number: 100%|██████████| 1805/1805 [00:09<00:00, 180.52it/s]\n"
     ]
    },
    {
     "name": "stdout",
     "output_type": "stream",
     "text": [
      "Training loss [0.4018794] Validation loss [0.40339053]\n",
      "----New best validation loss---- [0.40339053]\n",
      "Epoch 19\n"
     ]
    },
    {
     "name": "stderr",
     "output_type": "stream",
     "text": [
      "Batch number: 100%|██████████| 1805/1805 [00:09<00:00, 184.26it/s]\n"
     ]
    },
    {
     "name": "stdout",
     "output_type": "stream",
     "text": [
      "Training loss [0.4004819] Validation loss [0.40517315]\n",
      "Epoch 20\n"
     ]
    },
    {
     "name": "stderr",
     "output_type": "stream",
     "text": [
      "Batch number: 100%|██████████| 1805/1805 [00:09<00:00, 195.59it/s]\n"
     ]
    },
    {
     "name": "stdout",
     "output_type": "stream",
     "text": [
      "Training loss [0.3986389] Validation loss [0.39802575]\n",
      "----New best validation loss---- [0.39802575]\n",
      "Best model out of total max epochs found at epoch 20\n",
      "Epoch 1\n"
     ]
    },
    {
     "name": "stderr",
     "output_type": "stream",
     "text": [
      "Batch number: 100%|██████████| 1805/1805 [00:51<00:00, 35.14it/s] \n"
     ]
    },
    {
     "name": "stdout",
     "output_type": "stream",
     "text": [
      "Training loss [0.7430036] Validation loss [0.58206755]\n",
      "----New best validation loss---- [0.58206755]\n",
      "Epoch 2\n"
     ]
    },
    {
     "name": "stderr",
     "output_type": "stream",
     "text": [
      "Batch number: 100%|██████████| 1805/1805 [00:40<00:00, 44.58it/s] \n"
     ]
    },
    {
     "name": "stdout",
     "output_type": "stream",
     "text": [
      "Training loss [0.53928465] Validation loss [0.5086801]\n",
      "----New best validation loss---- [0.5086801]\n",
      "Epoch 3\n"
     ]
    },
    {
     "name": "stderr",
     "output_type": "stream",
     "text": [
      "Batch number: 100%|██████████| 1805/1805 [00:11<00:00, 161.34it/s]\n"
     ]
    },
    {
     "name": "stdout",
     "output_type": "stream",
     "text": [
      "Training loss [0.49829254] Validation loss [0.49082652]\n",
      "----New best validation loss---- [0.49082652]\n",
      "Epoch 4\n"
     ]
    },
    {
     "name": "stderr",
     "output_type": "stream",
     "text": [
      "Batch number: 100%|██████████| 1805/1805 [00:08<00:00, 203.24it/s]\n"
     ]
    },
    {
     "name": "stdout",
     "output_type": "stream",
     "text": [
      "Training loss [0.47571504] Validation loss [0.47169268]\n",
      "----New best validation loss---- [0.47169268]\n",
      "Epoch 5\n"
     ]
    },
    {
     "name": "stderr",
     "output_type": "stream",
     "text": [
      "Batch number: 100%|██████████| 1805/1805 [00:07<00:00, 229.31it/s]\n"
     ]
    },
    {
     "name": "stdout",
     "output_type": "stream",
     "text": [
      "Training loss [0.461238] Validation loss [0.46718112]\n",
      "----New best validation loss---- [0.46718112]\n",
      "Epoch 6\n"
     ]
    },
    {
     "name": "stderr",
     "output_type": "stream",
     "text": [
      "Batch number: 100%|██████████| 1805/1805 [00:07<00:00, 250.73it/s]\n"
     ]
    },
    {
     "name": "stdout",
     "output_type": "stream",
     "text": [
      "Training loss [0.45135504] Validation loss [0.45529667]\n",
      "----New best validation loss---- [0.45529667]\n",
      "Epoch 7\n"
     ]
    },
    {
     "name": "stderr",
     "output_type": "stream",
     "text": [
      "Batch number: 100%|██████████| 1805/1805 [00:07<00:00, 241.62it/s]\n"
     ]
    },
    {
     "name": "stdout",
     "output_type": "stream",
     "text": [
      "Training loss [0.442396] Validation loss [0.44919968]\n",
      "----New best validation loss---- [0.44919968]\n",
      "Epoch 8\n"
     ]
    },
    {
     "name": "stderr",
     "output_type": "stream",
     "text": [
      "Batch number: 100%|██████████| 1805/1805 [00:06<00:00, 261.99it/s]\n"
     ]
    },
    {
     "name": "stdout",
     "output_type": "stream",
     "text": [
      "Training loss [0.43708482] Validation loss [0.4408008]\n",
      "----New best validation loss---- [0.4408008]\n",
      "Epoch 9\n"
     ]
    },
    {
     "name": "stderr",
     "output_type": "stream",
     "text": [
      "Batch number: 100%|██████████| 1805/1805 [00:06<00:00, 270.07it/s]\n"
     ]
    },
    {
     "name": "stdout",
     "output_type": "stream",
     "text": [
      "Training loss [0.4311686] Validation loss [0.4387021]\n",
      "----New best validation loss---- [0.4387021]\n",
      "Epoch 10\n"
     ]
    },
    {
     "name": "stderr",
     "output_type": "stream",
     "text": [
      "Batch number: 100%|██████████| 1805/1805 [00:06<00:00, 266.74it/s]\n"
     ]
    },
    {
     "name": "stdout",
     "output_type": "stream",
     "text": [
      "Training loss [0.42645824] Validation loss [0.43046248]\n",
      "----New best validation loss---- [0.43046248]\n",
      "Epoch 11\n"
     ]
    },
    {
     "name": "stderr",
     "output_type": "stream",
     "text": [
      "Batch number: 100%|██████████| 1805/1805 [00:06<00:00, 259.09it/s]\n"
     ]
    },
    {
     "name": "stdout",
     "output_type": "stream",
     "text": [
      "Training loss [0.42184192] Validation loss [0.4366972]\n",
      "Epoch 12\n"
     ]
    },
    {
     "name": "stderr",
     "output_type": "stream",
     "text": [
      "Batch number: 100%|██████████| 1805/1805 [00:06<00:00, 263.94it/s]\n"
     ]
    },
    {
     "name": "stdout",
     "output_type": "stream",
     "text": [
      "Training loss [0.41868755] Validation loss [0.4250315]\n",
      "----New best validation loss---- [0.4250315]\n",
      "Epoch 13\n"
     ]
    },
    {
     "name": "stderr",
     "output_type": "stream",
     "text": [
      "Batch number: 100%|██████████| 1805/1805 [00:06<00:00, 263.93it/s]\n"
     ]
    },
    {
     "name": "stdout",
     "output_type": "stream",
     "text": [
      "Training loss [0.41586825] Validation loss [0.42346883]\n",
      "----New best validation loss---- [0.42346883]\n",
      "Epoch 14\n"
     ]
    },
    {
     "name": "stderr",
     "output_type": "stream",
     "text": [
      "Batch number: 100%|██████████| 1805/1805 [00:07<00:00, 238.56it/s]\n"
     ]
    },
    {
     "name": "stdout",
     "output_type": "stream",
     "text": [
      "Training loss [0.4129465] Validation loss [0.41660786]\n",
      "----New best validation loss---- [0.41660786]\n",
      "Epoch 15\n"
     ]
    },
    {
     "name": "stderr",
     "output_type": "stream",
     "text": [
      "Batch number: 100%|██████████| 1805/1805 [00:08<00:00, 216.00it/s]\n"
     ]
    },
    {
     "name": "stdout",
     "output_type": "stream",
     "text": [
      "Training loss [0.40947884] Validation loss [0.41239542]\n",
      "----New best validation loss---- [0.41239542]\n",
      "Epoch 16\n"
     ]
    },
    {
     "name": "stderr",
     "output_type": "stream",
     "text": [
      "Batch number: 100%|██████████| 1805/1805 [00:07<00:00, 237.85it/s]\n"
     ]
    },
    {
     "name": "stdout",
     "output_type": "stream",
     "text": [
      "Training loss [0.4080277] Validation loss [0.4140604]\n",
      "Epoch 17\n"
     ]
    },
    {
     "name": "stderr",
     "output_type": "stream",
     "text": [
      "Batch number: 100%|██████████| 1805/1805 [00:08<00:00, 215.54it/s]\n"
     ]
    },
    {
     "name": "stdout",
     "output_type": "stream",
     "text": [
      "Training loss [0.4044701] Validation loss [0.41063282]\n",
      "----New best validation loss---- [0.41063282]\n",
      "Epoch 18\n"
     ]
    },
    {
     "name": "stderr",
     "output_type": "stream",
     "text": [
      "Batch number: 100%|██████████| 1805/1805 [00:08<00:00, 201.30it/s]\n"
     ]
    },
    {
     "name": "stdout",
     "output_type": "stream",
     "text": [
      "Training loss [0.40234482] Validation loss [0.40284964]\n",
      "----New best validation loss---- [0.40284964]\n",
      "Epoch 19\n"
     ]
    },
    {
     "name": "stderr",
     "output_type": "stream",
     "text": [
      "Batch number: 100%|██████████| 1805/1805 [00:08<00:00, 219.41it/s]"
     ]
    },
    {
     "name": "stdout",
     "output_type": "stream",
     "text": [
      "Training loss [0.40071493] Validation loss [0.40943998]\n",
      "Epoch 20\n"
     ]
    },
    {
     "name": "stderr",
     "output_type": "stream",
     "text": [
      "\n",
      "Batch number: 100%|██████████| 1805/1805 [00:06<00:00, 273.39it/s]\n"
     ]
    },
    {
     "name": "stdout",
     "output_type": "stream",
     "text": [
      "Training loss [0.39898118] Validation loss [0.40320277]\n",
      "Best model out of total max epochs found at epoch 18\n",
      "Epoch 1\n"
     ]
    },
    {
     "name": "stderr",
     "output_type": "stream",
     "text": [
      "Batch number: 100%|██████████| 1805/1805 [00:37<00:00, 48.15it/s] \n"
     ]
    },
    {
     "name": "stdout",
     "output_type": "stream",
     "text": [
      "Training loss [0.7382097] Validation loss [0.5935908]\n",
      "----New best validation loss---- [0.5935908]\n",
      "Epoch 2\n"
     ]
    },
    {
     "name": "stderr",
     "output_type": "stream",
     "text": [
      "Batch number: 100%|██████████| 1805/1805 [00:35<00:00, 51.06it/s] \n"
     ]
    },
    {
     "name": "stdout",
     "output_type": "stream",
     "text": [
      "Training loss [0.5386992] Validation loss [0.5184511]\n",
      "----New best validation loss---- [0.5184511]\n",
      "Epoch 3\n"
     ]
    },
    {
     "name": "stderr",
     "output_type": "stream",
     "text": [
      "Batch number: 100%|██████████| 1805/1805 [00:07<00:00, 249.23it/s]\n"
     ]
    },
    {
     "name": "stdout",
     "output_type": "stream",
     "text": [
      "Training loss [0.5025375] Validation loss [0.48479322]\n",
      "----New best validation loss---- [0.48479322]\n",
      "Epoch 4\n"
     ]
    },
    {
     "name": "stderr",
     "output_type": "stream",
     "text": [
      "Batch number: 100%|██████████| 1805/1805 [00:07<00:00, 239.44it/s]\n"
     ]
    },
    {
     "name": "stdout",
     "output_type": "stream",
     "text": [
      "Training loss [0.48190734] Validation loss [0.47137624]\n",
      "----New best validation loss---- [0.47137624]\n",
      "Epoch 5\n"
     ]
    },
    {
     "name": "stderr",
     "output_type": "stream",
     "text": [
      "Batch number: 100%|██████████| 1805/1805 [00:07<00:00, 246.69it/s]\n"
     ]
    },
    {
     "name": "stdout",
     "output_type": "stream",
     "text": [
      "Training loss [0.466876] Validation loss [0.459636]\n",
      "----New best validation loss---- [0.459636]\n",
      "Epoch 6\n"
     ]
    },
    {
     "name": "stderr",
     "output_type": "stream",
     "text": [
      "Batch number: 100%|██████████| 1805/1805 [00:08<00:00, 207.72it/s]\n"
     ]
    },
    {
     "name": "stdout",
     "output_type": "stream",
     "text": [
      "Training loss [0.45467204] Validation loss [0.44976106]\n",
      "----New best validation loss---- [0.44976106]\n",
      "Epoch 7\n"
     ]
    },
    {
     "name": "stderr",
     "output_type": "stream",
     "text": [
      "Batch number: 100%|██████████| 1805/1805 [00:07<00:00, 244.89it/s]\n"
     ]
    },
    {
     "name": "stdout",
     "output_type": "stream",
     "text": [
      "Training loss [0.4450934] Validation loss [0.4383891]\n",
      "----New best validation loss---- [0.4383891]\n",
      "Epoch 8\n"
     ]
    },
    {
     "name": "stderr",
     "output_type": "stream",
     "text": [
      "Batch number: 100%|██████████| 1805/1805 [00:09<00:00, 190.57it/s]\n"
     ]
    },
    {
     "name": "stdout",
     "output_type": "stream",
     "text": [
      "Training loss [0.4376446] Validation loss [0.43556696]\n",
      "----New best validation loss---- [0.43556696]\n",
      "Epoch 9\n"
     ]
    },
    {
     "name": "stderr",
     "output_type": "stream",
     "text": [
      "Batch number: 100%|██████████| 1805/1805 [00:07<00:00, 240.77it/s]\n"
     ]
    },
    {
     "name": "stdout",
     "output_type": "stream",
     "text": [
      "Training loss [0.43031296] Validation loss [0.42662445]\n",
      "----New best validation loss---- [0.42662445]\n",
      "Epoch 10\n"
     ]
    },
    {
     "name": "stderr",
     "output_type": "stream",
     "text": [
      "Batch number: 100%|██████████| 1805/1805 [00:07<00:00, 232.79it/s]"
     ]
    },
    {
     "name": "stdout",
     "output_type": "stream",
     "text": [
      "Training loss [0.42447203] Validation loss [0.42678782]\n"
     ]
    },
    {
     "name": "stderr",
     "output_type": "stream",
     "text": [
      "\n"
     ]
    },
    {
     "name": "stdout",
     "output_type": "stream",
     "text": [
      "Epoch 11\n"
     ]
    },
    {
     "name": "stderr",
     "output_type": "stream",
     "text": [
      "Batch number: 100%|██████████| 1805/1805 [00:12<00:00, 148.35it/s]\n"
     ]
    },
    {
     "name": "stdout",
     "output_type": "stream",
     "text": [
      "Training loss [0.42015246] Validation loss [0.43001276]\n",
      "Epoch 12\n"
     ]
    },
    {
     "name": "stderr",
     "output_type": "stream",
     "text": [
      "Batch number: 100%|██████████| 1805/1805 [00:08<00:00, 211.62it/s]\n"
     ]
    },
    {
     "name": "stdout",
     "output_type": "stream",
     "text": [
      "Training loss [0.41633266] Validation loss [0.4172358]\n",
      "----New best validation loss---- [0.4172358]\n",
      "Epoch 13\n"
     ]
    },
    {
     "name": "stderr",
     "output_type": "stream",
     "text": [
      "Batch number: 100%|██████████| 1805/1805 [00:10<00:00, 169.40it/s]\n"
     ]
    },
    {
     "name": "stdout",
     "output_type": "stream",
     "text": [
      "Training loss [0.41184193] Validation loss [0.4093649]\n",
      "----New best validation loss---- [0.4093649]\n",
      "Epoch 14\n"
     ]
    },
    {
     "name": "stderr",
     "output_type": "stream",
     "text": [
      "Batch number: 100%|██████████| 1805/1805 [00:08<00:00, 211.62it/s]\n"
     ]
    },
    {
     "name": "stdout",
     "output_type": "stream",
     "text": [
      "Training loss [0.40957406] Validation loss [0.4054348]\n",
      "----New best validation loss---- [0.4054348]\n",
      "Epoch 15\n"
     ]
    },
    {
     "name": "stderr",
     "output_type": "stream",
     "text": [
      "Batch number: 100%|██████████| 1805/1805 [00:07<00:00, 242.31it/s]\n"
     ]
    },
    {
     "name": "stdout",
     "output_type": "stream",
     "text": [
      "Training loss [0.40654427] Validation loss [0.40564942]\n",
      "Epoch 16\n"
     ]
    },
    {
     "name": "stderr",
     "output_type": "stream",
     "text": [
      "Batch number: 100%|██████████| 1805/1805 [00:06<00:00, 277.05it/s]\n"
     ]
    },
    {
     "name": "stdout",
     "output_type": "stream",
     "text": [
      "Training loss [0.40404877] Validation loss [0.39903384]\n",
      "----New best validation loss---- [0.39903384]\n",
      "Epoch 17\n"
     ]
    },
    {
     "name": "stderr",
     "output_type": "stream",
     "text": [
      "Batch number: 100%|██████████| 1805/1805 [00:07<00:00, 254.23it/s]\n"
     ]
    },
    {
     "name": "stdout",
     "output_type": "stream",
     "text": [
      "Training loss [0.40109694] Validation loss [0.39890888]\n",
      "----New best validation loss---- [0.39890888]\n",
      "Epoch 18\n"
     ]
    },
    {
     "name": "stderr",
     "output_type": "stream",
     "text": [
      "Batch number: 100%|██████████| 1805/1805 [00:11<00:00, 155.61it/s]"
     ]
    },
    {
     "name": "stdout",
     "output_type": "stream",
     "text": [
      "Training loss [0.3993308] Validation loss [0.39889145]\n",
      "----New best validation loss---- [0.39889145]\n",
      "Epoch 19\n"
     ]
    },
    {
     "name": "stderr",
     "output_type": "stream",
     "text": [
      "\n",
      "Batch number: 100%|██████████| 1805/1805 [00:10<00:00, 173.64it/s]\n"
     ]
    },
    {
     "name": "stdout",
     "output_type": "stream",
     "text": [
      "Training loss [0.39798334] Validation loss [0.40944967]\n",
      "Epoch 20\n"
     ]
    },
    {
     "name": "stderr",
     "output_type": "stream",
     "text": [
      "Batch number: 100%|██████████| 1805/1805 [00:14<00:00, 125.03it/s]\n"
     ]
    },
    {
     "name": "stdout",
     "output_type": "stream",
     "text": [
      "Training loss [0.39614403] Validation loss [0.38949808]\n",
      "----New best validation loss---- [0.38949808]\n",
      "Best model out of total max epochs found at epoch 20\n"
     ]
    }
   ],
   "source": [
    "quantiles=np.array([0.1,0.5,0.9])\n",
    "batch_size=100\n",
    "nepochs=20\n",
    "\n",
    "seq1 = lambda: nn.Sequential(\n",
    "            nn.Linear(np.shape(X_train)[1],128),\n",
    "            nn.ReLU(),\n",
    "            nn.Linear(128,128),\n",
    "            nn.ReLU(),\n",
    "            nn.Linear(128, np.shape(y_train)[1]*np.size(quantiles))\n",
    "            )\n",
    "\n",
    "seq2 = lambda: nn.Sequential(\n",
    "            nn.Linear(np.shape(X_train)[1],128),\n",
    "            nn.ReLU(),\n",
    "            nn.Linear(128,128),\n",
    "            nn.ReLU(),\n",
    "            nn.Linear(128, np.shape(y_train)[1]*np.size(quantiles))\n",
    "            )\n",
    "\n",
    "model11=QuantileNetwork(quantiles=quantiles)\n",
    "model11.fit(X_train.to_numpy(),y_train.to_numpy(),train_indices1,validation_indices1,batch_size=batch_size,nepochs=nepochs,sequence=seq1())\n",
    "\n",
    "model12=QuantileNetwork(quantiles=quantiles)\n",
    "model12.fit(X_train.to_numpy(),y_train.to_numpy(),train_indices2,validation_indices2,batch_size=batch_size,nepochs=nepochs,sequence=seq1())\n",
    "\n",
    "model13=QuantileNetwork(quantiles=quantiles)\n",
    "model13.fit(X_train.to_numpy(),y_train.to_numpy(),train_indices3,validation_indices3,batch_size=batch_size,nepochs=nepochs,sequence=seq1())\n",
    "\n",
    "model14=QuantileNetwork(quantiles=quantiles)\n",
    "model14.fit(X_train.to_numpy(),y_train.to_numpy(),train_indices4,validation_indices4,batch_size=batch_size,nepochs=nepochs,sequence=seq1())\n",
    "\n",
    "model15=QuantileNetwork(quantiles=quantiles)\n",
    "model15.fit(X_train.to_numpy(),y_train.to_numpy(),train_indices5,validation_indices5,batch_size=batch_size,nepochs=nepochs,sequence=seq1())\n",
    "\n",
    "\n",
    "model21=QuantileNetwork(quantiles=quantiles)\n",
    "model21.fit(X_train.to_numpy(),y_train.to_numpy(),train_indices1,validation_indices1,batch_size=batch_size,nepochs=nepochs,sequence=seq2())\n",
    "\n",
    "model22=QuantileNetwork(quantiles=quantiles)\n",
    "model22.fit(X_train.to_numpy(),y_train.to_numpy(),train_indices2,validation_indices2,batch_size=batch_size,nepochs=nepochs,sequence=seq2())\n",
    "\n",
    "model23=QuantileNetwork(quantiles=quantiles)\n",
    "model23.fit(X_train.to_numpy(),y_train.to_numpy(),train_indices3,validation_indices3,batch_size=batch_size,nepochs=nepochs,sequence=seq2())\n",
    "\n",
    "model24=QuantileNetwork(quantiles=quantiles)\n",
    "model24.fit(X_train.to_numpy(),y_train.to_numpy(),train_indices4,validation_indices4,batch_size=batch_size,nepochs=nepochs,sequence=seq2())\n",
    "\n",
    "model25=QuantileNetwork(quantiles=quantiles)\n",
    "model25.fit(X_train.to_numpy(),y_train.to_numpy(),train_indices5,validation_indices5,batch_size=batch_size,nepochs=nepochs,sequence=seq2())\n",
    "\n"
   ]
  },
  {
   "cell_type": "code",
   "execution_count": 7,
   "metadata": {},
   "outputs": [],
   "source": [
    "preds11 = model11.predict(X_test.to_numpy())\n",
    "preds12 = model12.predict(X_test.to_numpy())\n",
    "preds13 = model13.predict(X_test.to_numpy())\n",
    "preds14 = model14.predict(X_test.to_numpy())\n",
    "preds15 = model15.predict(X_test.to_numpy())\n",
    "preds1 = (preds11+preds12+preds13+preds14+preds15)/5\n",
    "\n",
    "preds21 = model21.predict(X_test.to_numpy())\n",
    "preds22 = model22.predict(X_test.to_numpy())\n",
    "preds23 = model23.predict(X_test.to_numpy())\n",
    "preds24 = model24.predict(X_test.to_numpy())\n",
    "preds25 = model25.predict(X_test.to_numpy())\n",
    "preds2 = (preds21+preds22+preds23+preds24+preds25)/5"
   ]
  },
  {
   "cell_type": "code",
   "execution_count": 8,
   "metadata": {},
   "outputs": [
    {
     "name": "stdout",
     "output_type": "stream",
     "text": [
      "0.004137716774755413\n",
      "0.004076608917443449\n"
     ]
    }
   ],
   "source": [
    "## MSE ##\n",
    "MSE1 = mean_squared_error(y_test.to_numpy(),preds1[:,:,1])\n",
    "MSE2 = mean_squared_error(y_test.to_numpy(),preds2[:,:,1])\n",
    "\n",
    "print(MSE1)\n",
    "print(MSE2)"
   ]
  },
  {
   "cell_type": "code",
   "execution_count": 9,
   "metadata": {},
   "outputs": [
    {
     "name": "stdout",
     "output_type": "stream",
     "text": [
      "MSE for net1:\n",
      "0.00435680310951639\n",
      "0.004519743661495947\n",
      "0.0044708277849642855\n",
      "0.004436473532797571\n",
      "0.0044717826542661765\n",
      "MSE for net2:\n",
      "0.004390497110713533\n",
      "0.004451778541385111\n",
      "0.004378418704467907\n",
      "0.0044244622391165596\n",
      "0.00434295507347204\n"
     ]
    }
   ],
   "source": [
    "print('MSE for net1:')\n",
    "print(mean_squared_error(y_test.to_numpy(),preds11[:,:,1]))\n",
    "print(mean_squared_error(y_test.to_numpy(),preds12[:,:,1]))\n",
    "print(mean_squared_error(y_test.to_numpy(),preds13[:,:,1]))\n",
    "print(mean_squared_error(y_test.to_numpy(),preds14[:,:,1]))\n",
    "print(mean_squared_error(y_test.to_numpy(),preds15[:,:,1]))\n",
    "\n",
    "print('MSE for net2:')\n",
    "print(mean_squared_error(y_test.to_numpy(),preds21[:,:,1]))\n",
    "print(mean_squared_error(y_test.to_numpy(),preds22[:,:,1]))\n",
    "print(mean_squared_error(y_test.to_numpy(),preds23[:,:,1]))\n",
    "print(mean_squared_error(y_test.to_numpy(),preds24[:,:,1]))\n",
    "print(mean_squared_error(y_test.to_numpy(),preds25[:,:,1]))"
   ]
  },
  {
   "cell_type": "code",
   "execution_count": null,
   "metadata": {},
   "outputs": [],
   "source": []
  }
 ],
 "metadata": {
  "kernelspec": {
   "display_name": "Python 3",
   "language": "python",
   "name": "python3"
  },
  "language_info": {
   "codemirror_mode": {
    "name": "ipython",
    "version": 3
   },
   "file_extension": ".py",
   "mimetype": "text/x-python",
   "name": "python",
   "nbconvert_exporter": "python",
   "pygments_lexer": "ipython3",
   "version": "3.10.6"
  }
 },
 "nbformat": 4,
 "nbformat_minor": 2
}
