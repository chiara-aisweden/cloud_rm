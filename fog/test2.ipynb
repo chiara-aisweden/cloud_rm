{
 "cells": [
  {
   "cell_type": "code",
   "execution_count": null,
   "metadata": {},
   "outputs": [],
   "source": [
    "#hello\n",
    "import numpy as np\n",
    "tmp = 5\n",
    "\n",
    "#hello\n",
    "tmp2 = 74\n",
    "#hello \n",
    "\n",
    "thresholds = []\n",
    "\n",
    "print(f'Accurcy: {np.max(accuracies)} at t = {thresholds[np.argmax(accuracies)]}')\n",
    "\n",
    "\n",
    "print(f'Avg Precision: {np.max(avg_precisions)} at t = {thresholds[np.argmax(avg_precisions)]}')\n",
    "#hello\n",
    "import numpy as np\n",
    "tmp = 5\n",
    "\n",
    "#hello\n",
    "tmp2 = 74\n",
    "#hello \n"
   ]
  }
 ],
 "metadata": {
  "kernelspec": {
   "display_name": "Python 3",
   "language": "python",
   "name": "python3"
  },
  "language_info": {
   "name": "python",
   "version": "3.10.12"
  }
 },
 "nbformat": 4,
 "nbformat_minor": 2
}
