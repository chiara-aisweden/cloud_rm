{
 "cells": [
  {
   "cell_type": "code",
   "execution_count": 2,
   "metadata": {},
   "outputs": [],
   "source": [
    "from pytorch_tabnet.tab_model import TabNetRegressor\n",
    "\n",
    "import torch\n",
    "from sklearn.preprocessing import LabelEncoder\n",
    "from sklearn.metrics import mean_squared_error\n",
    "\n",
    "import pandas as pd\n",
    "import numpy as np\n",
    "np.random.seed(0)\n",
    "\n",
    "\n",
    "import os\n",
    "import wget\n",
    "from pathlib import Path"
   ]
  },
  {
   "cell_type": "markdown",
   "metadata": {},
   "source": [
    "# Download census-income dataset"
   ]
  },
  {
   "cell_type": "code",
   "execution_count": 3,
   "metadata": {},
   "outputs": [],
   "source": [
    "url = \"https://archive.ics.uci.edu/ml/machine-learning-databases/adult/adult.data\"\n",
    "dataset_name = 'census-income'\n",
    "out = Path(os.getcwd()+'/data/'+dataset_name+'.csv')"
   ]
  },
  {
   "cell_type": "code",
   "execution_count": 4,
   "metadata": {},
   "outputs": [
    {
     "name": "stdout",
     "output_type": "stream",
     "text": [
      "Downloading file...\n"
     ]
    }
   ],
   "source": [
    "out.parent.mkdir(parents=True, exist_ok=True)\n",
    "if out.exists():\n",
    "    print(\"File already exists.\")\n",
    "else:\n",
    "    print(\"Downloading file...\")\n",
    "    wget.download(url, out.as_posix())"
   ]
  },
  {
   "cell_type": "markdown",
   "metadata": {},
   "source": [
    "# Load data and split"
   ]
  },
  {
   "cell_type": "code",
   "execution_count": 6,
   "metadata": {},
   "outputs": [],
   "source": [
    "train = pd.read_csv(out)\n",
    "target = ' <=50K'\n",
    "if \"Set\" not in train.columns:\n",
    "    train[\"Set\"] = np.random.choice([\"train\", \"valid\", \"test\"], p =[.8, .1, .1], size=(train.shape[0],))\n",
    "\n",
    "train_indices = train[train.Set==\"train\"].index\n",
    "valid_indices = train[train.Set==\"valid\"].index\n",
    "test_indices = train[train.Set==\"test\"].index"
   ]
  },
  {
   "cell_type": "markdown",
   "metadata": {},
   "source": [
    "# Simple preprocessing\n",
    "\n",
    "Label encode categorical features and fill empty cells."
   ]
  },
  {
   "cell_type": "code",
   "execution_count": 7,
   "metadata": {},
   "outputs": [
    {
     "name": "stdout",
     "output_type": "stream",
     "text": [
      " State-gov 9\n",
      " Bachelors 16\n",
      " Never-married 7\n",
      " Adm-clerical 15\n",
      " Not-in-family 6\n",
      " White 5\n",
      " Male 2\n",
      " United-States 42\n",
      " <=50K 2\n",
      "Set 3\n"
     ]
    }
   ],
   "source": [
    "categorical_columns = []\n",
    "categorical_dims =  {}\n",
    "for col in train.columns[train.dtypes == object]:\n",
    "    print(col, train[col].nunique())\n",
    "    l_enc = LabelEncoder()\n",
    "    train[col] = train[col].fillna(\"VV_likely\")\n",
    "    train[col] = l_enc.fit_transform(train[col].values)\n",
    "    categorical_columns.append(col)\n",
    "    categorical_dims[col] = len(l_enc.classes_)\n",
    "\n",
    "for col in train.columns[train.dtypes == 'float64']:\n",
    "    train.fillna(train.loc[train_indices, col].mean(), inplace=True)"
   ]
  },
  {
   "cell_type": "markdown",
   "metadata": {},
   "source": [
    "# Define categorical features for categorical embeddings"
   ]
  },
  {
   "cell_type": "code",
   "execution_count": 8,
   "metadata": {},
   "outputs": [],
   "source": [
    "unused_feat = ['Set']\n",
    "\n",
    "features = [ col for col in train.columns if col not in unused_feat+[target]] \n",
    "\n",
    "cat_idxs = [ i for i, f in enumerate(features) if f in categorical_columns]\n",
    "\n",
    "cat_dims = [ categorical_dims[f] for i, f in enumerate(features) if f in categorical_columns]\n",
    "\n",
    "# define your embedding sizes : here just a random choice\n",
    "cat_emb_dim = [5, 4, 3, 6, 2, 2, 1, 10]"
   ]
  },
  {
   "cell_type": "markdown",
   "metadata": {},
   "source": [
    "# Network parameters"
   ]
  },
  {
   "cell_type": "code",
   "execution_count": 9,
   "metadata": {},
   "outputs": [
    {
     "name": "stderr",
     "output_type": "stream",
     "text": [
      "/home/edgelab/.local/lib/python3.10/site-packages/pytorch_tabnet/abstract_model.py:82: UserWarning: Device used : cuda\n",
      "  warnings.warn(f\"Device used : {self.device}\")\n"
     ]
    }
   ],
   "source": [
    "clf = TabNetRegressor(cat_dims=cat_dims, cat_emb_dim=cat_emb_dim, cat_idxs=cat_idxs)"
   ]
  },
  {
   "cell_type": "markdown",
   "metadata": {},
   "source": [
    "# Training"
   ]
  },
  {
   "cell_type": "code",
   "execution_count": 10,
   "metadata": {},
   "outputs": [],
   "source": [
    "X_train = train[features].values[train_indices]\n",
    "y_train = train[target].values[train_indices].reshape(-1, 1)\n",
    "\n",
    "X_valid = train[features].values[valid_indices]\n",
    "y_valid = train[target].values[valid_indices].reshape(-1, 1)\n",
    "\n",
    "X_test = train[features].values[test_indices]\n",
    "y_test = train[target].values[test_indices].reshape(-1, 1)"
   ]
  },
  {
   "cell_type": "code",
   "execution_count": 11,
   "metadata": {},
   "outputs": [],
   "source": [
    "max_epochs = 100 if not os.getenv(\"CI\", False) else 2"
   ]
  },
  {
   "cell_type": "code",
   "execution_count": 12,
   "metadata": {},
   "outputs": [],
   "source": [
    "from pytorch_tabnet.augmentations import RegressionSMOTE\n",
    "aug = RegressionSMOTE(p=0.2)"
   ]
  },
  {
   "cell_type": "code",
   "execution_count": 13,
   "metadata": {
    "scrolled": true
   },
   "outputs": [
    {
     "name": "stdout",
     "output_type": "stream",
     "text": [
      "epoch 0  | loss: 0.34472 | train_rmsle: 0.49423 | train_mae: 0.6411  | train_rmse: 0.87671 | train_mse: 0.76862 | valid_rmsle: 0.493   | valid_mae: 0.63852 | valid_rmse: 0.86481 | valid_mse: 0.7479  |  0:00:01s\n",
      "epoch 1  | loss: 0.13013 | train_rmsle: 0.41866 | train_mae: 0.47642 | train_rmse: 0.63512 | train_mse: 0.40338 | valid_rmsle: 0.41883 | valid_mae: 0.47725 | valid_rmse: 0.63541 | valid_mse: 0.40374 |  0:00:03s\n",
      "epoch 2  | loss: 0.12048 | train_rmsle: 0.35799 | train_mae: 0.4117  | train_rmse: 0.48446 | train_mse: 0.2347  | valid_rmsle: 0.35686 | valid_mae: 0.40973 | valid_rmse: 0.48326 | valid_mse: 0.23354 |  0:00:04s\n",
      "epoch 3  | loss: 0.11554 | train_rmsle: 0.34319 | train_mae: 0.38854 | train_rmse: 0.45754 | train_mse: 0.20935 | valid_rmsle: 0.34104 | valid_mae: 0.3837  | valid_rmse: 0.47147 | valid_mse: 0.22228 |  0:00:06s\n",
      "epoch 4  | loss: 0.11173 | train_rmsle: 0.31869 | train_mae: 0.34649 | train_rmse: 0.42401 | train_mse: 0.17978 | valid_rmsle: 0.31893 | valid_mae: 0.34493 | valid_rmse: 0.47276 | valid_mse: 0.2235  |  0:00:07s\n",
      "epoch 5  | loss: 0.10852 | train_rmsle: 0.28626 | train_mae: 0.30695 | train_rmse: 0.38169 | train_mse: 0.14568 | valid_rmsle: 0.28623 | valid_mae: 0.30519 | valid_rmse: 0.38381 | valid_mse: 0.14731 |  0:00:08s\n",
      "epoch 6  | loss: 0.1062  | train_rmsle: 0.2607  | train_mae: 0.27778 | train_rmse: 0.35619 | train_mse: 0.12687 | valid_rmsle: 0.25786 | valid_mae: 0.27395 | valid_rmse: 0.35208 | valid_mse: 0.12396 |  0:00:10s\n",
      "epoch 7  | loss: 0.10672 | train_rmsle: 0.25006 | train_mae: 0.26398 | train_rmse: 0.34284 | train_mse: 0.11754 | valid_rmsle: 0.24784 | valid_mae: 0.26132 | valid_rmse: 0.33957 | valid_mse: 0.11531 |  0:00:11s\n",
      "epoch 8  | loss: 0.10438 | train_rmsle: 0.23823 | train_mae: 0.24408 | train_rmse: 0.33124 | train_mse: 0.10972 | valid_rmsle: 0.23712 | valid_mae: 0.24323 | valid_rmse: 0.33015 | valid_mse: 0.109   |  0:00:13s\n",
      "epoch 9  | loss: 0.10291 | train_rmsle: 0.23569 | train_mae: 0.2402  | train_rmse: 0.32804 | train_mse: 0.10761 | valid_rmsle: 0.23472 | valid_mae: 0.2395  | valid_rmse: 0.32736 | valid_mse: 0.10716 |  0:00:14s\n",
      "epoch 10 | loss: 0.10245 | train_rmsle: 0.23661 | train_mae: 0.23925 | train_rmse: 0.32942 | train_mse: 0.10852 | valid_rmsle: 0.23657 | valid_mae: 0.2394  | valid_rmse: 0.32995 | valid_mse: 0.10887 |  0:00:15s\n",
      "epoch 11 | loss: 0.10389 | train_rmsle: 0.23057 | train_mae: 0.23573 | train_rmse: 0.32634 | train_mse: 0.1065  | valid_rmsle: 0.23224 | valid_mae: 0.23838 | valid_rmse: 0.3278  | valid_mse: 0.10745 |  0:00:17s\n",
      "epoch 12 | loss: 0.10348 | train_rmsle: 0.22689 | train_mae: 0.22865 | train_rmse: 0.32336 | train_mse: 0.10456 | valid_rmsle: 0.22787 | valid_mae: 0.23035 | valid_rmse: 0.3244  | valid_mse: 0.10523 |  0:00:18s\n",
      "epoch 13 | loss: 0.10214 | train_rmsle: 0.22825 | train_mae: 0.22739 | train_rmse: 0.32172 | train_mse: 0.10351 | valid_rmsle: 0.22861 | valid_mae: 0.22918 | valid_rmse: 0.32281 | valid_mse: 0.10421 |  0:00:19s\n",
      "epoch 14 | loss: 0.10108 | train_rmsle: 0.22368 | train_mae: 0.22226 | train_rmse: 0.3224  | train_mse: 0.10394 | valid_rmsle: 0.22486 | valid_mae: 0.22472 | valid_rmse: 0.32455 | valid_mse: 0.10533 |  0:00:21s\n",
      "epoch 15 | loss: 0.10242 | train_rmsle: 0.22737 | train_mae: 0.22213 | train_rmse: 0.32378 | train_mse: 0.10483 | valid_rmsle: 0.23108 | valid_mae: 0.22692 | valid_rmse: 0.32927 | valid_mse: 0.10842 |  0:00:22s\n",
      "epoch 16 | loss: 0.10359 | train_rmsle: 0.22909 | train_mae: 0.22267 | train_rmse: 0.32194 | train_mse: 0.10365 | valid_rmsle: 0.23168 | valid_mae: 0.22612 | valid_rmse: 0.32598 | valid_mse: 0.10626 |  0:00:24s\n",
      "epoch 17 | loss: 0.102   | train_rmsle: 0.2232  | train_mae: 0.22308 | train_rmse: 0.32728 | train_mse: 0.10711 | valid_rmsle: 0.2249  | valid_mae: 0.22671 | valid_rmse: 0.33005 | valid_mse: 0.10893 |  0:00:25s\n",
      "epoch 18 | loss: 0.10125 | train_rmsle: 0.22251 | train_mae: 0.21884 | train_rmse: 0.32319 | train_mse: 0.10445 | valid_rmsle: 0.22439 | valid_mae: 0.22199 | valid_rmse: 0.32595 | valid_mse: 0.10625 |  0:00:26s\n",
      "epoch 19 | loss: 0.10081 | train_rmsle: 0.2226  | train_mae: 0.21942 | train_rmse: 0.31974 | train_mse: 0.10224 | valid_rmsle: 0.22397 | valid_mae: 0.222   | valid_rmse: 0.32208 | valid_mse: 0.10374 |  0:00:28s\n",
      "epoch 20 | loss: 0.09993 | train_rmsle: 0.22531 | train_mae: 0.21515 | train_rmse: 0.32188 | train_mse: 0.10361 | valid_rmsle: 0.22715 | valid_mae: 0.21744 | valid_rmse: 0.32428 | valid_mse: 0.10516 |  0:00:29s\n",
      "epoch 21 | loss: 0.10058 | train_rmsle: 0.2218  | train_mae: 0.21483 | train_rmse: 0.32376 | train_mse: 0.10482 | valid_rmsle: 0.22306 | valid_mae: 0.21809 | valid_rmse: 0.32579 | valid_mse: 0.10614 |  0:00:30s\n",
      "epoch 22 | loss: 0.10153 | train_rmsle: 0.22252 | train_mae: 0.21703 | train_rmse: 0.32105 | train_mse: 0.10307 | valid_rmsle: 0.22357 | valid_mae: 0.22026 | valid_rmse: 0.32275 | valid_mse: 0.10417 |  0:00:32s\n",
      "epoch 23 | loss: 0.10003 | train_rmsle: 0.22251 | train_mae: 0.21724 | train_rmse: 0.31918 | train_mse: 0.10187 | valid_rmsle: 0.22465 | valid_mae: 0.22157 | valid_rmse: 0.32223 | valid_mse: 0.10383 |  0:00:33s\n",
      "epoch 24 | loss: 0.09939 | train_rmsle: 0.22287 | train_mae: 0.21651 | train_rmse: 0.3174  | train_mse: 0.10074 | valid_rmsle: 0.22425 | valid_mae: 0.2196  | valid_rmse: 0.31947 | valid_mse: 0.10206 |  0:00:35s\n",
      "epoch 25 | loss: 0.10039 | train_rmsle: 0.22222 | train_mae: 0.2172  | train_rmse: 0.31998 | train_mse: 0.10239 | valid_rmsle: 0.22368 | valid_mae: 0.21997 | valid_rmse: 0.32217 | valid_mse: 0.10379 |  0:00:36s\n",
      "epoch 26 | loss: 0.0994  | train_rmsle: 0.22058 | train_mae: 0.21493 | train_rmse: 0.31932 | train_mse: 0.10196 | valid_rmsle: 0.22274 | valid_mae: 0.21911 | valid_rmse: 0.32273 | valid_mse: 0.10415 |  0:00:37s\n",
      "epoch 27 | loss: 0.09976 | train_rmsle: 0.22139 | train_mae: 0.21545 | train_rmse: 0.31674 | train_mse: 0.10033 | valid_rmsle: 0.22342 | valid_mae: 0.21924 | valid_rmse: 0.32005 | valid_mse: 0.10243 |  0:00:38s\n",
      "epoch 28 | loss: 0.09901 | train_rmsle: 0.22085 | train_mae: 0.21625 | train_rmse: 0.31774 | train_mse: 0.10096 | valid_rmsle: 0.22267 | valid_mae: 0.219   | valid_rmse: 0.32081 | valid_mse: 0.10292 |  0:00:40s\n",
      "epoch 29 | loss: 0.09996 | train_rmsle: 0.22387 | train_mae: 0.22012 | train_rmse: 0.3181  | train_mse: 0.10119 | valid_rmsle: 0.22631 | valid_mae: 0.22302 | valid_rmse: 0.3221  | valid_mse: 0.10375 |  0:00:41s\n",
      "epoch 30 | loss: 0.09918 | train_rmsle: 0.22153 | train_mae: 0.21695 | train_rmse: 0.31626 | train_mse: 0.10002 | valid_rmsle: 0.22424 | valid_mae: 0.22047 | valid_rmse: 0.32071 | valid_mse: 0.10285 |  0:00:42s\n",
      "epoch 31 | loss: 0.09817 | train_rmsle: 0.21902 | train_mae: 0.21029 | train_rmse: 0.3183  | train_mse: 0.10131 | valid_rmsle: 0.2215  | valid_mae: 0.2138  | valid_rmse: 0.32215 | valid_mse: 0.10378 |  0:00:44s\n",
      "epoch 32 | loss: 0.0982  | train_rmsle: 0.22506 | train_mae: 0.21498 | train_rmse: 0.31628 | train_mse: 0.10004 | valid_rmsle: 0.22818 | valid_mae: 0.21842 | valid_rmse: 0.32121 | valid_mse: 0.10317 |  0:00:45s\n",
      "epoch 33 | loss: 0.09798 | train_rmsle: 0.22014 | train_mae: 0.21271 | train_rmse: 0.31417 | train_mse: 0.0987  | valid_rmsle: 0.22337 | valid_mae: 0.21702 | valid_rmse: 0.31915 | valid_mse: 0.10186 |  0:00:46s\n",
      "epoch 34 | loss: 0.09707 | train_rmsle: 0.22297 | train_mae: 0.21344 | train_rmse: 0.31489 | train_mse: 0.09916 | valid_rmsle: 0.22613 | valid_mae: 0.21684 | valid_rmse: 0.31983 | valid_mse: 0.10229 |  0:00:48s\n",
      "epoch 35 | loss: 0.09833 | train_rmsle: 0.2183  | train_mae: 0.21088 | train_rmse: 0.3178  | train_mse: 0.101   | valid_rmsle: 0.22052 | valid_mae: 0.21474 | valid_rmse: 0.32118 | valid_mse: 0.10316 |  0:00:49s\n",
      "epoch 36 | loss: 0.0976  | train_rmsle: 0.21809 | train_mae: 0.20754 | train_rmse: 0.31304 | train_mse: 0.09799 | valid_rmsle: 0.22077 | valid_mae: 0.211   | valid_rmse: 0.31699 | valid_mse: 0.10048 |  0:00:51s\n",
      "epoch 37 | loss: 0.09766 | train_rmsle: 0.21865 | train_mae: 0.20771 | train_rmse: 0.31598 | train_mse: 0.09985 | valid_rmsle: 0.22221 | valid_mae: 0.21217 | valid_rmse: 0.32098 | valid_mse: 0.10303 |  0:00:52s\n",
      "epoch 38 | loss: 0.09752 | train_rmsle: 0.21919 | train_mae: 0.21029 | train_rmse: 0.3139  | train_mse: 0.09853 | valid_rmsle: 0.22272 | valid_mae: 0.21381 | valid_rmse: 0.31913 | valid_mse: 0.10185 |  0:00:53s\n",
      "epoch 39 | loss: 0.09664 | train_rmsle: 0.22043 | train_mae: 0.21701 | train_rmse: 0.31566 | train_mse: 0.09964 | valid_rmsle: 0.22337 | valid_mae: 0.22033 | valid_rmse: 0.32012 | valid_mse: 0.10248 |  0:00:55s\n",
      "epoch 40 | loss: 0.09654 | train_rmsle: 0.21884 | train_mae: 0.21345 | train_rmse: 0.31491 | train_mse: 0.09917 | valid_rmsle: 0.22103 | valid_mae: 0.21667 | valid_rmse: 0.31835 | valid_mse: 0.10135 |  0:00:56s\n",
      "epoch 41 | loss: 0.09707 | train_rmsle: 0.22276 | train_mae: 0.21238 | train_rmse: 0.31329 | train_mse: 0.09815 | valid_rmsle: 0.22711 | valid_mae: 0.21688 | valid_rmse: 0.31982 | valid_mse: 0.10229 |  0:00:57s\n",
      "epoch 42 | loss: 0.09723 | train_rmsle: 0.22197 | train_mae: 0.21032 | train_rmse: 0.31321 | train_mse: 0.0981  | valid_rmsle: 0.22578 | valid_mae: 0.21437 | valid_rmse: 0.31893 | valid_mse: 0.10172 |  0:00:59s\n",
      "epoch 43 | loss: 0.09701 | train_rmsle: 0.22287 | train_mae: 0.20988 | train_rmse: 0.31366 | train_mse: 0.09838 | valid_rmsle: 0.22552 | valid_mae: 0.21189 | valid_rmse: 0.3181  | valid_mse: 0.10119 |  0:01:00s\n",
      "epoch 44 | loss: 0.09688 | train_rmsle: 0.21728 | train_mae: 0.20736 | train_rmse: 0.3147  | train_mse: 0.09903 | valid_rmsle: 0.21983 | valid_mae: 0.21083 | valid_rmse: 0.31832 | valid_mse: 0.10133 |  0:01:01s\n",
      "epoch 45 | loss: 0.09707 | train_rmsle: 0.2187  | train_mae: 0.21135 | train_rmse: 0.31422 | train_mse: 0.09873 | valid_rmsle: 0.22124 | valid_mae: 0.21474 | valid_rmse: 0.31827 | valid_mse: 0.10129 |  0:01:03s\n",
      "epoch 46 | loss: 0.09708 | train_rmsle: 0.2179  | train_mae: 0.20407 | train_rmse: 0.31429 | train_mse: 0.09878 | valid_rmsle: 0.22112 | valid_mae: 0.20771 | valid_rmse: 0.31943 | valid_mse: 0.10204 |  0:01:04s\n",
      "epoch 47 | loss: 0.09739 | train_rmsle: 0.22027 | train_mae: 0.20527 | train_rmse: 0.31205 | train_mse: 0.09737 | valid_rmsle: 0.22328 | valid_mae: 0.20822 | valid_rmse: 0.31681 | valid_mse: 0.10037 |  0:01:05s\n",
      "epoch 48 | loss: 0.09684 | train_rmsle: 0.21852 | train_mae: 0.20773 | train_rmse: 0.31339 | train_mse: 0.09821 | valid_rmsle: 0.22192 | valid_mae: 0.21143 | valid_rmse: 0.31841 | valid_mse: 0.10139 |  0:01:07s\n",
      "epoch 49 | loss: 0.0956  | train_rmsle: 0.21711 | train_mae: 0.20377 | train_rmse: 0.31255 | train_mse: 0.09769 | valid_rmsle: 0.22101 | valid_mae: 0.20852 | valid_rmse: 0.3182  | valid_mse: 0.10125 |  0:01:08s\n",
      "epoch 50 | loss: 0.09681 | train_rmsle: 0.2168  | train_mae: 0.20584 | train_rmse: 0.31125 | train_mse: 0.09688 | valid_rmsle: 0.21957 | valid_mae: 0.20942 | valid_rmse: 0.31541 | valid_mse: 0.09948 |  0:01:09s\n",
      "epoch 51 | loss: 0.09589 | train_rmsle: 0.22093 | train_mae: 0.20883 | train_rmse: 0.31312 | train_mse: 0.09804 | valid_rmsle: 0.22455 | valid_mae: 0.21306 | valid_rmse: 0.3188  | valid_mse: 0.10163 |  0:01:11s\n",
      "epoch 52 | loss: 0.09669 | train_rmsle: 0.21864 | train_mae: 0.20598 | train_rmse: 0.31205 | train_mse: 0.09738 | valid_rmsle: 0.22212 | valid_mae: 0.21035 | valid_rmse: 0.31743 | valid_mse: 0.10076 |  0:01:12s\n",
      "epoch 53 | loss: 0.0969  | train_rmsle: 0.22076 | train_mae: 0.20753 | train_rmse: 0.31293 | train_mse: 0.09793 | valid_rmsle: 0.22123 | valid_mae: 0.20897 | valid_rmse: 0.31399 | valid_mse: 0.09859 |  0:01:14s\n",
      "epoch 54 | loss: 0.09798 | train_rmsle: 0.21764 | train_mae: 0.2071  | train_rmse: 0.31182 | train_mse: 0.09723 | valid_rmsle: 0.22015 | valid_mae: 0.21042 | valid_rmse: 0.31565 | valid_mse: 0.09964 |  0:01:15s\n",
      "epoch 55 | loss: 0.09625 | train_rmsle: 0.21699 | train_mae: 0.20446 | train_rmse: 0.31376 | train_mse: 0.09845 | valid_rmsle: 0.22072 | valid_mae: 0.20873 | valid_rmse: 0.31933 | valid_mse: 0.10197 |  0:01:16s\n",
      "epoch 56 | loss: 0.09622 | train_rmsle: 0.21789 | train_mae: 0.20633 | train_rmse: 0.3112  | train_mse: 0.09685 | valid_rmsle: 0.2211  | valid_mae: 0.21026 | valid_rmse: 0.31632 | valid_mse: 0.10006 |  0:01:18s\n",
      "epoch 57 | loss: 0.09578 | train_rmsle: 0.21653 | train_mae: 0.20488 | train_rmse: 0.31585 | train_mse: 0.09976 | valid_rmsle: 0.22013 | valid_mae: 0.209   | valid_rmse: 0.32131 | valid_mse: 0.10324 |  0:01:19s\n",
      "epoch 58 | loss: 0.09598 | train_rmsle: 0.21746 | train_mae: 0.20766 | train_rmse: 0.31419 | train_mse: 0.09872 | valid_rmsle: 0.2215  | valid_mae: 0.21183 | valid_rmse: 0.32018 | valid_mse: 0.10251 |  0:01:20s\n",
      "epoch 59 | loss: 0.09645 | train_rmsle: 0.21838 | train_mae: 0.20967 | train_rmse: 0.31342 | train_mse: 0.09823 | valid_rmsle: 0.222   | valid_mae: 0.2132  | valid_rmse: 0.3188  | valid_mse: 0.10163 |  0:01:22s\n",
      "epoch 60 | loss: 0.09632 | train_rmsle: 0.2197  | train_mae: 0.20613 | train_rmse: 0.31146 | train_mse: 0.09701 | valid_rmsle: 0.22388 | valid_mae: 0.2101  | valid_rmse: 0.31816 | valid_mse: 0.10123 |  0:01:23s\n",
      "epoch 61 | loss: 0.0963  | train_rmsle: 0.21561 | train_mae: 0.20104 | train_rmse: 0.30974 | train_mse: 0.09594 | valid_rmsle: 0.21932 | valid_mae: 0.20503 | valid_rmse: 0.31553 | valid_mse: 0.09956 |  0:01:24s\n",
      "epoch 62 | loss: 0.096   | train_rmsle: 0.21911 | train_mae: 0.20602 | train_rmse: 0.3115  | train_mse: 0.09703 | valid_rmsle: 0.22248 | valid_mae: 0.21015 | valid_rmse: 0.31694 | valid_mse: 0.10045 |  0:01:25s\n",
      "epoch 63 | loss: 0.09595 | train_rmsle: 0.21651 | train_mae: 0.20648 | train_rmse: 0.31059 | train_mse: 0.09647 | valid_rmsle: 0.22038 | valid_mae: 0.21087 | valid_rmse: 0.31633 | valid_mse: 0.10007 |  0:01:27s\n",
      "epoch 64 | loss: 0.09578 | train_rmsle: 0.21582 | train_mae: 0.20217 | train_rmse: 0.3095  | train_mse: 0.09579 | valid_rmsle: 0.21903 | valid_mae: 0.20588 | valid_rmse: 0.31452 | valid_mse: 0.09892 |  0:01:28s\n",
      "epoch 65 | loss: 0.09558 | train_rmsle: 0.21663 | train_mae: 0.20342 | train_rmse: 0.31263 | train_mse: 0.09774 | valid_rmsle: 0.22098 | valid_mae: 0.20775 | valid_rmse: 0.3189  | valid_mse: 0.1017  |  0:01:29s\n",
      "epoch 66 | loss: 0.09597 | train_rmsle: 0.21593 | train_mae: 0.20126 | train_rmse: 0.31329 | train_mse: 0.09815 | valid_rmsle: 0.21862 | valid_mae: 0.20482 | valid_rmse: 0.31711 | valid_mse: 0.10056 |  0:01:31s\n",
      "epoch 67 | loss: 0.09653 | train_rmsle: 0.22039 | train_mae: 0.20576 | train_rmse: 0.31176 | train_mse: 0.0972  | valid_rmsle: 0.22371 | valid_mae: 0.20834 | valid_rmse: 0.31696 | valid_mse: 0.10046 |  0:01:32s\n",
      "epoch 68 | loss: 0.09542 | train_rmsle: 0.21626 | train_mae: 0.20471 | train_rmse: 0.30998 | train_mse: 0.09609 | valid_rmsle: 0.21948 | valid_mae: 0.20798 | valid_rmse: 0.31481 | valid_mse: 0.09911 |  0:01:34s\n",
      "epoch 69 | loss: 0.09541 | train_rmsle: 0.21624 | train_mae: 0.20228 | train_rmse: 0.31098 | train_mse: 0.09671 | valid_rmsle: 0.21998 | valid_mae: 0.20572 | valid_rmse: 0.3167  | valid_mse: 0.1003  |  0:01:35s\n",
      "epoch 70 | loss: 0.09646 | train_rmsle: 0.2164  | train_mae: 0.20682 | train_rmse: 0.31089 | train_mse: 0.09665 | valid_rmsle: 0.22017 | valid_mae: 0.21124 | valid_rmse: 0.31664 | valid_mse: 0.10026 |  0:01:36s\n",
      "epoch 71 | loss: 0.09518 | train_rmsle: 0.21732 | train_mae: 0.20456 | train_rmse: 0.30929 | train_mse: 0.09566 | valid_rmsle: 0.22201 | valid_mae: 0.20932 | valid_rmse: 0.3161  | valid_mse: 0.09992 |  0:01:38s\n",
      "epoch 72 | loss: 0.09448 | train_rmsle: 0.22008 | train_mae: 0.20805 | train_rmse: 0.30995 | train_mse: 0.09607 | valid_rmsle: 0.22438 | valid_mae: 0.21193 | valid_rmse: 0.31654 | valid_mse: 0.1002  |  0:01:39s\n",
      "epoch 73 | loss: 0.09522 | train_rmsle: 0.21528 | train_mae: 0.20165 | train_rmse: 0.31058 | train_mse: 0.09646 | valid_rmsle: 0.21868 | valid_mae: 0.20585 | valid_rmse: 0.31591 | valid_mse: 0.0998  |  0:01:40s\n",
      "epoch 74 | loss: 0.0945  | train_rmsle: 0.21421 | train_mae: 0.19683 | train_rmse: 0.30814 | train_mse: 0.09495 | valid_rmsle: 0.21843 | valid_mae: 0.20089 | valid_rmse: 0.31451 | valid_mse: 0.09891 |  0:01:42s\n",
      "epoch 75 | loss: 0.09464 | train_rmsle: 0.21432 | train_mae: 0.20319 | train_rmse: 0.31166 | train_mse: 0.09713 | valid_rmsle: 0.2188  | valid_mae: 0.20859 | valid_rmse: 0.31846 | valid_mse: 0.10142 |  0:01:43s\n",
      "epoch 76 | loss: 0.09479 | train_rmsle: 0.21744 | train_mae: 0.20344 | train_rmse: 0.31036 | train_mse: 0.09632 | valid_rmsle: 0.22206 | valid_mae: 0.20855 | valid_rmse: 0.31757 | valid_mse: 0.10085 |  0:01:44s\n",
      "epoch 77 | loss: 0.09447 | train_rmsle: 0.21704 | train_mae: 0.20233 | train_rmse: 0.30851 | train_mse: 0.09518 | valid_rmsle: 0.22236 | valid_mae: 0.20752 | valid_rmse: 0.31648 | valid_mse: 0.10016 |  0:01:45s\n",
      "epoch 78 | loss: 0.09504 | train_rmsle: 0.21343 | train_mae: 0.19846 | train_rmse: 0.30903 | train_mse: 0.0955  | valid_rmsle: 0.21858 | valid_mae: 0.20389 | valid_rmse: 0.31668 | valid_mse: 0.10028 |  0:01:47s\n",
      "epoch 79 | loss: 0.09434 | train_rmsle: 0.21546 | train_mae: 0.20901 | train_rmse: 0.31335 | train_mse: 0.09819 | valid_rmsle: 0.2203  | valid_mae: 0.21393 | valid_rmse: 0.32016 | valid_mse: 0.1025  |  0:01:48s\n",
      "epoch 80 | loss: 0.0949  | train_rmsle: 0.21309 | train_mae: 0.19501 | train_rmse: 0.30748 | train_mse: 0.09454 | valid_rmsle: 0.21831 | valid_mae: 0.20025 | valid_rmse: 0.31513 | valid_mse: 0.0993  |  0:01:50s\n",
      "epoch 81 | loss: 0.09453 | train_rmsle: 0.21415 | train_mae: 0.19517 | train_rmse: 0.30685 | train_mse: 0.09416 | valid_rmsle: 0.21987 | valid_mae: 0.20079 | valid_rmse: 0.31553 | valid_mse: 0.09956 |  0:01:51s\n",
      "epoch 82 | loss: 0.09437 | train_rmsle: 0.21379 | train_mae: 0.19939 | train_rmse: 0.31009 | train_mse: 0.09616 | valid_rmsle: 0.21851 | valid_mae: 0.2041  | valid_rmse: 0.31703 | valid_mse: 0.10051 |  0:01:52s\n",
      "epoch 83 | loss: 0.09434 | train_rmsle: 0.21495 | train_mae: 0.2023  | train_rmse: 0.3084  | train_mse: 0.09511 | valid_rmsle: 0.2203  | valid_mae: 0.20728 | valid_rmse: 0.31655 | valid_mse: 0.1002  |  0:01:54s\n",
      "epoch 84 | loss: 0.09384 | train_rmsle: 0.21547 | train_mae: 0.20265 | train_rmse: 0.30733 | train_mse: 0.09445 | valid_rmsle: 0.22085 | valid_mae: 0.20792 | valid_rmse: 0.31553 | valid_mse: 0.09956 |  0:01:55s\n",
      "epoch 85 | loss: 0.09336 | train_rmsle: 0.21326 | train_mae: 0.20054 | train_rmse: 0.308   | train_mse: 0.09486 | valid_rmsle: 0.21877 | valid_mae: 0.20688 | valid_rmse: 0.31639 | valid_mse: 0.1001  |  0:01:57s\n",
      "epoch 86 | loss: 0.09401 | train_rmsle: 0.21216 | train_mae: 0.19331 | train_rmse: 0.30768 | train_mse: 0.09467 | valid_rmsle: 0.2174  | valid_mae: 0.19906 | valid_rmse: 0.31531 | valid_mse: 0.09942 |  0:01:58s\n",
      "epoch 87 | loss: 0.09333 | train_rmsle: 0.21259 | train_mae: 0.19677 | train_rmse: 0.30971 | train_mse: 0.09592 | valid_rmsle: 0.21875 | valid_mae: 0.20392 | valid_rmse: 0.31865 | valid_mse: 0.10153 |  0:01:59s\n",
      "epoch 88 | loss: 0.09404 | train_rmsle: 0.21612 | train_mae: 0.1974  | train_rmse: 0.30788 | train_mse: 0.09479 | valid_rmsle: 0.2218  | valid_mae: 0.20261 | valid_rmse: 0.31655 | valid_mse: 0.1002  |  0:02:01s\n",
      "epoch 89 | loss: 0.09485 | train_rmsle: 0.21386 | train_mae: 0.19965 | train_rmse: 0.30762 | train_mse: 0.09463 | valid_rmsle: 0.21871 | valid_mae: 0.20468 | valid_rmse: 0.31507 | valid_mse: 0.09927 |  0:02:02s\n",
      "epoch 90 | loss: 0.09366 | train_rmsle: 0.21575 | train_mae: 0.20256 | train_rmse: 0.30686 | train_mse: 0.09416 | valid_rmsle: 0.22241 | valid_mae: 0.20923 | valid_rmse: 0.31698 | valid_mse: 0.10047 |  0:02:03s\n",
      "epoch 91 | loss: 0.09364 | train_rmsle: 0.21348 | train_mae: 0.19667 | train_rmse: 0.30903 | train_mse: 0.0955  | valid_rmsle: 0.22065 | valid_mae: 0.20353 | valid_rmse: 0.31934 | valid_mse: 0.10198 |  0:02:05s\n",
      "epoch 92 | loss: 0.09448 | train_rmsle: 0.21551 | train_mae: 0.2003  | train_rmse: 0.30733 | train_mse: 0.09445 | valid_rmsle: 0.22251 | valid_mae: 0.20869 | valid_rmse: 0.3177  | valid_mse: 0.10094 |  0:02:06s\n",
      "epoch 93 | loss: 0.09454 | train_rmsle: 0.2147  | train_mae: 0.20154 | train_rmse: 0.30716 | train_mse: 0.09435 | valid_rmsle: 0.22123 | valid_mae: 0.2086  | valid_rmse: 0.31714 | valid_mse: 0.10057 |  0:02:07s\n",
      "epoch 94 | loss: 0.09381 | train_rmsle: 0.21466 | train_mae: 0.20189 | train_rmse: 0.30525 | train_mse: 0.09318 | valid_rmsle: 0.22175 | valid_mae: 0.20906 | valid_rmse: 0.31646 | valid_mse: 0.10015 |  0:02:09s\n",
      "epoch 95 | loss: 0.09356 | train_rmsle: 0.2135  | train_mae: 0.19853 | train_rmse: 0.30565 | train_mse: 0.09342 | valid_rmsle: 0.22044 | valid_mae: 0.20603 | valid_rmse: 0.31655 | valid_mse: 0.1002  |  0:02:10s\n",
      "epoch 96 | loss: 0.09419 | train_rmsle: 0.21413 | train_mae: 0.20336 | train_rmse: 0.31133 | train_mse: 0.09692 | valid_rmsle: 0.22048 | valid_mae: 0.21062 | valid_rmse: 0.32075 | valid_mse: 0.10288 |  0:02:12s\n",
      "epoch 97 | loss: 0.09345 | train_rmsle: 0.21306 | train_mae: 0.20084 | train_rmse: 0.30614 | train_mse: 0.09372 | valid_rmsle: 0.21967 | valid_mae: 0.20793 | valid_rmse: 0.31601 | valid_mse: 0.09986 |  0:02:13s\n",
      "epoch 98 | loss: 0.09384 | train_rmsle: 0.21332 | train_mae: 0.19898 | train_rmse: 0.30604 | train_mse: 0.09366 | valid_rmsle: 0.22031 | valid_mae: 0.20594 | valid_rmse: 0.31653 | valid_mse: 0.10019 |  0:02:14s\n",
      "epoch 99 | loss: 0.09332 | train_rmsle: 0.21341 | train_mae: 0.20343 | train_rmse: 0.3068  | train_mse: 0.09412 | valid_rmsle: 0.22127 | valid_mae: 0.21222 | valid_rmse: 0.31848 | valid_mse: 0.10143 |  0:02:16s\n",
      "Stop training because you reached max_epochs = 100 with best_epoch = 53 and best_valid_mse = 0.09859\n"
     ]
    },
    {
     "name": "stderr",
     "output_type": "stream",
     "text": [
      "/home/edgelab/.local/lib/python3.10/site-packages/pytorch_tabnet/callbacks.py:172: UserWarning: Best weights from best epoch are automatically used!\n",
      "  warnings.warn(wrn_msg)\n"
     ]
    }
   ],
   "source": [
    "clf.fit(\n",
    "    X_train=X_train, y_train=y_train,\n",
    "    eval_set=[(X_train, y_train), (X_valid, y_valid)],\n",
    "    eval_name=['train', 'valid'],\n",
    "    eval_metric=['rmsle', 'mae', 'rmse', 'mse'],\n",
    "    max_epochs=max_epochs,\n",
    "    patience=50,\n",
    "    batch_size=1024, virtual_batch_size=128,\n",
    "    num_workers=0,\n",
    "    drop_last=False,\n",
    "    augmentations=aug, #aug\n",
    ") "
   ]
  },
  {
   "cell_type": "code",
   "execution_count": 14,
   "metadata": {},
   "outputs": [
    {
     "name": "stdout",
     "output_type": "stream",
     "text": [
      "BEST VALID SCORE FOR census-income : 0.0985896728291167\n",
      "FINAL TEST SCORE FOR census-income : 0.09715290564344987\n"
     ]
    }
   ],
   "source": [
    "# Deprecated : best model is automatically loaded at end of fit\n",
    "# clf.load_best_model()\n",
    "\n",
    "preds = clf.predict(X_test)\n",
    "\n",
    "y_true = y_test\n",
    "\n",
    "test_score = mean_squared_error(y_pred=preds, y_true=y_true)\n",
    "\n",
    "print(f\"BEST VALID SCORE FOR {dataset_name} : {clf.best_cost}\")\n",
    "print(f\"FINAL TEST SCORE FOR {dataset_name} : {test_score}\")"
   ]
  },
  {
   "cell_type": "markdown",
   "metadata": {},
   "source": [
    "# Save model and load"
   ]
  },
  {
   "cell_type": "code",
   "execution_count": 15,
   "metadata": {},
   "outputs": [
    {
     "name": "stdout",
     "output_type": "stream",
     "text": [
      "Successfully saved model at ./tabnet_model_test_1.zip\n"
     ]
    }
   ],
   "source": [
    "# save tabnet model\n",
    "saving_path_name = \"./tabnet_model_test_1\"\n",
    "saved_filepath = clf.save_model(saving_path_name)"
   ]
  },
  {
   "cell_type": "code",
   "execution_count": 16,
   "metadata": {},
   "outputs": [
    {
     "name": "stderr",
     "output_type": "stream",
     "text": [
      "/home/edgelab/.local/lib/python3.10/site-packages/pytorch_tabnet/abstract_model.py:82: UserWarning: Device used : cuda\n",
      "  warnings.warn(f\"Device used : {self.device}\")\n"
     ]
    }
   ],
   "source": [
    "# define new model with basic parameters and load state dict weights\n",
    "loaded_clf = TabNetRegressor()\n",
    "loaded_clf.load_model(saved_filepath)"
   ]
  },
  {
   "cell_type": "code",
   "execution_count": 17,
   "metadata": {},
   "outputs": [
    {
     "name": "stdout",
     "output_type": "stream",
     "text": [
      "FINAL TEST SCORE FOR census-income : 0.09715290564344987\n"
     ]
    }
   ],
   "source": [
    "loaded_preds = loaded_clf.predict(X_test)\n",
    "loaded_test_mse = mean_squared_error(loaded_preds, y_test)\n",
    "\n",
    "print(f\"FINAL TEST SCORE FOR {dataset_name} : {loaded_test_mse}\")"
   ]
  },
  {
   "cell_type": "code",
   "execution_count": 18,
   "metadata": {},
   "outputs": [],
   "source": [
    "assert(test_score == loaded_test_mse)"
   ]
  },
  {
   "cell_type": "markdown",
   "metadata": {},
   "source": [
    "# Global explainability : feat importance summing to 1"
   ]
  },
  {
   "cell_type": "code",
   "execution_count": 19,
   "metadata": {},
   "outputs": [
    {
     "data": {
      "text/plain": [
       "array([1.34498779e-01, 1.69495247e-04, 7.71675445e-03, 3.32947518e-05,\n",
       "       1.82313147e-01, 3.16079875e-01, 5.57124777e-05, 4.80935941e-03,\n",
       "       1.59978239e-04, 5.38835960e-02, 2.02272117e-01, 3.73145550e-02,\n",
       "       6.06265103e-02, 6.68256489e-05])"
      ]
     },
     "execution_count": 19,
     "metadata": {},
     "output_type": "execute_result"
    }
   ],
   "source": [
    "clf.feature_importances_"
   ]
  },
  {
   "cell_type": "markdown",
   "metadata": {},
   "source": [
    "# Local explainability and masks"
   ]
  },
  {
   "cell_type": "code",
   "execution_count": 20,
   "metadata": {},
   "outputs": [],
   "source": [
    "explain_matrix, masks = clf.explain(X_test)"
   ]
  },
  {
   "cell_type": "code",
   "execution_count": 21,
   "metadata": {},
   "outputs": [],
   "source": [
    "from matplotlib import pyplot as plt\n",
    "%matplotlib inline"
   ]
  },
  {
   "cell_type": "code",
   "execution_count": 22,
   "metadata": {},
   "outputs": [
    {
     "data": {
      "image/png": "[encoded data removed]",
      "text/plain": [
       "<Figure size 2000x2000 with 3 Axes>"
      ]
     },
     "metadata": {},
     "output_type": "display_data"
    }
   ],
   "source": [
    "fig, axs = plt.subplots(1, 3, figsize=(20,20))\n",
    "\n",
    "for i in range(3):\n",
    "    axs[i].imshow(masks[i][:50])\n",
    "    axs[i].set_title(f\"mask {i}\")\n"
   ]
  },
  {
   "cell_type": "markdown",
   "metadata": {},
   "source": [
    "# XGB"
   ]
  },
  {
   "cell_type": "code",
   "execution_count": 23,
   "metadata": {
    "scrolled": true
   },
   "outputs": [
    {
     "ename": "ModuleNotFoundError",
     "evalue": "No module named 'xgboost'",
     "output_type": "error",
     "traceback": [
      "\u001b[0;31m---------------------------------------------------------------------------\u001b[0m",
      "\u001b[0;31mModuleNotFoundError\u001b[0m                       Traceback (most recent call last)",
      "Cell \u001b[0;32mIn[23], line 1\u001b[0m\n\u001b[0;32m----> 1\u001b[0m \u001b[38;5;28;01mfrom\u001b[39;00m \u001b[38;5;21;01mxgboost\u001b[39;00m \u001b[38;5;28;01mimport\u001b[39;00m XGBRegressor\n\u001b[1;32m      3\u001b[0m clf_xgb \u001b[38;5;241m=\u001b[39m XGBRegressor(max_depth\u001b[38;5;241m=\u001b[39m\u001b[38;5;241m8\u001b[39m,\n\u001b[1;32m      4\u001b[0m     learning_rate\u001b[38;5;241m=\u001b[39m\u001b[38;5;241m0.1\u001b[39m,\n\u001b[1;32m      5\u001b[0m     n_estimators\u001b[38;5;241m=\u001b[39m\u001b[38;5;241m1000\u001b[39m,\n\u001b[0;32m   (...)\u001b[0m\n\u001b[1;32m     23\u001b[0m     random_state\u001b[38;5;241m=\u001b[39m\u001b[38;5;241m0\u001b[39m,\n\u001b[1;32m     24\u001b[0m     seed\u001b[38;5;241m=\u001b[39m\u001b[38;5;28;01mNone\u001b[39;00m,)\n\u001b[1;32m     26\u001b[0m clf_xgb\u001b[38;5;241m.\u001b[39mfit(X_train, y_train,\n\u001b[1;32m     27\u001b[0m         eval_set\u001b[38;5;241m=\u001b[39m[(X_valid, y_valid)],\n\u001b[1;32m     28\u001b[0m         early_stopping_rounds\u001b[38;5;241m=\u001b[39m\u001b[38;5;241m40\u001b[39m,\n\u001b[1;32m     29\u001b[0m         verbose\u001b[38;5;241m=\u001b[39m\u001b[38;5;241m10\u001b[39m)\n",
      "\u001b[0;31mModuleNotFoundError\u001b[0m: No module named 'xgboost'"
     ]
    }
   ],
   "source": [
    "from xgboost import XGBRegressor\n",
    "\n",
    "clf_xgb = XGBRegressor(max_depth=8,\n",
    "    learning_rate=0.1,\n",
    "    n_estimators=1000,\n",
    "    verbosity=0,\n",
    "    silent=None,\n",
    "    objective='reg:linear',\n",
    "    booster='gbtree',\n",
    "    n_jobs=-1,\n",
    "    nthread=None,\n",
    "    gamma=0,\n",
    "    min_child_weight=1,\n",
    "    max_delta_step=0,\n",
    "    subsample=0.7,\n",
    "    colsample_bytree=1,\n",
    "    colsample_bylevel=1,\n",
    "    colsample_bynode=1,\n",
    "    reg_alpha=0,\n",
    "    reg_lambda=1,\n",
    "    scale_pos_weight=1,\n",
    "    base_score=0.5,\n",
    "    random_state=0,\n",
    "    seed=None,)\n",
    "\n",
    "clf_xgb.fit(X_train, y_train,\n",
    "        eval_set=[(X_valid, y_valid)],\n",
    "        early_stopping_rounds=40,\n",
    "        verbose=10)"
   ]
  },
  {
   "cell_type": "code",
   "execution_count": 24,
   "metadata": {},
   "outputs": [
    {
     "ename": "NameError",
     "evalue": "name 'clf_xgb' is not defined",
     "output_type": "error",
     "traceback": [
      "\u001b[0;31m---------------------------------------------------------------------------\u001b[0m",
      "\u001b[0;31mNameError\u001b[0m                                 Traceback (most recent call last)",
      "Cell \u001b[0;32mIn[24], line 1\u001b[0m\n\u001b[0;32m----> 1\u001b[0m preds \u001b[38;5;241m=\u001b[39m np\u001b[38;5;241m.\u001b[39marray(\u001b[43mclf_xgb\u001b[49m\u001b[38;5;241m.\u001b[39mpredict(X_valid))\n\u001b[1;32m      2\u001b[0m valid_auc \u001b[38;5;241m=\u001b[39m mean_squared_error(y_pred\u001b[38;5;241m=\u001b[39mpreds, y_true\u001b[38;5;241m=\u001b[39my_valid)\n\u001b[1;32m      3\u001b[0m \u001b[38;5;28mprint\u001b[39m(valid_auc)\n",
      "\u001b[0;31mNameError\u001b[0m: name 'clf_xgb' is not defined"
     ]
    }
   ],
   "source": [
    "preds = np.array(clf_xgb.predict(X_valid))\n",
    "valid_auc = mean_squared_error(y_pred=preds, y_true=y_valid)\n",
    "print(valid_auc)\n",
    "\n",
    "preds = np.array(clf_xgb.predict(X_test))\n",
    "test_auc = mean_squared_error(y_pred=preds, y_true=y_test)\n",
    "print(test_auc)"
   ]
  }
 ],
 "metadata": {
  "kernelspec": {
   "display_name": "Python 3",
   "language": "python",
   "name": "python3"
  },
  "language_info": {
   "codemirror_mode": {
    "name": "ipython",
    "version": 3
   },
   "file_extension": ".py",
   "mimetype": "text/x-python",
   "name": "python",
   "nbconvert_exporter": "python",
   "pygments_lexer": "ipython3",
   "version": "3.10.12"
  },
  "toc": {
   "base_numbering": 1,
   "nav_menu": {},
   "number_sections": true,
   "sideBar": true,
   "skip_h1_title": false,
   "title_cell": "Table of Contents",
   "title_sidebar": "Contents",
   "toc_cell": false,
   "toc_position": {},
   "toc_section_display": true,
   "toc_window_display": false
  }
 },
 "nbformat": 4,
 "nbformat_minor": 2
}
