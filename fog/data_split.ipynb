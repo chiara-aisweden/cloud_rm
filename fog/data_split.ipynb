{
 "cells": [
  {
   "cell_type": "code",
   "execution_count": 1,
   "metadata": {},
   "outputs": [
    {
     "name": "stderr",
     "output_type": "stream",
     "text": [
      "2024-04-12 12:13:02.823241: I tensorflow/core/util/port.cc:113] oneDNN custom operations are on. You may see slightly different numerical results due to floating-point round-off errors from different computation orders. To turn them off, set the environment variable `TF_ENABLE_ONEDNN_OPTS=0`.\n",
      "2024-04-12 12:13:02.857232: E external/local_xla/xla/stream_executor/cuda/cuda_dnn.cc:9261] Unable to register cuDNN factory: Attempting to register factory for plugin cuDNN when one has already been registered\n",
      "2024-04-12 12:13:02.857254: E external/local_xla/xla/stream_executor/cuda/cuda_fft.cc:607] Unable to register cuFFT factory: Attempting to register factory for plugin cuFFT when one has already been registered\n",
      "2024-04-12 12:13:02.858108: E external/local_xla/xla/stream_executor/cuda/cuda_blas.cc:1515] Unable to register cuBLAS factory: Attempting to register factory for plugin cuBLAS when one has already been registered\n",
      "2024-04-12 12:13:02.864024: I tensorflow/core/platform/cpu_feature_guard.cc:182] This TensorFlow binary is optimized to use available CPU instructions in performance-critical operations.\n",
      "To enable the following instructions: AVX2 AVX512F AVX512_VNNI FMA, in other operations, rebuild TensorFlow with the appropriate compiler flags.\n",
      "2024-04-12 12:13:03.486018: W tensorflow/compiler/tf2tensorrt/utils/py_utils.cc:38] TF-TRT Warning: Could not find TensorRT\n"
     ]
    }
   ],
   "source": [
    "import tensorflow as tf\n",
    "import numpy as np\n",
    "import pandas as pd\n",
    "from sklearn.preprocessing import StandardScaler\n",
    "from sklearn.model_selection import train_test_split\n",
    "from sklearn.metrics import mean_squared_error\n",
    "from sklearn.metrics import confusion_matrix\n",
    "import matplotlib.pyplot as plt\n",
    "import seaborn as sn\n",
    "\n",
    "# Cloud type index = 37\n",
    "# clear = 0\n",
    "# stratus continental = 1\n",
    "# stratus maritime = 2\n",
    "# cumulus continental clean = 3\n",
    "# cumulus continental polluted = 4\n",
    "# cumulus maritime = 5\n",
    "# cirrus = 6\n",
    "# cirrus + water clouds (mixed) >= 7\n",
    "\n",
    "DAY_TIME = False\n",
    "USE_MIXED = True\n",
    "USE_PRESSURE_TEMP = True\n",
    "USE_SPECIFIC_CLOUDS = True\n",
    "LOW_VIS_FRAC = True\n",
    "LOW_VIS_EVEN_CLOUDS = False\n",
    "#low_vis_frac = 0.35\n",
    "low_vis_threshold = 1000 #50000\n",
    "cloud_types = [0,1,2,3,4,5,6] #0,1,2 ::: 0, 3, 4\n",
    "noise_level = 0.01 # % of max\n",
    "dnn_batch_size = 64\n",
    "\n",
    "if USE_MIXED:\n",
    "    filenames_vis = ['fog_data2_vis_clear.dat', 'fog_data2_vis_ice.dat', 'fog_data2_vis_mixed.dat', 'fog_data2_vis_water.dat']\n",
    "    filenames_ir = ['fog_data2_ir_clear.dat', 'fog_data2_ir_ice.dat', 'fog_data2_ir_mixed.dat', 'fog_data2_ir_water.dat']\n",
    "else:\n",
    "    filenames_vis = ['fog_data2_vis_clear.dat', 'fog_data2_vis_ice.dat', 'fog_data2_vis_water.dat']\n",
    "    filenames_ir = ['fog_data2_ir_clear.dat', 'fog_data2_ir_ice.dat', 'fog_data2_ir_water.dat']\n",
    "\n",
    "target_i = 30 # Visibility index\n",
    "if USE_PRESSURE_TEMP:\n",
    "    features_i = np.concatenate((np.arange(4, 17), np.arange(20, 30), np.arange(31,36))) # 13 ir bands, 10 vis bands, 3 angles, pressure, temp\n",
    "else:\n",
    "    features_i = np.concatenate((np.arange(4, 17), np.arange(20, 30), np.arange(31,34)))\n",
    "\n",
    "# Combine .dat files into one numpy array\n",
    "data_ir_vis = []\n",
    "for file_ir, file_vis in zip(filenames_ir, filenames_vis):\n",
    "  raw_data_ir = pd.read_csv('fog_dataset2/' + file_ir).to_numpy()\n",
    "  raw_data_vis = pd.read_csv('fog_dataset2/' + file_vis).to_numpy()\n",
    "\n",
    "  data_ir = np.array([row[0].split() for row in raw_data_ir[25:]])\n",
    "  data_vis = np.array([row[0].split()[1:] for row in raw_data_vis[41:]])\n",
    "\n",
    "  if len(data_ir_vis) == 0:\n",
    "    data_ir_vis = np.hstack([data_ir, data_vis])\n",
    "  else:\n",
    "    data_ir_vis = np.vstack([data_ir_vis, np.hstack([data_ir, data_vis])])\n",
    "\n",
    "# Remove surface description to convert to float\n",
    "data_ir_vis = data_ir_vis[:,:-1]\n",
    "data_ir_vis = data_ir_vis.astype(np.float32)\n",
    "\n",
    "# Some data points contains nan. Not sure why. Band 32 culprit, 8th feature\n",
    "nan_i = np.where(np.isnan(data_ir_vis))[0]\n",
    "data_ir_vis = np.delete(data_ir_vis, nan_i, axis=0)\n",
    "\n",
    "\n",
    "# Cloud type index = 37\n",
    "if USE_SPECIFIC_CLOUDS:\n",
    "   data_ir_vis = data_ir_vis[np.isin(data_ir_vis[:, 37], cloud_types)]\n",
    "\n",
    "if DAY_TIME:\n",
    "   # data_ir_vis = data_ir_vis[np.where(np.abs(data_ir_vis[:, 33] - 90) < 30)[0]]\n",
    "   data_ir_vis = data_ir_vis[np.where(data_ir_vis[:, 32] > 70)[0]]\n",
    "\n",
    "if LOW_VIS_EVEN_CLOUDS:\n",
    "   tmp_i = np.where(data_ir_vis[:, 30] < low_vis_threshold)[0]\n",
    "   \n",
    "\n",
    "\n",
    "test_data_i = np.random.choice(data_ir_vis.shape[0], round(0.05 * data_ir_vis.shape[0]), replace=False)\n",
    "test_data = data_ir_vis[test_data_i]\n",
    "train_data = np.delete(data_ir_vis, test_data_i, axis=0)\n",
    "\n",
    "noise_std_devs = np.zeros(features_i.shape)\n",
    "for i, feature_i in enumerate(features_i):\n",
    "    noise_std = (np.max(train_data[:,feature_i]) - np.min(train_data[:,feature_i])) * noise_level # 1% of mean or max??\n",
    "    noise_std_devs[i] = noise_std\n",
    "\n",
    "cloud_indicies = []\n",
    "for cloud_i in range(len(cloud_types)):\n",
    "    cloud_indicies.append(np.where(train_data[:, 37] == cloud_i)[0])\n",
    "\n",
    "X_test = test_data[:, features_i]\n",
    "y_test_reg = test_data[:, target_i]\n",
    "y_test_class = np.where(y_test_reg < low_vis_threshold, 1, 0)\n",
    "\n",
    "X_train = train_data[:, features_i]\n",
    "y_train_reg = train_data[:,target_i]\n",
    "y_train_class = np.where(y_train_reg < low_vis_threshold, 1, 0)\n",
    "\n",
    "# Scaling features and noise standard deviations\n",
    "\n",
    "# X_tmp = np.vstack([X_train, X_test])\n",
    "\n",
    "# feature_scaler = StandardScaler()\n",
    "# X_train_scaled = feature_scaler.fit_transform(X_tmp)\n",
    "# X_test_scaled = feature_scaler.transform(X_tmp)\n",
    "# noise_stds_scaled = np.divide(noise_std_devs, feature_scaler.scale_)\n",
    "\n",
    "feature_scaler = StandardScaler()\n",
    "X_train_scaled = feature_scaler.fit_transform(X_train)\n",
    "X_test_scaled = feature_scaler.transform(X_test)\n",
    "noise_stds_scaled = np.divide(noise_std_devs, feature_scaler.scale_)\n",
    "\n",
    "# Scaling target\n",
    "target_scaler = StandardScaler()\n",
    "y_train_reg_scaled = target_scaler.fit_transform(y_train_reg.reshape(-1, 1))\n",
    "\n",
    "# Adding noise according to noise_stds\n",
    "X_train_scaled_noisy = X_train_scaled + np.multiply(np.random.normal(0, 1, X_train_scaled.shape), noise_stds_scaled)\n",
    "X_test_scaled_noisy = X_test_scaled + np.multiply(np.random.normal(0, 1, X_test_scaled.shape), noise_stds_scaled)\n",
    "\n",
    "low_vis_i = np.where(y_train_reg < low_vis_threshold)[0]\n",
    "high_vis_i = np.where(y_train_reg >= low_vis_threshold)[0]"
   ]
  },
  {
   "cell_type": "code",
   "execution_count": 9,
   "metadata": {},
   "outputs": [
    {
     "name": "stdout",
     "output_type": "stream",
     "text": [
      "5\n"
     ]
    }
   ],
   "source": [
    "low_vis_data_i = np.where(data_ir_vis[:, 30] < low_vis_threshold)[0]\n",
    "fog_clouds, counts = np.unique(data_ir_vis[low_vis_data_i,37].astype(int), return_counts=True)\n",
    "least_common_fog_cloud = fog_clouds[np.argmin(counts)].astype(int)\n",
    "n_fog_cloud = np.argmin(counts)\n",
    "\n",
    "remove_indicies = []\n",
    "for fog_cloud_i in range(len(fog_clouds)):\n",
    "    tmptmp_i = np.where(data_ir_vis[low_vis_data_i,37].astype(int) == fog_cloud_i)[0]\n",
    "    remove_indicies.append(np.random.choice)\n",
    "\n",
    "\n",
    "\n",
    "\n",
    "#print(least_common_fog_cloud)"
   ]
  },
  {
   "cell_type": "markdown",
   "metadata": {},
   "source": [
    "**Diesel Nuts**"
   ]
  },
  {
   "cell_type": "code",
   "execution_count": 24,
   "metadata": {},
   "outputs": [
    {
     "name": "stdout",
     "output_type": "stream",
     "text": [
      "[0.14285714 0.14285714 0.14285714 0.14285714 0.14285714 0.14285714\n",
      " 0.14285714]\n",
      "78994\n"
     ]
    }
   ],
   "source": [
    "# One subset with equal amount of high vis cloud points\n",
    "\n",
    "n_subsets = 1\n",
    "\n",
    "cloud_type_fractions = np.zeros((n_subsets, len(cloud_types)))\n",
    "X_subsets = np.zeros((n_subsets, 2*len(low_vis_i), X_train_scaled_noisy.shape[1]))\n",
    "y_subsets = np.zeros((n_subsets, 2*len(low_vis_i)))\n",
    "for subset_i in range(n_subsets):\n",
    "\n",
    "    # Generate random fractions for the cloud types\n",
    "    #random_fractions = np.random.uniform(size=6) # Excluding mixed types now\n",
    "    #random_fractions = random_fractions / np.sum(random_fractions)\n",
    "    random_fractions = np.ones(len(cloud_types)) * (1 / len(cloud_types))\n",
    "    cloud_type_fractions[subset_i] = random_fractions\n",
    "    subset_points = low_vis_i # Add all low vis data\n",
    "\n",
    "    # Add high vis data according to the cloud type fractions\n",
    "    for cloud_type_i in range(len(cloud_types)):                                                       #range(6) bad\n",
    "        possible_indicies = np.intersect1d(high_vis_i, cloud_indicies[cloud_type_i])\n",
    "        n_samples = round(len(low_vis_i) * random_fractions[cloud_type_i])\n",
    "        if cloud_type_i == len(cloud_types) - 1:\n",
    "            n_filler_points = X_subsets.shape[1] - (n_samples + len(subset_points))\n",
    "            n_samples = n_samples + n_filler_points\n",
    "        rand_samps = np.random.choice(possible_indicies, n_samples, replace=False)\n",
    "        subset_points = np.concatenate((subset_points, rand_samps))\n",
    "    X_subsets[subset_i] = X_train_scaled_noisy[subset_points]\n",
    "    y_subsets[subset_i] = y_train_class[subset_points]\n",
    "\n",
    "for i in range(X_subsets.shape[0]):\n",
    "    print(cloud_type_fractions[i])\n",
    "print(X_subsets[0].shape[0])"
   ]
  },
  {
   "cell_type": "code",
   "execution_count": 22,
   "metadata": {},
   "outputs": [
    {
     "name": "stdout",
     "output_type": "stream",
     "text": [
      "[0.33335556 0.06683334 0.06644443 0.06615108 0.06686668 0.06706003\n",
      " 0.33328889]\n",
      "78994\n"
     ]
    }
   ],
   "source": [
    "# I get different results from the other notebooks, here im trying to recreate the results from the other notebooks\n",
    "\n",
    "n_subsets = 1\n",
    "low_vis_data_i = np.where(data_ir_vis[:,30] < low_vis_threshold)[0]\n",
    "\n",
    "cloud_type_fractions = np.zeros((n_subsets, len(cloud_types)))\n",
    "X_subsets = np.zeros((n_subsets, 2*len(low_vis_i), X_train_scaled_noisy.shape[1]))\n",
    "y_subsets = np.zeros((n_subsets, 2*len(low_vis_i)))\n",
    "for subset_i in range(n_subsets):\n",
    "\n",
    "    # Generate random fractions for the cloud types\n",
    "    #random_fractions = np.random.uniform(size=6) # Excluding mixed types now\n",
    "    #random_fractions = random_fractions / np.sum(random_fractions)\n",
    "\n",
    "    random_fractions = np.ones(len(cloud_types)) * (1 / len(cloud_types))\n",
    "    for tmp_i in range(len(random_fractions)):\n",
    "        random_fractions[tmp_i] = len(np.where(data_ir_vis[:, 37] == tmp_i)[0]) / data_ir_vis.shape[0]\n",
    "    cloud_type_fractions[subset_i] = random_fractions\n",
    "    subset_points = low_vis_i # Add all low vis data\n",
    "    \n",
    "    # Add high vis data according to the cloud type fractions\n",
    "    for cloud_type_i in range(len(cloud_types)):                                   \n",
    "        possible_indicies = np.intersect1d(high_vis_i, cloud_indicies[cloud_type_i])\n",
    "        n_samples = round(len(low_vis_i) * random_fractions[cloud_type_i])\n",
    "        if cloud_type_i == len(cloud_types) - 1:\n",
    "            n_filler_points = X_subsets.shape[1] - (n_samples + len(subset_points))\n",
    "            n_samples = n_samples + n_filler_points\n",
    "        rand_samps = np.random.choice(possible_indicies, n_samples, replace=False)\n",
    "        subset_points = np.concatenate((subset_points, rand_samps))\n",
    "    X_subsets[subset_i] = X_train_scaled_noisy[subset_points]\n",
    "    y_subsets[subset_i] = y_train_class[subset_points]\n",
    "\n",
    "for i in range(X_subsets.shape[0]):\n",
    "    print(cloud_type_fractions[i])\n",
    "print(X_subsets[0].shape[0])"
   ]
  },
  {
   "cell_type": "code",
   "execution_count": 8,
   "metadata": {},
   "outputs": [
    {
     "name": "stdout",
     "output_type": "stream",
     "text": [
      "0.5\n"
     ]
    }
   ],
   "source": [
    "print(np.sum(y_subsets[0]) / len(y_subsets[0]))"
   ]
  },
  {
   "cell_type": "code",
   "execution_count": null,
   "metadata": {},
   "outputs": [],
   "source": [
    "n_subsets = 30\n",
    "\n",
    "cloud_type_fractions = np.zeros((n_subsets, len(cloud_types)))\n",
    "X_subsets = np.zeros((n_subsets, 2*len(low_vis_i), X_train_scaled_noisy.shape[1]))\n",
    "y_subsets = np.zeros((n_subsets, 2*len(low_vis_i)))\n",
    "for subset_i in range(n_subsets):\n",
    "\n",
    "    # Generate random fractions for the cloud types\n",
    "    random_fractions = np.random.uniform(size=6) # Excluding mixed types now             #size(6) bad\n",
    "    random_fractions = random_fractions / np.sum(random_fractions)\n",
    "    cloud_type_fractions[subset_i] = random_fractions\n",
    "    subset_points = low_vis_i # Add all low vis data\n",
    "\n",
    "    # Add high vis data according to the cloud type fractions\n",
    "    for cloud_type_i in range(6):                                                        #range(6) bad\n",
    "        possible_indicies = np.intersect1d(high_vis_i, cloud_indicies[cloud_type_i])\n",
    "        n_samples = round(len(low_vis_i) * random_fractions[cloud_type_i])\n",
    "        if cloud_type_i == 5:\n",
    "            n_filler_points = X_subsets.shape[1] - (n_samples + len(subset_points))\n",
    "            n_samples = n_samples + n_filler_points\n",
    "        rand_samps = np.random.choice(possible_indicies, n_samples, replace=False)\n",
    "        subset_points = np.concatenate((subset_points, rand_samps))\n",
    "    X_subsets[subset_i] = X_train_scaled_noisy[subset_points]\n",
    "    y_subsets[subset_i] = y_train_class[subset_points]\n",
    "\n",
    "for i in range(X_subsets.shape[0]):\n",
    "    print(cloud_type_fractions[i])"
   ]
  },
  {
   "cell_type": "code",
   "execution_count": 25,
   "metadata": {},
   "outputs": [
    {
     "name": "stdout",
     "output_type": "stream",
     "text": [
      "Cloud type fractions: [0.14285714 0.14285714 0.14285714 0.14285714 0.14285714 0.14285714\n",
      " 0.14285714]\n",
      "              precision    recall  f1-score   support\n",
      "\n",
      "           0       0.97      0.77      0.86     20509\n",
      "           1       0.25      0.78      0.37      1989\n",
      "\n",
      "    accuracy                           0.77     22498\n",
      "   macro avg       0.61      0.78      0.62     22498\n",
      "weighted avg       0.91      0.77      0.82     22498\n",
      "\n"
     ]
    },
    {
     "data": {
      "image/png": "[encoded data removed]",
      "text/plain": [
       "<Figure size 400x300 with 2 Axes>"
      ]
     },
     "metadata": {},
     "output_type": "display_data"
    }
   ],
   "source": [
    "import xgboost as xgb\n",
    "from sklearn.metrics import classification_report\n",
    "\n",
    "params = {\n",
    "    'objective': 'binary:logistic',  \n",
    "    'max_depth': 20,\n",
    "    'learning_rate': 0.05,\n",
    "    #'scale_pos_weight': neg_to_pos_ratio,\n",
    "\n",
    "}\n",
    "num_rounds = 1000  # Number of boosting rounds\n",
    "\n",
    "for subset_i in range(len(cloud_type_fractions)): # X_subset, y_subset in zip(X_subsets, y_subsets):\n",
    "    #X_sub_train, X_sub_val, y_sub_val, y_sub_val = train_test_split(X_subset, y_subset, test_size=(1/19))\n",
    "\n",
    "    dtrain = xgb.DMatrix(X_subsets[subset_i], label=y_subsets[subset_i])\n",
    "    dtest = xgb.DMatrix(X_test_scaled_noisy, label=y_test_class)\n",
    "    \n",
    "    model = xgb.train(params, dtrain, num_rounds)\n",
    "    predictions = model.predict(dtest)\n",
    "    y_pred_class = (predictions > 0.5).astype(int) \n",
    "\n",
    "    print(f'Cloud type fractions: {cloud_type_fractions[subset_i]}')\n",
    "    print(classification_report(y_test_class, y_pred_class))\n",
    "    cm = confusion_matrix(y_test_class, y_pred_class)\n",
    "    plt.figure(figsize=(4,3)) \n",
    "    sn.heatmap(cm, annot=True, fmt='d')\n",
    "    plt.xlabel('Predicted')\n",
    "    plt.ylabel('True')\n",
    "    plt.show()"
   ]
  },
  {
   "cell_type": "code",
   "execution_count": 25,
   "metadata": {},
   "outputs": [
    {
     "name": "stdout",
     "output_type": "stream",
     "text": [
      "              precision    recall  f1-score   support\n",
      "\n",
      "           0       0.93      0.98      0.95     20457\n",
      "           1       0.57      0.30      0.39      2041\n",
      "\n",
      "    accuracy                           0.92     22498\n",
      "   macro avg       0.75      0.64      0.67     22498\n",
      "weighted avg       0.90      0.92      0.90     22498\n",
      "\n"
     ]
    },
    {
     "data": {
      "image/png": "[encoded data removed]",
      "text/plain": [
       "<Figure size 800x600 with 2 Axes>"
      ]
     },
     "metadata": {},
     "output_type": "display_data"
    }
   ],
   "source": [
    "import xgboost as xgb\n",
    "from sklearn.metrics import classification_report\n",
    "\n",
    "neg_to_pos_ratio = (len(y_train_class) - np.sum(y_train_class)) / np.sum(y_train_class)\n",
    "\n",
    "dtrain = xgb.DMatrix(X_train_scaled_noisy, label=y_train_class)\n",
    "dtest = xgb.DMatrix(X_test_scaled_noisy, label=y_test_class)\n",
    "\n",
    "params = {\n",
    "    'objective': 'binary:logistic',  # For binary classification\n",
    "    'max_depth': 30,  # Maximum tree depth\n",
    "    'learning_rate': 0.1,  # Learning rate\n",
    "    'scale_pos_weight': neg_to_pos_ratio,\n",
    "   # ... other parameters (Refer to XGBoost documentation)\n",
    "}\n",
    "num_rounds = 1000  # Number of boosting rounds\n",
    "model = xgb.train(params, dtrain, num_rounds)\n",
    "predictions = model.predict(dtest)\n",
    "y_pred_class = (predictions > 0.5 ).astype(int) \n",
    "\n",
    "print(classification_report(y_test_class, y_pred_class))\n",
    "cm = confusion_matrix(y_test_class, y_pred_class)\n",
    "plt.figure(figsize=(8,6)) \n",
    "sn.heatmap(cm, annot=True, fmt='d')\n",
    "plt.xlabel('Predicted')\n",
    "plt.ylabel('True')\n",
    "plt.show()"
   ]
  },
  {
   "cell_type": "code",
   "execution_count": null,
   "metadata": {},
   "outputs": [],
   "source": [
    "noise_std_devs = np.zeros(features_i.shape)\n",
    "\n",
    "for i, feature_i in enumerate(features_i):\n",
    "    noise_std = (np.max(data_ir_vis[:,feature_i]) - np.min(data_ir_vis[:,feature_i])) * noise_level # 1% of mean or max??\n",
    "    noise_std_devs[i] = noise_std\n",
    "\n",
    "# Scaling features and noise standard deviations\n",
    "feature_scaler = StandardScaler()\n",
    "X_train_scaled = feature_scaler.fit_transform(X_train)\n",
    "noise_stds_scaled = np.divide(noise_std_devs, feature_scaler.scale_)\n",
    "\n",
    "# Scaling target\n",
    "target_scaler = StandardScaler()\n",
    "y_train_reg_scaled = target_scaler.fit_transform(y_train_reg.reshape(-1, 1))\n",
    "\n",
    "\n",
    "# First split: Separate out a test set (5% of the original dataset)\n",
    "X_temp, X_test, y_temp, y_test_reg = train_test_split(X_train_scaled, y_train_reg_scaled, test_size=(1/20))\n",
    "test_set_i = np.random.choice(len(y_train_reg), int(0.05 * len(y_train_reg)), replace=False)\n",
    "\n",
    "\n",
    "\n",
    "if LOW_VIS_FRAC:\n",
    "    low_vis_i = np.where(target_scaler.inverse_transform(y_temp) < low_vis_threshold)[0]\n",
    "    high_vis_i = np.where(target_scaler.inverse_transform(y_temp) >= low_vis_threshold)[0]\n",
    "    n_high_vis = int(len(low_vis_i) / low_vis_frac * (1 - low_vis_frac))\n",
    "    print(f'real frac: {len(low_vis_i)/len(y_train_reg_scaled)}')\n",
    "    if n_high_vis > len(high_vis_i):\n",
    "        n_high_vis = len(high_vis_i)\n",
    "        n_low_vis = int(low_vis_frac * n_high_vis)\n",
    "        r_low_vis_i = np.random.choice(low_vis_i, n_low_vis, replace=False)\n",
    "        low_vis_i = r_low_vis_i\n",
    "    print(f'n_low_vis: {len(low_vis_i)}. n_high_vis: {n_high_vis}')\n",
    "    r_high_vis_i = np.random.choice(high_vis_i, n_high_vis, replace=False)\n",
    "    X_temp = np.vstack([X_temp[low_vis_i], X_temp[r_high_vis_i]])\n",
    "    y_temp = np.vstack([y_temp[low_vis_i], y_temp[r_high_vis_i]])\n",
    "  \n",
    "\n",
    "# Second split: Split the remaining data into training and validation sets\n",
    "X_train, X_val, y_train_reg, y_val = train_test_split(X_temp, y_temp, test_size=(1/19))\n",
    "\n",
    "# Create noisy data\n",
    "X_train_noisy = X_train + np.multiply(np.random.normal(0, 1, X_train.shape), noise_stds_scaled)\n",
    "X_val_noisy = X_val + np.multiply(np.random.normal(0, 1, X_val.shape), noise_stds_scaled)\n",
    "X_test_noisy = X_test + np.multiply(np.random.normal(0, 1, X_test.shape), noise_stds_scaled)\n",
    "\n",
    "# Create class labels\n",
    "y_train_label = np.where(target_scaler.inverse_transform(y_train_reg) < low_vis_threshold, 1, 0)\n",
    "y_val_label = np.where(target_scaler.inverse_transform(y_val) < low_vis_threshold, 1, 0)\n",
    "y_test_label = np.where(target_scaler.inverse_transform(y_test_reg) < low_vis_threshold, 1, 0)\n",
    "\n",
    "\n",
    "# Create training data for DNN that adds noise to batches\n",
    "training_data = tf.data.Dataset.from_tensor_slices((X_train, y_train_reg)).batch(batch_size=dnn_batch_size)\n",
    "training_data_classes = tf.data.Dataset.from_tensor_slices((X_train, y_train_label)).batch(batch_size=dnn_batch_size)\n",
    "\n",
    "def noise_map(features, labels):\n",
    "    noise = tf.random.normal(shape=tf.shape(features))\n",
    "    noise = noise * noise_stds_scaled\n",
    "    noisy_features = features + noise\n",
    "    return noisy_features, labels\n",
    "\n",
    "training_data = training_data.map(noise_map)\n",
    "training_data_classes = training_data_classes.map(noise_map)"
   ]
  },
  {
   "cell_type": "code",
   "execution_count": 18,
   "metadata": {},
   "outputs": [
    {
     "name": "stdout",
     "output_type": "stream",
     "text": [
      "(1, 1124, 984)\n",
      "float32\n"
     ]
    }
   ],
   "source": [
    "import rasterio\n",
    "\n",
    "# Open the TIFF file\n",
    "with rasterio.open('MODISMondlyFLCC_2000-06.b1.tif') as src:\n",
    "    image_array = src.read()  # Reads all bands by default\n",
    "\n",
    "# Check the shape and data type\n",
    "print(image_array.shape)\n",
    "print(image_array.dtype)"
   ]
  },
  {
   "cell_type": "code",
   "execution_count": 30,
   "metadata": {},
   "outputs": [
    {
     "name": "stdout",
     "output_type": "stream",
     "text": [
      "[[0.20838406 0.16794137 0.07650787 0.20643316 0.16301407 0.17771947]]\n"
     ]
    }
   ],
   "source": [
    "import numpy as np\n",
    "\n",
    "cloud_type_fracs = np.random.uniform(size=(1,6)) # Excluding mixed tyes now\n",
    "cloud_type_fracs = cloud_type_fracs / np.sum(cloud_type_fracs)\n",
    "\n",
    "print(cloud_type_fracs)"
   ]
  }
 ],
 "metadata": {
  "kernelspec": {
   "display_name": "Python 3",
   "language": "python",
   "name": "python3"
  },
  "language_info": {
   "codemirror_mode": {
    "name": "ipython",
    "version": 3
   },
   "file_extension": ".py",
   "mimetype": "text/x-python",
   "name": "python",
   "nbconvert_exporter": "python",
   "pygments_lexer": "ipython3",
   "version": "3.10.12"
  }
 },
 "nbformat": 4,
 "nbformat_minor": 2
}
