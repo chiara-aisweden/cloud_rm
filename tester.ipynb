{
 "cells": [
  {
   "cell_type": "code",
   "execution_count": 4,
   "metadata": {},
   "outputs": [],
   "source": [
    "import numpy as np\n",
    "import time\n",
    "import datetime\n",
    "import torch\n",
    "import torch.nn as nn"
   ]
  },
  {
   "cell_type": "code",
   "execution_count": 2,
   "metadata": {},
   "outputs": [],
   "source": [
    "def quant_cross(y_pred):\n",
    "        if len(np.shape(y_pred)) == 3:\n",
    "            crosscount = 0\n",
    "            for i in range(np.shape(y_pred)[0]):\n",
    "                for j in range(np.shape(y_pred)[1]):\n",
    "                    for k in range(np.shape(y_pred)[2]-1):\n",
    "                        if y_pred[i,j,k+1] < y_pred[i,j,k]:\n",
    "                            crosscount = crosscount + 1 \n",
    "\n",
    "        else:\n",
    "            crosscount = 0\n",
    "            for i in range(np.shape(y_pred)[0]):\n",
    "                for j in range(np.shape(y_pred)[1]-1):\n",
    "                    if y_pred[i,j+1] < y_pred[i,j]:\n",
    "                        crosscount = crosscount + 1 \n",
    "\n",
    "        crossrate = crosscount/(np.size(y_pred)-np.size(y_pred[...,0]))\n",
    "\n",
    "        return crossrate\n"
   ]
  },
  {
   "cell_type": "code",
   "execution_count": 3,
   "metadata": {},
   "outputs": [
    {
     "data": {
      "text/plain": [
       "0.5"
      ]
     },
     "execution_count": 3,
     "metadata": {},
     "output_type": "execute_result"
    }
   ],
   "source": [
    "quants = np.array([[1,2,3],[3,2,1]])\n",
    "\n",
    "quant_cross(quants)"
   ]
  },
  {
   "cell_type": "code",
   "execution_count": 4,
   "metadata": {},
   "outputs": [
    {
     "name": "stdout",
     "output_type": "stream",
     "text": [
      "1\n"
     ]
    }
   ],
   "source": [
    "quantiles=np.array([0.1,0.5,0.9])\n",
    "est= np.where(quantiles==0.5)[0].item()\n",
    "print(est)"
   ]
  },
  {
   "cell_type": "code",
   "execution_count": 4,
   "metadata": {},
   "outputs": [
    {
     "data": {
      "text/plain": [
       "'2024-03-11_13-13-15'"
      ]
     },
     "execution_count": 4,
     "metadata": {},
     "output_type": "execute_result"
    }
   ],
   "source": [
    "datetime.datetime.fromtimestamp(time.time()).strftime('%Y-%m-%d_%H-%M-%S')"
   ]
  },
  {
   "cell_type": "code",
   "execution_count": 5,
   "metadata": {},
   "outputs": [],
   "source": [
    "RMSE_train = np.load('log/2024-03-11_13-47-44/train_stats/RMSE_train.npz', allow_pickle=True)"
   ]
  },
  {
   "cell_type": "code",
   "execution_count": 11,
   "metadata": {},
   "outputs": [
    {
     "data": {
      "text/plain": [
       "NpzFile 'log/2024-03-11_13-47-44/train_stats/RMSE_train.npz' with keys: values, means, mas, times"
      ]
     },
     "execution_count": 11,
     "metadata": {},
     "output_type": "execute_result"
    }
   ],
   "source": [
    "RMSE_train"
   ]
  },
  {
   "cell_type": "code",
   "execution_count": 12,
   "metadata": {},
   "outputs": [
    {
     "data": {
      "text/plain": [
       "array([3.53125024, 3.65625012, 4.15625008, ..., 4.48533434, 4.48463026,\n",
       "       4.48589563])"
      ]
     },
     "execution_count": 12,
     "metadata": {},
     "output_type": "execute_result"
    }
   ],
   "source": [
    "\n",
    "means = RMSE_train['mas']\n",
    "np.size(means)\n",
    "means"
   ]
  },
  {
   "cell_type": "code",
   "execution_count": 1,
   "metadata": {},
   "outputs": [
    {
     "data": {
      "text/plain": [
       "[0, 1, 2, 3, 4, 5, 6, 7, 8, 9, 10, 11]"
      ]
     },
     "execution_count": 1,
     "metadata": {},
     "output_type": "execute_result"
    }
   ],
   "source": [
    "A=[0,1,2,3,4,5,6,7,8,9,10,11,12,13]\n",
    "A[:12]"
   ]
  },
  {
   "cell_type": "code",
   "execution_count": 4,
   "metadata": {},
   "outputs": [
    {
     "name": "stdout",
     "output_type": "stream",
     "text": [
      "500.0\n",
      "500.0\n",
      "500.0\n",
      "1000.0\n"
     ]
    }
   ],
   "source": [
    "A=np.array([500,500,500,500])\n",
    "B=np.array([0,0,2000,0])\n",
    "\n",
    "print(np.mean(np.abs(A)))\n",
    "print(np.mean(np.abs(B)))\n",
    "print(np.sqrt(np.mean(A**2)))\n",
    "print(np.sqrt(np.mean(B**2)))"
   ]
  },
  {
   "cell_type": "code",
   "execution_count": 7,
   "metadata": {},
   "outputs": [
    {
     "name": "stdout",
     "output_type": "stream",
     "text": [
      "Sequential(\n",
      "  (0): Linear(in_features=13, out_features=100, bias=True)\n",
      "  (1): ReLU()\n",
      "  (2): Linear(in_features=100, out_features=100, bias=True)\n",
      "  (3): ReLU()\n",
      "  (4): Linear(in_features=100, out_features=100, bias=True)\n",
      "  (5): ReLU()\n",
      "  (6): Linear(in_features=100, out_features=100, bias=True)\n",
      "  (7): ReLU()\n",
      "  (8): Linear(in_features=100, out_features=100, bias=True)\n",
      "  (9): ReLU()\n",
      "  (10): Linear(in_features=100, out_features=100, bias=True)\n",
      "  (11): ReLU()\n",
      "  (12): Linear(in_features=100, out_features=36, bias=True)\n",
      ")\n"
     ]
    }
   ],
   "source": [
    "#Set up NN structure\n",
    "no_nodes = 100\n",
    "\n",
    "sequence= nn.Sequential(\n",
    "    nn.Linear(13,no_nodes),\n",
    "    nn.ReLU(),\n",
    "    nn.Linear(no_nodes,no_nodes),\n",
    "    nn.ReLU(),\n",
    "    nn.Linear(no_nodes,no_nodes),\n",
    "    nn.ReLU(),\n",
    "    nn.Linear(no_nodes,no_nodes),\n",
    "    nn.ReLU(),\n",
    "    nn.Linear(no_nodes,no_nodes),\n",
    "    nn.ReLU(),\n",
    "    nn.Linear(no_nodes,no_nodes),\n",
    "    nn.ReLU(),\n",
    "    nn.Linear(no_nodes, 3*12) #Output dimesion is number of quantiles times number of target variables\n",
    ")\n",
    "\n",
    "print(sequence)"
   ]
  },
  {
   "cell_type": "code",
   "execution_count": 8,
   "metadata": {},
   "outputs": [
    {
     "name": "stdout",
     "output_type": "stream",
     "text": [
      "Sequential(\n",
      "  (0): Linear(in_features=13, out_features=100, bias=True)\n",
      "  (1): ReLU()\n",
      "  (2): Linear(in_features=100, out_features=100, bias=True)\n",
      "  (3): ReLU()\n",
      "  (4): Linear(in_features=100, out_features=100, bias=True)\n",
      "  (5): ReLU()\n",
      "  (6): Linear(in_features=100, out_features=100, bias=True)\n",
      "  (7): ReLU()\n",
      "  (8): Linear(in_features=100, out_features=100, bias=True)\n",
      "  (9): ReLU()\n",
      "  (10): Linear(in_features=100, out_features=100, bias=True)\n",
      "  (11): ReLU()\n",
      "  (12): Linear(in_features=100, out_features=36, bias=True)\n",
      ")\n"
     ]
    }
   ],
   "source": [
    "no_layers=5\n",
    "modules = []\n",
    "modules.append(nn.Linear(len(X_cols),no_nodes))\n",
    "modules.append(nn.ReLU())\n",
    "for i in range(no_layers):\n",
    "    modules.append(nn.Linear(no_nodes,no_nodes))\n",
    "    modules.append(nn.ReLU())\n",
    "modules.append(nn.Linear(no_nodes, len(quantiles)*len(y_cols)))\n",
    "sequence = lambda: nn.Sequential(*modules)\n",
    "\n",
    "print(sequential)"
   ]
  },
  {
   "cell_type": "code",
   "execution_count": null,
   "metadata": {},
   "outputs": [],
   "source": []
  }
 ],
 "metadata": {
  "kernelspec": {
   "display_name": "Python 3",
   "language": "python",
   "name": "python3"
  },
  "language_info": {
   "codemirror_mode": {
    "name": "ipython",
    "version": 3
   },
   "file_extension": ".py",
   "mimetype": "text/x-python",
   "name": "python",
   "nbconvert_exporter": "python",
   "pygments_lexer": "ipython3",
   "version": "3.10.12"
  }
 },
 "nbformat": 4,
 "nbformat_minor": 2
}
