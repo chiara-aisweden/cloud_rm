{
 "cells": [
  {
   "cell_type": "code",
   "execution_count": null,
   "metadata": {},
   "outputs": [
    {
     "ename": "",
     "evalue": "",
     "output_type": "error",
     "traceback": [
      "\u001b[1;31mFailed to start the Kernel 'Python 3.10.12'. \n",
      "\u001b[1;31mView Jupyter <a href='command:jupyter.viewOutput'>log</a> for further details. ENOSPC: no space left on device, write"
     ]
    }
   ],
   "source": [
    "import numpy as np\n",
    "import pandas as pd\n",
    "import matplotlib.pyplot as plt\n",
    "import sys\n",
    "\n",
    "\n",
    "import functions.parse_data as parse\n",
    "import functions.handy_functions as hf\n",
    "import torch.nn as nn\n",
    "import torch\n",
    "\n",
    "from multivariate_quantile_regression.network_model import QuantileNetwork\n",
    "\n",
    "from sklearn.metrics import mean_squared_error\n",
    "from sklearn.metrics import r2_score\n",
    "from sklearn.model_selection import train_test_split\n",
    "\n",
    "from tqdm import tqdm\n",
    "\n",
    "import os\n",
    "import random"
   ]
  },
  {
   "cell_type": "code",
   "execution_count": null,
   "metadata": {},
   "outputs": [
    {
     "ename": "",
     "evalue": "",
     "output_type": "error",
     "traceback": [
      "\u001b[1;31mFailed to start the Kernel 'Python 3.10.12'. \n",
      "\u001b[1;31mView Jupyter <a href='command:jupyter.viewOutput'>log</a> for further details. ENOSPC: no space left on device, write"
     ]
    }
   ],
   "source": [
    "# Check if CUDA (GPU support) is available\n",
    "if torch.cuda.is_available():\n",
    "    # CUDA is available, so let's set default device to GPU\n",
    "    torch.set_default_device(0)\n",
    "    print(\"CUDA is available. Using GPU.\")\n",
    "else:\n",
    "    # CUDA is not available, so let's use the CPU\n",
    "    print(\"CUDA is not available. Using CPU.\")\n",
    "\n",
    "# Example usage:\n",
    "tensor = torch.randn(3, 3)  # Create a tensor on the selected device\n",
    "print(\"Tensor is on device:\", tensor.device)"
   ]
  },
  {
   "cell_type": "code",
   "execution_count": null,
   "metadata": {},
   "outputs": [
    {
     "ename": "",
     "evalue": "",
     "output_type": "error",
     "traceback": [
      "\u001b[1;31mFailed to start the Kernel 'Python 3.10.12'. \n",
      "\u001b[1;31mView Jupyter <a href='command:jupyter.viewOutput'>log</a> for further details. ENOSPC: no space left on device, write"
     ]
    }
   ],
   "source": [
    "data_water=parse.parse('SMHIdata/cloudrm_water.dat')\n",
    "data_clear=parse.parse('SMHIdata/cloudrm_clear.dat')\n",
    "data_ice=parse.parse('SMHIdata/cloudrm_ice.dat')\n",
    "data_mixed=parse.parse('SMHIdata/cloudrm_mixed.dat')\n",
    "\n",
    "#Concatinate all datasets\n",
    "data_all=pd.concat([data_water, data_clear, data_ice, data_mixed])\n",
    "data_all=data_all.drop(columns=['Surface_Desc','Cloud_B01','Clear_B01'])\n",
    "df_truth=data_all.copy()"
   ]
  },
  {
   "cell_type": "code",
   "execution_count": null,
   "metadata": {},
   "outputs": [
    {
     "ename": "",
     "evalue": "",
     "output_type": "error",
     "traceback": [
      "\u001b[1;31mFailed to start the Kernel 'Python 3.10.12'. \n",
      "\u001b[1;31mView Jupyter <a href='command:jupyter.viewOutput'>log</a> for further details. ENOSPC: no space left on device, write"
     ]
    }
   ],
   "source": []
  },
  {
   "cell_type": "code",
   "execution_count": null,
   "metadata": {},
   "outputs": [
    {
     "ename": "",
     "evalue": "",
     "output_type": "error",
     "traceback": [
      "\u001b[1;31mFailed to start the Kernel 'Python 3.10.12'. \n",
      "\u001b[1;31mView Jupyter <a href='command:jupyter.viewOutput'>log</a> for further details. ENOSPC: no space left on device, write"
     ]
    }
   ],
   "source": [
    "##Train test validation split##\n",
    "X_labels= ['Cloud_B02','Cloud_B03','Cloud_B04','Cloud_B05','Cloud_B06',\n",
    "           'Cloud_B07','Cloud_B08','Cloud_B08A','Cloud_B09','Cloud_B10','Cloud_B11','Cloud_B12',\n",
    "           'Sat_Zenith_Angle','Sun_Zenith_Angle','Azimuth_Diff_Angle']\n",
    "\n",
    "y_labels=['Clear_B02','Clear_B03','Clear_B04','Clear_B05','Clear_B06',\n",
    "           'Clear_B07','Clear_B08','Clear_B08A','Clear_B09','Clear_B10','Clear_B11','Clear_B12']\n",
    "\n",
    "\n",
    "##Split data##\n",
    "X=df_truth[X_labels]\n",
    "y=df_truth[y_labels]\n",
    "\n",
    "X_train, X_test, y_train, y_test=train_test_split(X,y,test_size=0.1,random_state=313)\n",
    "\n",
    "np.random.seed(313)\n",
    "X_test = X_test + np.random.randn(np.shape(X_test)[0],np.shape(X_test)[1]) * np.mean(X.to_numpy(),axis=0)*0.03"
   ]
  },
  {
   "cell_type": "code",
   "execution_count": null,
   "metadata": {},
   "outputs": [
    {
     "ename": "",
     "evalue": "",
     "output_type": "error",
     "traceback": [
      "\u001b[1;31mFailed to start the Kernel 'Python 3.10.12'. \n",
      "\u001b[1;31mView Jupyter <a href='command:jupyter.viewOutput'>log</a> for further details. ENOSPC: no space left on device, write"
     ]
    }
   ],
   "source": [
    "quantiles=np.array([0.1,0.5,0.9])\n",
    "no_nodes=100\n",
    "est= np.where(quantiles==0.5)[0].item()\n",
    "\n",
    "sequence= lambda: nn.Sequential(\n",
    "    nn.Linear(len(X_labels),no_nodes),\n",
    "    nn.ReLU(),\n",
    "    nn.Linear(no_nodes,no_nodes),\n",
    "    nn.ReLU(),\n",
    "    nn.Linear(no_nodes,no_nodes),\n",
    "    nn.ReLU(),\n",
    "    nn.Linear(no_nodes,no_nodes),\n",
    "    nn.ReLU(),\n",
    "    nn.Linear(no_nodes,no_nodes),\n",
    "    nn.ReLU(),\n",
    "    nn.Linear(no_nodes,no_nodes),\n",
    "    nn.ReLU(),\n",
    "    nn.Linear(no_nodes, len(quantiles)*len(y_labels)) #Output dimesion is number of quantiles times number of target variables\n",
    ")"
   ]
  },
  {
   "cell_type": "code",
   "execution_count": null,
   "metadata": {},
   "outputs": [
    {
     "ename": "",
     "evalue": "",
     "output_type": "error",
     "traceback": [
      "\u001b[1;31mFailed to start the Kernel 'Python 3.10.12'. \n",
      "\u001b[1;31mView Jupyter <a href='command:jupyter.viewOutput'>log</a> for further details. ENOSPC: no space left on device, write"
     ]
    }
   ],
   "source": [
    "val_size=0.1\n",
    "batch_size=500 \n",
    "\n",
    "lr_s=[0.003]\n",
    "\n",
    "num_models=5 #Set number of ensambles\n",
    "batch_size=500\n",
    "nepochs=1000\n",
    "lr=0.003\n",
    "noise_ratio = 0.03\n",
    "early_break=True\n",
    "\n",
    "looped_metric=\"Loop_learning_rate\"\n",
    "main_filepath='pytorch_models/'+looped_metric\n",
    "\n",
    "model_metrics=pd.DataFrame(columns=['Ensemble_mean','Ensemble_index',looped_metric,'MSE','PSNR','R2_score','Mean_Quantile_Loss','Quant_Rate','Quantiles'])\n",
    "for lr in lr_s:\n",
    "\n",
    "    \n",
    "    models=[QuantileNetwork(quantiles=quantiles) for _ in range(num_models)]\n",
    "    preds_total=[]\n",
    "    for i,model in enumerate(models): \n",
    "\n",
    "        validation_indices=np.array(random.sample(range(len(X_train['Cloud_B02'])), int(len(X['Cloud_B02'])*val_size)))\n",
    "        train_indices=[i for i in range(len(X_train['Cloud_B02'])) if np.any(validation_indices==i)==False]       \n",
    "\n",
    "        model.fit(X_train.to_numpy(),y_train.to_numpy(), \n",
    "            train_indices, \n",
    "            validation_indices, \n",
    "            batch_size=batch_size,\n",
    "            nepochs=nepochs,\n",
    "            sequence=sequence(),\n",
    "            lr=lr,\n",
    "            noise_ratio=noise_ratio,\n",
    "            early_break=early_break)\n",
    "        \n",
    "        filepath=main_filepath+'/'+str(lr)+'/model'+str(i)\n",
    "        os.makedirs(filepath,exist_ok=True)\n",
    "        torch.save(model,filepath+'/model_file')\n",
    "\n",
    "        preds = model.predict(X_test.to_numpy())\n",
    "        if i==0:\n",
    "            preds_total=preds\n",
    "        else:\n",
    "            preds_total=preds_total+preds\n",
    "\n",
    "        mse=mean_squared_error(y_test.to_numpy(),preds[:,:,est])\n",
    "        psnr=QuantileNetwork.PSNR(y_test,preds[:,:,est])\n",
    "        r2=r2_score(y_test.to_numpy(),preds[:,:,est])\n",
    "        mean_quantile=QuantileNetwork.mean_marginal_loss(y_test.to_numpy(),preds,quantiles)\n",
    "        quant_rate=QuantileNetwork.quant_rate(y_test.to_numpy(),preds)\n",
    "\n",
    "        tmp_metrics=pd.DataFrame(data=[[False,i,lr,mse,psnr,r2,mean_quantile,quant_rate,quantiles]],columns=['Ensemble_mean','Ensemble_index',looped_metric,'MSE','PSNR','R2_score','Mean_Quantile_Loss','Quant_Rate','Quantiles'])\n",
    "        model_metrics=pd.concat([model_metrics,tmp_metrics])\n",
    "    \n",
    "    preds_total=preds_total/num_models\n",
    "\n",
    "    mse=mean_squared_error(y_test.to_numpy(),preds_total[:,:,est])\n",
    "    psnr=QuantileNetwork.PSNR(y_test,preds_total[:,:,est])\n",
    "    r2=r2_score(y_test.to_numpy(),preds_total[:,:,est])\n",
    "    mean_quantile=QuantileNetwork.mean_marginal_loss(y_test.to_numpy(),preds_total,quantiles)\n",
    "    quant_rate=QuantileNetwork.quant_rate(y_test.to_numpy(),preds_total)\n",
    "\n",
    "    tmp_metrics=pd.DataFrame(data=[[True,np.nan,lr,mse,psnr,r2,mean_quantile,quant_rate,quantiles]],columns=['Ensemble_mean','Ensemble_index',looped_metric,'MSE','PSNR','R2_score','Mean_Quantile_Loss','Quant_Rate','Quantiles'])\n",
    "    model_metrics=pd.concat([model_metrics,tmp_metrics])\n",
    "\n",
    "\n",
    "X_test.to_csv(main_filepath+'/xtest.csv',index=False)\n",
    "y_test.to_csv(main_filepath+'/ytest.csv',index=False)\n",
    "\n",
    "model_metrics=model_metrics.reset_index(drop=True)\n",
    "model_metrics.to_csv(main_filepath+'/model_metrics.csv',index=False)"
   ]
  },
  {
   "cell_type": "code",
   "execution_count": null,
   "metadata": {},
   "outputs": [
    {
     "ename": "",
     "evalue": "",
     "output_type": "error",
     "traceback": [
      "\u001b[1;31mFailed to start the Kernel 'Python 3.10.12'. \n",
      "\u001b[1;31mView Jupyter <a href='command:jupyter.viewOutput'>log</a> for further details. ENOSPC: no space left on device, write"
     ]
    }
   ],
   "source": [
    "\n",
    "model_metrics\n"
   ]
  },
  {
   "cell_type": "code",
   "execution_count": null,
   "metadata": {},
   "outputs": [
    {
     "ename": "",
     "evalue": "",
     "output_type": "error",
     "traceback": [
      "\u001b[1;31mFailed to start the Kernel 'Python 3.10.12'. \n",
      "\u001b[1;31mView Jupyter <a href='command:jupyter.viewOutput'>log</a> for further details. ENOSPC: no space left on device, write"
     ]
    }
   ],
   "source": [
    "plt.figure()\n",
    "plt.plot(model.train_loss.cpu())\n",
    "plt.plot(model.val_loss.cpu())\n",
    "plt.show()"
   ]
  },
  {
   "cell_type": "code",
   "execution_count": null,
   "metadata": {},
   "outputs": [
    {
     "ename": "",
     "evalue": "",
     "output_type": "error",
     "traceback": [
      "\u001b[1;31mFailed to start the Kernel 'Python 3.10.12'. \n",
      "\u001b[1;31mView Jupyter <a href='command:jupyter.viewOutput'>log</a> for further details. ENOSPC: no space left on device, write"
     ]
    }
   ],
   "source": [
    "MSE_col = np.mean((preds_total[:,:,est]-y_test.to_numpy())**2,axis=0)\n",
    "x=np.arange(2,np.size(MSE_col)+2)\n",
    "plt.figure()\n",
    "plt.scatter(x,MSE_col)\n",
    "plt.title('MSE of each frequency band')\n",
    "plt.xlabel('Frequency band')\n",
    "plt.ylabel('MSE')\n",
    "plt.show()\n",
    "print(MSE_col[10])"
   ]
  },
  {
   "cell_type": "code",
   "execution_count": null,
   "metadata": {},
   "outputs": [
    {
     "ename": "",
     "evalue": "",
     "output_type": "error",
     "traceback": [
      "\u001b[1;31mFailed to start the Kernel 'Python 3.10.12'. \n",
      "\u001b[1;31mView Jupyter <a href='command:jupyter.viewOutput'>log</a> for further details. ENOSPC: no space left on device, write"
     ]
    }
   ],
   "source": [
    "error_percent = 100*np.divide(np.abs(preds_total[:,:,est]-y_test.to_numpy()),y_test.to_numpy())\n",
    "\n",
    "err_perc_col = np.mean(error_percent,axis=0)\n",
    "\n",
    "plt.figure()\n",
    "plt.scatter(x,err_perc_col)\n",
    "plt.title('MAE in percent of true value for each frequency band')\n",
    "plt.ylabel('MAE [%]')\n",
    "plt.xlabel('Frequency band')\n",
    "plt.show()\n",
    "print(err_perc_col[10])"
   ]
  },
  {
   "cell_type": "code",
   "execution_count": null,
   "metadata": {},
   "outputs": [
    {
     "ename": "",
     "evalue": "",
     "output_type": "error",
     "traceback": [
      "\u001b[1;31mFailed to start the Kernel 'Python 3.10.12'. \n",
      "\u001b[1;31mView Jupyter <a href='command:jupyter.viewOutput'>log</a> for further details. ENOSPC: no space left on device, write"
     ]
    }
   ],
   "source": [
    "#Find COTs of all test points\n",
    "testindices=y_test.index\n",
    "COTs=np.array(df_truth['COT'].iloc[testindices])\n",
    "\n",
    "#find sorted numpy indices and sort COT array\n",
    "COTidx=np.argsort(COTs)\n",
    "COT_sorted = COTs[COTidx]\n",
    "\n",
    "#sort numpy test and preds by COT\n",
    "y_test_np_sort=np.array(y_test)[COTidx,:]\n",
    "y_pred_sort=preds_total[COTidx,:,:]\n",
    "\n",
    "#Find errors and uncs for band 11\n",
    "all_bands=False\n",
    "if all_bands:\n",
    "    errors = np.mean(np.abs(y_test_np_sort[:,:]-y_pred_sort[:,:,est]),axis=1)\n",
    "    uncs = np.mean(y_pred_sort[:,:,2]-y_pred_sort[:,:,0],axis=1)\n",
    "else:\n",
    "    band = 10\n",
    "    errors = np.abs(y_test_np_sort[:,band]-y_pred_sort[:,band,est])\n",
    "    uncs = y_pred_sort[:,band,2]-y_pred_sort[:,band,0]\n",
    "\n",
    "#sort errors and uncs into bins based on COT\n",
    "COTedges=np.linspace(0,50,51)\n",
    "err_bins = np.zeros(len(COTedges)-1)\n",
    "unc_bins = np.zeros(len(COTedges)-1)\n",
    "bin_freq = np.zeros(len(COTedges)-1)\n",
    "\n",
    "for i in range(len(COT_sorted)):\n",
    "    for j in range(len(COTedges)-1):   \n",
    "        if COT_sorted[i] > COTedges[j] and COT_sorted[i] < COTedges[j+1]:\n",
    "            err_bins[j] = err_bins[j] + errors[i]\n",
    "            unc_bins[j] = unc_bins[j] + uncs[i]\n",
    "            bin_freq[j] = bin_freq[j] + 1\n",
    "            break\n",
    "\n",
    "#Find mean errs and uncs in each bin\n",
    "err_mean_bins = err_bins/bin_freq\n",
    "unc_mean_bins = unc_bins/bin_freq\n",
    "\n",
    "x=COTedges[:-1]+0.5\n",
    "plt.figure()\n",
    "plt.plot(x,err_mean_bins)\n",
    "plt.plot(x,unc_mean_bins)\n",
    "plt.title('MAE and estimated uncertainty over COT values')\n",
    "plt.legend(['Mean absolute error for each COT','Mean uncertainty for each COT (quant 0.9-0.1)'])\n",
    "plt.xlabel('COT')\n",
    "plt.ylabel('Mean error/uncertainty')\n",
    "plt.show()\n",
    "\n"
   ]
  },
  {
   "cell_type": "code",
   "execution_count": null,
   "metadata": {},
   "outputs": [
    {
     "ename": "",
     "evalue": "",
     "output_type": "error",
     "traceback": [
      "\u001b[1;31mFailed to start the Kernel 'Python 3.10.12'. \n",
      "\u001b[1;31mView Jupyter <a href='command:jupyter.viewOutput'>log</a> for further details. ENOSPC: no space left on device, write"
     ]
    }
   ],
   "source": [
    "plt.figure()\n",
    "plt.plot(x,bin_freq)\n",
    "plt.legend('Distribution of COT')\n",
    "plt.ylabel('No of points in each bin')\n",
    "plt.xlabel('COT')\n",
    "plt.show()"
   ]
  },
  {
   "cell_type": "code",
   "execution_count": null,
   "metadata": {},
   "outputs": [
    {
     "ename": "",
     "evalue": "",
     "output_type": "error",
     "traceback": [
      "\u001b[1;31mFailed to start the Kernel 'Python 3.10.12'. \n",
      "\u001b[1;31mView Jupyter <a href='command:jupyter.viewOutput'>log</a> for further details. ENOSPC: no space left on device, write"
     ]
    }
   ],
   "source": [
    "psnr_11=QuantileNetwork.PSNR(y_test.to_numpy()[:,10],preds_total[:,10,est])\n",
    "r2_11=r2_score(y_test.to_numpy()[:,10],preds_total[:,10,est])\n",
    "mean_quantile=QuantileNetwork.mean_marginal_loss(y_test.to_numpy()[:,10],preds_total[:,10,:],quantiles)\n",
    "quant_rate_11=QuantileNetwork.quant_rate(y_test.to_numpy()[:,10],preds_total[:,10,:])\n",
    "\n",
    "print('PSNR for B11: '+str(psnr_11))\n",
    "print('R2 for B11: '+str(r2_11))\n",
    "print('MQL for B11: '+str(mean_quantile))\n",
    "print('quant rate for B11: '+str(quant_rate_11))\n"
   ]
  },
  {
   "cell_type": "code",
   "execution_count": null,
   "metadata": {},
   "outputs": [
    {
     "ename": "",
     "evalue": "",
     "output_type": "error",
     "traceback": [
      "\u001b[1;31mFailed to start the Kernel 'Python 3.10.12'. \n",
      "\u001b[1;31mView Jupyter <a href='command:jupyter.viewOutput'>log</a> for further details. ENOSPC: no space left on device, write"
     ]
    }
   ],
   "source": []
  }
 ],
 "metadata": {
  "kernelspec": {
   "display_name": "Python 3",
   "language": "python",
   "name": "python3"
  },
  "language_info": {
   "codemirror_mode": {
    "name": "ipython",
    "version": 3
   },
   "file_extension": ".py",
   "mimetype": "text/x-python",
   "name": "python",
   "nbconvert_exporter": "python",
   "pygments_lexer": "ipython3",
   "version": "3.10.12"
  }
 },
 "nbformat": 4,
 "nbformat_minor": 2
}
