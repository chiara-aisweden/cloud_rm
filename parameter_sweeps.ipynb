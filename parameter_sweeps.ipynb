{
 "cells": [
  {
   "cell_type": "code",
   "execution_count": 1,
   "metadata": {},
   "outputs": [
    {
     "name": "stderr",
     "output_type": "stream",
     "text": [
      "/tmp/ipykernel_4441/3911021086.py:2: DeprecationWarning: \n",
      "Pyarrow will become a required dependency of pandas in the next major release of pandas (pandas 3.0),\n",
      "(to allow more performant data types, such as the Arrow string type, and better interoperability with other libraries)\n",
      "but was not found to be installed on your system.\n",
      "If this would cause problems for you,\n",
      "please provide us feedback at https://github.com/pandas-dev/pandas/issues/54466\n",
      "        \n",
      "  import pandas as pd\n",
      "2024-03-11 12:52:18.578542: I tensorflow/core/util/port.cc:113] oneDNN custom operations are on. You may see slightly different numerical results due to floating-point round-off errors from different computation orders. To turn them off, set the environment variable `TF_ENABLE_ONEDNN_OPTS=0`.\n",
      "2024-03-11 12:52:18.612258: E external/local_xla/xla/stream_executor/cuda/cuda_dnn.cc:9261] Unable to register cuDNN factory: Attempting to register factory for plugin cuDNN when one has already been registered\n",
      "2024-03-11 12:52:18.612280: E external/local_xla/xla/stream_executor/cuda/cuda_fft.cc:607] Unable to register cuFFT factory: Attempting to register factory for plugin cuFFT when one has already been registered\n",
      "2024-03-11 12:52:18.613247: E external/local_xla/xla/stream_executor/cuda/cuda_blas.cc:1515] Unable to register cuBLAS factory: Attempting to register factory for plugin cuBLAS when one has already been registered\n",
      "2024-03-11 12:52:18.619243: I tensorflow/core/platform/cpu_feature_guard.cc:182] This TensorFlow binary is optimized to use available CPU instructions in performance-critical operations.\n",
      "To enable the following instructions: AVX2 AVX512F AVX512_VNNI FMA, in other operations, rebuild TensorFlow with the appropriate compiler flags.\n",
      "2024-03-11 12:52:19.279629: W tensorflow/compiler/tf2tensorrt/utils/py_utils.cc:38] TF-TRT Warning: Could not find TensorRT\n"
     ]
    }
   ],
   "source": [
    "import numpy as np\n",
    "import pandas as pd\n",
    "import matplotlib.pyplot as plt\n",
    "import sys\n",
    "\n",
    "\n",
    "import functions.parse_data as parse\n",
    "import functions.handy_functions as hf\n",
    "import torch.nn as nn\n",
    "import torch\n",
    "\n",
    "from multivariate_quantile_regression.network_model import QuantileNetwork\n",
    "\n",
    "from sklearn.metrics import mean_squared_error\n",
    "from sklearn.metrics import r2_score\n",
    "from sklearn.model_selection import train_test_split\n",
    "\n",
    "from tqdm import tqdm\n",
    "\n",
    "import os\n",
    "import random"
   ]
  },
  {
   "cell_type": "code",
   "execution_count": 2,
   "metadata": {},
   "outputs": [
    {
     "name": "stdout",
     "output_type": "stream",
     "text": [
      "CUDA is available. Using GPU.\n",
      "Tensor is on device: cuda:0\n"
     ]
    }
   ],
   "source": [
    "# Check if CUDA (GPU support) is available\n",
    "if torch.cuda.is_available():\n",
    "    # CUDA is available, so let's set default device to GPU\n",
    "    torch.set_default_device(0)\n",
    "    print(\"CUDA is available. Using GPU.\")\n",
    "else:\n",
    "    # CUDA is not available, so let's use the CPU\n",
    "    print(\"CUDA is not available. Using CPU.\")\n",
    "\n",
    "# Example usage:\n",
    "tensor = torch.randn(3, 3)  # Create a tensor on the selected device\n",
    "print(\"Tensor is on device:\", tensor.device)"
   ]
  },
  {
   "cell_type": "code",
   "execution_count": 3,
   "metadata": {},
   "outputs": [],
   "source": [
    "data_water=parse.parse('SMHIdata/cloudrm_water.dat')\n",
    "data_water2=parse.parse('SMHIdata/cloudrm2_water.dat')\n",
    "data_clear=parse.parse('SMHIdata/cloudrm2_clear.dat')\n",
    "data_ice=parse.parse('SMHIdata/cloudrm_ice.dat')\n",
    "data_ice2=parse.parse('SMHIdata/cloudrm2_ice.dat')\n",
    "data_mixed=parse.parse('SMHIdata/cloudrm_mixed.dat')\n",
    "data_mixed2=parse.parse('SMHIdata/cloudrm2_mixed.dat')\n",
    "\n",
    "#Concatinate all datasets\n",
    "data_all=pd.concat([data_water2, data_clear, data_ice2, data_mixed2])\n",
    "data_all=data_all.drop(columns=['Surface_Desc','Cloud_B01','Clear_B01'])\n",
    "df_truth=data_all.copy()\n",
    "df_truth=df_truth.reset_index(drop=True)\n"
   ]
  },
  {
   "cell_type": "code",
   "execution_count": null,
   "metadata": {},
   "outputs": [],
   "source": []
  },
  {
   "cell_type": "code",
   "execution_count": 4,
   "metadata": {},
   "outputs": [],
   "source": [
    "##Train test validation split##\n",
    "X_labels= ['Cloud_B02','Cloud_B03','Cloud_B04','Cloud_B05','Cloud_B06',\n",
    "           'Cloud_B07','Cloud_B08','Cloud_B08A','Cloud_B09','Cloud_B10','Cloud_B11','Cloud_B12']\n",
    "\n",
    "y_labels=['Clear_B02','Clear_B03','Clear_B04','Clear_B05','Clear_B06',\n",
    "           'Clear_B07','Clear_B08','Clear_B08A','Clear_B09','Clear_B10','Clear_B11','Clear_B12']\n",
    "\n",
    "\n",
    "##Split data##\n",
    "X=df_truth[X_labels]\n",
    "y=df_truth[y_labels]\n",
    "\n",
    "X_train, X_test, y_train, y_test=train_test_split(X,y,test_size=0.1,random_state=313)\n",
    "\n",
    "np.random.seed(313)\n",
    "X_test = X_test + np.random.randn(np.shape(X_test)[0],np.shape(X_test)[1]) * np.mean(X.to_numpy(),axis=0)*0.03"
   ]
  },
  {
   "cell_type": "code",
   "execution_count": 5,
   "metadata": {},
   "outputs": [],
   "source": [
    "quantiles=np.array([0.1,0.5,0.9])\n",
    "no_nodes=100\n",
    "est= np.where(quantiles==0.5)[0].item()\n",
    "\n",
    "sequence= lambda: nn.Sequential(\n",
    "    nn.Linear(len(X_labels),no_nodes),\n",
    "    nn.ReLU(),\n",
    "    nn.Linear(no_nodes,no_nodes),\n",
    "    nn.ReLU(),\n",
    "    nn.Linear(no_nodes,no_nodes),\n",
    "    nn.ReLU(),\n",
    "    nn.Linear(no_nodes,no_nodes),\n",
    "    nn.ReLU(),\n",
    "    nn.Linear(no_nodes,no_nodes),\n",
    "    nn.ReLU(),\n",
    "    nn.Linear(no_nodes,no_nodes),\n",
    "    nn.ReLU(),\n",
    "    nn.Linear(no_nodes, len(quantiles)*len(y_labels)) #Output dimesion is number of quantiles times number of target variables\n",
    ")"
   ]
  },
  {
   "cell_type": "code",
   "execution_count": 6,
   "metadata": {},
   "outputs": [
    {
     "name": "stdout",
     "output_type": "stream",
     "text": [
      "Epoch 221\n"
     ]
    },
    {
     "name": "stderr",
     "output_type": "stream",
     "text": [
      "Batch number: 100%|██████████| 320/320 [00:00<00:00, 370.05it/s]"
     ]
    },
    {
     "name": "stdout",
     "output_type": "stream",
     "text": [
      "Training loss [2.3571298] Validation loss [2.376847]\n",
      "Epoch 222\n"
     ]
    },
    {
     "name": "stderr",
     "output_type": "stream",
     "text": [
      "\n",
      "Batch number: 100%|██████████| 320/320 [00:00<00:00, 326.90it/s]"
     ]
    },
    {
     "name": "stdout",
     "output_type": "stream",
     "text": [
      "Training loss [2.3528373] Validation loss [2.4185102]\n"
     ]
    },
    {
     "name": "stderr",
     "output_type": "stream",
     "text": [
      "\n"
     ]
    },
    {
     "name": "stdout",
     "output_type": "stream",
     "text": [
      "---No improvement in 100 epochs, broke early---\n",
      "Best model out of total max epochs found at epoch 122\n",
      "With validation loss: 2.3712782859802246\n"
     ]
    }
   ],
   "source": [
    "val_size=0.1\n",
    "batch_size=500 \n",
    "\n",
    "lr_s=[0.003]\n",
    "\n",
    "num_models=5 #Set number of ensambles\n",
    "batch_size=500\n",
    "nepochs=1000\n",
    "lr=0.003\n",
    "noise_ratio = 0.03\n",
    "early_break=True\n",
    "\n",
    "looped_metric=\"Loop_learning_rate\"\n",
    "main_filepath='pytorch_models/'+looped_metric\n",
    "\n",
    "model_metrics=pd.DataFrame(columns=['Ensemble_mean','Ensemble_index',looped_metric,'MSE','PSNR','R2_score','Mean_Quantile_Loss','Quant_Rate','Quantiles'])\n",
    "for lr in lr_s:\n",
    "\n",
    "    \n",
    "    models=[QuantileNetwork(quantiles=quantiles) for _ in range(num_models)]\n",
    "    preds_total=[]\n",
    "    for i,model in enumerate(models): \n",
    "\n",
    "        validation_indices=np.array(random.sample(range(len(X_train['Cloud_B02'])), int(len(X['Cloud_B02'])*val_size)))\n",
    "        train_indices=[i for i in range(len(X_train['Cloud_B02'])) if np.any(validation_indices==i)==False]       \n",
    "\n",
    "        model.fit(X_train.to_numpy(),y_train.to_numpy(), \n",
    "            train_indices, \n",
    "            validation_indices, \n",
    "            batch_size=batch_size,\n",
    "            nepochs=nepochs,\n",
    "            sequence=sequence(),\n",
    "            lr=lr,\n",
    "            noise_ratio=noise_ratio,\n",
    "            early_break=early_break)\n",
    "        \n",
    "        filepath=main_filepath+'/'+str(lr)+'/model'+str(i)\n",
    "        os.makedirs(filepath,exist_ok=True)\n",
    "        torch.save(model,filepath+'/model_file')\n",
    "\n",
    "        preds = model.predict(X_test.to_numpy())\n",
    "        if i==0:\n",
    "            preds_total=preds\n",
    "        else:\n",
    "            preds_total=preds_total+preds\n",
    "\n",
    "        mse=mean_squared_error(y_test.to_numpy(),preds[:,:,est])\n",
    "        psnr=QuantileNetwork.PSNR(y_test,preds[:,:,est])\n",
    "        r2=r2_score(y_test.to_numpy(),preds[:,:,est])\n",
    "        mean_quantile=QuantileNetwork.mean_marginal_loss(y_test.to_numpy(),preds,quantiles)\n",
    "        quant_rate=QuantileNetwork.quant_rate(y_test.to_numpy(),preds)\n",
    "\n",
    "        tmp_metrics=pd.DataFrame(data=[[False,i,lr,mse,psnr,r2,mean_quantile,quant_rate,quantiles]],columns=['Ensemble_mean','Ensemble_index',looped_metric,'MSE','PSNR','R2_score','Mean_Quantile_Loss','Quant_Rate','Quantiles'])\n",
    "        model_metrics=pd.concat([model_metrics,tmp_metrics])\n",
    "    \n",
    "    preds_total=preds_total/num_models\n",
    "\n",
    "    mse=mean_squared_error(y_test.to_numpy(),preds_total[:,:,est])\n",
    "    psnr=QuantileNetwork.PSNR(y_test,preds_total[:,:,est])\n",
    "    r2=r2_score(y_test.to_numpy(),preds_total[:,:,est])\n",
    "    mean_quantile=QuantileNetwork.mean_marginal_loss(y_test.to_numpy(),preds_total,quantiles)\n",
    "    quant_rate=QuantileNetwork.quant_rate(y_test.to_numpy(),preds_total)\n",
    "\n",
    "    tmp_metrics=pd.DataFrame(data=[[True,np.nan,lr,mse,psnr,r2,mean_quantile,quant_rate,quantiles]],columns=['Ensemble_mean','Ensemble_index',looped_metric,'MSE','PSNR','R2_score','Mean_Quantile_Loss','Quant_Rate','Quantiles'])\n",
    "    model_metrics=pd.concat([model_metrics,tmp_metrics])\n",
    "\n",
    "\n",
    "X_test.to_csv(main_filepath+'/xtest.csv',index=False)\n",
    "y_test.to_csv(main_filepath+'/ytest.csv',index=False)\n",
    "\n",
    "model_metrics=model_metrics.reset_index(drop=True)\n",
    "model_metrics.to_csv(main_filepath+'/model_metrics.csv',index=False)"
   ]
  },
  {
   "cell_type": "code",
   "execution_count": 7,
   "metadata": {},
   "outputs": [
    {
     "data": {
      "text/html": [
       "<div>\n",
       "<style scoped>\n",
       "    .dataframe tbody tr th:only-of-type {\n",
       "        vertical-align: middle;\n",
       "    }\n",
       "\n",
       "    .dataframe tbody tr th {\n",
       "        vertical-align: top;\n",
       "    }\n",
       "\n",
       "    .dataframe thead th {\n",
       "        text-align: right;\n",
       "    }\n",
       "</style>\n",
       "<table border=\"1\" class=\"dataframe\">\n",
       "  <thead>\n",
       "    <tr style=\"text-align: right;\">\n",
       "      <th></th>\n",
       "      <th>Ensemble_mean</th>\n",
       "      <th>Ensemble_index</th>\n",
       "      <th>Loop_learning_rate</th>\n",
       "      <th>MSE</th>\n",
       "      <th>PSNR</th>\n",
       "      <th>R2_score</th>\n",
       "      <th>Mean_Quantile_Loss</th>\n",
       "      <th>Quant_Rate</th>\n",
       "      <th>Quantiles</th>\n",
       "    </tr>\n",
       "  </thead>\n",
       "  <tbody>\n",
       "    <tr>\n",
       "      <th>0</th>\n",
       "      <td>False</td>\n",
       "      <td>0</td>\n",
       "      <td>0.003</td>\n",
       "      <td>0.008005</td>\n",
       "      <td>20.995343</td>\n",
       "      <td>0.814867</td>\n",
       "      <td>0.481541</td>\n",
       "      <td>[0.10739583333333333, 0.49821666666666664, 0.8...</td>\n",
       "      <td>[0.1, 0.5, 0.9]</td>\n",
       "    </tr>\n",
       "    <tr>\n",
       "      <th>1</th>\n",
       "      <td>False</td>\n",
       "      <td>1</td>\n",
       "      <td>0.003</td>\n",
       "      <td>0.008049</td>\n",
       "      <td>20.971414</td>\n",
       "      <td>0.814168</td>\n",
       "      <td>0.483450</td>\n",
       "      <td>[0.08197083333333334, 0.45245833333333335, 0.8...</td>\n",
       "      <td>[0.1, 0.5, 0.9]</td>\n",
       "    </tr>\n",
       "    <tr>\n",
       "      <th>2</th>\n",
       "      <td>False</td>\n",
       "      <td>2</td>\n",
       "      <td>0.003</td>\n",
       "      <td>0.008142</td>\n",
       "      <td>20.921129</td>\n",
       "      <td>0.810702</td>\n",
       "      <td>0.485019</td>\n",
       "      <td>[0.117625, 0.5491166666666667, 0.9112333333333...</td>\n",
       "      <td>[0.1, 0.5, 0.9]</td>\n",
       "    </tr>\n",
       "    <tr>\n",
       "      <th>3</th>\n",
       "      <td>False</td>\n",
       "      <td>3</td>\n",
       "      <td>0.003</td>\n",
       "      <td>0.008082</td>\n",
       "      <td>20.953743</td>\n",
       "      <td>0.813048</td>\n",
       "      <td>0.484600</td>\n",
       "      <td>[0.09406666666666667, 0.4941291666666667, 0.89...</td>\n",
       "      <td>[0.1, 0.5, 0.9]</td>\n",
       "    </tr>\n",
       "    <tr>\n",
       "      <th>4</th>\n",
       "      <td>False</td>\n",
       "      <td>4</td>\n",
       "      <td>0.003</td>\n",
       "      <td>0.008218</td>\n",
       "      <td>20.880788</td>\n",
       "      <td>0.809164</td>\n",
       "      <td>0.491486</td>\n",
       "      <td>[0.09271666666666667, 0.47733333333333333, 0.8...</td>\n",
       "      <td>[0.1, 0.5, 0.9]</td>\n",
       "    </tr>\n",
       "    <tr>\n",
       "      <th>5</th>\n",
       "      <td>True</td>\n",
       "      <td>NaN</td>\n",
       "      <td>0.003</td>\n",
       "      <td>0.007650</td>\n",
       "      <td>21.191976</td>\n",
       "      <td>0.822905</td>\n",
       "      <td>0.465884</td>\n",
       "      <td>[0.0764125, 0.4914875, 0.9192958333333333]</td>\n",
       "      <td>[0.1, 0.5, 0.9]</td>\n",
       "    </tr>\n",
       "  </tbody>\n",
       "</table>\n",
       "</div>"
      ],
      "text/plain": [
       "  Ensemble_mean Ensemble_index  Loop_learning_rate       MSE       PSNR  \\\n",
       "0         False              0               0.003  0.008005  20.995343   \n",
       "1         False              1               0.003  0.008049  20.971414   \n",
       "2         False              2               0.003  0.008142  20.921129   \n",
       "3         False              3               0.003  0.008082  20.953743   \n",
       "4         False              4               0.003  0.008218  20.880788   \n",
       "5          True            NaN               0.003  0.007650  21.191976   \n",
       "\n",
       "   R2_score  Mean_Quantile_Loss  \\\n",
       "0  0.814867            0.481541   \n",
       "1  0.814168            0.483450   \n",
       "2  0.810702            0.485019   \n",
       "3  0.813048            0.484600   \n",
       "4  0.809164            0.491486   \n",
       "5  0.822905            0.465884   \n",
       "\n",
       "                                          Quant_Rate        Quantiles  \n",
       "0  [0.10739583333333333, 0.49821666666666664, 0.8...  [0.1, 0.5, 0.9]  \n",
       "1  [0.08197083333333334, 0.45245833333333335, 0.8...  [0.1, 0.5, 0.9]  \n",
       "2  [0.117625, 0.5491166666666667, 0.9112333333333...  [0.1, 0.5, 0.9]  \n",
       "3  [0.09406666666666667, 0.4941291666666667, 0.89...  [0.1, 0.5, 0.9]  \n",
       "4  [0.09271666666666667, 0.47733333333333333, 0.8...  [0.1, 0.5, 0.9]  \n",
       "5         [0.0764125, 0.4914875, 0.9192958333333333]  [0.1, 0.5, 0.9]  "
      ]
     },
     "execution_count": 7,
     "metadata": {},
     "output_type": "execute_result"
    }
   ],
   "source": [
    "\n",
    "model_metrics\n"
   ]
  },
  {
   "cell_type": "code",
   "execution_count": 8,
   "metadata": {},
   "outputs": [
    {
     "data": {
      "image/png": "[encoded data removed]",
      "text/plain": [
       "<Figure size 640x480 with 1 Axes>"
      ]
     },
     "metadata": {},
     "output_type": "display_data"
    }
   ],
   "source": [
    "plt.figure()\n",
    "plt.plot(model.train_loss.cpu())\n",
    "plt.plot(model.val_loss.cpu())\n",
    "plt.show()"
   ]
  },
  {
   "cell_type": "code",
   "execution_count": 9,
   "metadata": {},
   "outputs": [
    {
     "data": {
      "image/png": "[encoded data removed]",
      "text/plain": [
       "<Figure size 640x480 with 1 Axes>"
      ]
     },
     "metadata": {},
     "output_type": "display_data"
    },
    {
     "name": "stdout",
     "output_type": "stream",
     "text": [
      "0.02193592997684702\n"
     ]
    }
   ],
   "source": [
    "MSE_col = np.mean((preds_total[:,:,est]-y_test.to_numpy())**2,axis=0)\n",
    "x=np.arange(2,np.size(MSE_col)+2)\n",
    "plt.figure()\n",
    "plt.scatter(x,MSE_col)\n",
    "plt.title('MSE of each frequency band')\n",
    "plt.xlabel('Frequency band')\n",
    "plt.ylabel('MSE')\n",
    "plt.show()\n",
    "print(MSE_col[10])"
   ]
  },
  {
   "cell_type": "code",
   "execution_count": 10,
   "metadata": {},
   "outputs": [
    {
     "data": {
      "image/png": "[encoded data removed]",
      "text/plain": [
       "<Figure size 640x480 with 1 Axes>"
      ]
     },
     "metadata": {},
     "output_type": "display_data"
    },
    {
     "name": "stdout",
     "output_type": "stream",
     "text": [
      "30.676859131153584\n"
     ]
    }
   ],
   "source": [
    "error_percent = 100*np.divide(np.abs(preds_total[:,:,est]-y_test.to_numpy()),y_test.to_numpy())\n",
    "\n",
    "err_perc_col = np.mean(error_percent,axis=0)\n",
    "\n",
    "plt.figure()\n",
    "plt.scatter(x,err_perc_col)\n",
    "plt.title('MAE in percent of true value for each frequency band')\n",
    "plt.ylabel('MAE [%]')\n",
    "plt.xlabel('Frequency band')\n",
    "plt.show()\n",
    "print(err_perc_col[10])"
   ]
  },
  {
   "cell_type": "code",
   "execution_count": 1,
   "metadata": {},
   "outputs": [
    {
     "ename": "NameError",
     "evalue": "name 'y_test' is not defined",
     "output_type": "error",
     "traceback": [
      "\u001b[0;31m---------------------------------------------------------------------------\u001b[0m",
      "\u001b[0;31mNameError\u001b[0m                                 Traceback (most recent call last)",
      "Cell \u001b[0;32mIn[1], line 2\u001b[0m\n\u001b[1;32m      1\u001b[0m \u001b[38;5;66;03m#Find COTs of all test points\u001b[39;00m\n\u001b[0;32m----> 2\u001b[0m testindices\u001b[38;5;241m=\u001b[39m\u001b[43my_test\u001b[49m\u001b[38;5;241m.\u001b[39mindex\n\u001b[1;32m      3\u001b[0m COTs\u001b[38;5;241m=\u001b[39mnp\u001b[38;5;241m.\u001b[39marray(df_truth[\u001b[38;5;124m'\u001b[39m\u001b[38;5;124mCOT\u001b[39m\u001b[38;5;124m'\u001b[39m]\u001b[38;5;241m.\u001b[39miloc[testindices])\n\u001b[1;32m      5\u001b[0m \u001b[38;5;66;03m#find sorted numpy indices and sort COT array\u001b[39;00m\n",
      "\u001b[0;31mNameError\u001b[0m: name 'y_test' is not defined"
     ]
    }
   ],
   "source": [
    "#Find COTs of all test points\n",
    "testindices=y_test.index\n",
    "COTs=np.array(df_truth['COT'].iloc[testindices])\n",
    "\n",
    "#find sorted numpy indices and sort COT array\n",
    "COTidx=np.argsort(COTs)\n",
    "COT_sorted = COTs[COTidx]\n",
    "\n",
    "#sort numpy test and preds by COT\n",
    "y_test_np_sort=np.array(y_test)[COTidx,:]\n",
    "y_pred_sort=preds_total[COTidx,:,:]\n",
    "\n",
    "#Find errors and uncs for band 11\n",
    "all_bands=False\n",
    "if all_bands:\n",
    "    errors2 = np.mean((y_test_np_sort[:,:]-y_pred_sort[:,:,est])**2,axis=1)\n",
    "    uncs = np.mean(y_pred_sort[:,:,-1]-y_pred_sort[:,:,0],axis=1)\n",
    "else:\n",
    "    band = 10\n",
    "    errors2 = (y_test_np_sort[:,band]-y_pred_sort[:,band,est])**2\n",
    "    uncs = y_pred_sort[:,band,-1]-y_pred_sort[:,band,0]\n",
    "\n",
    "#sort errors and uncs into bins based on COT\n",
    "COTedges=np.linspace(0,50.5,102)\n",
    "err2_bins = np.zeros(len(COTedges)-1)\n",
    "unc_bins = np.zeros(len(COTedges)-1)\n",
    "bin_freq = np.zeros(len(COTedges)-1)\n",
    "\n",
    "for i in range(len(COT_sorted)):\n",
    "    for j in range(len(COTedges)-1):   \n",
    "        if COT_sorted[i] >= COTedges[j] and COT_sorted[i] < COTedges[j+1]:\n",
    "            err2_bins[j] = err2_bins[j] + errors2[i]\n",
    "            unc_bins[j] = unc_bins[j] + uncs[i]\n",
    "            bin_freq[j] = bin_freq[j] + 1\n",
    "            break\n",
    "\n",
    "#Find mean errs and uncs in each bin\n",
    "err2_mean_bins = err2_bins/bin_freq\n",
    "unc_mean_bins = unc_bins/bin_freq\n",
    "\n",
    "x=COTedges[:-1]+0.5\n",
    "MSEplot = mse*np.ones(len(x))\n",
    "plt.figure()\n",
    "plt.plot(x,err2_mean_bins)\n",
    "plt.plot(x,unc_mean_bins)\n",
    "plt.plot(x,MSEplot)\n",
    "plt.title('MSE and estimated uncertainty over COT values')\n",
    "plt.legend(['Mean squared error for each COT','Mean uncertainty for each COT (quant 0.9-0.1)','MSE over whole set'])\n",
    "plt.xlabel('COT')\n",
    "plt.ylabel('Mean squared error/uncertainty')\n",
    "plt.show()\n",
    "\n"
   ]
  },
  {
   "cell_type": "code",
   "execution_count": 12,
   "metadata": {},
   "outputs": [
    {
     "data": {
      "image/png": "[encoded data removed]",
      "text/plain": [
       "<Figure size 640x480 with 1 Axes>"
      ]
     },
     "metadata": {},
     "output_type": "display_data"
    }
   ],
   "source": [
    "plt.figure()\n",
    "plt.plot(x,bin_freq)\n",
    "plt.title('Distribution of COT')\n",
    "plt.ylabel('No of points in each bin')\n",
    "plt.xlabel('COT')\n",
    "plt.show()"
   ]
  },
  {
   "cell_type": "code",
   "execution_count": 13,
   "metadata": {},
   "outputs": [
    {
     "name": "stdout",
     "output_type": "stream",
     "text": [
      "PSNR for B11: 16.49040679983923\n",
      "R2 for B11: 0.5653796540672891\n",
      "MQL for B11: 0.0777514235804892\n",
      "quant rate for B11: [0.08695 0.4946  0.92555]\n"
     ]
    }
   ],
   "source": [
    "psnr_11=QuantileNetwork.PSNR(y_test.to_numpy()[:,10],preds_total[:,10,est])\n",
    "r2_11=r2_score(y_test.to_numpy()[:,10],preds_total[:,10,est])\n",
    "mean_quantile=QuantileNetwork.mean_marginal_loss(y_test.to_numpy()[:,10],preds_total[:,10,:],quantiles)\n",
    "quant_rate_11=QuantileNetwork.quant_rate(y_test.to_numpy()[:,10],preds_total[:,10,:])\n",
    "\n",
    "print('PSNR for B11: '+str(psnr_11))\n",
    "print('R2 for B11: '+str(r2_11))\n",
    "print('MQL for B11: '+str(mean_quantile))\n",
    "print('quant rate for B11: '+str(quant_rate_11))\n"
   ]
  },
  {
   "cell_type": "code",
   "execution_count": 14,
   "metadata": {},
   "outputs": [
    {
     "ename": "NameError",
     "evalue": "name 'err_bins' is not defined",
     "output_type": "error",
     "traceback": [
      "\u001b[0;31m---------------------------------------------------------------------------\u001b[0m",
      "\u001b[0;31mNameError\u001b[0m                                 Traceback (most recent call last)",
      "Cell \u001b[0;32mIn[14], line 1\u001b[0m\n\u001b[0;32m----> 1\u001b[0m np\u001b[38;5;241m.\u001b[39mmean(\u001b[43merr_bins\u001b[49m\u001b[38;5;241m/\u001b[39mbin_freq)\n",
      "\u001b[0;31mNameError\u001b[0m: name 'err_bins' is not defined"
     ]
    }
   ],
   "source": [
    "np.mean(err_bins/bin_freq)"
   ]
  },
  {
   "cell_type": "code",
   "execution_count": null,
   "metadata": {},
   "outputs": [
    {
     "name": "stdout",
     "output_type": "stream",
     "text": [
      "Clear_B02     0.18570\n",
      "Clear_B03     0.17800\n",
      "Clear_B04     0.27788\n",
      "Clear_B05     0.13659\n",
      "Clear_B06     0.33665\n",
      "Clear_B07     0.96122\n",
      "Clear_B08     0.84829\n",
      "Clear_B08A    0.99260\n",
      "Clear_B09     0.07497\n",
      "Clear_B10     0.00027\n",
      "Clear_B11     0.93285\n",
      "Clear_B12     0.69242\n",
      "Name: 117388, dtype: float64\n",
      "Clear_B02     0.18570\n",
      "Clear_B03     0.17800\n",
      "Clear_B04     0.27788\n",
      "Clear_B05     0.13659\n",
      "Clear_B06     0.33665\n",
      "Clear_B07     0.96122\n",
      "Clear_B08     0.84829\n",
      "Clear_B08A    0.99260\n",
      "Clear_B09     0.07497\n",
      "Clear_B10     0.00027\n",
      "Clear_B11     0.93285\n",
      "Clear_B12     0.69242\n",
      "Name: 117388, dtype: float64\n"
     ]
    }
   ],
   "source": [
    "testindices = y_test.index\n",
    "p1=testindices[0]\n",
    "print(y_test.iloc[0])\n",
    "print(df_truth[y_labels].loc[p1])\n"
   ]
  },
  {
   "cell_type": "code",
   "execution_count": null,
   "metadata": {},
   "outputs": [],
   "source": []
  },
  {
   "cell_type": "code",
   "execution_count": null,
   "metadata": {},
   "outputs": [],
   "source": []
  }
 ],
 "metadata": {
  "kernelspec": {
   "display_name": "Python 3",
   "language": "python",
   "name": "python3"
  },
  "language_info": {
   "codemirror_mode": {
    "name": "ipython",
    "version": 3
   },
   "file_extension": ".py",
   "mimetype": "text/x-python",
   "name": "python",
   "nbconvert_exporter": "python",
   "pygments_lexer": "ipython3",
   "version": "3.10.12"
  }
 },
 "nbformat": 4,
 "nbformat_minor": 2
}
