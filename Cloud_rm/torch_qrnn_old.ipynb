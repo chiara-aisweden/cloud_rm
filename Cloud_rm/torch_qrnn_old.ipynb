{
 "cells": [
  {
   "cell_type": "code",
   "execution_count": 4,
   "metadata": {},
   "outputs": [],
   "source": [
    "import numpy as np\n",
    "import pandas as pd\n",
    "import matplotlib.pyplot as plt\n",
    "import sys\n",
    "\n",
    "\n",
    "import functions.parse_data as parse\n",
    "import functions.handy_functions as hf\n",
    "\n",
    "from py_torch_qrnn_adapt.neural_model import QuantileNetwork\n",
    "from py_torch_qrnn_adapt.funcs import Sanity, Scenario1, Scenario2, Scenario3, Scenario4, Scenario5,\\\n",
    "                  MultivariateScenario1, MultivariateScenario2\n",
    "\n",
    "from sklearn.metrics import mean_squared_error"
   ]
  },
  {
   "cell_type": "code",
   "execution_count": 5,
   "metadata": {},
   "outputs": [],
   "source": [
    "channel_labels= ['Cloud_B02','Cloud_B03','Cloud_B04','Cloud_B05','Cloud_B06','Cloud_B07',\n",
    "                 'Cloud_B08','Cloud_B09','Cloud_B10','Cloud_B11','Cloud_B12','Cloud_B13']\n",
    "\n",
    "data_water=parse.parse('cloudrm_water.dat')\n",
    "data_clear=parse.parse('cloudrm_clear.dat')\n",
    "data_ice=parse.parse('cloudrm_ice.dat')\n",
    "data_mixed=parse.parse('cloudrm_mixed.dat')\n",
    "\n",
    "#Concatinate all datasets\n",
    "data_all=pd.concat([data_water, data_clear, data_ice, data_mixed])"
   ]
  },
  {
   "cell_type": "code",
   "execution_count": 6,
   "metadata": {},
   "outputs": [
    {
     "data": {
      "text/plain": [
       "Index([    0,     1,     2,     3,     4,     5,     6,     7,     8,     9,\n",
       "       ...\n",
       "       49990, 49991, 49992, 49993, 49994, 49995, 49996, 49997, 49998, 49999],\n",
       "      dtype='int64', length=200000)"
      ]
     },
     "execution_count": 6,
     "metadata": {},
     "output_type": "execute_result"
    }
   ],
   "source": [
    "data_all.index"
   ]
  },
  {
   "cell_type": "code",
   "execution_count": 7,
   "metadata": {},
   "outputs": [
    {
     "data": {
      "text/plain": [
       "Profile_ID\n",
       "6399    40\n",
       "1489    38\n",
       "9396    38\n",
       "2979    38\n",
       "428     37\n",
       "        ..\n",
       "4904     4\n",
       "4834     4\n",
       "4651     4\n",
       "1808     4\n",
       "4756     3\n",
       "Name: count, Length: 10000, dtype: int64"
      ]
     },
     "execution_count": 7,
     "metadata": {},
     "output_type": "execute_result"
    }
   ],
   "source": [
    "data_all.Profile_ID.value_counts()"
   ]
  },
  {
   "cell_type": "code",
   "execution_count": 8,
   "metadata": {},
   "outputs": [
    {
     "name": "stdout",
     "output_type": "stream",
     "text": [
      "Noise standard deviation for Cloud_B02: 0.00335001428051948\n",
      "Noise standard deviation for Cloud_B03: 0.002912530185416667\n",
      "Noise standard deviation for Cloud_B04: 0.004058081082042254\n",
      "Noise standard deviation for Cloud_B05: 0.0046524891611111115\n",
      "Noise standard deviation for Cloud_B06: 0.007455351321348316\n",
      "Noise standard deviation for Cloud_B07: 0.008871707484285717\n",
      "Noise standard deviation for Cloud_B08: 0.04489677938000001\n",
      "Noise standard deviation for Cloud_B09: 0.005688141120114942\n",
      "Noise standard deviation for Cloud_B10: 0.003909328971491229\n",
      "Noise standard deviation for Cloud_B11: 0.0014014724139999996\n",
      "Noise standard deviation for Cloud_B12: 0.005030040539999999\n",
      "Noise standard deviation for Cloud_B13: 0.004041267081999999\n"
     ]
    }
   ],
   "source": [
    "channel_labels= ['Cloud_B02','Cloud_B03','Cloud_B04','Cloud_B05','Cloud_B06','Cloud_B07',\n",
    "                 'Cloud_B08','Cloud_B09','Cloud_B10','Cloud_B11','Cloud_B12','Cloud_B13']\n",
    "\n",
    "data_water=parse.parse('cloudrm_water.dat')\n",
    "data_clear=parse.parse('cloudrm_clear.dat')\n",
    "data_ice=parse.parse('cloudrm_ice.dat')\n",
    "data_mixed=parse.parse('cloudrm_mixed.dat')\n",
    "\n",
    "#Concatinate all datasets\n",
    "data_all=pd.concat([data_water, data_clear, data_ice, data_mixed])\n",
    "data_all=data_all.drop(columns=['Surface_Desc','Cloud_B01','Clear_B01'])\n",
    "data_all=hf.add_MSI_noise(data_all,channel_labels)"
   ]
  },
  {
   "cell_type": "code",
   "execution_count": 9,
   "metadata": {},
   "outputs": [],
   "source": [
    "##Train test validation split##\n",
    "X_labels= ['Cloud_B02','Cloud_B03','Cloud_B04','Cloud_B05','Cloud_B06',\n",
    "           'Cloud_B07','Cloud_B08','Cloud_B09','Cloud_B10','Cloud_B11','Cloud_B12','Cloud_B13',\n",
    "           'Sat_Zenith_Angle','Sun_Zenith_Angle','Azimuth_Diff_Angle']\n",
    "\n",
    "#Leave out 'GOT', 'Water_Vapor'\n",
    "#Band 1 no go.\n",
    "y_labels=['Clear_B02','Clear_B03','Clear_B04','Clear_B05','Clear_B06',\n",
    "           'Clear_B07','Clear_B08','Clear_B09','Clear_B10','Clear_B11','Clear_B12','Clear_B13']\n",
    "\n",
    "df=hf.normalise_input_df(data_all,X_labels)\n",
    "df=hf.add_noise(df,X_labels,sigma=0.001)\n",
    "num_epochs=2\n",
    "batch_size=100\n",
    "\n",
    "##Split data##\n",
    "X=df[X_labels]\n",
    "y=df[y_labels]\n",
    "\n",
    "X_train, y_train, X_val, y_val, X_test, y_test=hf.split_data(X,y,split=[0.9,0.05,0.05])"
   ]
  },
  {
   "cell_type": "code",
   "execution_count": 11,
   "metadata": {},
   "outputs": [
    {
     "name": "stdout",
     "output_type": "stream",
     "text": [
      "ymax and min: tensor(22.4337) tensor(-3.1218)\n",
      "Using marginal loss\n",
      "Epoch 1\n"
     ]
    },
    {
     "name": "stderr",
     "output_type": "stream",
     "text": [
      "Batch number: : 1620it [00:55, 29.12it/s] \n"
     ]
    },
    {
     "name": "stdout",
     "output_type": "stream",
     "text": [
      "\t\t\tValidation Batch 0\n",
      "\t\t\tValidation Batch 100\n",
      "\t\t\tSaving test set results.      <----- New high water mark on epoch 1\n",
      "Validation loss: 2.465773344039917 Best: 2.465773344039917\n",
      "Epoch 2\n"
     ]
    },
    {
     "name": "stderr",
     "output_type": "stream",
     "text": [
      "Batch number: : 1620it [00:05, 323.74it/s]\n"
     ]
    },
    {
     "name": "stdout",
     "output_type": "stream",
     "text": [
      "\t\t\tValidation Batch 0\n",
      "\t\t\tValidation Batch 100\n",
      "\t\t\tSaving test set results.      <----- New high water mark on epoch 2\n",
      "Validation loss: 2.0341954231262207 Best: 2.0341954231262207\n",
      "Epoch 3\n"
     ]
    },
    {
     "name": "stderr",
     "output_type": "stream",
     "text": [
      "Batch number: : 1620it [00:04, 368.23it/s]\n"
     ]
    },
    {
     "name": "stdout",
     "output_type": "stream",
     "text": [
      "\t\t\tValidation Batch 0\n",
      "\t\t\tValidation Batch 100\n",
      "\t\t\tSaving test set results.      <----- New high water mark on epoch 3\n",
      "Validation loss: 1.9302215576171875 Best: 1.9302215576171875\n",
      "Epoch 4\n"
     ]
    },
    {
     "name": "stderr",
     "output_type": "stream",
     "text": [
      "Batch number: : 1620it [00:04, 327.49it/s]\n"
     ]
    },
    {
     "name": "stdout",
     "output_type": "stream",
     "text": [
      "\t\t\tValidation Batch 0\n",
      "\t\t\tValidation Batch 100\n",
      "\t\t\tSaving test set results.      <----- New high water mark on epoch 4\n",
      "Validation loss: 1.7701960802078247 Best: 1.7701960802078247\n",
      "Epoch 5\n"
     ]
    },
    {
     "name": "stderr",
     "output_type": "stream",
     "text": [
      "Batch number: : 1620it [00:04, 354.25it/s]\n"
     ]
    },
    {
     "name": "stdout",
     "output_type": "stream",
     "text": [
      "\t\t\tValidation Batch 0\n",
      "\t\t\tValidation Batch 100\n",
      "\t\t\tSaving test set results.      <----- New high water mark on epoch 5\n",
      "Validation loss: 1.7258058786392212 Best: 1.7258058786392212\n",
      "Epoch 6\n"
     ]
    },
    {
     "name": "stderr",
     "output_type": "stream",
     "text": [
      "Batch number: : 1620it [00:04, 331.88it/s]\n"
     ]
    },
    {
     "name": "stdout",
     "output_type": "stream",
     "text": [
      "\t\t\tValidation Batch 0\n",
      "\t\t\tValidation Batch 100\n",
      "\t\t\tSaving test set results.      <----- New high water mark on epoch 6\n",
      "Validation loss: 1.668851375579834 Best: 1.668851375579834\n",
      "Epoch 7\n"
     ]
    },
    {
     "name": "stderr",
     "output_type": "stream",
     "text": [
      "Batch number: : 1620it [00:04, 333.19it/s]\n"
     ]
    },
    {
     "name": "stdout",
     "output_type": "stream",
     "text": [
      "\t\t\tValidation Batch 0\n",
      "\t\t\tValidation Batch 100\n",
      "\t\t\tSaving test set results.      <----- New high water mark on epoch 7\n",
      "Validation loss: 1.6056550741195679 Best: 1.6056550741195679\n",
      "Epoch 8\n"
     ]
    },
    {
     "name": "stderr",
     "output_type": "stream",
     "text": [
      "Batch number: : 1620it [00:04, 340.22it/s]\n"
     ]
    },
    {
     "name": "stdout",
     "output_type": "stream",
     "text": [
      "\t\t\tValidation Batch 0\n",
      "\t\t\tValidation Batch 100\n",
      "\t\t\tSaving test set results.      <----- New high water mark on epoch 8\n",
      "Validation loss: 1.586078405380249 Best: 1.586078405380249\n",
      "Epoch 9\n"
     ]
    },
    {
     "name": "stderr",
     "output_type": "stream",
     "text": [
      "Batch number: : 1620it [00:04, 337.27it/s]\n"
     ]
    },
    {
     "name": "stdout",
     "output_type": "stream",
     "text": [
      "\t\t\tValidation Batch 0\n",
      "\t\t\tValidation Batch 100\n",
      "\t\t\tSaving test set results.      <----- New high water mark on epoch 9\n",
      "Validation loss: 1.5626834630966187 Best: 1.5626834630966187\n",
      "Epoch 10\n"
     ]
    },
    {
     "name": "stderr",
     "output_type": "stream",
     "text": [
      "Batch number: : 1620it [00:05, 282.67it/s]\n"
     ]
    },
    {
     "name": "stdout",
     "output_type": "stream",
     "text": [
      "\t\t\tValidation Batch 0\n",
      "\t\t\tValidation Batch 100\n",
      "\t\t\tSaving test set results.      <----- New high water mark on epoch 10\n",
      "Validation loss: 1.5366313457489014 Best: 1.5366313457489014\n",
      "Epoch 11\n"
     ]
    },
    {
     "name": "stderr",
     "output_type": "stream",
     "text": [
      "Batch number: : 1620it [00:05, 321.02it/s]\n"
     ]
    },
    {
     "name": "stdout",
     "output_type": "stream",
     "text": [
      "\t\t\tValidation Batch 0\n",
      "\t\t\tValidation Batch 100\n",
      "\t\t\tSaving test set results.      <----- New high water mark on epoch 11\n",
      "Validation loss: 1.5037832260131836 Best: 1.5037832260131836\n",
      "Epoch 12\n"
     ]
    },
    {
     "name": "stderr",
     "output_type": "stream",
     "text": [
      "Batch number: : 1620it [00:04, 332.51it/s]\n"
     ]
    },
    {
     "name": "stdout",
     "output_type": "stream",
     "text": [
      "\t\t\tValidation Batch 0\n",
      "\t\t\tValidation Batch 100\n",
      "Validation loss: 1.5109028816223145 Best: 1.5037832260131836\n",
      "Epoch 13\n"
     ]
    },
    {
     "name": "stderr",
     "output_type": "stream",
     "text": [
      "Batch number: : 1620it [00:05, 305.03it/s]\n"
     ]
    },
    {
     "name": "stdout",
     "output_type": "stream",
     "text": [
      "\t\t\tValidation Batch 0\n",
      "\t\t\tValidation Batch 100\n",
      "Validation loss: 1.5154136419296265 Best: 1.5037832260131836\n",
      "Epoch 14\n"
     ]
    },
    {
     "name": "stderr",
     "output_type": "stream",
     "text": [
      "Batch number: : 1620it [00:05, 307.16it/s]\n"
     ]
    },
    {
     "name": "stdout",
     "output_type": "stream",
     "text": [
      "\t\t\tValidation Batch 0\n",
      "\t\t\tValidation Batch 100\n",
      "\t\t\tSaving test set results.      <----- New high water mark on epoch 14\n",
      "Validation loss: 1.4836891889572144 Best: 1.4836891889572144\n",
      "Epoch 15\n"
     ]
    },
    {
     "name": "stderr",
     "output_type": "stream",
     "text": [
      "Batch number: : 1620it [00:05, 273.70it/s]\n"
     ]
    },
    {
     "name": "stdout",
     "output_type": "stream",
     "text": [
      "\t\t\tValidation Batch 0\n",
      "\t\t\tValidation Batch 100\n",
      "\t\t\tSaving test set results.      <----- New high water mark on epoch 15\n",
      "Validation loss: 1.4654698371887207 Best: 1.4654698371887207\n",
      "Epoch 16\n"
     ]
    },
    {
     "name": "stderr",
     "output_type": "stream",
     "text": [
      "Batch number: : 1620it [00:07, 226.63it/s]\n"
     ]
    },
    {
     "name": "stdout",
     "output_type": "stream",
     "text": [
      "\t\t\tValidation Batch 0\n",
      "\t\t\tValidation Batch 100\n",
      "\t\t\tSaving test set results.      <----- New high water mark on epoch 16\n",
      "Validation loss: 1.4412676095962524 Best: 1.4412676095962524\n",
      "Epoch 17\n"
     ]
    },
    {
     "name": "stderr",
     "output_type": "stream",
     "text": [
      "Batch number: : 1620it [00:05, 276.71it/s]\n"
     ]
    },
    {
     "name": "stdout",
     "output_type": "stream",
     "text": [
      "\t\t\tValidation Batch 0\n",
      "\t\t\tValidation Batch 100\n",
      "\t\t\tSaving test set results.      <----- New high water mark on epoch 17\n",
      "Validation loss: 1.4241833686828613 Best: 1.4241833686828613\n",
      "Epoch 18\n"
     ]
    },
    {
     "name": "stderr",
     "output_type": "stream",
     "text": [
      "Batch number: : 1620it [00:06, 261.58it/s]\n"
     ]
    },
    {
     "name": "stdout",
     "output_type": "stream",
     "text": [
      "\t\t\tValidation Batch 0\n",
      "\t\t\tValidation Batch 100\n",
      "\t\t\tSaving test set results.      <----- New high water mark on epoch 18\n",
      "Validation loss: 1.413716197013855 Best: 1.413716197013855\n",
      "Epoch 19\n"
     ]
    },
    {
     "name": "stderr",
     "output_type": "stream",
     "text": [
      "Batch number: : 1620it [00:04, 324.83it/s]\n"
     ]
    },
    {
     "name": "stdout",
     "output_type": "stream",
     "text": [
      "\t\t\tValidation Batch 0\n",
      "\t\t\tValidation Batch 100\n",
      "Validation loss: 1.4257067441940308 Best: 1.413716197013855\n",
      "Epoch 20\n"
     ]
    },
    {
     "name": "stderr",
     "output_type": "stream",
     "text": [
      "Batch number: : 1620it [00:05, 316.12it/s]\n"
     ]
    },
    {
     "name": "stdout",
     "output_type": "stream",
     "text": [
      "\t\t\tValidation Batch 0\n",
      "\t\t\tValidation Batch 100\n",
      "Validation loss: 1.4325454235076904 Best: 1.413716197013855\n",
      "Epoch 21\n"
     ]
    },
    {
     "name": "stderr",
     "output_type": "stream",
     "text": [
      "Batch number: : 1620it [00:05, 319.62it/s]\n"
     ]
    },
    {
     "name": "stdout",
     "output_type": "stream",
     "text": [
      "\t\t\tValidation Batch 0\n",
      "\t\t\tValidation Batch 100\n",
      "\t\t\tSaving test set results.      <----- New high water mark on epoch 21\n",
      "Validation loss: 1.3760581016540527 Best: 1.3760581016540527\n",
      "Epoch 22\n"
     ]
    },
    {
     "name": "stderr",
     "output_type": "stream",
     "text": [
      "Batch number: : 1620it [00:04, 327.15it/s]\n"
     ]
    },
    {
     "name": "stdout",
     "output_type": "stream",
     "text": [
      "\t\t\tValidation Batch 0\n",
      "\t\t\tValidation Batch 100\n",
      "Validation loss: 1.38924241065979 Best: 1.3760581016540527\n",
      "Epoch 23\n"
     ]
    },
    {
     "name": "stderr",
     "output_type": "stream",
     "text": [
      "Batch number: : 1620it [00:05, 312.17it/s]\n"
     ]
    },
    {
     "name": "stdout",
     "output_type": "stream",
     "text": [
      "\t\t\tValidation Batch 0\n",
      "\t\t\tValidation Batch 100\n",
      "Validation loss: 1.4467246532440186 Best: 1.3760581016540527\n",
      "Epoch 24\n"
     ]
    },
    {
     "name": "stderr",
     "output_type": "stream",
     "text": [
      "Batch number: : 1620it [00:06, 257.77it/s]\n"
     ]
    },
    {
     "name": "stdout",
     "output_type": "stream",
     "text": [
      "\t\t\tValidation Batch 0\n",
      "\t\t\tValidation Batch 100\n",
      "Decreasing learning rate to 0.05\n",
      "Validation loss: 1.384933352470398 Best: 1.3760581016540527\n",
      "Epoch 25\n"
     ]
    },
    {
     "name": "stderr",
     "output_type": "stream",
     "text": [
      "c:\\Users\\filip\\AppData\\Local\\Programs\\Python\\Python311\\Lib\\site-packages\\torch\\optim\\lr_scheduler.py:156: UserWarning: The epoch parameter in `scheduler.step()` was not necessary and is being deprecated where possible. Please use `scheduler.step()` to step the scheduler. During the deprecation, if epoch is different from None, the closed form is used instead of the new chainable form, where available. Please open an issue if you are unable to replicate your use case: https://github.com/pytorch/pytorch/issues/new/choose.\n",
      "  warnings.warn(EPOCH_DEPRECATION_WARNING, UserWarning)\n",
      "Batch number: : 1620it [00:06, 245.32it/s]\n"
     ]
    },
    {
     "name": "stdout",
     "output_type": "stream",
     "text": [
      "\t\t\tValidation Batch 0\n",
      "\t\t\tValidation Batch 100\n",
      "\t\t\tSaving test set results.      <----- New high water mark on epoch 25\n",
      "Validation loss: 1.3194078207015991 Best: 1.3194078207015991\n",
      "Epoch 26\n"
     ]
    },
    {
     "name": "stderr",
     "output_type": "stream",
     "text": [
      "Batch number: : 1620it [00:06, 265.98it/s]\n"
     ]
    },
    {
     "name": "stdout",
     "output_type": "stream",
     "text": [
      "\t\t\tValidation Batch 0\n",
      "\t\t\tValidation Batch 100\n",
      "Validation loss: 1.3270262479782104 Best: 1.3194078207015991\n",
      "Epoch 27\n"
     ]
    },
    {
     "name": "stderr",
     "output_type": "stream",
     "text": [
      "Batch number: : 1620it [00:05, 295.54it/s]\n"
     ]
    },
    {
     "name": "stdout",
     "output_type": "stream",
     "text": [
      "\t\t\tValidation Batch 0\n",
      "\t\t\tValidation Batch 100\n",
      "Validation loss: 1.3341522216796875 Best: 1.3194078207015991\n",
      "Epoch 28\n"
     ]
    },
    {
     "name": "stderr",
     "output_type": "stream",
     "text": [
      "Batch number: : 1620it [00:04, 332.17it/s]\n"
     ]
    },
    {
     "name": "stdout",
     "output_type": "stream",
     "text": [
      "\t\t\tValidation Batch 0\n",
      "\t\t\tValidation Batch 100\n",
      "\t\t\tSaving test set results.      <----- New high water mark on epoch 28\n",
      "Validation loss: 1.3173942565917969 Best: 1.3173942565917969\n",
      "Epoch 29\n"
     ]
    },
    {
     "name": "stderr",
     "output_type": "stream",
     "text": [
      "Batch number: : 1620it [00:05, 321.63it/s]\n"
     ]
    },
    {
     "name": "stdout",
     "output_type": "stream",
     "text": [
      "\t\t\tValidation Batch 0\n",
      "\t\t\tValidation Batch 100\n",
      "Validation loss: 1.3256908655166626 Best: 1.3173942565917969\n",
      "Epoch 30\n"
     ]
    },
    {
     "name": "stderr",
     "output_type": "stream",
     "text": [
      "Batch number: : 1620it [00:05, 291.02it/s]\n"
     ]
    },
    {
     "name": "stdout",
     "output_type": "stream",
     "text": [
      "\t\t\tValidation Batch 0\n",
      "\t\t\tValidation Batch 100\n",
      "\t\t\tSaving test set results.      <----- New high water mark on epoch 30\n",
      "Validation loss: 1.3152607679367065 Best: 1.3152607679367065\n",
      "Epoch 31\n"
     ]
    },
    {
     "name": "stderr",
     "output_type": "stream",
     "text": [
      "Batch number: : 1620it [00:04, 328.60it/s]\n"
     ]
    },
    {
     "name": "stdout",
     "output_type": "stream",
     "text": [
      "\t\t\tValidation Batch 0\n",
      "\t\t\tValidation Batch 100\n",
      "Validation loss: 1.3292608261108398 Best: 1.3152607679367065\n",
      "Epoch 32\n"
     ]
    },
    {
     "name": "stderr",
     "output_type": "stream",
     "text": [
      "Batch number: : 1620it [00:05, 297.75it/s]\n"
     ]
    },
    {
     "name": "stdout",
     "output_type": "stream",
     "text": [
      "\t\t\tValidation Batch 0\n",
      "\t\t\tValidation Batch 100\n",
      "\t\t\tSaving test set results.      <----- New high water mark on epoch 32\n",
      "Validation loss: 1.2985225915908813 Best: 1.2985225915908813\n",
      "Epoch 33\n"
     ]
    },
    {
     "name": "stderr",
     "output_type": "stream",
     "text": [
      "Batch number: : 1620it [00:07, 222.16it/s]\n"
     ]
    },
    {
     "name": "stdout",
     "output_type": "stream",
     "text": [
      "\t\t\tValidation Batch 0\n",
      "\t\t\tValidation Batch 100\n",
      "Validation loss: 1.3271335363388062 Best: 1.2985225915908813\n",
      "Epoch 34\n"
     ]
    },
    {
     "name": "stderr",
     "output_type": "stream",
     "text": [
      "Batch number: : 1620it [00:05, 276.12it/s]\n"
     ]
    },
    {
     "name": "stdout",
     "output_type": "stream",
     "text": [
      "\t\t\tValidation Batch 0\n",
      "\t\t\tValidation Batch 100\n",
      "Decreasing learning rate to 0.025\n",
      "Validation loss: 1.3016077280044556 Best: 1.2985225915908813\n",
      "Epoch 35\n"
     ]
    },
    {
     "name": "stderr",
     "output_type": "stream",
     "text": [
      "Batch number: : 1620it [00:06, 246.77it/s]\n"
     ]
    },
    {
     "name": "stdout",
     "output_type": "stream",
     "text": [
      "\t\t\tValidation Batch 0\n",
      "\t\t\tValidation Batch 100\n",
      "\t\t\tSaving test set results.      <----- New high water mark on epoch 35\n",
      "Validation loss: 1.2974337339401245 Best: 1.2974337339401245\n",
      "Epoch 36\n"
     ]
    },
    {
     "name": "stderr",
     "output_type": "stream",
     "text": [
      "Batch number: : 1620it [00:04, 330.74it/s]\n"
     ]
    },
    {
     "name": "stdout",
     "output_type": "stream",
     "text": [
      "\t\t\tValidation Batch 0\n",
      "\t\t\tValidation Batch 100\n",
      "Validation loss: 1.3016791343688965 Best: 1.2974337339401245\n",
      "Epoch 37\n"
     ]
    },
    {
     "name": "stderr",
     "output_type": "stream",
     "text": [
      "Batch number: : 1620it [00:04, 325.75it/s]\n"
     ]
    },
    {
     "name": "stdout",
     "output_type": "stream",
     "text": [
      "\t\t\tValidation Batch 0\n",
      "\t\t\tValidation Batch 100\n",
      "Validation loss: 1.3137909173965454 Best: 1.2974337339401245\n",
      "Epoch 38\n"
     ]
    },
    {
     "name": "stderr",
     "output_type": "stream",
     "text": [
      "Batch number: : 1620it [00:05, 300.61it/s]\n"
     ]
    },
    {
     "name": "stdout",
     "output_type": "stream",
     "text": [
      "\t\t\tValidation Batch 0\n",
      "\t\t\tValidation Batch 100\n",
      "\t\t\tSaving test set results.      <----- New high water mark on epoch 38\n",
      "Validation loss: 1.289901852607727 Best: 1.289901852607727\n",
      "Epoch 39\n"
     ]
    },
    {
     "name": "stderr",
     "output_type": "stream",
     "text": [
      "Batch number: : 1620it [00:04, 324.16it/s]\n"
     ]
    },
    {
     "name": "stdout",
     "output_type": "stream",
     "text": [
      "\t\t\tValidation Batch 0\n",
      "\t\t\tValidation Batch 100\n",
      "Validation loss: 1.3071991205215454 Best: 1.289901852607727\n",
      "Epoch 40\n"
     ]
    },
    {
     "name": "stderr",
     "output_type": "stream",
     "text": [
      "Batch number: : 1620it [00:05, 317.28it/s]\n"
     ]
    },
    {
     "name": "stdout",
     "output_type": "stream",
     "text": [
      "\t\t\tValidation Batch 0\n",
      "\t\t\tValidation Batch 100\n",
      "Validation loss: 1.297400712966919 Best: 1.289901852607727\n",
      "Epoch 41\n"
     ]
    },
    {
     "name": "stderr",
     "output_type": "stream",
     "text": [
      "Batch number: : 1620it [00:05, 313.60it/s]\n"
     ]
    },
    {
     "name": "stdout",
     "output_type": "stream",
     "text": [
      "\t\t\tValidation Batch 0\n",
      "\t\t\tValidation Batch 100\n",
      "Validation loss: 1.2970192432403564 Best: 1.289901852607727\n",
      "Epoch 42\n"
     ]
    },
    {
     "name": "stderr",
     "output_type": "stream",
     "text": [
      "Batch number: : 1620it [00:05, 287.35it/s]\n"
     ]
    },
    {
     "name": "stdout",
     "output_type": "stream",
     "text": [
      "\t\t\tValidation Batch 0\n",
      "\t\t\tValidation Batch 100\n",
      "Decreasing learning rate to 0.0125\n",
      "Validation loss: 1.2911373376846313 Best: 1.289901852607727\n",
      "Epoch 43\n"
     ]
    },
    {
     "name": "stderr",
     "output_type": "stream",
     "text": [
      "Batch number: : 1620it [00:06, 260.88it/s]\n"
     ]
    },
    {
     "name": "stdout",
     "output_type": "stream",
     "text": [
      "\t\t\tValidation Batch 0\n",
      "\t\t\tValidation Batch 100\n",
      "\t\t\tSaving test set results.      <----- New high water mark on epoch 43\n",
      "Validation loss: 1.2864978313446045 Best: 1.2864978313446045\n",
      "Epoch 44\n"
     ]
    },
    {
     "name": "stderr",
     "output_type": "stream",
     "text": [
      "Batch number: : 1620it [00:06, 244.72it/s]\n"
     ]
    },
    {
     "name": "stdout",
     "output_type": "stream",
     "text": [
      "\t\t\tValidation Batch 0\n",
      "\t\t\tValidation Batch 100\n",
      "Validation loss: 1.3090139627456665 Best: 1.2864978313446045\n",
      "Epoch 45\n"
     ]
    },
    {
     "name": "stderr",
     "output_type": "stream",
     "text": [
      "Batch number: : 1620it [00:06, 266.20it/s]\n"
     ]
    },
    {
     "name": "stdout",
     "output_type": "stream",
     "text": [
      "\t\t\tValidation Batch 0\n",
      "\t\t\tValidation Batch 100\n",
      "Validation loss: 1.2898921966552734 Best: 1.2864978313446045\n",
      "Epoch 46\n"
     ]
    },
    {
     "name": "stderr",
     "output_type": "stream",
     "text": [
      "Batch number: : 1620it [00:05, 274.90it/s]\n"
     ]
    },
    {
     "name": "stdout",
     "output_type": "stream",
     "text": [
      "\t\t\tValidation Batch 0\n",
      "\t\t\tValidation Batch 100\n",
      "\t\t\tSaving test set results.      <----- New high water mark on epoch 46\n",
      "Validation loss: 1.2815896272659302 Best: 1.2815896272659302\n",
      "Epoch 47\n"
     ]
    },
    {
     "name": "stderr",
     "output_type": "stream",
     "text": [
      "Batch number: : 1620it [00:04, 325.80it/s]\n"
     ]
    },
    {
     "name": "stdout",
     "output_type": "stream",
     "text": [
      "\t\t\tValidation Batch 0\n",
      "\t\t\tValidation Batch 100\n",
      "Validation loss: 1.292970895767212 Best: 1.2815896272659302\n",
      "Epoch 48\n"
     ]
    },
    {
     "name": "stderr",
     "output_type": "stream",
     "text": [
      "Batch number: : 1620it [00:04, 335.00it/s]\n"
     ]
    },
    {
     "name": "stdout",
     "output_type": "stream",
     "text": [
      "\t\t\tValidation Batch 0\n",
      "\t\t\tValidation Batch 100\n",
      "Validation loss: 1.291732668876648 Best: 1.2815896272659302\n",
      "Epoch 49\n"
     ]
    },
    {
     "name": "stderr",
     "output_type": "stream",
     "text": [
      "Batch number: : 1620it [00:04, 337.85it/s]\n"
     ]
    },
    {
     "name": "stdout",
     "output_type": "stream",
     "text": [
      "\t\t\tValidation Batch 0\n",
      "\t\t\tValidation Batch 100\n",
      "Validation loss: 1.3020122051239014 Best: 1.2815896272659302\n",
      "Epoch 50\n"
     ]
    },
    {
     "name": "stderr",
     "output_type": "stream",
     "text": [
      "Batch number: : 1620it [00:04, 340.60it/s]\n"
     ]
    },
    {
     "name": "stdout",
     "output_type": "stream",
     "text": [
      "\t\t\tValidation Batch 0\n",
      "\t\t\tValidation Batch 100\n",
      "Decreasing learning rate to 0.00625\n",
      "Validation loss: 1.2830452919006348 Best: 1.2815896272659302\n"
     ]
    }
   ],
   "source": [
    "quantiles=np.array([0.1,0.5,0.9])\n",
    "batch_size=100\n",
    "nepochs=50\n",
    "\n",
    "model=QuantileNetwork(quantiles=quantiles)\n",
    "model.fit(X_train.to_numpy(),y_train.to_numpy(),batch_size=batch_size,nepochs=nepochs)"
   ]
  },
  {
   "cell_type": "code",
   "execution_count": 35,
   "metadata": {},
   "outputs": [],
   "source": [
    "preds = model.predict(X_test.to_numpy())"
   ]
  },
  {
   "cell_type": "code",
   "execution_count": 36,
   "metadata": {},
   "outputs": [
    {
     "data": {
      "text/plain": [
       "0.004639387346144725"
      ]
     },
     "execution_count": 36,
     "metadata": {},
     "output_type": "execute_result"
    }
   ],
   "source": [
    "mean_squared_error(y_test.to_numpy(),preds[:,:,1])"
   ]
  },
  {
   "cell_type": "code",
   "execution_count": 39,
   "metadata": {},
   "outputs": [],
   "source": [
    "def PSNR(y_true,y_pred):\n",
    "    mse = mean_squared_error(y_true,y_pred)\n",
    "    maxval = np.amax(y_true)\n",
    "    PSNR = 10*np.log10((maxval)**2/mse)\n",
    "    \n",
    "    return PSNR"
   ]
  },
  {
   "cell_type": "code",
   "execution_count": 40,
   "metadata": {},
   "outputs": [
    {
     "data": {
      "text/plain": [
       "32.689449595993736"
      ]
     },
     "execution_count": 40,
     "metadata": {},
     "output_type": "execute_result"
    }
   ],
   "source": [
    "PSNR(y_test,preds[:,:,1])"
   ]
  },
  {
   "cell_type": "code",
   "execution_count": 46,
   "metadata": {},
   "outputs": [
    {
     "data": {
      "text/plain": [
       "19000"
      ]
     },
     "execution_count": 46,
     "metadata": {},
     "output_type": "execute_result"
    }
   ],
   "source": [
    "np.shape(y_test)[0]"
   ]
  },
  {
   "cell_type": "code",
   "execution_count": 51,
   "metadata": {},
   "outputs": [],
   "source": [
    "y_test_np=y_test.to_numpy()"
   ]
  },
  {
   "cell_type": "code",
   "execution_count": 54,
   "metadata": {},
   "outputs": [],
   "source": [
    "def calc_outrate(y_test,preds):\n",
    "    outcount = 0\n",
    "    for i in range(np.shape(y_test_np)[0]):\n",
    "        for j in range(np.shape(y_test_np)[1]):\n",
    "            if y_test_np[i,j] < preds[i,j,0] or y_test_np[i,j] > preds[i,j,2]:\n",
    "                outcount = outcount +1\n",
    "\n",
    "    outrate = outcount/np.size(y_test)\n",
    "    return outrate"
   ]
  },
  {
   "cell_type": "code",
   "execution_count": 52,
   "metadata": {},
   "outputs": [
    {
     "data": {
      "text/plain": [
       "0.21011842105263157"
      ]
     },
     "execution_count": 52,
     "metadata": {},
     "output_type": "execute_result"
    }
   ],
   "source": [
    "outcount = 0\n",
    "for i in range(np.shape(y_test_np)[0]):\n",
    "    for j in range(np.shape(y_test_np)[1]):\n",
    "        if y_test_np[i,j] < preds[i,j,0] or y_test_np[i,j] > preds[i,j,2]:\n",
    "            outcount = outcount +1\n",
    "\n",
    "outrate = outcount/np.size(y_test)\n",
    "\n",
    "outrate"
   ]
  }
 ],
 "metadata": {
  "kernelspec": {
   "display_name": "Python 3",
   "language": "python",
   "name": "python3"
  },
  "language_info": {
   "codemirror_mode": {
    "name": "ipython",
    "version": 3
   },
   "file_extension": ".py",
   "mimetype": "text/x-python",
   "name": "python",
   "nbconvert_exporter": "python",
   "pygments_lexer": "ipython3",
   "version": "3.11.5"
  }
 },
 "nbformat": 4,
 "nbformat_minor": 2
}
