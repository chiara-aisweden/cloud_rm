{
 "cells": [
  {
   "cell_type": "code",
   "execution_count": 1,
   "metadata": {},
   "outputs": [],
   "source": [
    "\n",
    "anton=0\n",
    "if anton==1:\n",
    "    from anton_model.network_model import QuantileNetwork as QN\n",
    "    from anton_model.network_model import QuantileNetworkMM as QNMM\n",
    "    from anton_model_old.network_model import QuantileNetwork as QN_o\n",
    "    from anton_model_old.network_model import QuantileNetworkMM as QNMM_o\n",
    "else:\n",
    "    from multivariate_quantile_regression.network_model import QuantileNetwork as QN\n",
    "    from multivariate_quantile_regression.network_model import QuantileNetworkMM as QNMM\n",
    "    from multivariate_quantile_regression_old.network_model import QuantileNetwork as QN_o\n",
    "    from multivariate_quantile_regression_old.network_model import QuantileNetworkMM as QNMM_o\n",
    "\n",
    "import numpy as np\n",
    "\n",
    "import torch\n",
    "import torch.nn as nn\n",
    "import os"
   ]
  },
  {
   "cell_type": "code",
   "execution_count": 3,
   "metadata": {},
   "outputs": [],
   "source": [
    "## Load models\n",
    "main_filepath='pytorch_models/wCOT_onehot'\n",
    "n_ensemble=5\n",
    "models=[]\n",
    "for i in range(n_ensemble):\n",
    "    models.append(torch.load(main_filepath+'/model'+str(i)+'/model_file'))"
   ]
  },
  {
   "cell_type": "code",
   "execution_count": 6,
   "metadata": {},
   "outputs": [],
   "source": [
    "models[0].model.state_dict()\n",
    "models_a=[]\n",
    "quantiles=[0.1,0.5,0.9]\n",
    "for model in models:\n",
    "    tmp_state=model.model.state_dict()\n",
    "    model_a=QN_o(quantiles=quantiles)\n",
    "    n_in=model.model.n_in\n",
    "    n_out=model.model.n_out\n",
    "    y_dim=model.model.y_dim\n",
    "    tX_mean=model.model.X_means\n",
    "    tX_std=model.model.X_stds\n",
    "    y_mean=model.model.y_mean\n",
    "    y_std=model.model.y_std\n",
    "    sequence=model.model.linear\n",
    "    device=model.model.device\n",
    "    data_norm=model.model.data_norm\n",
    "    model_a.train_loss=model.train_loss\n",
    "    model_a.val_loss=model.val_loss\n",
    "    model_a.model=QNMM_o(n_in,n_out,y_dim,tX_mean,tX_std,y_mean,y_std,seq=sequence,device=device,data_norm=data_norm)\n",
    "    model_a.model.load_state_dict(tmp_state)\n",
    "    models_a.append(model_a)\n"
   ]
  },
  {
   "cell_type": "code",
   "execution_count": 7,
   "metadata": {},
   "outputs": [
    {
     "name": "stdout",
     "output_type": "stream",
     "text": [
      "Model saved saved...\n",
      "Model saved saved...\n",
      "Model saved saved...\n",
      "Model saved saved...\n",
      "Model saved saved...\n"
     ]
    }
   ],
   "source": [
    "for i, model in enumerate(models_a):\n",
    "\n",
    "    filepath=main_filepath+'_old'+'/model'+str(i)\n",
    "    os.makedirs(filepath,exist_ok=True)\n",
    "    torch.save(model,filepath+'/model_file')\n",
    "    print(\"Model saved saved...\")"
   ]
  },
  {
   "cell_type": "code",
   "execution_count": null,
   "metadata": {},
   "outputs": [],
   "source": []
  }
 ],
 "metadata": {
  "kernelspec": {
   "display_name": "Python 3",
   "language": "python",
   "name": "python3"
  },
  "language_info": {
   "codemirror_mode": {
    "name": "ipython",
    "version": 3
   },
   "file_extension": ".py",
   "mimetype": "text/x-python",
   "name": "python",
   "nbconvert_exporter": "python",
   "pygments_lexer": "ipython3",
   "version": "3.10.12"
  }
 },
 "nbformat": 4,
 "nbformat_minor": 2
}
