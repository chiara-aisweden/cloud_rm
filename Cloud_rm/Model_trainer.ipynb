{
 "cells": [
  {
   "cell_type": "code",
   "execution_count": 1,
   "metadata": {},
   "outputs": [
    {
     "name": "stderr",
     "output_type": "stream",
     "text": [
      "2024-06-24 09:27:20.450921: I tensorflow/core/util/port.cc:113] oneDNN custom operations are on. You may see slightly different numerical results due to floating-point round-off errors from different computation orders. To turn them off, set the environment variable `TF_ENABLE_ONEDNN_OPTS=0`.\n",
      "2024-06-24 09:27:21.660911: E external/local_xla/xla/stream_executor/cuda/cuda_dnn.cc:9261] Unable to register cuDNN factory: Attempting to register factory for plugin cuDNN when one has already been registered\n",
      "2024-06-24 09:27:21.660980: E external/local_xla/xla/stream_executor/cuda/cuda_fft.cc:607] Unable to register cuFFT factory: Attempting to register factory for plugin cuFFT when one has already been registered\n",
      "2024-06-24 09:27:21.931323: E external/local_xla/xla/stream_executor/cuda/cuda_blas.cc:1515] Unable to register cuBLAS factory: Attempting to register factory for plugin cuBLAS when one has already been registered\n",
      "2024-06-24 09:27:22.399805: I tensorflow/core/platform/cpu_feature_guard.cc:182] This TensorFlow binary is optimized to use available CPU instructions in performance-critical operations.\n",
      "To enable the following instructions: AVX2 AVX512F AVX512_VNNI FMA, in other operations, rebuild TensorFlow with the appropriate compiler flags.\n",
      "2024-06-24 09:27:24.686575: W tensorflow/compiler/tf2tensorrt/utils/py_utils.cc:38] TF-TRT Warning: Could not find TensorRT\n"
     ]
    }
   ],
   "source": [
    "import numpy as np\n",
    "import pandas as pd\n",
    "import torch.nn as nn\n",
    "import torch\n",
    "import os\n",
    "import random\n",
    "\n",
    "from functions.parse_data import synth_dataloader\n",
    "from multivariate_quantile_regression.network_model import QuantileNetwork\n",
    "\n",
    "from sklearn.metrics import mean_squared_error\n",
    "from sklearn.metrics import r2_score\n",
    "from sklearn.model_selection import train_test_split\n",
    "from cot_train.utils import MLP5"
   ]
  },
  {
   "cell_type": "code",
   "execution_count": 2,
   "metadata": {},
   "outputs": [
    {
     "name": "stdout",
     "output_type": "stream",
     "text": [
      "CUDA is available. Using GPU.\n",
      "Tensor is on device: cuda:0\n"
     ]
    }
   ],
   "source": [
    "# Check if CUDA (GPU support) is available\n",
    "if torch.cuda.is_available():\n",
    "    # CUDA is available, so let's set default device to GPU\n",
    "    torch.set_default_device(0)\n",
    "    print(\"CUDA is available. Using GPU.\")\n",
    "else:\n",
    "    # CUDA is not available, so let's use the CPU\n",
    "    print(\"CUDA is not available. Using CPU.\")\n",
    "\n",
    "# Example usage:\n",
    "tensor = torch.randn(3, 3)  # Create a tensor on the selected device\n",
    "print(\"Tensor is on device:\", tensor.device)\n",
    "device = tensor.device"
   ]
  },
  {
   "cell_type": "code",
   "execution_count": 3,
   "metadata": {},
   "outputs": [],
   "source": [
    "#Load data and inspect, 'SMHIdata2', 'SMHIdata2_newsurf', 'SMHIdata3_newsurf', 'SMHIdata_black'\n",
    "df = synth_dataloader('SMHIdata4')\n"
   ]
  },
  {
   "cell_type": "code",
   "execution_count": 4,
   "metadata": {},
   "outputs": [],
   "source": [
    "#Set columns for X and y (input/output features)\n",
    "X_cols = ['Cloud_B02','Cloud_B03','Cloud_B04','Cloud_B05','Cloud_B06',\n",
    "          'Cloud_B07','Cloud_B08','Cloud_B08A','Cloud_B09','Cloud_B10','Cloud_B11','Cloud_B12','Sun_Zenith_Angle','COT']\n",
    "y_cols = ['Clear_B02','Clear_B03','Clear_B04','Clear_B05','Clear_B06',\n",
    "          'Clear_B07','Clear_B08','Clear_B08A','Clear_B09','Clear_B10','Clear_B11','Clear_B12']\n",
    "\n",
    "#Find X and y\n",
    "X=df[X_cols]\n",
    "y=df[y_cols]\n"
   ]
  },
  {
   "cell_type": "code",
   "execution_count": 5,
   "metadata": {},
   "outputs": [],
   "source": [
    "'''\n",
    "#Set up paths for importing COT est models\n",
    "#COT_model_paths = ['smhi_models3/0/model_it_2000000','smhi_models3/1/model_it_2000000','smhi_models3/2/model_it_2000000','smhi_models3/3/model_it_2000000','smhi_models3/4/model_it_2000000',\n",
    "#                   'smhi_models3/5/model_it_2000000','smhi_models3/6/model_it_2000000','smhi_models3/7/model_it_2000000','smhi_models3/8/model_it_2000000','smhi_models3/9/model_it_2000000']\n",
    "\n",
    "COT_model_paths = ['smhi_models4/0/model_it_2000000','smhi_models4/1/model_it_2000000','smhi_models4/2/model_it_2000000','smhi_models4/3/model_it_2000000','smhi_models4/4/model_it_2000000']\n",
    "\n",
    "\n",
    "\n",
    "#Initialize and load COT estimation models\n",
    "COT_est_models = [MLP5(13, 1, apply_relu=True) for _ in range(len(COT_model_paths))]\n",
    "for i,model in enumerate(COT_est_models):\n",
    "    model.load_state_dict(torch.load(COT_model_paths[i],map_location=device))\n",
    "\n",
    "#Create X for COT estimation\n",
    "X_COTest = X.to_numpy()\n",
    "#Add noise for fairness\n",
    "X_COTest= X_COTest + np.random.randn(np.shape(X_COTest)[0],np.shape(X_COTest)[1]) * np.mean(X_COTest,axis=0)*0.03\n",
    "#Normalize and turn into tensor before input\n",
    "X_COTest_mu = np.mean(X_COTest,axis=0)\n",
    "X_COTest_std = np.std(X_COTest,axis=0)\n",
    "X_COTest_norm = (X_COTest-X_COTest_mu)/X_COTest_std\n",
    "tX_COTest_norm = torch.Tensor(X_COTest_norm).to(device)\n",
    "#Make predictions (*50 to denormalize predictions)\n",
    "COT_preds_total = []\n",
    "for i,model in enumerate(COT_est_models):\n",
    "    COT_preds = 50*model(tX_COTest_norm).cpu().detach().numpy()\n",
    "    #Keep track of ensemble prediction\n",
    "    if i==0:\n",
    "        COT_preds_total=COT_preds\n",
    "    else:\n",
    "        COT_preds_total=COT_preds_total+COT_preds\n",
    "\n",
    "COT_preds_total = COT_preds_total/len(COT_est_models)\n",
    "\n",
    "#Sort into categories instead\n",
    "t_is_cloud = 0.025*50 #From Pirinen et. al.\n",
    "t_thin_cloud = 0.015*50 #From Pirinen et. al.\n",
    "\n",
    "pred_clear = np.zeros(COT_preds_total.shape)\n",
    "pred_thin = np.zeros(COT_preds_total.shape)\n",
    "pred_thick = np.zeros(COT_preds_total.shape)\n",
    "\n",
    "pred_clear[COT_preds_total<t_thin_cloud]=1\n",
    "pred_thin[(COT_preds_total>=t_thin_cloud)&(COT_preds_total<t_is_cloud)]=1\n",
    "pred_thick[COT_preds_total>=t_is_cloud]=1\n",
    "\n",
    "#Create new X including COT dummies\n",
    "X = X.assign(Clear=pred_clear[:,0])\n",
    "X = X.assign(Thin=pred_thin[:,0])\n",
    "X = X.assign(Thick=pred_thick[:,0])\n",
    "\n",
    "#Update X_cols\n",
    "X_cols = ['Cloud_B02','Cloud_B03','Cloud_B04','Cloud_B05','Cloud_B06',\n",
    "          'Cloud_B07','Cloud_B08','Cloud_B08A','Cloud_B09','Cloud_B10','Cloud_B11','Cloud_B12',\n",
    "          'Sun_Zenith_Angle','Clear','Thin','Thick']\n",
    "\n",
    "'''\n",
    "\n",
    "#Separate testdata from rest for 80/10/10 Train/Val/Test split\n",
    "X_trainval, X_test, y_trainval, y_test=train_test_split(X,y,test_size=0.1,random_state=313)\n",
    "\n",
    "#Find clear indices in trainval\n",
    "clear_indices = np.array([])\n",
    "for i,df_idx in enumerate(X_trainval.index):\n",
    "    if df['Cloud_Type'][df_idx]==0:\n",
    "        clear_indices=np.append(clear_indices,i)\n",
    "\n",
    "#Add noise to X_test, 0 mean with stdev equal to 3% of mean of each feature\n",
    "np.random.seed(313)\n",
    "X_test.iloc[:,:13] = X_test.iloc[:,:13] + np.random.randn(np.shape(X_test.iloc[:,:13])[0],np.shape(X_test.iloc[:,:13])[1]) * np.mean(X.iloc[:,:13].to_numpy(),axis=0)*0.03\n",
    "\n"
   ]
  },
  {
   "cell_type": "code",
   "execution_count": 6,
   "metadata": {},
   "outputs": [
    {
     "name": "stdout",
     "output_type": "stream",
     "text": [
      "Epoch 281\n"
     ]
    },
    {
     "name": "stderr",
     "output_type": "stream",
     "text": [
      "Batch number: 100%|██████████| 320/320 [00:00<00:00, 418.94it/s]"
     ]
    },
    {
     "name": "stdout",
     "output_type": "stream",
     "text": [
      "Training loss [2.2324948] Validation loss [2.270626]\n",
      "Epoch 282\n"
     ]
    },
    {
     "name": "stderr",
     "output_type": "stream",
     "text": [
      "\n",
      "Batch number: 100%|██████████| 320/320 [00:00<00:00, 420.00it/s]"
     ]
    },
    {
     "name": "stdout",
     "output_type": "stream",
     "text": [
      "Training loss [2.232677] Validation loss [2.2851965]\n",
      "Epoch 283\n"
     ]
    },
    {
     "name": "stderr",
     "output_type": "stream",
     "text": [
      "\n",
      "Batch number: 100%|██████████| 320/320 [00:00<00:00, 420.98it/s]"
     ]
    },
    {
     "name": "stdout",
     "output_type": "stream",
     "text": [
      "Training loss [2.2337806] Validation loss [2.274089]\n"
     ]
    },
    {
     "name": "stderr",
     "output_type": "stream",
     "text": [
      "\n"
     ]
    },
    {
     "name": "stdout",
     "output_type": "stream",
     "text": [
      "---No improvement in 100 epochs, broke early---\n",
      "Best model out of total max epochs found at epoch 183\n",
      "With validation loss: 2.2568395137786865\n"
     ]
    }
   ],
   "source": [
    "#Choose if to save models and data, if so set path\n",
    "save = True\n",
    "if save:\n",
    "    test_name = \"Final_model_dataset4\"\n",
    "    main_filepath = 'pytorch_models/'+test_name\n",
    "\n",
    "#Set up which quantiles to estimate, and find index of estimator (q=0.5)\n",
    "quantiles=np.array([0.1,0.5,0.9])\n",
    "est= np.where(quantiles==0.5)[0].item()\n",
    "\n",
    "#Set up algorithm parameters\n",
    "val_size=0.1\n",
    "num_models=10\n",
    "batch_size=500\n",
    "nepochs=1000\n",
    "lr=0.003\n",
    "noise_ratio = 0.03\n",
    "early_break=True\n",
    "no_nodes = 200\n",
    "clear_noise=True\n",
    "\n",
    "#Create network\n",
    "sequence= lambda: nn.Sequential(\n",
    "    nn.Linear(len(X_cols),no_nodes),\n",
    "    nn.ReLU(),\n",
    "    nn.Linear(no_nodes,no_nodes),\n",
    "    nn.ReLU(),\n",
    "    nn.Linear(no_nodes,no_nodes),\n",
    "    nn.ReLU(),\n",
    "    nn.Linear(no_nodes,no_nodes),\n",
    "    nn.ReLU(),\n",
    "    nn.Linear(no_nodes, len(quantiles)*len(y_cols)) #Output dimesion is number of quantiles times number of target variables\n",
    ")\n",
    "\n",
    "#Initalize models\n",
    "models = [QuantileNetwork(quantiles=quantiles) for _ in range(num_models)]\n",
    "\n",
    "#Train models\n",
    "for i,model in enumerate(models):\n",
    "    #Find new train/val splits for each model for robustness\n",
    "    validation_indices=np.array(random.sample(range(len(X_trainval['Cloud_B02'])), int(len(X['Cloud_B02'])*val_size)))\n",
    "    train_indices=[i for i in range(len(X_trainval['Cloud_B02'])) if np.any(validation_indices==i)==False]  \n",
    "    #Fit model with X\n",
    "    model.fit(X_trainval.to_numpy(),y_trainval.to_numpy(), \n",
    "            train_indices=train_indices, \n",
    "            validation_indices=validation_indices, \n",
    "            batch_size=batch_size,\n",
    "            nepochs=nepochs,\n",
    "            sequence=sequence(),\n",
    "            lr=lr,\n",
    "            noise_ratio=noise_ratio,\n",
    "            early_break=early_break,\n",
    "            clear_noise=clear_noise,\n",
    "            clear_indices=clear_indices)\n",
    "    \n",
    "    #Save models if wanted\n",
    "    if save:\n",
    "        filepath=main_filepath+'/model'+str(i)\n",
    "        os.makedirs(filepath,exist_ok=True)\n",
    "        torch.save(model,filepath+'/model_file')\n",
    "\n",
    "#Finally save data if wanted\n",
    "if save: \n",
    "    filepath=main_filepath+'/data'\n",
    "    os.makedirs(filepath,exist_ok=True)\n",
    "    #Save datasplits\n",
    "    X_trainval.to_csv(filepath+'/X_trainval.csv')\n",
    "    y_trainval.to_csv(filepath+'/y_trainval.csv')\n",
    "    X_test.to_csv(filepath+'/X_test.csv')\n",
    "    y_test.to_csv(filepath+'/y_test.csv')"
   ]
  },
  {
   "cell_type": "code",
   "execution_count": null,
   "metadata": {},
   "outputs": [],
   "source": []
  },
  {
   "cell_type": "code",
   "execution_count": 7,
   "metadata": {},
   "outputs": [
    {
     "data": {
      "image/png": "[encoded data removed]",
      "text/plain": [
       "<Figure size 640x480 with 1 Axes>"
      ]
     },
     "metadata": {},
     "output_type": "display_data"
    }
   ],
   "source": [
    "import matplotlib.pyplot as plt\n",
    "plt.figure()\n",
    "plt.plot(model.train_loss.cpu())\n",
    "plt.plot(model.val_loss.cpu())\n",
    "plt.show()"
   ]
  },
  {
   "cell_type": "code",
   "execution_count": null,
   "metadata": {},
   "outputs": [],
   "source": []
  },
  {
   "cell_type": "code",
   "execution_count": null,
   "metadata": {},
   "outputs": [],
   "source": []
  },
  {
   "cell_type": "code",
   "execution_count": null,
   "metadata": {},
   "outputs": [],
   "source": []
  }
 ],
 "metadata": {
  "kernelspec": {
   "display_name": "Python 3",
   "language": "python",
   "name": "python3"
  },
  "language_info": {
   "codemirror_mode": {
    "name": "ipython",
    "version": 3
   },
   "file_extension": ".py",
   "mimetype": "text/x-python",
   "name": "python",
   "nbconvert_exporter": "python",
   "pygments_lexer": "ipython3",
   "version": "3.10.12"
  }
 },
 "nbformat": 4,
 "nbformat_minor": 2
}
