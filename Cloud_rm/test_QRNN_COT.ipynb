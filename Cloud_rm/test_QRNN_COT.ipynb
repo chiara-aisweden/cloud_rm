{
 "cells": [
  {
   "cell_type": "code",
   "execution_count": 1,
   "metadata": {},
   "outputs": [
    {
     "name": "stdout",
     "output_type": "stream",
     "text": [
      "WARNING:tensorflow:From c:\\Users\\filip\\AppData\\Local\\Programs\\Python\\Python311\\Lib\\site-packages\\keras\\src\\losses.py:2976: The name tf.losses.sparse_softmax_cross_entropy is deprecated. Please use tf.compat.v1.losses.sparse_softmax_cross_entropy instead.\n",
      "\n",
      "WARNING:tensorflow:From c:\\Users\\filip\\AppData\\Local\\Programs\\Python\\Python311\\Lib\\site-packages\\tensorflow_probability\\python\\internal\\backend\\numpy\\_utils.py:48: The name tf.logging.TaskLevelStatusMessage is deprecated. Please use tf.compat.v1.logging.TaskLevelStatusMessage instead.\n",
      "\n",
      "WARNING:tensorflow:From c:\\Users\\filip\\AppData\\Local\\Programs\\Python\\Python311\\Lib\\site-packages\\tensorflow_probability\\python\\internal\\backend\\numpy\\_utils.py:48: The name tf.control_flow_v2_enabled is deprecated. Please use tf.compat.v1.control_flow_v2_enabled instead.\n",
      "\n"
     ]
    }
   ],
   "source": [
    "import numpy as np\n",
    "import pandas as pd\n",
    "import matplotlib.pyplot as plt\n",
    "import sys\n",
    "\n",
    "import tensorflow as tf\n",
    "from tensorflow.python.keras import layers\n",
    "import tensorflow_probability as tfp\n",
    "from tensorflow.python.keras.callbacks import Callback\n",
    "from sklearn.model_selection import train_test_split\n",
    "\n",
    "import keras.backend as K\n",
    "\n",
    "\n",
    "import functions.parse_data as parse\n",
    "import functions.models as md\n",
    "import functions.handy_functions as hf\n",
    "\n",
    "from keras.utils import plot_model\n",
    "from IPython.display import Image\n",
    "\n",
    "from tensorflow_probability import layers as tfpl"
   ]
  },
  {
   "cell_type": "code",
   "execution_count": 4,
   "metadata": {},
   "outputs": [
    {
     "name": "stdout",
     "output_type": "stream",
     "text": [
      "Noise standard deviation for Cloud_B02: 0.00335001428051948\n",
      "Noise standard deviation for Cloud_B03: 0.002912530185416667\n",
      "Noise standard deviation for Cloud_B04: 0.004058081082042254\n",
      "Noise standard deviation for Cloud_B05: 0.0046524891611111115\n",
      "Noise standard deviation for Cloud_B06: 0.007455351321348316\n",
      "Noise standard deviation for Cloud_B07: 0.008871707484285717\n",
      "Noise standard deviation for Cloud_B08: 0.04489677938000001\n",
      "Noise standard deviation for Cloud_B09: 0.005688141120114942\n",
      "Noise standard deviation for Cloud_B10: 0.003909328971491229\n",
      "Noise standard deviation for Cloud_B11: 0.0014014724139999996\n",
      "Noise standard deviation for Cloud_B12: 0.005030040539999999\n",
      "Noise standard deviation for Cloud_B13: 0.004041267081999999\n"
     ]
    }
   ],
   "source": [
    "channel_labels= ['Cloud_B02','Cloud_B03','Cloud_B04','Cloud_B05','Cloud_B06','Cloud_B07',\n",
    "                 'Cloud_B08','Cloud_B09','Cloud_B10','Cloud_B11','Cloud_B12','Cloud_B13']\n",
    "\n",
    "data_water=parse.parse('cloudrm_water.dat')\n",
    "data_clear=parse.parse('cloudrm_clear.dat')\n",
    "data_ice=parse.parse('cloudrm_ice.dat')\n",
    "data_mixed=parse.parse('cloudrm_mixed.dat')\n",
    "\n",
    "#Concatinate all datasets\n",
    "data_all=pd.concat([data_water, data_clear, data_ice, data_mixed])\n",
    "data_all=data_all.drop(columns=['Surface_Desc','Cloud_B01','Clear_B01'])\n",
    "data_all=hf.add_MSI_noise(data_all,channel_labels)\n"
   ]
  },
  {
   "cell_type": "code",
   "execution_count": 5,
   "metadata": {},
   "outputs": [],
   "source": [
    "#Function taken from: https://github.com/sachinruk/KerasQuantileModel/blob/master/Keras%20Quantile%20Model.ipynb\n",
    "#As a notebook from reading: https://towardsdatascience.com/deep-quantile-regression-c85481548b5a\n",
    "def tilted_loss(q,y,f):\n",
    "    e = (y-f)\n",
    "    return K.mean(K.maximum(q*e, (q-1)*e), axis=-1)"
   ]
  },
  {
   "cell_type": "code",
   "execution_count": 6,
   "metadata": {},
   "outputs": [],
   "source": [
    "##Train test validation split##\n",
    "X_labels= ['Cloud_B02','Cloud_B03','Cloud_B04','Cloud_B05','Cloud_B06',\n",
    "           'Cloud_B07','Cloud_B08','Cloud_B09','Cloud_B10','Cloud_B11','Cloud_B12','Cloud_B13',\n",
    "           'Sat_Zenith_Angle','Sun_Zenith_Angle','Azimuth_Diff_Angle','Cloud_Type','Profile_ID','GOT','Water_Vapor']\n",
    "\n",
    "#Leave out 'GOT', 'Water_Vapor'\n",
    "#Band 1 no go.\n",
    "\n",
    "y_labels=['COT']\n",
    "\n",
    "df=hf.normalise_input_df(data_all,X_labels)\n",
    "df=hf.add_noise(df,X_labels,sigma=0.001)\n",
    "num_epochs=2\n",
    "batch_size=100\n",
    "\n",
    "\n",
    "##Split data##\n",
    "X=df[X_labels]\n",
    "y=df[y_labels]\n",
    "\n",
    "X_train, y_train, X_val, y_val, X_test, y_test=hf.split_data(X,y,split=[0.9,0.05,0.05])\n",
    "\n",
    "\n",
    "\n"
   ]
  },
  {
   "cell_type": "markdown",
   "metadata": {},
   "source": [
    "Simultaneous multiple quantiles instead of a new network for each quantile may be found in:\n",
    "https://github.com/strongio/quantile-regression-tensorflow/blob/master/Quantile%20Loss.ipynb"
   ]
  },
  {
   "cell_type": "code",
   "execution_count": 7,
   "metadata": {},
   "outputs": [],
   "source": [
    "from typhon.retrieval.qrnn.qrnn import QRNN"
   ]
  },
  {
   "cell_type": "code",
   "execution_count": 8,
   "metadata": {},
   "outputs": [
    {
     "name": "stdout",
     "output_type": "stream",
     "text": [
      "WARNING:tensorflow:From c:\\Users\\filip\\AppData\\Local\\Programs\\Python\\Python311\\Lib\\site-packages\\keras\\src\\backend.py:873: The name tf.get_default_graph is deprecated. Please use tf.compat.v1.get_default_graph instead.\n",
      "\n"
     ]
    }
   ],
   "source": [
    "##Train test validation split##\n",
    "X_labels= ['Cloud_B02','Cloud_B03','Cloud_B04','Cloud_B05','Cloud_B06',\n",
    "           'Cloud_B07','Cloud_B08','Cloud_B09','Cloud_B10','Cloud_B11','Cloud_B12','Cloud_B13',\n",
    "           'Sat_Zenith_Angle','Sun_Zenith_Angle','Azimuth_Diff_Angle','Cloud_Type','Profile_ID','GOT','Water_Vapor']\n",
    "\n",
    "#Leave out 'GOT', 'Water_Vapor'\n",
    "#Band 1 no go.\n",
    "\n",
    "y_labels=['COT']\n",
    "\n",
    "df=hf.normalise_input_df(data_all,X_labels)\n",
    "df=hf.add_noise(df,X_labels,sigma=0.001)\n",
    "num_epochs=2\n",
    "batch_size=100\n",
    "\n",
    "\n",
    "##Split data##\n",
    "X=df[X_labels]\n",
    "y=df[y_labels]\n",
    "\n",
    "X_train, y_train, X_val, y_val, X_test, y_test=hf.split_data(X,y,split=[0.9,0.05,0.05])\n",
    "\n",
    "model=tf.keras.Sequential([\n",
    "    layers.Dense(32,input_dim=len(X_labels),activation='linear'),\n",
    "    layers.Dense(64,activation='relu'),\n",
    "    layers.Dense(64,activation='relu'),\n",
    "    layers.Dense(64,activation='relu'),\n",
    "    layers.Dense(len(y_labels),activation='linear')\n",
    "])\n"
   ]
  },
  {
   "cell_type": "code",
   "execution_count": 9,
   "metadata": {},
   "outputs": [
    {
     "name": "stderr",
     "output_type": "stream",
     "text": [
      "WARNING:absl:`lr` is deprecated in Keras optimizer, please use `learning_rate` or use the legacy optimizer, e.g.,tf.keras.optimizers.legacy.SGD.\n"
     ]
    },
    {
     "name": "stdout",
     "output_type": "stream",
     "text": [
      "Epoch 1/100\n"
     ]
    },
    {
     "name": "stderr",
     "output_type": "stream",
     "text": [
      "c:\\Users\\filip\\AppData\\Local\\Programs\\Python\\Python311\\Lib\\site-packages\\typhon\\retrieval\\qrnn\\models\\keras.py:448: UserWarning: `Model.fit_generator` is deprecated and will be removed in a future version. Please use `Model.fit`, which supports generators.\n",
      "  self.fit_generator(\n"
     ]
    },
    {
     "name": "stdout",
     "output_type": "stream",
     "text": [
      "WARNING:tensorflow:From c:\\Users\\filip\\AppData\\Local\\Programs\\Python\\Python311\\Lib\\site-packages\\keras\\src\\utils\\tf_utils.py:492: The name tf.ragged.RaggedTensorValue is deprecated. Please use tf.compat.v1.ragged.RaggedTensorValue instead.\n",
      "\n"
     ]
    },
    {
     "name": "stderr",
     "output_type": "stream",
     "text": [
      "WARNING:tensorflow:From c:\\Users\\filip\\AppData\\Local\\Programs\\Python\\Python311\\Lib\\site-packages\\keras\\src\\utils\\tf_utils.py:492: The name tf.ragged.RaggedTensorValue is deprecated. Please use tf.compat.v1.ragged.RaggedTensorValue instead.\n",
      "\n"
     ]
    },
    {
     "name": "stdout",
     "output_type": "stream",
     "text": [
      "1800/1800 [==============================] - 4s 2ms/step - loss: 3.9694\n",
      "Epoch 2/100\n",
      "1800/1800 [==============================] - 3s 2ms/step - loss: 2.1997\n",
      "Epoch 3/100\n",
      "1800/1800 [==============================] - 3s 2ms/step - loss: 1.9019\n",
      "Epoch 4/100\n",
      "1800/1800 [==============================] - 3s 2ms/step - loss: 1.7642\n",
      "Epoch 5/100\n",
      "1800/1800 [==============================] - 3s 2ms/step - loss: 1.6546\n",
      "Epoch 6/100\n",
      "1800/1800 [==============================] - 3s 2ms/step - loss: 1.5813\n",
      "Epoch 7/100\n",
      "1800/1800 [==============================] - 3s 2ms/step - loss: 1.5291\n",
      "Epoch 8/100\n",
      "1800/1800 [==============================] - 3s 2ms/step - loss: 1.4783\n",
      "Epoch 9/100\n",
      "1800/1800 [==============================] - 3s 2ms/step - loss: 1.4393\n",
      "Epoch 10/100\n",
      "1800/1800 [==============================] - 3s 2ms/step - loss: 1.4054\n",
      "Epoch 11/100\n",
      "1800/1800 [==============================] - 3s 2ms/step - loss: 1.3760\n",
      "Epoch 12/100\n",
      "1800/1800 [==============================] - 3s 2ms/step - loss: 1.3539\n",
      "Epoch 13/100\n",
      "1800/1800 [==============================] - 3s 2ms/step - loss: 1.3199\n",
      "Epoch 14/100\n",
      "1800/1800 [==============================] - 3s 2ms/step - loss: 1.3047\n",
      "Epoch 15/100\n",
      "1800/1800 [==============================] - 3s 2ms/step - loss: 1.2823\n",
      "Epoch 16/100\n",
      "1800/1800 [==============================] - 3s 2ms/step - loss: 1.2696\n",
      "Epoch 17/100\n",
      "1800/1800 [==============================] - 3s 2ms/step - loss: 1.2580\n",
      "Epoch 18/100\n",
      "1800/1800 [==============================] - 3s 2ms/step - loss: 1.2388\n",
      "Epoch 19/100\n",
      "1800/1800 [==============================] - 3s 2ms/step - loss: 1.2201\n",
      "Epoch 20/100\n",
      "1800/1800 [==============================] - 3s 2ms/step - loss: 1.2123\n",
      "Epoch 21/100\n",
      "1800/1800 [==============================] - 3s 2ms/step - loss: 1.1995\n",
      "Epoch 22/100\n",
      "1800/1800 [==============================] - 3s 2ms/step - loss: 1.1924\n",
      "Epoch 23/100\n",
      "1800/1800 [==============================] - 3s 2ms/step - loss: 1.1788\n",
      "Epoch 24/100\n",
      "1800/1800 [==============================] - 3s 2ms/step - loss: 1.1687\n",
      "Epoch 25/100\n",
      "1800/1800 [==============================] - 3s 2ms/step - loss: 1.1644\n",
      "Epoch 26/100\n",
      "1800/1800 [==============================] - 3s 2ms/step - loss: 1.1510\n",
      "Epoch 27/100\n",
      "1800/1800 [==============================] - 3s 2ms/step - loss: 1.1440\n",
      "Epoch 28/100\n",
      "1800/1800 [==============================] - 3s 2ms/step - loss: 1.1405\n",
      "Epoch 29/100\n",
      "1800/1800 [==============================] - 3s 2ms/step - loss: 1.1363\n",
      "Epoch 30/100\n",
      "1800/1800 [==============================] - 3s 2ms/step - loss: 1.1279\n",
      "Epoch 31/100\n",
      "1800/1800 [==============================] - 3s 2ms/step - loss: 1.1168\n",
      "Epoch 32/100\n",
      "1800/1800 [==============================] - 3s 2ms/step - loss: 1.1135\n",
      "Epoch 33/100\n",
      "1800/1800 [==============================] - 3s 2ms/step - loss: 1.1092\n",
      "Epoch 34/100\n",
      "1800/1800 [==============================] - 3s 2ms/step - loss: 1.1019\n",
      "Epoch 35/100\n",
      "1800/1800 [==============================] - 3s 2ms/step - loss: 1.0946\n",
      "Epoch 36/100\n",
      "1800/1800 [==============================] - 3s 2ms/step - loss: 1.0895\n",
      "Epoch 37/100\n",
      "1800/1800 [==============================] - 3s 2ms/step - loss: 1.0872\n",
      "Epoch 38/100\n",
      "1800/1800 [==============================] - 3s 2ms/step - loss: 1.0757\n",
      "Epoch 39/100\n",
      "1800/1800 [==============================] - 3s 2ms/step - loss: 1.0749\n",
      "Epoch 40/100\n",
      "1800/1800 [==============================] - 3s 2ms/step - loss: 1.0696\n",
      "Epoch 41/100\n",
      "1800/1800 [==============================] - 3s 2ms/step - loss: 1.0607\n",
      "Epoch 42/100\n",
      "1800/1800 [==============================] - 3s 2ms/step - loss: 1.0609\n",
      "Epoch 43/100\n",
      "1800/1800 [==============================] - 3s 2ms/step - loss: 1.0571\n",
      "Epoch 44/100\n",
      "1800/1800 [==============================] - 3s 2ms/step - loss: 1.0512\n",
      "Epoch 45/100\n",
      "1800/1800 [==============================] - 3s 2ms/step - loss: 1.0507\n",
      "Epoch 46/100\n",
      "1800/1800 [==============================] - 3s 2ms/step - loss: 1.0466\n",
      "Epoch 47/100\n",
      "1800/1800 [==============================] - 3s 2ms/step - loss: 1.0431\n",
      "Epoch 48/100\n",
      "1800/1800 [==============================] - 3s 2ms/step - loss: 1.0383\n",
      "Epoch 49/100\n",
      "1800/1800 [==============================] - 3s 2ms/step - loss: 1.0364\n",
      "Epoch 50/100\n",
      "1800/1800 [==============================] - 3s 2ms/step - loss: 1.0292\n",
      "Epoch 51/100\n",
      "1800/1800 [==============================] - 3s 2ms/step - loss: 1.0280\n",
      "Epoch 52/100\n",
      "1800/1800 [==============================] - 3s 2ms/step - loss: 1.0226\n",
      "Epoch 53/100\n",
      "1800/1800 [==============================] - 3s 2ms/step - loss: 1.0187\n",
      "Epoch 54/100\n",
      "1800/1800 [==============================] - 3s 2ms/step - loss: 1.0202\n",
      "Epoch 55/100\n",
      "1800/1800 [==============================] - 3s 2ms/step - loss: 1.0141\n",
      "Epoch 56/100\n",
      "1800/1800 [==============================] - 3s 2ms/step - loss: 1.0068\n",
      "Epoch 57/100\n",
      "1800/1800 [==============================] - 3s 2ms/step - loss: 1.0051\n",
      "Epoch 58/100\n",
      "1800/1800 [==============================] - 3s 2ms/step - loss: 1.0056\n",
      "Epoch 59/100\n",
      "1800/1800 [==============================] - 3s 2ms/step - loss: 1.0045\n",
      "Epoch 60/100\n",
      "1800/1800 [==============================] - 3s 2ms/step - loss: 0.9974\n",
      "Epoch 61/100\n",
      "1800/1800 [==============================] - 3s 2ms/step - loss: 0.9963\n",
      "Epoch 62/100\n",
      "1800/1800 [==============================] - 3s 2ms/step - loss: 0.9981\n",
      "Epoch 63/100\n",
      "1800/1800 [==============================] - 3s 2ms/step - loss: 0.9911\n",
      "Epoch 64/100\n",
      "1800/1800 [==============================] - 3s 2ms/step - loss: 0.9869\n",
      "Epoch 65/100\n",
      "1800/1800 [==============================] - 3s 2ms/step - loss: 0.9836\n",
      "Epoch 66/100\n",
      "1800/1800 [==============================] - 3s 2ms/step - loss: 0.9823\n",
      "Epoch 67/100\n",
      "1800/1800 [==============================] - 3s 2ms/step - loss: 0.9796\n",
      "Epoch 68/100\n",
      "1800/1800 [==============================] - 3s 2ms/step - loss: 0.9776\n",
      "Epoch 69/100\n",
      "1800/1800 [==============================] - 3s 2ms/step - loss: 0.9740\n",
      "Epoch 70/100\n",
      "1800/1800 [==============================] - 3s 2ms/step - loss: 0.9740\n",
      "Epoch 71/100\n",
      "1800/1800 [==============================] - 3s 2ms/step - loss: 0.9714\n",
      "Epoch 72/100\n",
      "1800/1800 [==============================] - 3s 2ms/step - loss: 0.9676\n",
      "Epoch 73/100\n",
      "1800/1800 [==============================] - 3s 2ms/step - loss: 0.9677\n",
      "Epoch 74/100\n",
      "1800/1800 [==============================] - 3s 2ms/step - loss: 0.9638\n",
      "Epoch 75/100\n",
      "1800/1800 [==============================] - 3s 2ms/step - loss: 0.9618\n",
      "Epoch 76/100\n",
      "1800/1800 [==============================] - 3s 2ms/step - loss: 0.9543\n",
      "Epoch 77/100\n",
      "1800/1800 [==============================] - 3s 2ms/step - loss: 0.9567\n",
      "Epoch 78/100\n",
      "1800/1800 [==============================] - 3s 2ms/step - loss: 0.9572\n",
      "Epoch 79/100\n",
      "1800/1800 [==============================] - 3s 2ms/step - loss: 0.9543\n",
      "Epoch 80/100\n",
      "1800/1800 [==============================] - 3s 2ms/step - loss: 0.9483\n",
      "Epoch 81/100\n",
      "1800/1800 [==============================] - 3s 2ms/step - loss: 0.9519\n",
      "Epoch 82/100\n",
      "1800/1800 [==============================] - 3s 2ms/step - loss: 0.9475\n",
      "Epoch 83/100\n",
      "1800/1800 [==============================] - 3s 2ms/step - loss: 0.9458\n",
      "Epoch 84/100\n",
      "1800/1800 [==============================] - 3s 2ms/step - loss: 0.9464\n",
      "Epoch 85/100\n",
      "1800/1800 [==============================] - 3s 2ms/step - loss: 0.9435\n",
      "Epoch 86/100\n",
      "1800/1800 [==============================] - 3s 2ms/step - loss: 0.9408\n",
      "Epoch 87/100\n",
      "1800/1800 [==============================] - 3s 2ms/step - loss: 0.9416\n",
      "Epoch 88/100\n",
      "1800/1800 [==============================] - 3s 2ms/step - loss: 0.9364\n",
      "Epoch 89/100\n",
      "1800/1800 [==============================] - 3s 2ms/step - loss: 0.9391\n",
      "Epoch 90/100\n",
      "1800/1800 [==============================] - 3s 2ms/step - loss: 0.9398\n",
      "Epoch 91/100\n",
      "1800/1800 [==============================] - 3s 2ms/step - loss: 0.9342\n",
      "Epoch 92/100\n",
      "1800/1800 [==============================] - 3s 2ms/step - loss: 0.9322\n",
      "Epoch 93/100\n",
      "1800/1800 [==============================] - 3s 2ms/step - loss: 0.9312\n",
      "Epoch 94/100\n",
      "1800/1800 [==============================] - 3s 2ms/step - loss: 0.9292\n",
      "Epoch 95/100\n",
      "1800/1800 [==============================] - 3s 2ms/step - loss: 0.9246\n",
      "Epoch 96/100\n",
      "1800/1800 [==============================] - 3s 2ms/step - loss: 0.9256\n",
      "Epoch 97/100\n",
      "1800/1800 [==============================] - 3s 2ms/step - loss: 0.9252\n",
      "Epoch 98/100\n",
      "1800/1800 [==============================] - 3s 2ms/step - loss: 0.9249\n",
      "Epoch 99/100\n",
      "1800/1800 [==============================] - 3s 2ms/step - loss: 0.9205\n",
      "Epoch 100/100\n",
      "1800/1800 [==============================] - 3s 2ms/step - loss: 0.9185\n"
     ]
    }
   ],
   "source": [
    "quantiles=[0.1,0.5,0.9]\n",
    "qrnn=QRNN(len(X_train.columns),quantiles=quantiles,model=(5,64,'relu'))\n",
    "\n",
    "train_data_tuple=(X_train.values,y_train.values)\n",
    "val_data_tuple=(X_val.values,y_val.values)\n",
    "\n",
    "qrnn.train(training_data=train_data_tuple,\n",
    "            initial_learning_rate = 0.01,\n",
    "            learning_rate_minimum = 1e-4,\n",
    "            batch_size=100,\n",
    "            convergence_epochs=10,\n",
    "            maximum_epochs=100,\n",
    "            training_split=0.05)\n"
   ]
  },
  {
   "cell_type": "code",
   "execution_count": 12,
   "metadata": {},
   "outputs": [
    {
     "name": "stdout",
     "output_type": "stream",
     "text": [
      "594/594 [==============================] - 1s 1ms/step\n",
      "594/594 [==============================] - 1s 1ms/step\n"
     ]
    }
   ],
   "source": [
    "y_pred=qrnn.predict(X_test.values)\n",
    "y_pred_mean=qrnn.posterior_mean(X_test.values)"
   ]
  },
  {
   "cell_type": "code",
   "execution_count": 13,
   "metadata": {},
   "outputs": [
    {
     "data": {
      "image/png": "[encoded data removed]",
      "text/plain": [
       "<Figure size 640x480 with 1 Axes>"
      ]
     },
     "metadata": {},
     "output_type": "display_data"
    }
   ],
   "source": [
    "samples=50\n",
    "y_plot=y_test[0:samples].to_numpy()[:,0]\n",
    "sort_indices=np.argsort(y_plot)\n",
    "\n",
    "y_plot_sort=y_plot[sort_indices]\n",
    "y_pred_plot=y_pred[0:samples]\n",
    "y_pred_plot_sort=y_pred_plot.copy()\n",
    "for i in range(len(y_pred_plot[0,:])):\n",
    "    tmp=y_pred_plot[:,i]\n",
    "    tmp=tmp[sort_indices]\n",
    "    y_pred_plot_sort[:,i]=tmp\n",
    "\n",
    "y_pred_mean_plot_sort=y_pred_mean[0:samples]\n",
    "y_pred_mean_plot_sort=y_pred_mean_plot_sort[sort_indices]\n",
    "\n",
    "plt.plot(np.sort(y_plot_sort),'.')\n",
    "plt.plot(y_pred_plot_sort)\n",
    "plt.plot(y_pred_mean_plot_sort)\n",
    "plt.legend(['True COT value',str(quantiles[0])+' quantile',str(quantiles[1])+' quantile',str(quantiles[2])+' quantile','posterior mean'])\n",
    "plt.show()"
   ]
  },
  {
   "cell_type": "code",
   "execution_count": 25,
   "metadata": {},
   "outputs": [
    {
     "name": "stdout",
     "output_type": "stream",
     "text": [
      "MSE using median (quantile 0.5) as prediction: 4.390986595083303\n",
      "MSE using posterior mean as prediction: 4.402524470878011\n"
     ]
    }
   ],
   "source": [
    "print(\"MSE using median (quantile 0.5) as prediction: \"+str(np.mean((y_test.to_numpy()[:,0]-y_pred[:,1])**2)))\n",
    "print(\"MSE using posterior mean as prediction: \"+str(np.mean((y_test.to_numpy()[:,0]-y_pred_mean)**2)))"
   ]
  }
 ],
 "metadata": {
  "kernelspec": {
   "display_name": "Python 3",
   "language": "python",
   "name": "python3"
  },
  "language_info": {
   "codemirror_mode": {
    "name": "ipython",
    "version": 3
   },
   "file_extension": ".py",
   "mimetype": "text/x-python",
   "name": "python",
   "nbconvert_exporter": "python",
   "pygments_lexer": "ipython3",
   "version": "3.11.5"
  }
 },
 "nbformat": 4,
 "nbformat_minor": 2
}
