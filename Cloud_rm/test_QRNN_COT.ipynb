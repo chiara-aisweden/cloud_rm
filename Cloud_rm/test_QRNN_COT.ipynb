{
 "cells": [
  {
   "cell_type": "code",
   "execution_count": 1,
   "metadata": {},
   "outputs": [
    {
     "name": "stdout",
     "output_type": "stream",
     "text": [
      "WARNING:tensorflow:From c:\\Users\\filip\\AppData\\Local\\Programs\\Python\\Python311\\Lib\\site-packages\\keras\\src\\losses.py:2976: The name tf.losses.sparse_softmax_cross_entropy is deprecated. Please use tf.compat.v1.losses.sparse_softmax_cross_entropy instead.\n",
      "\n",
      "WARNING:tensorflow:From c:\\Users\\filip\\AppData\\Local\\Programs\\Python\\Python311\\Lib\\site-packages\\tensorflow_probability\\python\\internal\\backend\\numpy\\_utils.py:48: The name tf.logging.TaskLevelStatusMessage is deprecated. Please use tf.compat.v1.logging.TaskLevelStatusMessage instead.\n",
      "\n",
      "WARNING:tensorflow:From c:\\Users\\filip\\AppData\\Local\\Programs\\Python\\Python311\\Lib\\site-packages\\tensorflow_probability\\python\\internal\\backend\\numpy\\_utils.py:48: The name tf.control_flow_v2_enabled is deprecated. Please use tf.compat.v1.control_flow_v2_enabled instead.\n",
      "\n"
     ]
    }
   ],
   "source": [
    "import numpy as np\n",
    "import pandas as pd\n",
    "import matplotlib.pyplot as plt\n",
    "import sys\n",
    "\n",
    "import tensorflow as tf\n",
    "from tensorflow.python.keras import layers\n",
    "import tensorflow_probability as tfp\n",
    "from tensorflow.python.keras.callbacks import Callback\n",
    "from sklearn.model_selection import train_test_split\n",
    "\n",
    "import keras.backend as K\n",
    "\n",
    "\n",
    "import functions.parse_data as parse\n",
    "import functions.models as md\n",
    "import functions.handy_functions as hf\n",
    "\n",
    "from keras.utils import plot_model\n",
    "from IPython.display import Image\n",
    "\n",
    "from tensorflow_probability import layers as tfpl"
   ]
  },
  {
   "cell_type": "code",
   "execution_count": 2,
   "metadata": {},
   "outputs": [],
   "source": [
    "data_water=parse.parse('cloudrm_water.dat')\n",
    "data_clear=parse.parse('cloudrm_clear.dat')\n",
    "data_ice=parse.parse('cloudrm_ice.dat')\n",
    "data_mixed=parse.parse('cloudrm_mixed.dat')\n",
    "\n",
    "#Concatinate all datasets\n",
    "data_all=pd.concat([data_water, data_clear, data_ice, data_mixed])\n",
    "data_all=data_all.drop(columns=['Surface_Desc','Cloud_B01','Clear_B01'])\n"
   ]
  },
  {
   "cell_type": "code",
   "execution_count": 3,
   "metadata": {},
   "outputs": [],
   "source": [
    "#Function taken from: https://github.com/sachinruk/KerasQuantileModel/blob/master/Keras%20Quantile%20Model.ipynb\n",
    "#As a notebook from reading: https://towardsdatascience.com/deep-quantile-regression-c85481548b5a\n",
    "def tilted_loss(q,y,f):\n",
    "    e = (y-f)\n",
    "    return K.mean(K.maximum(q*e, (q-1)*e), axis=-1)"
   ]
  },
  {
   "cell_type": "code",
   "execution_count": 5,
   "metadata": {},
   "outputs": [],
   "source": [
    "##Train test validation split##\n",
    "X_labels= ['Cloud_B02','Cloud_B03','Cloud_B04','Cloud_B05','Cloud_B06',\n",
    "           'Cloud_B07','Cloud_B08','Cloud_B09','Cloud_B10','Cloud_B11','Cloud_B12','Cloud_B13',\n",
    "           'Sat_Zenith_Angle','Sun_Zenith_Angle','Azimuth_Diff_Angle','Cloud_Type','Profile_ID','GOT','Water_Vapor']\n",
    "\n",
    "#Leave out 'GOT', 'Water_Vapor'\n",
    "#Band 1 no go.\n",
    "\n",
    "y_labels=['COT']\n",
    "\n",
    "df=hf.normalise_input_df(data_all,X_labels)\n",
    "df=hf.add_noise(df,X_labels,sigma=0.001)\n",
    "num_epochs=2\n",
    "batch_size=100\n",
    "\n",
    "\n",
    "##Split data##\n",
    "X=df[X_labels]\n",
    "y=df[y_labels]\n",
    "\n",
    "X_train, y_train, X_val, y_val, X_test, y_test=hf.split_data(X,y,split=[0.9,0.05,0.05])\n",
    "\n",
    "\n",
    "\n"
   ]
  },
  {
   "cell_type": "markdown",
   "metadata": {},
   "source": [
    "Simultaneous multiple quantiles instead of a new network for each quantile may be found in:\n",
    "https://github.com/strongio/quantile-regression-tensorflow/blob/master/Quantile%20Loss.ipynb"
   ]
  },
  {
   "cell_type": "code",
   "execution_count": 7,
   "metadata": {},
   "outputs": [],
   "source": [
    "from typhon.retrieval.qrnn.qrnn import QRNN"
   ]
  },
  {
   "cell_type": "code",
   "execution_count": 8,
   "metadata": {},
   "outputs": [],
   "source": [
    "##Train test validation split##\n",
    "X_labels= ['Cloud_B02','Cloud_B03','Cloud_B04','Cloud_B05','Cloud_B06',\n",
    "           'Cloud_B07','Cloud_B08','Cloud_B09','Cloud_B10','Cloud_B11','Cloud_B12','Cloud_B13',\n",
    "           'Sat_Zenith_Angle','Sun_Zenith_Angle','Azimuth_Diff_Angle','Cloud_Type','Profile_ID','GOT','Water_Vapor']\n",
    "\n",
    "#Leave out 'GOT', 'Water_Vapor'\n",
    "#Band 1 no go.\n",
    "\n",
    "y_labels=['COT']\n",
    "\n",
    "df=hf.normalise_input_df(data_all,X_labels)\n",
    "df=hf.add_noise(df,X_labels,sigma=0.001)\n",
    "num_epochs=2\n",
    "batch_size=100\n",
    "\n",
    "\n",
    "##Split data##\n",
    "X=df[X_labels]\n",
    "y=df[y_labels]\n",
    "\n",
    "X_train, y_train, X_val, y_val, X_test, y_test=hf.split_data(X,y,split=[0.9,0.05,0.05])\n",
    "\n",
    "model=tf.keras.Sequential([\n",
    "    layers.Dense(32,input_dim=len(X_labels),activation='linear'),\n",
    "    layers.Dense(64,activation='relu'),\n",
    "    layers.Dense(64,activation='relu'),\n",
    "    layers.Dense(64,activation='relu'),\n",
    "    layers.Dense(len(y_labels),activation='linear')\n",
    "])\n"
   ]
  },
  {
   "cell_type": "code",
   "execution_count": 11,
   "metadata": {},
   "outputs": [
    {
     "name": "stderr",
     "output_type": "stream",
     "text": [
      "WARNING:absl:`lr` is deprecated in Keras optimizer, please use `learning_rate` or use the legacy optimizer, e.g.,tf.keras.optimizers.legacy.SGD.\n"
     ]
    },
    {
     "name": "stdout",
     "output_type": "stream",
     "text": [
      "Epoch 1/20\n",
      "1800/1800 [==============================] - 4s 2ms/step - loss: 4.4256\n",
      "Epoch 2/20\n",
      "1800/1800 [==============================] - 3s 2ms/step - loss: 2.4080\n",
      "Epoch 3/20\n",
      "1800/1800 [==============================] - 3s 2ms/step - loss: 2.0914\n",
      "Epoch 4/20\n",
      "1800/1800 [==============================] - 4s 2ms/step - loss: 1.9194\n",
      "Epoch 5/20\n",
      "1800/1800 [==============================] - 3s 2ms/step - loss: 1.8180\n",
      "Epoch 6/20\n",
      "1800/1800 [==============================] - 3s 2ms/step - loss: 1.7296\n",
      "Epoch 7/20\n",
      "1800/1800 [==============================] - 5s 3ms/step - loss: 1.6709\n",
      "Epoch 8/20\n",
      "1800/1800 [==============================] - 5s 3ms/step - loss: 1.6221\n",
      "Epoch 9/20\n",
      "1800/1800 [==============================] - 4s 2ms/step - loss: 1.5836\n",
      "Epoch 10/20\n",
      "1800/1800 [==============================] - 4s 2ms/step - loss: 1.5462\n",
      "Epoch 11/20\n",
      "1800/1800 [==============================] - 3s 2ms/step - loss: 1.5199\n",
      "Epoch 12/20\n",
      "1800/1800 [==============================] - 3s 2ms/step - loss: 1.4891\n",
      "Epoch 13/20\n",
      "1800/1800 [==============================] - 3s 2ms/step - loss: 1.4645\n",
      "Epoch 14/20\n",
      "1800/1800 [==============================] - 3s 2ms/step - loss: 1.4445\n",
      "Epoch 15/20\n",
      "1800/1800 [==============================] - 3s 2ms/step - loss: 1.4235\n",
      "Epoch 16/20\n",
      "1800/1800 [==============================] - 3s 2ms/step - loss: 1.3932\n",
      "Epoch 17/20\n",
      "1800/1800 [==============================] - 3s 2ms/step - loss: 1.3861\n",
      "Epoch 18/20\n",
      "1800/1800 [==============================] - 3s 2ms/step - loss: 1.3725\n",
      "Epoch 19/20\n",
      "1800/1800 [==============================] - 3s 2ms/step - loss: 1.3558\n",
      "Epoch 20/20\n",
      "1800/1800 [==============================] - 3s 2ms/step - loss: 1.3411\n"
     ]
    }
   ],
   "source": [
    "quantiles=[0.1,0.5,0.9]\n",
    "qrnn=QRNN(len(X_train.columns),quantiles=quantiles,model=(3,128,'relu'))\n",
    "\n",
    "train_data_tuple=(X_train.values,y_train.values)\n",
    "val_data_tuple=(X_val.values,y_val.values)\n",
    "\n",
    "qrnn.train(training_data=train_data_tuple,\n",
    "            initial_learning_rate = 0.01,\n",
    "            learning_rate_minimum = 1e-4,\n",
    "            batch_size=100,\n",
    "            convergence_epochs=10,\n",
    "            maximum_epochs=20,\n",
    "            training_split=0.05)\n"
   ]
  },
  {
   "cell_type": "code",
   "execution_count": 14,
   "metadata": {},
   "outputs": [
    {
     "name": "stdout",
     "output_type": "stream",
     "text": [
      "594/594 [==============================] - 1s 2ms/step\n"
     ]
    }
   ],
   "source": [
    "y_pred=qrnn.predict(X_test.values)"
   ]
  },
  {
   "cell_type": "code",
   "execution_count": 46,
   "metadata": {},
   "outputs": [
    {
     "data": {
      "text/plain": [
       "[<matplotlib.lines.Line2D at 0x29ccc133950>,\n",
       " <matplotlib.lines.Line2D at 0x29ccc270e50>,\n",
       " <matplotlib.lines.Line2D at 0x29ccc271090>]"
      ]
     },
     "execution_count": 46,
     "metadata": {},
     "output_type": "execute_result"
    },
    {
     "data": {
      "image/png": "[encoded data removed]",
      "text/plain": [
       "<Figure size 640x480 with 1 Axes>"
      ]
     },
     "metadata": {},
     "output_type": "display_data"
    }
   ],
   "source": [
    "samples=50\n",
    "y_plot=y_test[0:samples].to_numpy()[:,0]\n",
    "sort_indices=np.argsort(y_plot)\n",
    "\n",
    "y_plot_sort=y_plot[sort_indices]\n",
    "y_pred_plot=y_pred[0:samples]\n",
    "y_pred_plot_sort=y_pred_plot.copy()\n",
    "for i in range(len(y_pred_plot[0,:])):\n",
    "    tmp=y_pred_plot[:,i]\n",
    "    tmp=tmp[sort_indices]\n",
    "    y_pred_plot_sort[:,i]=tmp\n",
    "\n",
    "plt.plot(np.sort(y_plot_sort),'.')\n",
    "plt.plot(y_pred_plot_sort)\n",
    "plt.show()"
   ]
  },
  {
   "cell_type": "code",
   "execution_count": null,
   "metadata": {},
   "outputs": [],
   "source": []
  }
 ],
 "metadata": {
  "kernelspec": {
   "display_name": "Python 3",
   "language": "python",
   "name": "python3"
  },
  "language_info": {
   "codemirror_mode": {
    "name": "ipython",
    "version": 3
   },
   "file_extension": ".py",
   "mimetype": "text/x-python",
   "name": "python",
   "nbconvert_exporter": "python",
   "pygments_lexer": "ipython3",
   "version": "3.11.5"
  }
 },
 "nbformat": 4,
 "nbformat_minor": 2
}
