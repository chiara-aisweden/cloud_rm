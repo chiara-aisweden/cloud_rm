{
 "cells": [
  {
   "cell_type": "code",
   "execution_count": 13,
   "metadata": {},
   "outputs": [],
   "source": [
    "import openeo\n",
    "from matplotlib import pyplot as plt\n",
    "import rasterio.plot\n",
    "import io\n",
    "import tarfile\n",
    "import numpy as np\n",
    "import glob\n",
    "import re\n",
    "import os\n",
    "import xarray as xr\n",
    "import torch\n",
    "import functions.handy_functions as hf\n",
    "import functions.parse_data as parse\n",
    "import pandas as pd\n",
    "\n",
    "%matplotlib inline\n",
    "plt.rcParams['figure.figsize'] = [20, 10]"
   ]
  },
  {
   "cell_type": "code",
   "execution_count": 14,
   "metadata": {},
   "outputs": [],
   "source": [
    "main_dir='/cloud/skogsstyrelsen_pairs/'\n",
    "directories=os.listdir(main_dir)\n",
    "#directories"
   ]
  },
  {
   "cell_type": "code",
   "execution_count": 20,
   "metadata": {},
   "outputs": [],
   "source": [
    "bounds_all=[]\n",
    "temporals_all=[]\n",
    "for dir in directories:\n",
    "    data_clear=xr.load_dataset(main_dir+dir+'/clear_data.nc', engine='netcdf4', decode_times=True)\n",
    "    data_cloudy=xr.load_dataset(main_dir+dir+'/cloudy_data.nc', engine='netcdf4', decode_times=True)\n",
    "\n",
    "    variables=data_clear.variables\n",
    "    bound_clear=[variables['west'],variables['east'],variables['north'],variables['south']]\n",
    "    temporal_clear=data_clear.t.data[0]\n",
    "\n",
    "    variables=data_cloudy.variables\n",
    "    bound_cloudy=[variables['west'],variables['east'],variables['north'],variables['south']]\n",
    "    temporal_cloudy=data_cloudy.t.data[0]\n",
    "    \n",
    "    temporals_all.append([temporal_clear,temporal_cloudy])\n",
    "    bounds_all.append([bound_clear,bound_cloudy])"
   ]
  },
  {
   "cell_type": "code",
   "execution_count": null,
   "metadata": {},
   "outputs": [],
   "source": []
  }
 ],
 "metadata": {
  "kernelspec": {
   "display_name": "Python 3",
   "language": "python",
   "name": "python3"
  },
  "language_info": {
   "codemirror_mode": {
    "name": "ipython",
    "version": 3
   },
   "file_extension": ".py",
   "mimetype": "text/x-python",
   "name": "python",
   "nbconvert_exporter": "python",
   "pygments_lexer": "ipython3",
   "version": "3.10.12"
  }
 },
 "nbformat": 4,
 "nbformat_minor": 2
}
