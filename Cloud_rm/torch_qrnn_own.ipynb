{
 "cells": [
  {
   "cell_type": "code",
   "execution_count": 1,
   "metadata": {},
   "outputs": [
    {
     "name": "stdout",
     "output_type": "stream",
     "text": [
      "WARNING:tensorflow:From c:\\Users\\filip\\AppData\\Local\\Programs\\Python\\Python311\\Lib\\site-packages\\keras\\src\\losses.py:2976: The name tf.losses.sparse_softmax_cross_entropy is deprecated. Please use tf.compat.v1.losses.sparse_softmax_cross_entropy instead.\n",
      "\n"
     ]
    }
   ],
   "source": [
    "import numpy as np\n",
    "import pandas as pd\n",
    "import matplotlib.pyplot as plt\n",
    "import sys\n",
    "\n",
    "\n",
    "import functions.parse_data as parse\n",
    "import functions.handy_functions as hf\n",
    "import torch.nn as nn\n",
    "\n",
    "from multivariate_quantile_regression.network_model import QuantileNetwork\n",
    "\n",
    "from sklearn.metrics import mean_squared_error\n",
    "from sklearn.model_selection import train_test_split\n",
    "\n",
    "from tqdm import tqdm"
   ]
  },
  {
   "cell_type": "code",
   "execution_count": 2,
   "metadata": {},
   "outputs": [
    {
     "name": "stdout",
     "output_type": "stream",
     "text": [
      "Noise standard deviation for Cloud_B02: 0.00335001428051948\n",
      "Noise standard deviation for Cloud_B03: 0.002912530185416667\n",
      "Noise standard deviation for Cloud_B04: 0.004058081082042254\n",
      "Noise standard deviation for Cloud_B05: 0.0046524891611111115\n",
      "Noise standard deviation for Cloud_B06: 0.007455351321348316\n",
      "Noise standard deviation for Cloud_B07: 0.008871707484285717\n",
      "Noise standard deviation for Cloud_B08: 0.04489677938000001\n",
      "Noise standard deviation for Cloud_B09: 0.005688141120114942\n",
      "Noise standard deviation for Cloud_B10: 0.003909328971491229\n",
      "Noise standard deviation for Cloud_B11: 0.0014014724139999996\n",
      "Noise standard deviation for Cloud_B12: 0.005030040539999999\n",
      "Noise standard deviation for Cloud_B13: 0.004041267081999999\n"
     ]
    }
   ],
   "source": [
    "channel_labels= ['Cloud_B02','Cloud_B03','Cloud_B04','Cloud_B05','Cloud_B06','Cloud_B07',\n",
    "                 'Cloud_B08','Cloud_B09','Cloud_B10','Cloud_B11','Cloud_B12','Cloud_B13']\n",
    "\n",
    "data_water=parse.parse('cloudrm_water.dat')\n",
    "data_clear=parse.parse('cloudrm_clear.dat')\n",
    "data_ice=parse.parse('cloudrm_ice.dat')\n",
    "data_mixed=parse.parse('cloudrm_mixed.dat')\n",
    "\n",
    "#Concatinate all datasets\n",
    "data_all=pd.concat([data_water, data_clear, data_ice, data_mixed])\n",
    "data_all=data_all.drop(columns=['Surface_Desc','Cloud_B01','Clear_B01'])\n",
    "df_truth=data_all.copy()\n",
    "\n",
    "data_all=hf.add_MSI_noise(data_all,channel_labels)"
   ]
  },
  {
   "cell_type": "code",
   "execution_count": 3,
   "metadata": {},
   "outputs": [],
   "source": [
    "##Train test validation split##\n",
    "X_labels= ['Cloud_B02','Cloud_B03','Cloud_B04','Cloud_B05','Cloud_B06',\n",
    "           'Cloud_B07','Cloud_B08','Cloud_B09','Cloud_B10','Cloud_B11','Cloud_B12','Cloud_B13',\n",
    "           'Sat_Zenith_Angle','Sun_Zenith_Angle','Azimuth_Diff_Angle']\n",
    "\n",
    "#Leave out 'GOT', 'Water_Vapor'\n",
    "#Band 1 no go.\n",
    "y_labels=['Clear_B02','Clear_B03','Clear_B04','Clear_B05','Clear_B06',\n",
    "           'Clear_B07','Clear_B08','Clear_B09','Clear_B10','Clear_B11','Clear_B12','Clear_B13']\n",
    "\n",
    "X_truth=df_truth[X_labels]\n",
    "\n",
    "df=hf.normalise_input_df(data_all,X_labels)\n",
    "df=hf.add_noise(df,X_labels,sigma=0.001)\n",
    "\n",
    "##Split data##\n",
    "X=df[X_labels]\n",
    "y=df[y_labels]\n",
    "\n",
    "X_train, X_test, y_train, y_test=train_test_split(X,y,test_size=0.05)\n",
    "\n",
    "X_test_truth=X_truth.iloc[X_test.index] #Save truth values without normalisation"
   ]
  },
  {
   "cell_type": "code",
   "execution_count": 4,
   "metadata": {},
   "outputs": [],
   "source": [
    "import random\n",
    "\n",
    "val_size=0.05\n",
    "validation_indices=np.array(random.sample(range(len(X_train['Cloud_B02'])), int(len(X_train['Cloud_B02'])*val_size)))\n",
    "train_indices=[i for i in range(len(X_train['Cloud_B02'])) if np.any(validation_indices==i)==False]"
   ]
  },
  {
   "cell_type": "code",
   "execution_count": 5,
   "metadata": {},
   "outputs": [
    {
     "name": "stdout",
     "output_type": "stream",
     "text": [
      "Epoch 1\n"
     ]
    },
    {
     "name": "stderr",
     "output_type": "stream",
     "text": [
      "Batch number: 100%|██████████| 1805/1805 [00:03<00:00, 474.61it/s]"
     ]
    },
    {
     "name": "stdout",
     "output_type": "stream",
     "text": [
      "Training loss [0.8255228] Validation loss [0.6574618]\n",
      "----New best validation loss---- [0.6574618]\n",
      "Epoch 2\n"
     ]
    },
    {
     "name": "stderr",
     "output_type": "stream",
     "text": [
      "\n",
      "Batch number: 100%|██████████| 1805/1805 [00:03<00:00, 465.23it/s]\n"
     ]
    },
    {
     "name": "stdout",
     "output_type": "stream",
     "text": [
      "Training loss [0.57905763] Validation loss [0.54817003]\n",
      "----New best validation loss---- [0.54817003]\n",
      "Epoch 3\n"
     ]
    },
    {
     "name": "stderr",
     "output_type": "stream",
     "text": [
      "Batch number: 100%|██████████| 1805/1805 [00:03<00:00, 459.17it/s]\n"
     ]
    },
    {
     "name": "stdout",
     "output_type": "stream",
     "text": [
      "Training loss [0.5365154] Validation loss [0.52416116]\n",
      "----New best validation loss---- [0.52416116]\n",
      "Epoch 4\n"
     ]
    },
    {
     "name": "stderr",
     "output_type": "stream",
     "text": [
      "Batch number: 100%|██████████| 1805/1805 [00:04<00:00, 447.36it/s]"
     ]
    },
    {
     "name": "stdout",
     "output_type": "stream",
     "text": [
      "Training loss [0.5143992] Validation loss [0.50605375]\n",
      "----New best validation loss---- [0.50605375]\n",
      "Epoch 5\n"
     ]
    },
    {
     "name": "stderr",
     "output_type": "stream",
     "text": [
      "\n",
      "Batch number: 100%|██████████| 1805/1805 [00:04<00:00, 449.25it/s]"
     ]
    },
    {
     "name": "stdout",
     "output_type": "stream",
     "text": [
      "Training loss [0.50074595] Validation loss [0.49946454]\n",
      "----New best validation loss---- [0.49946454]\n",
      "Epoch 6\n"
     ]
    },
    {
     "name": "stderr",
     "output_type": "stream",
     "text": [
      "\n",
      "Batch number: 100%|██████████| 1805/1805 [00:04<00:00, 450.97it/s]"
     ]
    },
    {
     "name": "stdout",
     "output_type": "stream",
     "text": [
      "Training loss [0.49090427] Validation loss [0.49050978]\n",
      "----New best validation loss---- [0.49050978]\n",
      "Epoch 7\n"
     ]
    },
    {
     "name": "stderr",
     "output_type": "stream",
     "text": [
      "\n",
      "Batch number: 100%|██████████| 1805/1805 [00:04<00:00, 441.86it/s]\n"
     ]
    },
    {
     "name": "stdout",
     "output_type": "stream",
     "text": [
      "Training loss [0.48250496] Validation loss [0.47858825]\n",
      "----New best validation loss---- [0.47858825]\n",
      "Epoch 8\n"
     ]
    },
    {
     "name": "stderr",
     "output_type": "stream",
     "text": [
      "Batch number: 100%|██████████| 1805/1805 [00:04<00:00, 443.02it/s]\n"
     ]
    },
    {
     "name": "stdout",
     "output_type": "stream",
     "text": [
      "Training loss [0.47516543] Validation loss [0.47299126]\n",
      "----New best validation loss---- [0.47299126]\n",
      "Epoch 9\n"
     ]
    },
    {
     "name": "stderr",
     "output_type": "stream",
     "text": [
      "Batch number: 100%|██████████| 1805/1805 [00:03<00:00, 452.35it/s]"
     ]
    },
    {
     "name": "stdout",
     "output_type": "stream",
     "text": [
      "Training loss [0.469867] Validation loss [0.4767306]\n",
      "Epoch 10\n"
     ]
    },
    {
     "name": "stderr",
     "output_type": "stream",
     "text": [
      "\n",
      "Batch number: 100%|██████████| 1805/1805 [00:04<00:00, 444.73it/s]\n"
     ]
    },
    {
     "name": "stdout",
     "output_type": "stream",
     "text": [
      "Training loss [0.46513954] Validation loss [0.46171984]\n",
      "----New best validation loss---- [0.46171984]\n",
      "Best model out of total max epochs found at epoch 10\n"
     ]
    }
   ],
   "source": [
    "quantiles=np.array([0.1,0.5,0.9])\n",
    "batch_size=100\n",
    "nepochs=10\n",
    "\n",
    "model=QuantileNetwork(quantiles=quantiles)\n",
    "\n",
    "# Add everything but the output layer\n",
    "sequence=nn.Sequential(\n",
    "    nn.Linear(len(X_labels),64),\n",
    "    nn.ReLU(),\n",
    "    nn.Linear(64,64),\n",
    "    nn.ReLU()\n",
    ")\n",
    "model.fit(X_train.to_numpy(),y_train.to_numpy(), \n",
    "          train_indices, \n",
    "          validation_indices, \n",
    "          batch_size=batch_size,\n",
    "          nepochs=nepochs,\n",
    "          sequence=sequence)"
   ]
  },
  {
   "cell_type": "code",
   "execution_count": 6,
   "metadata": {},
   "outputs": [],
   "source": [
    "preds = model.predict(X_test.to_numpy())"
   ]
  },
  {
   "cell_type": "code",
   "execution_count": 7,
   "metadata": {},
   "outputs": [
    {
     "data": {
      "text/plain": [
       "0.005564146345595163"
      ]
     },
     "execution_count": 7,
     "metadata": {},
     "output_type": "execute_result"
    }
   ],
   "source": [
    "## MSE ##\n",
    "mean_squared_error(y_test.to_numpy(),preds[:,:,1])"
   ]
  },
  {
   "cell_type": "code",
   "execution_count": 8,
   "metadata": {},
   "outputs": [
    {
     "data": {
      "text/plain": [
       "27.234905777477017"
      ]
     },
     "execution_count": 8,
     "metadata": {},
     "output_type": "execute_result"
    }
   ],
   "source": [
    "## PSNR ##\n",
    "QuantileNetwork.PSNR(y_test,preds[:,:,1])"
   ]
  },
  {
   "cell_type": "code",
   "execution_count": 9,
   "metadata": {},
   "outputs": [
    {
     "data": {
      "text/plain": [
       "0.2167"
      ]
     },
     "execution_count": 9,
     "metadata": {},
     "output_type": "execute_result"
    }
   ],
   "source": [
    "## Outrate ##\n",
    "QuantileNetwork.calc_outrate(y_test.to_numpy(),preds)"
   ]
  },
  {
   "cell_type": "markdown",
   "metadata": {},
   "source": [
    "## Visualise"
   ]
  },
  {
   "cell_type": "code",
   "execution_count": 10,
   "metadata": {},
   "outputs": [
    {
     "data": {
      "text/html": [
       "<div>\n",
       "<style scoped>\n",
       "    .dataframe tbody tr th:only-of-type {\n",
       "        vertical-align: middle;\n",
       "    }\n",
       "\n",
       "    .dataframe tbody tr th {\n",
       "        vertical-align: top;\n",
       "    }\n",
       "\n",
       "    .dataframe thead th {\n",
       "        text-align: right;\n",
       "    }\n",
       "</style>\n",
       "<table border=\"1\" class=\"dataframe\">\n",
       "  <thead>\n",
       "    <tr style=\"text-align: right;\">\n",
       "      <th></th>\n",
       "      <th>Cloud_B02</th>\n",
       "      <th>Cloud_B03</th>\n",
       "      <th>Cloud_B04</th>\n",
       "      <th>Cloud_B05</th>\n",
       "      <th>Cloud_B06</th>\n",
       "      <th>Cloud_B07</th>\n",
       "      <th>Cloud_B08</th>\n",
       "      <th>Cloud_B09</th>\n",
       "      <th>Cloud_B10</th>\n",
       "      <th>Cloud_B11</th>\n",
       "      <th>Cloud_B12</th>\n",
       "      <th>Cloud_B13</th>\n",
       "      <th>Sat_Zenith_Angle</th>\n",
       "      <th>Sun_Zenith_Angle</th>\n",
       "      <th>Azimuth_Diff_Angle</th>\n",
       "    </tr>\n",
       "  </thead>\n",
       "  <tbody>\n",
       "    <tr>\n",
       "      <th>42726</th>\n",
       "      <td>1.211194</td>\n",
       "      <td>1.200976</td>\n",
       "      <td>1.000236</td>\n",
       "      <td>1.060977</td>\n",
       "      <td>0.770732</td>\n",
       "      <td>-0.117688</td>\n",
       "      <td>-0.002799</td>\n",
       "      <td>-0.269819</td>\n",
       "      <td>0.445337</td>\n",
       "      <td>0.082815</td>\n",
       "      <td>0.576733</td>\n",
       "      <td>0.642810</td>\n",
       "      <td>-1.606837</td>\n",
       "      <td>-0.957310</td>\n",
       "      <td>0.930441</td>\n",
       "    </tr>\n",
       "    <tr>\n",
       "      <th>1170</th>\n",
       "      <td>1.021849</td>\n",
       "      <td>0.984773</td>\n",
       "      <td>0.752274</td>\n",
       "      <td>0.835140</td>\n",
       "      <td>0.474800</td>\n",
       "      <td>-0.407726</td>\n",
       "      <td>-0.353598</td>\n",
       "      <td>-0.492502</td>\n",
       "      <td>0.856191</td>\n",
       "      <td>0.956313</td>\n",
       "      <td>-0.960624</td>\n",
       "      <td>-0.889151</td>\n",
       "      <td>-0.653708</td>\n",
       "      <td>-0.440238</td>\n",
       "      <td>-1.560845</td>\n",
       "    </tr>\n",
       "    <tr>\n",
       "      <th>14351</th>\n",
       "      <td>0.597259</td>\n",
       "      <td>0.563847</td>\n",
       "      <td>0.431252</td>\n",
       "      <td>0.679005</td>\n",
       "      <td>0.436296</td>\n",
       "      <td>-0.361020</td>\n",
       "      <td>-0.149523</td>\n",
       "      <td>-0.196199</td>\n",
       "      <td>0.499943</td>\n",
       "      <td>0.685518</td>\n",
       "      <td>-0.963521</td>\n",
       "      <td>-0.897313</td>\n",
       "      <td>1.451896</td>\n",
       "      <td>0.311313</td>\n",
       "      <td>1.133735</td>\n",
       "    </tr>\n",
       "    <tr>\n",
       "      <th>28608</th>\n",
       "      <td>1.302401</td>\n",
       "      <td>1.258230</td>\n",
       "      <td>0.985028</td>\n",
       "      <td>1.030747</td>\n",
       "      <td>0.743488</td>\n",
       "      <td>-0.033910</td>\n",
       "      <td>-0.035325</td>\n",
       "      <td>-0.125586</td>\n",
       "      <td>1.241165</td>\n",
       "      <td>1.174701</td>\n",
       "      <td>-1.002318</td>\n",
       "      <td>-0.951840</td>\n",
       "      <td>0.461951</td>\n",
       "      <td>-1.287709</td>\n",
       "      <td>-1.234522</td>\n",
       "    </tr>\n",
       "    <tr>\n",
       "      <th>32987</th>\n",
       "      <td>-0.356729</td>\n",
       "      <td>-0.363067</td>\n",
       "      <td>-0.324364</td>\n",
       "      <td>-0.463078</td>\n",
       "      <td>-0.310667</td>\n",
       "      <td>0.058801</td>\n",
       "      <td>0.035941</td>\n",
       "      <td>-0.106594</td>\n",
       "      <td>-0.009225</td>\n",
       "      <td>-0.013431</td>\n",
       "      <td>0.448433</td>\n",
       "      <td>0.096083</td>\n",
       "      <td>-1.048554</td>\n",
       "      <td>-0.157512</td>\n",
       "      <td>-0.034216</td>\n",
       "    </tr>\n",
       "    <tr>\n",
       "      <th>...</th>\n",
       "      <td>...</td>\n",
       "      <td>...</td>\n",
       "      <td>...</td>\n",
       "      <td>...</td>\n",
       "      <td>...</td>\n",
       "      <td>...</td>\n",
       "      <td>...</td>\n",
       "      <td>...</td>\n",
       "      <td>...</td>\n",
       "      <td>...</td>\n",
       "      <td>...</td>\n",
       "      <td>...</td>\n",
       "      <td>...</td>\n",
       "      <td>...</td>\n",
       "      <td>...</td>\n",
       "    </tr>\n",
       "    <tr>\n",
       "      <th>49754</th>\n",
       "      <td>0.169835</td>\n",
       "      <td>0.190563</td>\n",
       "      <td>0.235218</td>\n",
       "      <td>0.871448</td>\n",
       "      <td>0.873228</td>\n",
       "      <td>-0.024305</td>\n",
       "      <td>-0.098569</td>\n",
       "      <td>-0.148044</td>\n",
       "      <td>0.346005</td>\n",
       "      <td>-0.410058</td>\n",
       "      <td>0.205288</td>\n",
       "      <td>-0.069851</td>\n",
       "      <td>0.414303</td>\n",
       "      <td>0.020127</td>\n",
       "      <td>-1.606726</td>\n",
       "    </tr>\n",
       "    <tr>\n",
       "      <th>47481</th>\n",
       "      <td>0.143417</td>\n",
       "      <td>0.209366</td>\n",
       "      <td>0.209846</td>\n",
       "      <td>0.024815</td>\n",
       "      <td>0.314552</td>\n",
       "      <td>0.349789</td>\n",
       "      <td>0.228037</td>\n",
       "      <td>0.172974</td>\n",
       "      <td>-0.122447</td>\n",
       "      <td>-0.197743</td>\n",
       "      <td>-0.971220</td>\n",
       "      <td>-0.886231</td>\n",
       "      <td>0.815461</td>\n",
       "      <td>-1.559188</td>\n",
       "      <td>0.260186</td>\n",
       "    </tr>\n",
       "    <tr>\n",
       "      <th>24297</th>\n",
       "      <td>-0.131932</td>\n",
       "      <td>-0.182787</td>\n",
       "      <td>-0.327529</td>\n",
       "      <td>0.007178</td>\n",
       "      <td>-0.104526</td>\n",
       "      <td>-0.607867</td>\n",
       "      <td>-0.532325</td>\n",
       "      <td>-0.586048</td>\n",
       "      <td>-0.755242</td>\n",
       "      <td>-0.629316</td>\n",
       "      <td>0.130949</td>\n",
       "      <td>-0.066150</td>\n",
       "      <td>-1.335468</td>\n",
       "      <td>0.752204</td>\n",
       "      <td>-0.042725</td>\n",
       "    </tr>\n",
       "    <tr>\n",
       "      <th>4677</th>\n",
       "      <td>0.436960</td>\n",
       "      <td>0.413969</td>\n",
       "      <td>0.486050</td>\n",
       "      <td>0.448157</td>\n",
       "      <td>1.006249</td>\n",
       "      <td>0.064133</td>\n",
       "      <td>0.109323</td>\n",
       "      <td>-0.092963</td>\n",
       "      <td>0.233649</td>\n",
       "      <td>-0.433945</td>\n",
       "      <td>0.520002</td>\n",
       "      <td>0.473370</td>\n",
       "      <td>-0.507379</td>\n",
       "      <td>-0.117665</td>\n",
       "      <td>-1.666647</td>\n",
       "    </tr>\n",
       "    <tr>\n",
       "      <th>15452</th>\n",
       "      <td>1.003253</td>\n",
       "      <td>0.983482</td>\n",
       "      <td>0.832083</td>\n",
       "      <td>0.867878</td>\n",
       "      <td>0.622005</td>\n",
       "      <td>0.205716</td>\n",
       "      <td>0.130466</td>\n",
       "      <td>0.061717</td>\n",
       "      <td>1.079871</td>\n",
       "      <td>1.737908</td>\n",
       "      <td>0.549807</td>\n",
       "      <td>0.605950</td>\n",
       "      <td>-0.981096</td>\n",
       "      <td>-0.625880</td>\n",
       "      <td>-0.783602</td>\n",
       "    </tr>\n",
       "  </tbody>\n",
       "</table>\n",
       "<p>10000 rows × 15 columns</p>\n",
       "</div>"
      ],
      "text/plain": [
       "       Cloud_B02  Cloud_B03  Cloud_B04  Cloud_B05  Cloud_B06  Cloud_B07  \\\n",
       "42726   1.211194   1.200976   1.000236   1.060977   0.770732  -0.117688   \n",
       "1170    1.021849   0.984773   0.752274   0.835140   0.474800  -0.407726   \n",
       "14351   0.597259   0.563847   0.431252   0.679005   0.436296  -0.361020   \n",
       "28608   1.302401   1.258230   0.985028   1.030747   0.743488  -0.033910   \n",
       "32987  -0.356729  -0.363067  -0.324364  -0.463078  -0.310667   0.058801   \n",
       "...          ...        ...        ...        ...        ...        ...   \n",
       "49754   0.169835   0.190563   0.235218   0.871448   0.873228  -0.024305   \n",
       "47481   0.143417   0.209366   0.209846   0.024815   0.314552   0.349789   \n",
       "24297  -0.131932  -0.182787  -0.327529   0.007178  -0.104526  -0.607867   \n",
       "4677    0.436960   0.413969   0.486050   0.448157   1.006249   0.064133   \n",
       "15452   1.003253   0.983482   0.832083   0.867878   0.622005   0.205716   \n",
       "\n",
       "       Cloud_B08  Cloud_B09  Cloud_B10  Cloud_B11  Cloud_B12  Cloud_B13  \\\n",
       "42726  -0.002799  -0.269819   0.445337   0.082815   0.576733   0.642810   \n",
       "1170   -0.353598  -0.492502   0.856191   0.956313  -0.960624  -0.889151   \n",
       "14351  -0.149523  -0.196199   0.499943   0.685518  -0.963521  -0.897313   \n",
       "28608  -0.035325  -0.125586   1.241165   1.174701  -1.002318  -0.951840   \n",
       "32987   0.035941  -0.106594  -0.009225  -0.013431   0.448433   0.096083   \n",
       "...          ...        ...        ...        ...        ...        ...   \n",
       "49754  -0.098569  -0.148044   0.346005  -0.410058   0.205288  -0.069851   \n",
       "47481   0.228037   0.172974  -0.122447  -0.197743  -0.971220  -0.886231   \n",
       "24297  -0.532325  -0.586048  -0.755242  -0.629316   0.130949  -0.066150   \n",
       "4677    0.109323  -0.092963   0.233649  -0.433945   0.520002   0.473370   \n",
       "15452   0.130466   0.061717   1.079871   1.737908   0.549807   0.605950   \n",
       "\n",
       "       Sat_Zenith_Angle  Sun_Zenith_Angle  Azimuth_Diff_Angle  \n",
       "42726         -1.606837         -0.957310            0.930441  \n",
       "1170          -0.653708         -0.440238           -1.560845  \n",
       "14351          1.451896          0.311313            1.133735  \n",
       "28608          0.461951         -1.287709           -1.234522  \n",
       "32987         -1.048554         -0.157512           -0.034216  \n",
       "...                 ...               ...                 ...  \n",
       "49754          0.414303          0.020127           -1.606726  \n",
       "47481          0.815461         -1.559188            0.260186  \n",
       "24297         -1.335468          0.752204           -0.042725  \n",
       "4677          -0.507379         -0.117665           -1.666647  \n",
       "15452         -0.981096         -0.625880           -0.783602  \n",
       "\n",
       "[10000 rows x 15 columns]"
      ]
     },
     "execution_count": 10,
     "metadata": {},
     "output_type": "execute_result"
    }
   ],
   "source": [
    "X_test"
   ]
  },
  {
   "cell_type": "code",
   "execution_count": 11,
   "metadata": {},
   "outputs": [
    {
     "data": {
      "image/png": "[encoded data removed]",
      "text/plain": [
       "<Figure size 640x480 with 1 Axes>"
      ]
     },
     "metadata": {},
     "output_type": "display_data"
    }
   ],
   "source": [
    "samples=100\n",
    "channel=5\n",
    "\n",
    "#Get ground truth y\n",
    "y_plot=y_test.to_numpy()[:,channel]\n",
    "y_plot=y_plot[0:samples]\n",
    "sort_ind=np.argsort(y_plot)\n",
    "y_plot_sort=y_plot[sort_ind]\n",
    "\n",
    "#Get y predictions\n",
    "y_pred=preds[:,channel,:]\n",
    "y_pred=y_pred[0:samples,:]\n",
    "y_pred_sort=y_pred[sort_ind,:]\n",
    "\n",
    "# Get cloudy signal\n",
    "cloudy=X_test_truth.to_numpy()[:,channel]\n",
    "cloudy=cloudy[0:samples]\n",
    "cloudy_sort=cloudy[sort_ind]\n",
    "\n",
    "\n",
    "plt.plot(y_plot_sort,'.')\n",
    "plt.plot(y_pred_sort)\n",
    "plt.plot(cloudy_sort,'.')\n",
    "plt.legend(['Ground truth','0.1 quantile', '0.5 quantile','0.9 quantile','Cloudy signal (Without noise)'])\n",
    "plt.show()\n"
   ]
  },
  {
   "cell_type": "code",
   "execution_count": 12,
   "metadata": {},
   "outputs": [
    {
     "data": {
      "text/plain": [
       "<matplotlib.legend.Legend at 0x1a53fee3f50>"
      ]
     },
     "execution_count": 12,
     "metadata": {},
     "output_type": "execute_result"
    },
    {
     "data": {
      "image/png": "[encoded data removed]",
      "text/plain": [
       "<Figure size 640x480 with 1 Axes>"
      ]
     },
     "metadata": {},
     "output_type": "display_data"
    }
   ],
   "source": [
    "channel=5\n",
    "samples=50\n",
    "\n",
    "df_test=df.iloc[y_test.index]\n",
    "\n",
    "#Get cot values\n",
    "cot_column=df_test['COT'].to_numpy()\n",
    "cot_column=cot_column[0:samples]\n",
    "sort_ind=np.argsort(cot_column)\n",
    "cot_column_sort=cot_column[sort_ind]\n",
    "\n",
    "#Get ground truth\n",
    "y_plot=y_test.to_numpy()[:,channel]\n",
    "y_plot=y_plot[0:samples]\n",
    "y_plot_sort=y_plot[sort_ind]\n",
    "\n",
    "#Get y predictions\n",
    "y_pred=preds[:,channel,:]\n",
    "y_pred=y_pred[0:samples,:]\n",
    "y_pred_sort=y_pred[sort_ind,:]\n",
    "\n",
    "#Repeat ground truth to prepp difference\n",
    "y_rep=np.repeat(y_plot_sort,len(quantiles),axis=0)\n",
    "y_rep=np.reshape(y_rep,(-1,len(quantiles)))\n",
    "diff=y_rep-y_pred_sort\n",
    "\n",
    "#plt.plot(cot_column_sort,y_plot_sort,'.')\n",
    "#plt.plot(cot_column_sort,y_pred_sort,'.')\n",
    "plt.plot(cot_column_sort,diff)\n",
    "plt.legend(['0.1','0.5','0.9'])"
   ]
  },
  {
   "cell_type": "code",
   "execution_count": null,
   "metadata": {},
   "outputs": [],
   "source": []
  },
  {
   "cell_type": "code",
   "execution_count": null,
   "metadata": {},
   "outputs": [],
   "source": []
  },
  {
   "cell_type": "code",
   "execution_count": null,
   "metadata": {},
   "outputs": [],
   "source": []
  }
 ],
 "metadata": {
  "kernelspec": {
   "display_name": "Python 3",
   "language": "python",
   "name": "python3"
  },
  "language_info": {
   "codemirror_mode": {
    "name": "ipython",
    "version": 3
   },
   "file_extension": ".py",
   "mimetype": "text/x-python",
   "name": "python",
   "nbconvert_exporter": "python",
   "pygments_lexer": "ipython3",
   "version": "3.11.5"
  }
 },
 "nbformat": 4,
 "nbformat_minor": 2
}
