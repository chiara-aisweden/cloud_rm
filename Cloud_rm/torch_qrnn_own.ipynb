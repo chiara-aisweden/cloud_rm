{
 "cells": [
  {
   "cell_type": "code",
   "execution_count": 1,
   "metadata": {},
   "outputs": [
    {
     "name": "stdout",
     "output_type": "stream",
     "text": [
      "WARNING:tensorflow:From c:\\Users\\filip\\AppData\\Local\\Programs\\Python\\Python311\\Lib\\site-packages\\keras\\src\\losses.py:2976: The name tf.losses.sparse_softmax_cross_entropy is deprecated. Please use tf.compat.v1.losses.sparse_softmax_cross_entropy instead.\n",
      "\n"
     ]
    }
   ],
   "source": [
    "import numpy as np\n",
    "import pandas as pd\n",
    "import matplotlib.pyplot as plt\n",
    "import sys\n",
    "\n",
    "\n",
    "import functions.parse_data as parse\n",
    "import functions.handy_functions as hf\n",
    "import torch.nn as nn\n",
    "\n",
    "from multivariate_quantile_regression.network_model import QuantileNetwork\n",
    "\n",
    "from sklearn.metrics import mean_squared_error\n",
    "from sklearn.model_selection import train_test_split\n",
    "\n",
    "from tqdm import tqdm"
   ]
  },
  {
   "cell_type": "code",
   "execution_count": 2,
   "metadata": {},
   "outputs": [
    {
     "name": "stdout",
     "output_type": "stream",
     "text": [
      "Noise standard deviation for Cloud_B02: 0.00335001428051948\n",
      "Noise standard deviation for Cloud_B03: 0.002912530185416667\n",
      "Noise standard deviation for Cloud_B04: 0.004058081082042254\n",
      "Noise standard deviation for Cloud_B05: 0.0046524891611111115\n",
      "Noise standard deviation for Cloud_B06: 0.007455351321348316\n",
      "Noise standard deviation for Cloud_B07: 0.008871707484285717\n",
      "Noise standard deviation for Cloud_B08: 0.04489677938000001\n",
      "Noise standard deviation for Cloud_B09: 0.005688141120114942\n",
      "Noise standard deviation for Cloud_B10: 0.003909328971491229\n",
      "Noise standard deviation for Cloud_B11: 0.0014014724139999996\n",
      "Noise standard deviation for Cloud_B12: 0.005030040539999999\n",
      "Noise standard deviation for Cloud_B13: 0.004041267081999999\n"
     ]
    }
   ],
   "source": [
    "channel_labels= ['Cloud_B02','Cloud_B03','Cloud_B04','Cloud_B05','Cloud_B06','Cloud_B07',\n",
    "                 'Cloud_B08','Cloud_B09','Cloud_B10','Cloud_B11','Cloud_B12','Cloud_B13']\n",
    "\n",
    "data_water=parse.parse('cloudrm_water.dat')\n",
    "data_clear=parse.parse('cloudrm_clear.dat')\n",
    "data_ice=parse.parse('cloudrm_ice.dat')\n",
    "data_mixed=parse.parse('cloudrm_mixed.dat')\n",
    "\n",
    "#Concatinate all datasets\n",
    "data_all=pd.concat([data_water, data_clear, data_ice, data_mixed])\n",
    "data_all=data_all.drop(columns=['Surface_Desc','Cloud_B01','Clear_B01'])\n",
    "df_truth=data_all.copy()\n",
    "\n",
    "data_all=hf.add_MSI_noise(data_all,channel_labels)"
   ]
  },
  {
   "cell_type": "code",
   "execution_count": 3,
   "metadata": {},
   "outputs": [],
   "source": [
    "##Train test validation split##\n",
    "X_labels= ['Cloud_B02','Cloud_B03','Cloud_B04','Cloud_B05','Cloud_B06',\n",
    "           'Cloud_B07','Cloud_B08','Cloud_B09','Cloud_B10','Cloud_B11','Cloud_B12','Cloud_B13',\n",
    "           'Sat_Zenith_Angle','Sun_Zenith_Angle','Azimuth_Diff_Angle']\n",
    "\n",
    "#Leave out 'GOT', 'Water_Vapor'\n",
    "#Band 1 no go.\n",
    "y_labels=['Clear_B02','Clear_B03','Clear_B04','Clear_B05','Clear_B06',\n",
    "           'Clear_B07','Clear_B08','Clear_B09','Clear_B10','Clear_B11','Clear_B12','Clear_B13']\n",
    "\n",
    "X_truth=df_truth[X_labels]\n",
    "\n",
    "df=hf.normalise_input_df(data_all,X_labels)\n",
    "df=hf.add_noise(df,X_labels,sigma=0.001)\n",
    "\n",
    "##Split data##\n",
    "X=df[X_labels]\n",
    "y=df[y_labels]\n",
    "\n",
    "X_train, X_test, y_train, y_test=train_test_split(X,y,test_size=0.05)\n",
    "\n",
    "X_test_truth=X_truth.iloc[X_test.index] #Save truth values without normalisation"
   ]
  },
  {
   "cell_type": "code",
   "execution_count": 5,
   "metadata": {},
   "outputs": [],
   "source": [
    "import random\n",
    "\n",
    "val_size=0.05\n",
    "validation_indices=np.array(random.sample(range(len(X_train['Cloud_B02'])), int(len(X_train['Cloud_B02'])*val_size)))\n",
    "train_indices=[i for i in range(len(X_train['Cloud_B02'])) if np.any(validation_indices==i)==False]\n",
    "\n",
    "quantiles=np.array([0.1,0.5,0.9])\n",
    "batch_size=100"
   ]
  },
  {
   "cell_type": "code",
   "execution_count": 5,
   "metadata": {},
   "outputs": [
    {
     "name": "stdout",
     "output_type": "stream",
     "text": [
      "Epoch 1\n"
     ]
    },
    {
     "name": "stderr",
     "output_type": "stream",
     "text": [
      "Batch number: 100%|██████████| 1805/1805 [00:03<00:00, 491.35it/s]"
     ]
    },
    {
     "name": "stdout",
     "output_type": "stream",
     "text": [
      "Training loss [0.8185193] Validation loss [0.6215242]\n",
      "----New best validation loss---- [0.6215242]\n",
      "Epoch 2\n"
     ]
    },
    {
     "name": "stderr",
     "output_type": "stream",
     "text": [
      "\n",
      "Batch number: 100%|██████████| 1805/1805 [00:03<00:00, 482.78it/s]"
     ]
    },
    {
     "name": "stdout",
     "output_type": "stream",
     "text": [
      "Training loss [0.5835229] Validation loss [0.55784345]\n",
      "----New best validation loss---- [0.55784345]\n",
      "Epoch 3\n"
     ]
    },
    {
     "name": "stderr",
     "output_type": "stream",
     "text": [
      "\n",
      "Batch number: 100%|██████████| 1805/1805 [00:03<00:00, 491.81it/s]"
     ]
    },
    {
     "name": "stdout",
     "output_type": "stream",
     "text": [
      "Training loss [0.5466246] Validation loss [0.536658]\n"
     ]
    },
    {
     "name": "stderr",
     "output_type": "stream",
     "text": [
      "\n"
     ]
    },
    {
     "name": "stdout",
     "output_type": "stream",
     "text": [
      "----New best validation loss---- [0.536658]\n",
      "Epoch 4\n"
     ]
    },
    {
     "name": "stderr",
     "output_type": "stream",
     "text": [
      "Batch number: 100%|██████████| 1805/1805 [00:03<00:00, 471.72it/s]\n"
     ]
    },
    {
     "name": "stdout",
     "output_type": "stream",
     "text": [
      "Training loss [0.5260308] Validation loss [0.51457584]\n",
      "----New best validation loss---- [0.51457584]\n",
      "Epoch 5\n"
     ]
    },
    {
     "name": "stderr",
     "output_type": "stream",
     "text": [
      "Batch number: 100%|██████████| 1805/1805 [00:03<00:00, 453.38it/s]"
     ]
    },
    {
     "name": "stdout",
     "output_type": "stream",
     "text": [
      "Training loss [0.51221764] Validation loss [0.500206]\n",
      "----New best validation loss---- [0.500206]\n",
      "Epoch 6\n"
     ]
    },
    {
     "name": "stderr",
     "output_type": "stream",
     "text": [
      "\n",
      "Batch number: 100%|██████████| 1805/1805 [00:03<00:00, 478.70it/s]"
     ]
    },
    {
     "name": "stdout",
     "output_type": "stream",
     "text": [
      "Training loss [0.50205934] Validation loss [0.49289802]\n",
      "----New best validation loss---- [0.49289802]\n",
      "Epoch 7\n"
     ]
    },
    {
     "name": "stderr",
     "output_type": "stream",
     "text": [
      "\n",
      "Batch number: 100%|██████████| 1805/1805 [00:04<00:00, 375.20it/s]\n"
     ]
    },
    {
     "name": "stdout",
     "output_type": "stream",
     "text": [
      "Training loss [0.49353713] Validation loss [0.48298833]\n",
      "----New best validation loss---- [0.48298833]\n",
      "Epoch 8\n"
     ]
    },
    {
     "name": "stderr",
     "output_type": "stream",
     "text": [
      "Batch number: 100%|██████████| 1805/1805 [00:04<00:00, 407.53it/s]\n"
     ]
    },
    {
     "name": "stdout",
     "output_type": "stream",
     "text": [
      "Training loss [0.48701707] Validation loss [0.47995967]\n",
      "----New best validation loss---- [0.47995967]\n",
      "Epoch 9\n"
     ]
    },
    {
     "name": "stderr",
     "output_type": "stream",
     "text": [
      "Batch number: 100%|██████████| 1805/1805 [00:04<00:00, 426.96it/s]\n"
     ]
    },
    {
     "name": "stdout",
     "output_type": "stream",
     "text": [
      "Training loss [0.48169166] Validation loss [0.48033533]\n",
      "Epoch 10\n"
     ]
    },
    {
     "name": "stderr",
     "output_type": "stream",
     "text": [
      "Batch number: 100%|██████████| 1805/1805 [00:04<00:00, 393.52it/s]\n"
     ]
    },
    {
     "name": "stdout",
     "output_type": "stream",
     "text": [
      "Training loss [0.4769308] Validation loss [0.48038316]\n",
      "Best model out of total max epochs found at epoch 8\n"
     ]
    }
   ],
   "source": [
    "\n",
    "\n",
    "nepochs=10\n",
    "\n",
    "model=QuantileNetwork(quantiles=quantiles)\n",
    "\n",
    "# Add everything but the output layer\n",
    "sequence=nn.Sequential(\n",
    "    nn.Linear(len(X_labels),64),\n",
    "    nn.ReLU(),\n",
    "    nn.Linear(64,64),\n",
    "    nn.ReLU(),\n",
    "    nn.Linear(64, len(quantiles)*len(y_labels)) #Output dimesion is number of quantiles times number of target variables\n",
    ")\n",
    "model.fit(X_train.to_numpy(),y_train.to_numpy(), \n",
    "          train_indices, \n",
    "          validation_indices, \n",
    "          batch_size=batch_size,\n",
    "          nepochs=nepochs,\n",
    "          sequence=sequence)"
   ]
  },
  {
   "cell_type": "code",
   "execution_count": 6,
   "metadata": {},
   "outputs": [],
   "source": [
    "preds = model.predict(X_test.to_numpy())"
   ]
  },
  {
   "cell_type": "code",
   "execution_count": 7,
   "metadata": {},
   "outputs": [
    {
     "data": {
      "text/plain": [
       "0.0056677312541847345"
      ]
     },
     "execution_count": 7,
     "metadata": {},
     "output_type": "execute_result"
    }
   ],
   "source": [
    "## MSE ##\n",
    "mean_squared_error(y_test.to_numpy(),preds[:,:,1])"
   ]
  },
  {
   "cell_type": "code",
   "execution_count": 8,
   "metadata": {},
   "outputs": [
    {
     "data": {
      "text/plain": [
       "27.11897742821543"
      ]
     },
     "execution_count": 8,
     "metadata": {},
     "output_type": "execute_result"
    }
   ],
   "source": [
    "## PSNR ##\n",
    "QuantileNetwork.PSNR(y_test,preds[:,:,1])"
   ]
  },
  {
   "cell_type": "code",
   "execution_count": 9,
   "metadata": {},
   "outputs": [
    {
     "data": {
      "text/plain": [
       "0.21595"
      ]
     },
     "execution_count": 9,
     "metadata": {},
     "output_type": "execute_result"
    }
   ],
   "source": [
    "## Outrate ##\n",
    "QuantileNetwork.calc_outrate(y_test.to_numpy(),preds)"
   ]
  },
  {
   "cell_type": "markdown",
   "metadata": {},
   "source": [
    "## Visualise"
   ]
  },
  {
   "cell_type": "code",
   "execution_count": 10,
   "metadata": {},
   "outputs": [
    {
     "data": {
      "text/html": [
       "<div>\n",
       "<style scoped>\n",
       "    .dataframe tbody tr th:only-of-type {\n",
       "        vertical-align: middle;\n",
       "    }\n",
       "\n",
       "    .dataframe tbody tr th {\n",
       "        vertical-align: top;\n",
       "    }\n",
       "\n",
       "    .dataframe thead th {\n",
       "        text-align: right;\n",
       "    }\n",
       "</style>\n",
       "<table border=\"1\" class=\"dataframe\">\n",
       "  <thead>\n",
       "    <tr style=\"text-align: right;\">\n",
       "      <th></th>\n",
       "      <th>Cloud_B02</th>\n",
       "      <th>Cloud_B03</th>\n",
       "      <th>Cloud_B04</th>\n",
       "      <th>Cloud_B05</th>\n",
       "      <th>Cloud_B06</th>\n",
       "      <th>Cloud_B07</th>\n",
       "      <th>Cloud_B08</th>\n",
       "      <th>Cloud_B09</th>\n",
       "      <th>Cloud_B10</th>\n",
       "      <th>Cloud_B11</th>\n",
       "      <th>Cloud_B12</th>\n",
       "      <th>Cloud_B13</th>\n",
       "      <th>Sat_Zenith_Angle</th>\n",
       "      <th>Sun_Zenith_Angle</th>\n",
       "      <th>Azimuth_Diff_Angle</th>\n",
       "    </tr>\n",
       "  </thead>\n",
       "  <tbody>\n",
       "    <tr>\n",
       "      <th>34067</th>\n",
       "      <td>-0.233547</td>\n",
       "      <td>-0.227796</td>\n",
       "      <td>-0.270000</td>\n",
       "      <td>-0.282252</td>\n",
       "      <td>-0.331129</td>\n",
       "      <td>0.246031</td>\n",
       "      <td>0.121161</td>\n",
       "      <td>0.125778</td>\n",
       "      <td>-0.034383</td>\n",
       "      <td>-0.075035</td>\n",
       "      <td>0.408455</td>\n",
       "      <td>-0.031636</td>\n",
       "      <td>1.688277</td>\n",
       "      <td>-1.021280</td>\n",
       "      <td>0.800400</td>\n",
       "    </tr>\n",
       "    <tr>\n",
       "      <th>13210</th>\n",
       "      <td>-0.393115</td>\n",
       "      <td>-0.131658</td>\n",
       "      <td>0.300542</td>\n",
       "      <td>0.486258</td>\n",
       "      <td>0.321065</td>\n",
       "      <td>-0.328752</td>\n",
       "      <td>-0.500824</td>\n",
       "      <td>-0.318997</td>\n",
       "      <td>-0.893702</td>\n",
       "      <td>-0.426593</td>\n",
       "      <td>0.453499</td>\n",
       "      <td>0.154272</td>\n",
       "      <td>1.507878</td>\n",
       "      <td>0.296434</td>\n",
       "      <td>-0.711105</td>\n",
       "    </tr>\n",
       "    <tr>\n",
       "      <th>14464</th>\n",
       "      <td>-0.129938</td>\n",
       "      <td>-0.335384</td>\n",
       "      <td>-0.502715</td>\n",
       "      <td>-0.241866</td>\n",
       "      <td>-0.668415</td>\n",
       "      <td>-1.373152</td>\n",
       "      <td>-1.243032</td>\n",
       "      <td>-1.201733</td>\n",
       "      <td>-0.400533</td>\n",
       "      <td>-0.314600</td>\n",
       "      <td>-0.411974</td>\n",
       "      <td>-0.606752</td>\n",
       "      <td>0.400006</td>\n",
       "      <td>1.352636</td>\n",
       "      <td>-0.784719</td>\n",
       "    </tr>\n",
       "    <tr>\n",
       "      <th>33864</th>\n",
       "      <td>0.026029</td>\n",
       "      <td>-0.315251</td>\n",
       "      <td>-0.397244</td>\n",
       "      <td>-0.175467</td>\n",
       "      <td>-0.506926</td>\n",
       "      <td>-0.896675</td>\n",
       "      <td>-0.751525</td>\n",
       "      <td>-0.939636</td>\n",
       "      <td>-0.558888</td>\n",
       "      <td>-0.628264</td>\n",
       "      <td>-0.994069</td>\n",
       "      <td>-0.965466</td>\n",
       "      <td>1.679599</td>\n",
       "      <td>1.689265</td>\n",
       "      <td>-1.093571</td>\n",
       "    </tr>\n",
       "    <tr>\n",
       "      <th>4374</th>\n",
       "      <td>-1.024281</td>\n",
       "      <td>-0.931576</td>\n",
       "      <td>-0.758449</td>\n",
       "      <td>-0.772630</td>\n",
       "      <td>-0.424020</td>\n",
       "      <td>1.750139</td>\n",
       "      <td>1.967934</td>\n",
       "      <td>2.002523</td>\n",
       "      <td>1.427916</td>\n",
       "      <td>-0.603986</td>\n",
       "      <td>1.556771</td>\n",
       "      <td>1.794687</td>\n",
       "      <td>0.051032</td>\n",
       "      <td>1.531922</td>\n",
       "      <td>0.706648</td>\n",
       "    </tr>\n",
       "    <tr>\n",
       "      <th>...</th>\n",
       "      <td>...</td>\n",
       "      <td>...</td>\n",
       "      <td>...</td>\n",
       "      <td>...</td>\n",
       "      <td>...</td>\n",
       "      <td>...</td>\n",
       "      <td>...</td>\n",
       "      <td>...</td>\n",
       "      <td>...</td>\n",
       "      <td>...</td>\n",
       "      <td>...</td>\n",
       "      <td>...</td>\n",
       "      <td>...</td>\n",
       "      <td>...</td>\n",
       "      <td>...</td>\n",
       "    </tr>\n",
       "    <tr>\n",
       "      <th>33824</th>\n",
       "      <td>-1.119853</td>\n",
       "      <td>-0.902926</td>\n",
       "      <td>-0.397206</td>\n",
       "      <td>-0.972278</td>\n",
       "      <td>0.048172</td>\n",
       "      <td>1.125062</td>\n",
       "      <td>1.303469</td>\n",
       "      <td>1.107513</td>\n",
       "      <td>2.328480</td>\n",
       "      <td>1.132369</td>\n",
       "      <td>0.912363</td>\n",
       "      <td>0.809798</td>\n",
       "      <td>0.752510</td>\n",
       "      <td>-1.692413</td>\n",
       "      <td>0.056001</td>\n",
       "    </tr>\n",
       "    <tr>\n",
       "      <th>13099</th>\n",
       "      <td>-0.222853</td>\n",
       "      <td>-0.347242</td>\n",
       "      <td>-0.469282</td>\n",
       "      <td>-0.372645</td>\n",
       "      <td>-0.582569</td>\n",
       "      <td>-0.612524</td>\n",
       "      <td>-0.638259</td>\n",
       "      <td>-0.682514</td>\n",
       "      <td>-0.191123</td>\n",
       "      <td>-0.536412</td>\n",
       "      <td>0.077777</td>\n",
       "      <td>-0.035197</td>\n",
       "      <td>0.598913</td>\n",
       "      <td>0.982750</td>\n",
       "      <td>-0.859109</td>\n",
       "    </tr>\n",
       "    <tr>\n",
       "      <th>7398</th>\n",
       "      <td>-0.944860</td>\n",
       "      <td>-1.054844</td>\n",
       "      <td>-1.207377</td>\n",
       "      <td>-1.094383</td>\n",
       "      <td>-1.339719</td>\n",
       "      <td>-1.236533</td>\n",
       "      <td>-1.220743</td>\n",
       "      <td>-1.062818</td>\n",
       "      <td>-0.998978</td>\n",
       "      <td>-0.448478</td>\n",
       "      <td>-0.450452</td>\n",
       "      <td>-0.609846</td>\n",
       "      <td>0.897276</td>\n",
       "      <td>1.533915</td>\n",
       "      <td>1.190367</td>\n",
       "    </tr>\n",
       "    <tr>\n",
       "      <th>22295</th>\n",
       "      <td>0.750905</td>\n",
       "      <td>0.768799</td>\n",
       "      <td>0.689569</td>\n",
       "      <td>0.411982</td>\n",
       "      <td>0.382487</td>\n",
       "      <td>0.028040</td>\n",
       "      <td>-0.534593</td>\n",
       "      <td>0.018671</td>\n",
       "      <td>-0.280137</td>\n",
       "      <td>-0.563543</td>\n",
       "      <td>-1.080471</td>\n",
       "      <td>-1.036372</td>\n",
       "      <td>-0.574433</td>\n",
       "      <td>-1.445279</td>\n",
       "      <td>-0.822177</td>\n",
       "    </tr>\n",
       "    <tr>\n",
       "      <th>25001</th>\n",
       "      <td>-0.354879</td>\n",
       "      <td>-0.361974</td>\n",
       "      <td>-0.541520</td>\n",
       "      <td>-0.470853</td>\n",
       "      <td>-0.738893</td>\n",
       "      <td>-0.224557</td>\n",
       "      <td>-0.333474</td>\n",
       "      <td>-0.219013</td>\n",
       "      <td>0.028701</td>\n",
       "      <td>-0.544234</td>\n",
       "      <td>-0.092167</td>\n",
       "      <td>-0.344779</td>\n",
       "      <td>0.806223</td>\n",
       "      <td>0.039277</td>\n",
       "      <td>0.265689</td>\n",
       "    </tr>\n",
       "  </tbody>\n",
       "</table>\n",
       "<p>10000 rows × 15 columns</p>\n",
       "</div>"
      ],
      "text/plain": [
       "       Cloud_B02  Cloud_B03  Cloud_B04  Cloud_B05  Cloud_B06  Cloud_B07  \\\n",
       "34067  -0.233547  -0.227796  -0.270000  -0.282252  -0.331129   0.246031   \n",
       "13210  -0.393115  -0.131658   0.300542   0.486258   0.321065  -0.328752   \n",
       "14464  -0.129938  -0.335384  -0.502715  -0.241866  -0.668415  -1.373152   \n",
       "33864   0.026029  -0.315251  -0.397244  -0.175467  -0.506926  -0.896675   \n",
       "4374   -1.024281  -0.931576  -0.758449  -0.772630  -0.424020   1.750139   \n",
       "...          ...        ...        ...        ...        ...        ...   \n",
       "33824  -1.119853  -0.902926  -0.397206  -0.972278   0.048172   1.125062   \n",
       "13099  -0.222853  -0.347242  -0.469282  -0.372645  -0.582569  -0.612524   \n",
       "7398   -0.944860  -1.054844  -1.207377  -1.094383  -1.339719  -1.236533   \n",
       "22295   0.750905   0.768799   0.689569   0.411982   0.382487   0.028040   \n",
       "25001  -0.354879  -0.361974  -0.541520  -0.470853  -0.738893  -0.224557   \n",
       "\n",
       "       Cloud_B08  Cloud_B09  Cloud_B10  Cloud_B11  Cloud_B12  Cloud_B13  \\\n",
       "34067   0.121161   0.125778  -0.034383  -0.075035   0.408455  -0.031636   \n",
       "13210  -0.500824  -0.318997  -0.893702  -0.426593   0.453499   0.154272   \n",
       "14464  -1.243032  -1.201733  -0.400533  -0.314600  -0.411974  -0.606752   \n",
       "33864  -0.751525  -0.939636  -0.558888  -0.628264  -0.994069  -0.965466   \n",
       "4374    1.967934   2.002523   1.427916  -0.603986   1.556771   1.794687   \n",
       "...          ...        ...        ...        ...        ...        ...   \n",
       "33824   1.303469   1.107513   2.328480   1.132369   0.912363   0.809798   \n",
       "13099  -0.638259  -0.682514  -0.191123  -0.536412   0.077777  -0.035197   \n",
       "7398   -1.220743  -1.062818  -0.998978  -0.448478  -0.450452  -0.609846   \n",
       "22295  -0.534593   0.018671  -0.280137  -0.563543  -1.080471  -1.036372   \n",
       "25001  -0.333474  -0.219013   0.028701  -0.544234  -0.092167  -0.344779   \n",
       "\n",
       "       Sat_Zenith_Angle  Sun_Zenith_Angle  Azimuth_Diff_Angle  \n",
       "34067          1.688277         -1.021280            0.800400  \n",
       "13210          1.507878          0.296434           -0.711105  \n",
       "14464          0.400006          1.352636           -0.784719  \n",
       "33864          1.679599          1.689265           -1.093571  \n",
       "4374           0.051032          1.531922            0.706648  \n",
       "...                 ...               ...                 ...  \n",
       "33824          0.752510         -1.692413            0.056001  \n",
       "13099          0.598913          0.982750           -0.859109  \n",
       "7398           0.897276          1.533915            1.190367  \n",
       "22295         -0.574433         -1.445279           -0.822177  \n",
       "25001          0.806223          0.039277            0.265689  \n",
       "\n",
       "[10000 rows x 15 columns]"
      ]
     },
     "execution_count": 10,
     "metadata": {},
     "output_type": "execute_result"
    }
   ],
   "source": [
    "X_test"
   ]
  },
  {
   "cell_type": "code",
   "execution_count": 11,
   "metadata": {},
   "outputs": [
    {
     "data": {
      "image/png": "[encoded data removed]",
      "text/plain": [
       "<Figure size 640x480 with 1 Axes>"
      ]
     },
     "metadata": {},
     "output_type": "display_data"
    }
   ],
   "source": [
    "samples=100\n",
    "channel=5\n",
    "\n",
    "#Get ground truth y\n",
    "y_plot=y_test.to_numpy()[:,channel]\n",
    "y_plot=y_plot[0:samples]\n",
    "sort_ind=np.argsort(y_plot)\n",
    "y_plot_sort=y_plot[sort_ind]\n",
    "\n",
    "#Get y predictions\n",
    "y_pred=preds[:,channel,:]\n",
    "y_pred=y_pred[0:samples,:]\n",
    "y_pred_sort=y_pred[sort_ind,:]\n",
    "\n",
    "# Get cloudy signal\n",
    "cloudy=X_test_truth.to_numpy()[:,channel]\n",
    "cloudy=cloudy[0:samples]\n",
    "cloudy_sort=cloudy[sort_ind]\n",
    "\n",
    "\n",
    "plt.plot(y_plot_sort,'.')\n",
    "plt.plot(y_pred_sort)\n",
    "plt.plot(cloudy_sort,'.')\n",
    "plt.legend(['Ground truth','0.1 quantile', '0.5 quantile','0.9 quantile','Cloudy signal (Without noise)'])\n",
    "plt.show()\n"
   ]
  },
  {
   "cell_type": "code",
   "execution_count": 12,
   "metadata": {},
   "outputs": [
    {
     "data": {
      "text/plain": [
       "<matplotlib.legend.Legend at 0x28a4c015390>"
      ]
     },
     "execution_count": 12,
     "metadata": {},
     "output_type": "execute_result"
    },
    {
     "data": {
      "image/png": "[encoded data removed]",
      "text/plain": [
       "<Figure size 640x480 with 1 Axes>"
      ]
     },
     "metadata": {},
     "output_type": "display_data"
    }
   ],
   "source": [
    "channel=5\n",
    "samples=50\n",
    "\n",
    "df_test=df.iloc[y_test.index]\n",
    "\n",
    "#Get cot values\n",
    "cot_column=df_test['COT'].to_numpy()\n",
    "cot_column=cot_column[0:samples]\n",
    "sort_ind=np.argsort(cot_column)\n",
    "cot_column_sort=cot_column[sort_ind]\n",
    "\n",
    "#Get ground truth\n",
    "y_plot=y_test.to_numpy()[:,channel]\n",
    "y_plot=y_plot[0:samples]\n",
    "y_plot_sort=y_plot[sort_ind]\n",
    "\n",
    "#Get y predictions\n",
    "y_pred=preds[:,channel,:]\n",
    "y_pred=y_pred[0:samples,:]\n",
    "y_pred_sort=y_pred[sort_ind,:]\n",
    "\n",
    "#Repeat ground truth to prepp difference\n",
    "y_rep=np.repeat(y_plot_sort,len(quantiles),axis=0)\n",
    "y_rep=np.reshape(y_rep,(-1,len(quantiles)))\n",
    "diff=y_rep-y_pred_sort\n",
    "\n",
    "#plt.plot(cot_column_sort,y_plot_sort,'.')\n",
    "#plt.plot(cot_column_sort,y_pred_sort,'.')\n",
    "plt.plot(cot_column_sort,diff)\n",
    "plt.legend(['0.1','0.5','0.9'])"
   ]
  },
  {
   "cell_type": "code",
   "execution_count": null,
   "metadata": {},
   "outputs": [],
   "source": []
  },
  {
   "cell_type": "code",
   "execution_count": 14,
   "metadata": {},
   "outputs": [],
   "source": [
    "hf.save_model_and_test_data(filepath='pytorch_models/10epoch',model=model,X_test=X_test,y_test=y_test)"
   ]
  },
  {
   "cell_type": "markdown",
   "metadata": {},
   "source": [
    "## Test multiple runs"
   ]
  },
  {
   "cell_type": "code",
   "execution_count": 6,
   "metadata": {},
   "outputs": [],
   "source": [
    "num_epochs=[10,20]\n",
    "\n",
    "sequential_models=[nn.Sequential(\n",
    "    nn.Linear(len(X_labels),64),\n",
    "    nn.ReLU(),\n",
    "    nn.Linear(64,64),\n",
    "    nn.ReLU(),\n",
    "    nn.Linear(64, len(quantiles)*len(y_labels))\n",
    "),\n",
    "nn.Sequential(\n",
    "    nn.Linear(len(X_labels),128),\n",
    "    nn.ReLU(),\n",
    "    nn.Linear(128,128),\n",
    "    nn.ReLU(),\n",
    "    nn.Linear(128, len(quantiles)*len(y_labels))\n",
    ")]"
   ]
  },
  {
   "cell_type": "code",
   "execution_count": 7,
   "metadata": {},
   "outputs": [
    {
     "name": "stdout",
     "output_type": "stream",
     "text": [
      "Epoch 1\n"
     ]
    },
    {
     "name": "stderr",
     "output_type": "stream",
     "text": [
      "Batch number: 100%|██████████| 1805/1805 [00:04<00:00, 447.21it/s]\n"
     ]
    },
    {
     "name": "stdout",
     "output_type": "stream",
     "text": [
      "Training loss [0.83508545] Validation loss [0.62981284]\n",
      "----New best validation loss---- [0.62981284]\n",
      "Epoch 2\n"
     ]
    },
    {
     "name": "stderr",
     "output_type": "stream",
     "text": [
      "Batch number: 100%|██████████| 1805/1805 [00:03<00:00, 470.29it/s]\n"
     ]
    },
    {
     "name": "stdout",
     "output_type": "stream",
     "text": [
      "Training loss [0.5938237] Validation loss [0.5724689]\n",
      "----New best validation loss---- [0.5724689]\n",
      "Epoch 3\n"
     ]
    },
    {
     "name": "stderr",
     "output_type": "stream",
     "text": [
      "Batch number: 100%|██████████| 1805/1805 [00:04<00:00, 401.85it/s]\n"
     ]
    },
    {
     "name": "stdout",
     "output_type": "stream",
     "text": [
      "Training loss [0.55062705] Validation loss [0.53972024]\n",
      "----New best validation loss---- [0.53972024]\n",
      "Epoch 4\n"
     ]
    },
    {
     "name": "stderr",
     "output_type": "stream",
     "text": [
      "Batch number: 100%|██████████| 1805/1805 [00:04<00:00, 401.92it/s]"
     ]
    },
    {
     "name": "stdout",
     "output_type": "stream",
     "text": [
      "Training loss [0.52663654] Validation loss [0.52367455]\n",
      "----New best validation loss---- [0.52367455]\n",
      "Epoch 5\n"
     ]
    },
    {
     "name": "stderr",
     "output_type": "stream",
     "text": [
      "\n",
      "Batch number: 100%|██████████| 1805/1805 [00:04<00:00, 412.58it/s]"
     ]
    },
    {
     "name": "stdout",
     "output_type": "stream",
     "text": [
      "Training loss [0.51076293] Validation loss [0.51235425]\n",
      "----New best validation loss---- [0.51235425]\n",
      "Epoch 6\n"
     ]
    },
    {
     "name": "stderr",
     "output_type": "stream",
     "text": [
      "\n",
      "Batch number: 100%|██████████| 1805/1805 [00:04<00:00, 402.10it/s]\n"
     ]
    },
    {
     "name": "stdout",
     "output_type": "stream",
     "text": [
      "Training loss [0.49929383] Validation loss [0.50127894]\n",
      "----New best validation loss---- [0.50127894]\n",
      "Epoch 7\n"
     ]
    },
    {
     "name": "stderr",
     "output_type": "stream",
     "text": [
      "Batch number: 100%|██████████| 1805/1805 [00:04<00:00, 400.15it/s]\n"
     ]
    },
    {
     "name": "stdout",
     "output_type": "stream",
     "text": [
      "Training loss [0.48882237] Validation loss [0.49542388]\n",
      "----New best validation loss---- [0.49542388]\n",
      "Epoch 8\n"
     ]
    },
    {
     "name": "stderr",
     "output_type": "stream",
     "text": [
      "Batch number: 100%|██████████| 1805/1805 [00:04<00:00, 406.06it/s]"
     ]
    },
    {
     "name": "stdout",
     "output_type": "stream",
     "text": [
      "Training loss [0.4817636] Validation loss [0.47814092]\n",
      "----New best validation loss---- [0.47814092]\n",
      "Epoch 9\n"
     ]
    },
    {
     "name": "stderr",
     "output_type": "stream",
     "text": [
      "\n",
      "Batch number: 100%|██████████| 1805/1805 [00:04<00:00, 410.83it/s]\n"
     ]
    },
    {
     "name": "stdout",
     "output_type": "stream",
     "text": [
      "Training loss [0.47558063] Validation loss [0.4775147]\n",
      "----New best validation loss---- [0.4775147]\n",
      "Epoch 10\n"
     ]
    },
    {
     "name": "stderr",
     "output_type": "stream",
     "text": [
      "Batch number: 100%|██████████| 1805/1805 [00:04<00:00, 406.37it/s]\n"
     ]
    },
    {
     "name": "stdout",
     "output_type": "stream",
     "text": [
      "Training loss [0.4697666] Validation loss [0.4678289]\n",
      "----New best validation loss---- [0.4678289]\n",
      "Best model out of total max epochs found at epoch 10\n",
      "Epoch 1\n"
     ]
    },
    {
     "name": "stderr",
     "output_type": "stream",
     "text": [
      "Batch number: 100%|██████████| 1805/1805 [00:05<00:00, 320.05it/s]\n"
     ]
    },
    {
     "name": "stdout",
     "output_type": "stream",
     "text": [
      "Training loss [0.736036] Validation loss [0.5824668]\n",
      "----New best validation loss---- [0.5824668]\n",
      "Epoch 2\n"
     ]
    },
    {
     "name": "stderr",
     "output_type": "stream",
     "text": [
      "Batch number: 100%|██████████| 1805/1805 [00:05<00:00, 312.87it/s]\n"
     ]
    },
    {
     "name": "stdout",
     "output_type": "stream",
     "text": [
      "Training loss [0.53765464] Validation loss [0.51077586]\n",
      "----New best validation loss---- [0.51077586]\n",
      "Epoch 3\n"
     ]
    },
    {
     "name": "stderr",
     "output_type": "stream",
     "text": [
      "Batch number: 100%|██████████| 1805/1805 [00:05<00:00, 316.40it/s]\n"
     ]
    },
    {
     "name": "stdout",
     "output_type": "stream",
     "text": [
      "Training loss [0.4975485] Validation loss [0.4831912]\n",
      "----New best validation loss---- [0.4831912]\n",
      "Epoch 4\n"
     ]
    },
    {
     "name": "stderr",
     "output_type": "stream",
     "text": [
      "Batch number: 100%|██████████| 1805/1805 [00:05<00:00, 315.95it/s]\n"
     ]
    },
    {
     "name": "stdout",
     "output_type": "stream",
     "text": [
      "Training loss [0.47509474] Validation loss [0.46123123]\n",
      "----New best validation loss---- [0.46123123]\n",
      "Epoch 5\n"
     ]
    },
    {
     "name": "stderr",
     "output_type": "stream",
     "text": [
      "Batch number: 100%|██████████| 1805/1805 [00:05<00:00, 308.60it/s]\n"
     ]
    },
    {
     "name": "stdout",
     "output_type": "stream",
     "text": [
      "Training loss [0.46134073] Validation loss [0.46613616]\n",
      "Epoch 6\n"
     ]
    },
    {
     "name": "stderr",
     "output_type": "stream",
     "text": [
      "Batch number: 100%|██████████| 1805/1805 [00:05<00:00, 301.90it/s]\n"
     ]
    },
    {
     "name": "stdout",
     "output_type": "stream",
     "text": [
      "Training loss [0.4498692] Validation loss [0.4443084]\n",
      "----New best validation loss---- [0.4443084]\n",
      "Epoch 7\n"
     ]
    },
    {
     "name": "stderr",
     "output_type": "stream",
     "text": [
      "Batch number: 100%|██████████| 1805/1805 [00:05<00:00, 303.83it/s]\n"
     ]
    },
    {
     "name": "stdout",
     "output_type": "stream",
     "text": [
      "Training loss [0.4410767] Validation loss [0.4340277]\n",
      "----New best validation loss---- [0.4340277]\n",
      "Epoch 8\n"
     ]
    },
    {
     "name": "stderr",
     "output_type": "stream",
     "text": [
      "Batch number: 100%|██████████| 1805/1805 [00:05<00:00, 323.56it/s]\n"
     ]
    },
    {
     "name": "stdout",
     "output_type": "stream",
     "text": [
      "Training loss [0.43396753] Validation loss [0.44328737]\n",
      "Epoch 9\n"
     ]
    },
    {
     "name": "stderr",
     "output_type": "stream",
     "text": [
      "Batch number: 100%|██████████| 1805/1805 [00:05<00:00, 317.80it/s]\n"
     ]
    },
    {
     "name": "stdout",
     "output_type": "stream",
     "text": [
      "Training loss [0.42952433] Validation loss [0.43190625]\n",
      "----New best validation loss---- [0.43190625]\n",
      "Epoch 10\n"
     ]
    },
    {
     "name": "stderr",
     "output_type": "stream",
     "text": [
      "Batch number: 100%|██████████| 1805/1805 [00:05<00:00, 316.68it/s]"
     ]
    },
    {
     "name": "stdout",
     "output_type": "stream",
     "text": [
      "Training loss [0.423864] Validation loss [0.423239]\n"
     ]
    },
    {
     "name": "stderr",
     "output_type": "stream",
     "text": [
      "\n"
     ]
    },
    {
     "name": "stdout",
     "output_type": "stream",
     "text": [
      "----New best validation loss---- [0.423239]\n",
      "Best model out of total max epochs found at epoch 10\n",
      "Epoch 1\n"
     ]
    },
    {
     "name": "stderr",
     "output_type": "stream",
     "text": [
      "Batch number: 100%|██████████| 1805/1805 [00:04<00:00, 397.33it/s]\n"
     ]
    },
    {
     "name": "stdout",
     "output_type": "stream",
     "text": [
      "Training loss [0.46550938] Validation loss [0.4674661]\n",
      "----New best validation loss---- [0.4674661]\n",
      "Epoch 2\n"
     ]
    },
    {
     "name": "stderr",
     "output_type": "stream",
     "text": [
      "Batch number: 100%|██████████| 1805/1805 [00:04<00:00, 397.59it/s]\n"
     ]
    },
    {
     "name": "stdout",
     "output_type": "stream",
     "text": [
      "Training loss [0.46072677] Validation loss [0.46098593]\n",
      "----New best validation loss---- [0.46098593]\n",
      "Epoch 3\n"
     ]
    },
    {
     "name": "stderr",
     "output_type": "stream",
     "text": [
      "Batch number: 100%|██████████| 1805/1805 [00:04<00:00, 395.96it/s]\n"
     ]
    },
    {
     "name": "stdout",
     "output_type": "stream",
     "text": [
      "Training loss [0.45575485] Validation loss [0.45575827]\n",
      "----New best validation loss---- [0.45575827]\n",
      "Epoch 4\n"
     ]
    },
    {
     "name": "stderr",
     "output_type": "stream",
     "text": [
      "Batch number: 100%|██████████| 1805/1805 [00:04<00:00, 398.32it/s]\n"
     ]
    },
    {
     "name": "stdout",
     "output_type": "stream",
     "text": [
      "Training loss [0.45258376] Validation loss [0.45187417]\n",
      "----New best validation loss---- [0.45187417]\n",
      "Epoch 5\n"
     ]
    },
    {
     "name": "stderr",
     "output_type": "stream",
     "text": [
      "Batch number: 100%|██████████| 1805/1805 [00:04<00:00, 394.89it/s]"
     ]
    },
    {
     "name": "stdout",
     "output_type": "stream",
     "text": [
      "Training loss [0.44944212] Validation loss [0.44813833]\n",
      "----New best validation loss---- [0.44813833]\n",
      "Epoch 6\n"
     ]
    },
    {
     "name": "stderr",
     "output_type": "stream",
     "text": [
      "\n",
      "Batch number: 100%|██████████| 1805/1805 [00:04<00:00, 391.74it/s]"
     ]
    },
    {
     "name": "stdout",
     "output_type": "stream",
     "text": [
      "Training loss [0.44732052] Validation loss [0.4480687]\n",
      "----New best validation loss---- [0.4480687]\n",
      "Epoch 7\n"
     ]
    },
    {
     "name": "stderr",
     "output_type": "stream",
     "text": [
      "\n",
      "Batch number: 100%|██████████| 1805/1805 [00:04<00:00, 387.91it/s]"
     ]
    },
    {
     "name": "stdout",
     "output_type": "stream",
     "text": [
      "Training loss [0.44526616] Validation loss [0.44311658]\n",
      "----New best validation loss---- [0.44311658]\n",
      "Epoch 8\n"
     ]
    },
    {
     "name": "stderr",
     "output_type": "stream",
     "text": [
      "\n",
      "Batch number: 100%|██████████| 1805/1805 [00:05<00:00, 356.35it/s]\n"
     ]
    },
    {
     "name": "stdout",
     "output_type": "stream",
     "text": [
      "Training loss [0.44238296] Validation loss [0.4478645]\n",
      "Epoch 9\n"
     ]
    },
    {
     "name": "stderr",
     "output_type": "stream",
     "text": [
      "Batch number: 100%|██████████| 1805/1805 [00:04<00:00, 392.29it/s]\n"
     ]
    },
    {
     "name": "stdout",
     "output_type": "stream",
     "text": [
      "Training loss [0.44048917] Validation loss [0.44160798]\n",
      "----New best validation loss---- [0.44160798]\n",
      "Epoch 10\n"
     ]
    },
    {
     "name": "stderr",
     "output_type": "stream",
     "text": [
      "Batch number: 100%|██████████| 1805/1805 [00:04<00:00, 400.67it/s]\n"
     ]
    },
    {
     "name": "stdout",
     "output_type": "stream",
     "text": [
      "Training loss [0.43798387] Validation loss [0.4358453]\n",
      "----New best validation loss---- [0.4358453]\n",
      "Epoch 11\n"
     ]
    },
    {
     "name": "stderr",
     "output_type": "stream",
     "text": [
      "Batch number: 100%|██████████| 1805/1805 [00:04<00:00, 409.52it/s]\n"
     ]
    },
    {
     "name": "stdout",
     "output_type": "stream",
     "text": [
      "Training loss [0.43721092] Validation loss [0.43711507]\n",
      "Epoch 12\n"
     ]
    },
    {
     "name": "stderr",
     "output_type": "stream",
     "text": [
      "Batch number: 100%|██████████| 1805/1805 [00:04<00:00, 406.32it/s]\n"
     ]
    },
    {
     "name": "stdout",
     "output_type": "stream",
     "text": [
      "Training loss [0.4345179] Validation loss [0.4331449]\n",
      "----New best validation loss---- [0.4331449]\n",
      "Epoch 13\n"
     ]
    },
    {
     "name": "stderr",
     "output_type": "stream",
     "text": [
      "Batch number: 100%|██████████| 1805/1805 [00:04<00:00, 391.36it/s]"
     ]
    },
    {
     "name": "stdout",
     "output_type": "stream",
     "text": [
      "Training loss [0.4328985] Validation loss [0.4310257]\n",
      "----New best validation loss---- [0.4310257]\n",
      "Epoch 14\n"
     ]
    },
    {
     "name": "stderr",
     "output_type": "stream",
     "text": [
      "\n",
      "Batch number: 100%|██████████| 1805/1805 [00:04<00:00, 400.95it/s]\n"
     ]
    },
    {
     "name": "stdout",
     "output_type": "stream",
     "text": [
      "Training loss [0.43162265] Validation loss [0.43020603]\n",
      "----New best validation loss---- [0.43020603]\n",
      "Epoch 15\n"
     ]
    },
    {
     "name": "stderr",
     "output_type": "stream",
     "text": [
      "Batch number: 100%|██████████| 1805/1805 [00:04<00:00, 397.63it/s]"
     ]
    },
    {
     "name": "stdout",
     "output_type": "stream",
     "text": [
      "Training loss [0.4297698] Validation loss [0.43873972]\n",
      "Epoch 16\n"
     ]
    },
    {
     "name": "stderr",
     "output_type": "stream",
     "text": [
      "\n",
      "Batch number: 100%|██████████| 1805/1805 [00:04<00:00, 372.66it/s]\n"
     ]
    },
    {
     "name": "stdout",
     "output_type": "stream",
     "text": [
      "Training loss [0.4283286] Validation loss [0.42865148]\n",
      "----New best validation loss---- [0.42865148]\n",
      "Epoch 17\n"
     ]
    },
    {
     "name": "stderr",
     "output_type": "stream",
     "text": [
      "Batch number: 100%|██████████| 1805/1805 [00:04<00:00, 389.63it/s]\n"
     ]
    },
    {
     "name": "stdout",
     "output_type": "stream",
     "text": [
      "Training loss [0.42690247] Validation loss [0.43851897]\n",
      "Epoch 18\n"
     ]
    },
    {
     "name": "stderr",
     "output_type": "stream",
     "text": [
      "Batch number: 100%|██████████| 1805/1805 [00:04<00:00, 396.70it/s]\n"
     ]
    },
    {
     "name": "stdout",
     "output_type": "stream",
     "text": [
      "Training loss [0.4265093] Validation loss [0.42374086]\n",
      "----New best validation loss---- [0.42374086]\n",
      "Epoch 19\n"
     ]
    },
    {
     "name": "stderr",
     "output_type": "stream",
     "text": [
      "Batch number: 100%|██████████| 1805/1805 [00:04<00:00, 366.01it/s]\n"
     ]
    },
    {
     "name": "stdout",
     "output_type": "stream",
     "text": [
      "Training loss [0.42438915] Validation loss [0.42492786]\n",
      "Epoch 20\n"
     ]
    },
    {
     "name": "stderr",
     "output_type": "stream",
     "text": [
      "Batch number: 100%|██████████| 1805/1805 [00:04<00:00, 396.11it/s]\n"
     ]
    },
    {
     "name": "stdout",
     "output_type": "stream",
     "text": [
      "Training loss [0.42316002] Validation loss [0.42220765]\n",
      "----New best validation loss---- [0.42220765]\n",
      "Best model out of total max epochs found at epoch 20\n",
      "Epoch 1\n"
     ]
    },
    {
     "name": "stderr",
     "output_type": "stream",
     "text": [
      "Batch number: 100%|██████████| 1805/1805 [00:05<00:00, 318.26it/s]\n"
     ]
    },
    {
     "name": "stdout",
     "output_type": "stream",
     "text": [
      "Training loss [0.420448] Validation loss [0.41637716]\n",
      "----New best validation loss---- [0.41637716]\n",
      "Epoch 2\n"
     ]
    },
    {
     "name": "stderr",
     "output_type": "stream",
     "text": [
      "Batch number: 100%|██████████| 1805/1805 [00:05<00:00, 318.72it/s]"
     ]
    },
    {
     "name": "stdout",
     "output_type": "stream",
     "text": [
      "Training loss [0.41602948] Validation loss [0.4251766]\n",
      "Epoch 3\n"
     ]
    },
    {
     "name": "stderr",
     "output_type": "stream",
     "text": [
      "\n",
      "Batch number: 100%|██████████| 1805/1805 [00:05<00:00, 317.36it/s]\n"
     ]
    },
    {
     "name": "stdout",
     "output_type": "stream",
     "text": [
      "Training loss [0.4127946] Validation loss [0.40777013]\n",
      "----New best validation loss---- [0.40777013]\n",
      "Epoch 4\n"
     ]
    },
    {
     "name": "stderr",
     "output_type": "stream",
     "text": [
      "Batch number: 100%|██████████| 1805/1805 [00:05<00:00, 317.32it/s]"
     ]
    },
    {
     "name": "stdout",
     "output_type": "stream",
     "text": [
      "Training loss [0.40959185] Validation loss [0.41486683]\n",
      "Epoch 5\n"
     ]
    },
    {
     "name": "stderr",
     "output_type": "stream",
     "text": [
      "\n",
      "Batch number: 100%|██████████| 1805/1805 [00:05<00:00, 317.74it/s]"
     ]
    },
    {
     "name": "stdout",
     "output_type": "stream",
     "text": [
      "Training loss [0.40715286] Validation loss [0.403193]\n",
      "----New best validation loss---- [0.403193]\n",
      "Epoch 6\n"
     ]
    },
    {
     "name": "stderr",
     "output_type": "stream",
     "text": [
      "\n",
      "Batch number: 100%|██████████| 1805/1805 [00:05<00:00, 318.43it/s]\n"
     ]
    },
    {
     "name": "stdout",
     "output_type": "stream",
     "text": [
      "Training loss [0.40456155] Validation loss [0.4076635]\n",
      "Epoch 7\n"
     ]
    },
    {
     "name": "stderr",
     "output_type": "stream",
     "text": [
      "Batch number: 100%|██████████| 1805/1805 [00:05<00:00, 307.98it/s]\n"
     ]
    },
    {
     "name": "stdout",
     "output_type": "stream",
     "text": [
      "Training loss [0.40146753] Validation loss [0.3994426]\n",
      "----New best validation loss---- [0.3994426]\n",
      "Epoch 8\n"
     ]
    },
    {
     "name": "stderr",
     "output_type": "stream",
     "text": [
      "Batch number: 100%|██████████| 1805/1805 [00:05<00:00, 307.35it/s]\n"
     ]
    },
    {
     "name": "stdout",
     "output_type": "stream",
     "text": [
      "Training loss [0.3999427] Validation loss [0.39930278]\n",
      "----New best validation loss---- [0.39930278]\n",
      "Epoch 9\n"
     ]
    },
    {
     "name": "stderr",
     "output_type": "stream",
     "text": [
      "Batch number: 100%|██████████| 1805/1805 [00:05<00:00, 309.06it/s]\n"
     ]
    },
    {
     "name": "stdout",
     "output_type": "stream",
     "text": [
      "Training loss [0.39832938] Validation loss [0.39774787]\n",
      "----New best validation loss---- [0.39774787]\n",
      "Epoch 10\n"
     ]
    },
    {
     "name": "stderr",
     "output_type": "stream",
     "text": [
      "Batch number: 100%|██████████| 1805/1805 [00:06<00:00, 299.74it/s]"
     ]
    },
    {
     "name": "stdout",
     "output_type": "stream",
     "text": [
      "Training loss [0.39611384] Validation loss [0.39565954]\n",
      "----New best validation loss---- [0.39565954]\n",
      "Epoch 11\n"
     ]
    },
    {
     "name": "stderr",
     "output_type": "stream",
     "text": [
      "\n",
      "Batch number: 100%|██████████| 1805/1805 [00:05<00:00, 317.90it/s]\n"
     ]
    },
    {
     "name": "stdout",
     "output_type": "stream",
     "text": [
      "Training loss [0.39431566] Validation loss [0.39378342]\n",
      "----New best validation loss---- [0.39378342]\n",
      "Epoch 12\n"
     ]
    },
    {
     "name": "stderr",
     "output_type": "stream",
     "text": [
      "Batch number: 100%|██████████| 1805/1805 [00:05<00:00, 314.15it/s]\n"
     ]
    },
    {
     "name": "stdout",
     "output_type": "stream",
     "text": [
      "Training loss [0.3923776] Validation loss [0.3941162]\n",
      "Epoch 13\n"
     ]
    },
    {
     "name": "stderr",
     "output_type": "stream",
     "text": [
      "Batch number: 100%|██████████| 1805/1805 [00:05<00:00, 310.44it/s]\n"
     ]
    },
    {
     "name": "stdout",
     "output_type": "stream",
     "text": [
      "Training loss [0.3907729] Validation loss [0.40045735]\n",
      "Epoch 14\n"
     ]
    },
    {
     "name": "stderr",
     "output_type": "stream",
     "text": [
      "Batch number: 100%|██████████| 1805/1805 [00:05<00:00, 309.70it/s]\n"
     ]
    },
    {
     "name": "stdout",
     "output_type": "stream",
     "text": [
      "Training loss [0.3884565] Validation loss [0.38296342]\n",
      "----New best validation loss---- [0.38296342]\n",
      "Epoch 15\n"
     ]
    },
    {
     "name": "stderr",
     "output_type": "stream",
     "text": [
      "Batch number: 100%|██████████| 1805/1805 [00:06<00:00, 282.57it/s]\n"
     ]
    },
    {
     "name": "stdout",
     "output_type": "stream",
     "text": [
      "Training loss [0.38813072] Validation loss [0.39029762]\n",
      "Epoch 16\n"
     ]
    },
    {
     "name": "stderr",
     "output_type": "stream",
     "text": [
      "Batch number: 100%|██████████| 1805/1805 [00:06<00:00, 284.14it/s]\n"
     ]
    },
    {
     "name": "stdout",
     "output_type": "stream",
     "text": [
      "Training loss [0.3860818] Validation loss [0.3854317]\n",
      "Epoch 17\n"
     ]
    },
    {
     "name": "stderr",
     "output_type": "stream",
     "text": [
      "Batch number: 100%|██████████| 1805/1805 [00:05<00:00, 306.48it/s]\n"
     ]
    },
    {
     "name": "stdout",
     "output_type": "stream",
     "text": [
      "Training loss [0.38454857] Validation loss [0.39033598]\n",
      "Epoch 18\n"
     ]
    },
    {
     "name": "stderr",
     "output_type": "stream",
     "text": [
      "Batch number: 100%|██████████| 1805/1805 [00:05<00:00, 307.75it/s]"
     ]
    },
    {
     "name": "stdout",
     "output_type": "stream",
     "text": [
      "Training loss [0.38327152] Validation loss [0.39681497]\n",
      "Epoch 19\n"
     ]
    },
    {
     "name": "stderr",
     "output_type": "stream",
     "text": [
      "\n",
      "Batch number: 100%|██████████| 1805/1805 [00:05<00:00, 315.59it/s]\n"
     ]
    },
    {
     "name": "stdout",
     "output_type": "stream",
     "text": [
      "Training loss [0.3824421] Validation loss [0.37885955]\n",
      "----New best validation loss---- [0.37885955]\n",
      "Epoch 20\n"
     ]
    },
    {
     "name": "stderr",
     "output_type": "stream",
     "text": [
      "Batch number: 100%|██████████| 1805/1805 [00:05<00:00, 317.48it/s]"
     ]
    },
    {
     "name": "stdout",
     "output_type": "stream",
     "text": [
      "Training loss [0.37975702] Validation loss [0.38331705]\n"
     ]
    },
    {
     "name": "stderr",
     "output_type": "stream",
     "text": [
      "\n"
     ]
    },
    {
     "name": "stdout",
     "output_type": "stream",
     "text": [
      "Best model out of total max epochs found at epoch 19\n"
     ]
    }
   ],
   "source": [
    "for nepochs in num_epochs:\n",
    "    for i,sequantial in enumerate(sequential_models):\n",
    "        model=QuantileNetwork(quantiles=quantiles)\n",
    "\n",
    "        model.fit(X_train.to_numpy(),y_train.to_numpy(), \n",
    "          train_indices, \n",
    "          validation_indices, \n",
    "          batch_size=batch_size,\n",
    "          nepochs=nepochs,\n",
    "          sequence=sequantial)\n",
    "        \n",
    "        hf.save_model_and_test_data(filepath='pytorch_models/'+str(nepochs)+'epochs_'+'network_index_'+str(i),\n",
    "                                    model=model,X_test=X_test,y_test=y_test)\n",
    "        \n",
    "        "
   ]
  },
  {
   "cell_type": "markdown",
   "metadata": {},
   "source": [
    "## Testloading a model"
   ]
  },
  {
   "cell_type": "code",
   "execution_count": 2,
   "metadata": {},
   "outputs": [],
   "source": [
    "model, X_test, y_test = hf.load_model_and_test_data(filepath='pytorch_models/10epochs_network_index_0')"
   ]
  },
  {
   "cell_type": "code",
   "execution_count": null,
   "metadata": {},
   "outputs": [],
   "source": []
  }
 ],
 "metadata": {
  "kernelspec": {
   "display_name": "Python 3",
   "language": "python",
   "name": "python3"
  },
  "language_info": {
   "codemirror_mode": {
    "name": "ipython",
    "version": 3
   },
   "file_extension": ".py",
   "mimetype": "text/x-python",
   "name": "python",
   "nbconvert_exporter": "python",
   "pygments_lexer": "ipython3",
   "version": "3.11.5"
  }
 },
 "nbformat": 4,
 "nbformat_minor": 2
}
