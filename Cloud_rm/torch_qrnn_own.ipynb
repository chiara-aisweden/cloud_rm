{
 "cells": [
  {
   "cell_type": "code",
   "execution_count": 1,
   "metadata": {},
   "outputs": [
    {
     "name": "stdout",
     "output_type": "stream",
     "text": [
      "WARNING:tensorflow:From c:\\Users\\filip\\AppData\\Local\\Programs\\Python\\Python311\\Lib\\site-packages\\keras\\src\\losses.py:2976: The name tf.losses.sparse_softmax_cross_entropy is deprecated. Please use tf.compat.v1.losses.sparse_softmax_cross_entropy instead.\n",
      "\n"
     ]
    }
   ],
   "source": [
    "import numpy as np\n",
    "import pandas as pd\n",
    "import matplotlib.pyplot as plt\n",
    "import sys\n",
    "\n",
    "\n",
    "import functions.parse_data as parse\n",
    "import functions.handy_functions as hf\n",
    "\n",
    "from multivariate_quantile_regression.network_model import QuantileNetwork\n",
    "\n",
    "from sklearn.metrics import mean_squared_error\n",
    "from sklearn.model_selection import train_test_split\n",
    "\n",
    "from tqdm import tqdm"
   ]
  },
  {
   "cell_type": "code",
   "execution_count": 51,
   "metadata": {},
   "outputs": [
    {
     "name": "stdout",
     "output_type": "stream",
     "text": [
      "Noise standard deviation for Cloud_B02: 0.00335001428051948\n",
      "Noise standard deviation for Cloud_B03: 0.002912530185416667\n",
      "Noise standard deviation for Cloud_B04: 0.004058081082042254\n",
      "Noise standard deviation for Cloud_B05: 0.0046524891611111115\n",
      "Noise standard deviation for Cloud_B06: 0.007455351321348316\n",
      "Noise standard deviation for Cloud_B07: 0.008871707484285717\n",
      "Noise standard deviation for Cloud_B08: 0.04489677938000001\n",
      "Noise standard deviation for Cloud_B09: 0.005688141120114942\n",
      "Noise standard deviation for Cloud_B10: 0.003909328971491229\n",
      "Noise standard deviation for Cloud_B11: 0.0014014724139999996\n",
      "Noise standard deviation for Cloud_B12: 0.005030040539999999\n",
      "Noise standard deviation for Cloud_B13: 0.004041267081999999\n"
     ]
    }
   ],
   "source": [
    "channel_labels= ['Cloud_B02','Cloud_B03','Cloud_B04','Cloud_B05','Cloud_B06','Cloud_B07',\n",
    "                 'Cloud_B08','Cloud_B09','Cloud_B10','Cloud_B11','Cloud_B12','Cloud_B13']\n",
    "\n",
    "data_water=parse.parse('cloudrm_water.dat')\n",
    "data_clear=parse.parse('cloudrm_clear.dat')\n",
    "data_ice=parse.parse('cloudrm_ice.dat')\n",
    "data_mixed=parse.parse('cloudrm_mixed.dat')\n",
    "\n",
    "#Concatinate all datasets\n",
    "data_all=pd.concat([data_water, data_clear, data_ice, data_mixed])\n",
    "data_all=data_all.drop(columns=['Surface_Desc','Cloud_B01','Clear_B01'])\n",
    "df_truth=data_all.copy()\n",
    "\n",
    "data_all=hf.add_MSI_noise(data_all,channel_labels)"
   ]
  },
  {
   "cell_type": "code",
   "execution_count": 52,
   "metadata": {},
   "outputs": [],
   "source": [
    "##Train test validation split##\n",
    "X_labels= ['Cloud_B02','Cloud_B03','Cloud_B04','Cloud_B05','Cloud_B06',\n",
    "           'Cloud_B07','Cloud_B08','Cloud_B09','Cloud_B10','Cloud_B11','Cloud_B12','Cloud_B13',\n",
    "           'Sat_Zenith_Angle','Sun_Zenith_Angle','Azimuth_Diff_Angle']\n",
    "\n",
    "#Leave out 'GOT', 'Water_Vapor'\n",
    "#Band 1 no go.\n",
    "y_labels=['Clear_B02','Clear_B03','Clear_B04','Clear_B05','Clear_B06',\n",
    "           'Clear_B07','Clear_B08','Clear_B09','Clear_B10','Clear_B11','Clear_B12','Clear_B13']\n",
    "\n",
    "X_truth=df_truth[X_labels]\n",
    "\n",
    "df=hf.normalise_input_df(data_all,X_labels)\n",
    "df=hf.add_noise(df,X_labels,sigma=0.001)\n",
    "\n",
    "##Split data##\n",
    "X=df[X_labels]\n",
    "y=df[y_labels]\n",
    "\n",
    "X_train, X_test, y_train, y_test=train_test_split(X,y,test_size=0.05)\n",
    "\n",
    "X_test_truth=X_truth.iloc[X_test.index] #Save truth values without normalisation"
   ]
  },
  {
   "cell_type": "code",
   "execution_count": 53,
   "metadata": {},
   "outputs": [],
   "source": [
    "import random\n",
    "\n",
    "val_size=0.05\n",
    "validation_indices=np.array(random.sample(range(len(X_train['Cloud_B02'])), int(len(X_train['Cloud_B02'])*val_size)))\n",
    "train_indices=[i for i in range(len(X_train['Cloud_B02'])) if np.any(validation_indices==i)==False]"
   ]
  },
  {
   "cell_type": "code",
   "execution_count": 54,
   "metadata": {},
   "outputs": [
    {
     "name": "stdout",
     "output_type": "stream",
     "text": [
      "Epoch 1\n"
     ]
    },
    {
     "name": "stderr",
     "output_type": "stream",
     "text": [
      "Batch number: 100%|██████████| 1805/1805 [00:05<00:00, 347.30it/s]\n"
     ]
    },
    {
     "name": "stdout",
     "output_type": "stream",
     "text": [
      "Training loss [0.8456738] Validation loss [0.6395272]\n",
      "----New best validation loss---- [0.6395272]\n",
      "Epoch 2\n"
     ]
    },
    {
     "name": "stderr",
     "output_type": "stream",
     "text": [
      "Batch number: 100%|██████████| 1805/1805 [00:03<00:00, 457.95it/s]\n"
     ]
    },
    {
     "name": "stdout",
     "output_type": "stream",
     "text": [
      "Training loss [0.59654695] Validation loss [0.57396394]\n",
      "----New best validation loss---- [0.57396394]\n",
      "Epoch 3\n"
     ]
    },
    {
     "name": "stderr",
     "output_type": "stream",
     "text": [
      "Batch number: 100%|██████████| 1805/1805 [00:04<00:00, 396.89it/s]"
     ]
    },
    {
     "name": "stdout",
     "output_type": "stream",
     "text": [
      "Training loss [0.55694133] Validation loss [0.54344064]\n",
      "----New best validation loss---- [0.54344064]\n",
      "Epoch 4\n"
     ]
    },
    {
     "name": "stderr",
     "output_type": "stream",
     "text": [
      "\n",
      "Batch number: 100%|██████████| 1805/1805 [00:04<00:00, 448.77it/s]"
     ]
    },
    {
     "name": "stdout",
     "output_type": "stream",
     "text": [
      "Training loss [0.5329366] Validation loss [0.52380335]\n",
      "----New best validation loss---- [0.52380335]\n",
      "Epoch 5\n"
     ]
    },
    {
     "name": "stderr",
     "output_type": "stream",
     "text": [
      "\n",
      "Batch number: 100%|██████████| 1805/1805 [00:04<00:00, 435.07it/s]"
     ]
    },
    {
     "name": "stdout",
     "output_type": "stream",
     "text": [
      "Training loss [0.5156535] Validation loss [0.5122669]\n",
      "----New best validation loss---- [0.5122669]\n",
      "Epoch 6\n"
     ]
    },
    {
     "name": "stderr",
     "output_type": "stream",
     "text": [
      "\n",
      "Batch number: 100%|██████████| 1805/1805 [00:04<00:00, 424.20it/s]"
     ]
    },
    {
     "name": "stdout",
     "output_type": "stream",
     "text": [
      "Training loss [0.50481737] Validation loss [0.5161043]\n",
      "Epoch 7\n"
     ]
    },
    {
     "name": "stderr",
     "output_type": "stream",
     "text": [
      "\n",
      "Batch number: 100%|██████████| 1805/1805 [00:04<00:00, 450.34it/s]\n"
     ]
    },
    {
     "name": "stdout",
     "output_type": "stream",
     "text": [
      "Training loss [0.49471426] Validation loss [0.49048644]\n",
      "----New best validation loss---- [0.49048644]\n",
      "Epoch 8\n"
     ]
    },
    {
     "name": "stderr",
     "output_type": "stream",
     "text": [
      "Batch number: 100%|██████████| 1805/1805 [00:04<00:00, 379.67it/s]\n"
     ]
    },
    {
     "name": "stdout",
     "output_type": "stream",
     "text": [
      "Training loss [0.48767546] Validation loss [0.4875494]\n",
      "----New best validation loss---- [0.4875494]\n",
      "Epoch 9\n"
     ]
    },
    {
     "name": "stderr",
     "output_type": "stream",
     "text": [
      "Batch number: 100%|██████████| 1805/1805 [00:04<00:00, 407.63it/s]\n"
     ]
    },
    {
     "name": "stdout",
     "output_type": "stream",
     "text": [
      "Training loss [0.48111492] Validation loss [0.4881064]\n",
      "Epoch 10\n"
     ]
    },
    {
     "name": "stderr",
     "output_type": "stream",
     "text": [
      "Batch number: 100%|██████████| 1805/1805 [00:04<00:00, 395.95it/s]"
     ]
    },
    {
     "name": "stdout",
     "output_type": "stream",
     "text": [
      "Training loss [0.4757301] Validation loss [0.47464436]\n",
      "----New best validation loss---- [0.47464436]\n",
      "Best model out of total max epochs found at epoch 10\n"
     ]
    },
    {
     "name": "stderr",
     "output_type": "stream",
     "text": [
      "\n"
     ]
    }
   ],
   "source": [
    "quantiles=np.array([0.1,0.5,0.9])\n",
    "batch_size=100\n",
    "nepochs=10\n",
    "\n",
    "model=QuantileNetwork(quantiles=quantiles)\n",
    "model.fit(X_train.to_numpy(),y_train.to_numpy(), \n",
    "          train_indices, \n",
    "          validation_indices, \n",
    "          batch_size=batch_size,\n",
    "          nepochs=nepochs)"
   ]
  },
  {
   "cell_type": "code",
   "execution_count": 55,
   "metadata": {},
   "outputs": [],
   "source": [
    "preds = model.predict(X_test.to_numpy())"
   ]
  },
  {
   "cell_type": "code",
   "execution_count": 56,
   "metadata": {},
   "outputs": [
    {
     "data": {
      "text/plain": [
       "0.005750888593147246"
      ]
     },
     "execution_count": 56,
     "metadata": {},
     "output_type": "execute_result"
    }
   ],
   "source": [
    "## MSE ##\n",
    "mean_squared_error(y_test.to_numpy(),preds[:,:,1])"
   ]
  },
  {
   "cell_type": "code",
   "execution_count": 57,
   "metadata": {},
   "outputs": [
    {
     "data": {
      "text/plain": [
       "27.120802353234325"
      ]
     },
     "execution_count": 57,
     "metadata": {},
     "output_type": "execute_result"
    }
   ],
   "source": [
    "## PSNR ##\n",
    "QuantileNetwork.PSNR(y_test,preds[:,:,1])"
   ]
  },
  {
   "cell_type": "code",
   "execution_count": 58,
   "metadata": {},
   "outputs": [
    {
     "data": {
      "text/plain": [
       "0.21895"
      ]
     },
     "execution_count": 58,
     "metadata": {},
     "output_type": "execute_result"
    }
   ],
   "source": [
    "## Outrate ##\n",
    "QuantileNetwork.calc_outrate(y_test.to_numpy(),preds)"
   ]
  },
  {
   "cell_type": "markdown",
   "metadata": {},
   "source": [
    "## Visualise"
   ]
  },
  {
   "cell_type": "code",
   "execution_count": 59,
   "metadata": {},
   "outputs": [
    {
     "data": {
      "text/html": [
       "<div>\n",
       "<style scoped>\n",
       "    .dataframe tbody tr th:only-of-type {\n",
       "        vertical-align: middle;\n",
       "    }\n",
       "\n",
       "    .dataframe tbody tr th {\n",
       "        vertical-align: top;\n",
       "    }\n",
       "\n",
       "    .dataframe thead th {\n",
       "        text-align: right;\n",
       "    }\n",
       "</style>\n",
       "<table border=\"1\" class=\"dataframe\">\n",
       "  <thead>\n",
       "    <tr style=\"text-align: right;\">\n",
       "      <th></th>\n",
       "      <th>Cloud_B02</th>\n",
       "      <th>Cloud_B03</th>\n",
       "      <th>Cloud_B04</th>\n",
       "      <th>Cloud_B05</th>\n",
       "      <th>Cloud_B06</th>\n",
       "      <th>Cloud_B07</th>\n",
       "      <th>Cloud_B08</th>\n",
       "      <th>Cloud_B09</th>\n",
       "      <th>Cloud_B10</th>\n",
       "      <th>Cloud_B11</th>\n",
       "      <th>Cloud_B12</th>\n",
       "      <th>Cloud_B13</th>\n",
       "      <th>Sat_Zenith_Angle</th>\n",
       "      <th>Sun_Zenith_Angle</th>\n",
       "      <th>Azimuth_Diff_Angle</th>\n",
       "    </tr>\n",
       "  </thead>\n",
       "  <tbody>\n",
       "    <tr>\n",
       "      <th>43160</th>\n",
       "      <td>0.155742</td>\n",
       "      <td>0.075139</td>\n",
       "      <td>-0.170042</td>\n",
       "      <td>0.000421</td>\n",
       "      <td>-0.387747</td>\n",
       "      <td>-1.165321</td>\n",
       "      <td>-1.271482</td>\n",
       "      <td>-1.222638</td>\n",
       "      <td>-0.048526</td>\n",
       "      <td>-0.267511</td>\n",
       "      <td>-1.010814</td>\n",
       "      <td>-0.938678</td>\n",
       "      <td>0.037327</td>\n",
       "      <td>0.533748</td>\n",
       "      <td>-1.530063</td>\n",
       "    </tr>\n",
       "    <tr>\n",
       "      <th>9813</th>\n",
       "      <td>0.473440</td>\n",
       "      <td>0.375515</td>\n",
       "      <td>0.248508</td>\n",
       "      <td>0.287647</td>\n",
       "      <td>0.143759</td>\n",
       "      <td>-0.241226</td>\n",
       "      <td>-0.421920</td>\n",
       "      <td>-0.324332</td>\n",
       "      <td>-0.017606</td>\n",
       "      <td>-0.417874</td>\n",
       "      <td>-0.994835</td>\n",
       "      <td>-0.877778</td>\n",
       "      <td>-0.357736</td>\n",
       "      <td>0.632131</td>\n",
       "      <td>1.695460</td>\n",
       "    </tr>\n",
       "    <tr>\n",
       "      <th>37684</th>\n",
       "      <td>-1.135652</td>\n",
       "      <td>-1.068956</td>\n",
       "      <td>-1.011228</td>\n",
       "      <td>-1.131144</td>\n",
       "      <td>-1.017791</td>\n",
       "      <td>0.750211</td>\n",
       "      <td>0.928491</td>\n",
       "      <td>1.114626</td>\n",
       "      <td>-1.179593</td>\n",
       "      <td>-0.642596</td>\n",
       "      <td>1.114913</td>\n",
       "      <td>1.064426</td>\n",
       "      <td>1.345423</td>\n",
       "      <td>0.993024</td>\n",
       "      <td>-0.839502</td>\n",
       "    </tr>\n",
       "    <tr>\n",
       "      <th>24246</th>\n",
       "      <td>0.527790</td>\n",
       "      <td>0.496211</td>\n",
       "      <td>0.379827</td>\n",
       "      <td>0.726194</td>\n",
       "      <td>0.508507</td>\n",
       "      <td>-0.303016</td>\n",
       "      <td>-0.263858</td>\n",
       "      <td>-0.195492</td>\n",
       "      <td>0.802932</td>\n",
       "      <td>2.572800</td>\n",
       "      <td>-0.842604</td>\n",
       "      <td>-0.666262</td>\n",
       "      <td>-0.988009</td>\n",
       "      <td>0.443440</td>\n",
       "      <td>-0.258753</td>\n",
       "    </tr>\n",
       "    <tr>\n",
       "      <th>15011</th>\n",
       "      <td>0.409438</td>\n",
       "      <td>0.427315</td>\n",
       "      <td>0.496006</td>\n",
       "      <td>0.313805</td>\n",
       "      <td>0.633212</td>\n",
       "      <td>0.383216</td>\n",
       "      <td>0.153650</td>\n",
       "      <td>0.196747</td>\n",
       "      <td>0.753757</td>\n",
       "      <td>1.668816</td>\n",
       "      <td>-0.765117</td>\n",
       "      <td>-0.536364</td>\n",
       "      <td>-1.228039</td>\n",
       "      <td>-1.531885</td>\n",
       "      <td>-0.920173</td>\n",
       "    </tr>\n",
       "    <tr>\n",
       "      <th>...</th>\n",
       "      <td>...</td>\n",
       "      <td>...</td>\n",
       "      <td>...</td>\n",
       "      <td>...</td>\n",
       "      <td>...</td>\n",
       "      <td>...</td>\n",
       "      <td>...</td>\n",
       "      <td>...</td>\n",
       "      <td>...</td>\n",
       "      <td>...</td>\n",
       "      <td>...</td>\n",
       "      <td>...</td>\n",
       "      <td>...</td>\n",
       "      <td>...</td>\n",
       "      <td>...</td>\n",
       "    </tr>\n",
       "    <tr>\n",
       "      <th>44683</th>\n",
       "      <td>-0.614643</td>\n",
       "      <td>-0.577452</td>\n",
       "      <td>-0.620392</td>\n",
       "      <td>-0.695929</td>\n",
       "      <td>-0.625460</td>\n",
       "      <td>0.082537</td>\n",
       "      <td>-0.018168</td>\n",
       "      <td>0.134186</td>\n",
       "      <td>-0.960420</td>\n",
       "      <td>-0.266420</td>\n",
       "      <td>0.781996</td>\n",
       "      <td>0.493907</td>\n",
       "      <td>-1.067481</td>\n",
       "      <td>-0.751662</td>\n",
       "      <td>-1.563850</td>\n",
       "    </tr>\n",
       "    <tr>\n",
       "      <th>40878</th>\n",
       "      <td>0.234753</td>\n",
       "      <td>0.234908</td>\n",
       "      <td>0.194977</td>\n",
       "      <td>0.094113</td>\n",
       "      <td>0.150352</td>\n",
       "      <td>0.387228</td>\n",
       "      <td>0.173691</td>\n",
       "      <td>0.257541</td>\n",
       "      <td>-0.077532</td>\n",
       "      <td>-0.064036</td>\n",
       "      <td>0.236809</td>\n",
       "      <td>-0.152068</td>\n",
       "      <td>-0.572624</td>\n",
       "      <td>-1.596031</td>\n",
       "      <td>0.439092</td>\n",
       "    </tr>\n",
       "    <tr>\n",
       "      <th>40485</th>\n",
       "      <td>0.066344</td>\n",
       "      <td>-0.001230</td>\n",
       "      <td>-0.116131</td>\n",
       "      <td>-0.216721</td>\n",
       "      <td>-0.378794</td>\n",
       "      <td>-0.241760</td>\n",
       "      <td>-0.544341</td>\n",
       "      <td>-0.290209</td>\n",
       "      <td>-1.289885</td>\n",
       "      <td>-0.658971</td>\n",
       "      <td>0.196177</td>\n",
       "      <td>0.037753</td>\n",
       "      <td>-0.101038</td>\n",
       "      <td>0.238061</td>\n",
       "      <td>-1.714878</td>\n",
       "    </tr>\n",
       "    <tr>\n",
       "      <th>41277</th>\n",
       "      <td>0.120369</td>\n",
       "      <td>-0.000514</td>\n",
       "      <td>-0.161013</td>\n",
       "      <td>-0.068776</td>\n",
       "      <td>-0.379179</td>\n",
       "      <td>-0.447098</td>\n",
       "      <td>-0.443049</td>\n",
       "      <td>-0.455189</td>\n",
       "      <td>-0.266367</td>\n",
       "      <td>-0.471259</td>\n",
       "      <td>-0.939478</td>\n",
       "      <td>-0.872771</td>\n",
       "      <td>-0.533667</td>\n",
       "      <td>1.025504</td>\n",
       "      <td>-0.513537</td>\n",
       "    </tr>\n",
       "    <tr>\n",
       "      <th>17619</th>\n",
       "      <td>1.035669</td>\n",
       "      <td>0.952563</td>\n",
       "      <td>0.765887</td>\n",
       "      <td>0.830355</td>\n",
       "      <td>0.586691</td>\n",
       "      <td>-0.231783</td>\n",
       "      <td>-0.244956</td>\n",
       "      <td>-0.298570</td>\n",
       "      <td>0.561265</td>\n",
       "      <td>0.475605</td>\n",
       "      <td>0.369032</td>\n",
       "      <td>0.480702</td>\n",
       "      <td>0.097478</td>\n",
       "      <td>0.157518</td>\n",
       "      <td>1.065279</td>\n",
       "    </tr>\n",
       "  </tbody>\n",
       "</table>\n",
       "<p>10000 rows × 15 columns</p>\n",
       "</div>"
      ],
      "text/plain": [
       "       Cloud_B02  Cloud_B03  Cloud_B04  Cloud_B05  Cloud_B06  Cloud_B07  \\\n",
       "43160   0.155742   0.075139  -0.170042   0.000421  -0.387747  -1.165321   \n",
       "9813    0.473440   0.375515   0.248508   0.287647   0.143759  -0.241226   \n",
       "37684  -1.135652  -1.068956  -1.011228  -1.131144  -1.017791   0.750211   \n",
       "24246   0.527790   0.496211   0.379827   0.726194   0.508507  -0.303016   \n",
       "15011   0.409438   0.427315   0.496006   0.313805   0.633212   0.383216   \n",
       "...          ...        ...        ...        ...        ...        ...   \n",
       "44683  -0.614643  -0.577452  -0.620392  -0.695929  -0.625460   0.082537   \n",
       "40878   0.234753   0.234908   0.194977   0.094113   0.150352   0.387228   \n",
       "40485   0.066344  -0.001230  -0.116131  -0.216721  -0.378794  -0.241760   \n",
       "41277   0.120369  -0.000514  -0.161013  -0.068776  -0.379179  -0.447098   \n",
       "17619   1.035669   0.952563   0.765887   0.830355   0.586691  -0.231783   \n",
       "\n",
       "       Cloud_B08  Cloud_B09  Cloud_B10  Cloud_B11  Cloud_B12  Cloud_B13  \\\n",
       "43160  -1.271482  -1.222638  -0.048526  -0.267511  -1.010814  -0.938678   \n",
       "9813   -0.421920  -0.324332  -0.017606  -0.417874  -0.994835  -0.877778   \n",
       "37684   0.928491   1.114626  -1.179593  -0.642596   1.114913   1.064426   \n",
       "24246  -0.263858  -0.195492   0.802932   2.572800  -0.842604  -0.666262   \n",
       "15011   0.153650   0.196747   0.753757   1.668816  -0.765117  -0.536364   \n",
       "...          ...        ...        ...        ...        ...        ...   \n",
       "44683  -0.018168   0.134186  -0.960420  -0.266420   0.781996   0.493907   \n",
       "40878   0.173691   0.257541  -0.077532  -0.064036   0.236809  -0.152068   \n",
       "40485  -0.544341  -0.290209  -1.289885  -0.658971   0.196177   0.037753   \n",
       "41277  -0.443049  -0.455189  -0.266367  -0.471259  -0.939478  -0.872771   \n",
       "17619  -0.244956  -0.298570   0.561265   0.475605   0.369032   0.480702   \n",
       "\n",
       "       Sat_Zenith_Angle  Sun_Zenith_Angle  Azimuth_Diff_Angle  \n",
       "43160          0.037327          0.533748           -1.530063  \n",
       "9813          -0.357736          0.632131            1.695460  \n",
       "37684          1.345423          0.993024           -0.839502  \n",
       "24246         -0.988009          0.443440           -0.258753  \n",
       "15011         -1.228039         -1.531885           -0.920173  \n",
       "...                 ...               ...                 ...  \n",
       "44683         -1.067481         -0.751662           -1.563850  \n",
       "40878         -0.572624         -1.596031            0.439092  \n",
       "40485         -0.101038          0.238061           -1.714878  \n",
       "41277         -0.533667          1.025504           -0.513537  \n",
       "17619          0.097478          0.157518            1.065279  \n",
       "\n",
       "[10000 rows x 15 columns]"
      ]
     },
     "execution_count": 59,
     "metadata": {},
     "output_type": "execute_result"
    }
   ],
   "source": [
    "X_test"
   ]
  },
  {
   "cell_type": "code",
   "execution_count": 61,
   "metadata": {},
   "outputs": [
    {
     "data": {
      "image/png": "[encoded data removed]",
      "text/plain": [
       "<Figure size 640x480 with 1 Axes>"
      ]
     },
     "metadata": {},
     "output_type": "display_data"
    }
   ],
   "source": [
    "samples=100\n",
    "channel=5\n",
    "\n",
    "#Get ground truth y\n",
    "y_plot=y_test.to_numpy()[:,channel]\n",
    "y_plot=y_plot[0:samples]\n",
    "sort_ind=np.argsort(y_plot)\n",
    "y_plot_sort=y_plot[sort_ind]\n",
    "\n",
    "#Get y predictions\n",
    "y_pred=preds[:,channel,:]\n",
    "y_pred=y_pred[0:samples,:]\n",
    "y_pred_sort=y_pred[sort_ind,:]\n",
    "\n",
    "# Get cloudy signal\n",
    "cloudy=X_test_truth.to_numpy()[:,channel]\n",
    "cloudy=cloudy[0:samples]\n",
    "cloudy_sort=cloudy[sort_ind]\n",
    "\n",
    "\n",
    "plt.plot(y_plot_sort,'.')\n",
    "plt.plot(y_pred_sort)\n",
    "plt.plot(cloudy_sort,'.')\n",
    "plt.legend(['Ground truth','0.1 quantile', '0.5 quantile','0.9 quantile','Cloudy signal (Without noise)'])\n",
    "plt.show()\n"
   ]
  },
  {
   "cell_type": "code",
   "execution_count": 74,
   "metadata": {},
   "outputs": [
    {
     "data": {
      "text/plain": [
       "<matplotlib.legend.Legend at 0x1741ec45390>"
      ]
     },
     "execution_count": 74,
     "metadata": {},
     "output_type": "execute_result"
    },
    {
     "data": {
      "image/png": "[encoded data removed]",
      "text/plain": [
       "<Figure size 640x480 with 1 Axes>"
      ]
     },
     "metadata": {},
     "output_type": "display_data"
    }
   ],
   "source": [
    "df_test=df.iloc[y_test.index]\n",
    "\n",
    "#Get cot values\n",
    "cot_column=df_test['COT'].to_numpy()\n",
    "cot_column=cot_column[0:samples]\n",
    "sort_ind=np.argsort(cot_column)\n",
    "cot_column_sort=cot_column[sort_ind]\n",
    "\n",
    "#Get ground truth\n",
    "y_plot=y_test.to_numpy()[:,channel]\n",
    "y_plot=y_plot[0:samples]\n",
    "y_plot_sort=y_plot[sort_ind]\n",
    "\n",
    "#Get y predictions\n",
    "y_pred=preds[:,channel,:]\n",
    "y_pred=y_pred[0:samples,:]\n",
    "y_pred_sort=y_pred[sort_ind,:]\n",
    "\n",
    "plt.plot(cot_column_sort,y_plot_sort,'.')\n",
    "plt.plot(cot_column_sort,y_pred_sort,'.')\n",
    "plt.legend(['Ground truth'])"
   ]
  },
  {
   "cell_type": "code",
   "execution_count": null,
   "metadata": {},
   "outputs": [],
   "source": []
  }
 ],
 "metadata": {
  "kernelspec": {
   "display_name": "Python 3",
   "language": "python",
   "name": "python3"
  },
  "language_info": {
   "codemirror_mode": {
    "name": "ipython",
    "version": 3
   },
   "file_extension": ".py",
   "mimetype": "text/x-python",
   "name": "python",
   "nbconvert_exporter": "python",
   "pygments_lexer": "ipython3",
   "version": "3.11.5"
  }
 },
 "nbformat": 4,
 "nbformat_minor": 2
}
