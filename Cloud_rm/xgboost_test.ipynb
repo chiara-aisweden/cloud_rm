{
 "cells": [
  {
   "cell_type": "code",
   "execution_count": 1,
   "metadata": {},
   "outputs": [
    {
     "name": "stderr",
     "output_type": "stream",
     "text": [
      "/tmp/ipykernel_153009/2101664275.py:2: DeprecationWarning: \n",
      "Pyarrow will become a required dependency of pandas in the next major release of pandas (pandas 3.0),\n",
      "(to allow more performant data types, such as the Arrow string type, and better interoperability with other libraries)\n",
      "but was not found to be installed on your system.\n",
      "If this would cause problems for you,\n",
      "please provide us feedback at https://github.com/pandas-dev/pandas/issues/54466\n",
      "        \n",
      "  import pandas as pd\n",
      "2024-03-21 10:38:54.861678: I tensorflow/core/util/port.cc:113] oneDNN custom operations are on. You may see slightly different numerical results due to floating-point round-off errors from different computation orders. To turn them off, set the environment variable `TF_ENABLE_ONEDNN_OPTS=0`.\n",
      "2024-03-21 10:38:54.896440: E external/local_xla/xla/stream_executor/cuda/cuda_dnn.cc:9261] Unable to register cuDNN factory: Attempting to register factory for plugin cuDNN when one has already been registered\n",
      "2024-03-21 10:38:54.896464: E external/local_xla/xla/stream_executor/cuda/cuda_fft.cc:607] Unable to register cuFFT factory: Attempting to register factory for plugin cuFFT when one has already been registered\n",
      "2024-03-21 10:38:54.897337: E external/local_xla/xla/stream_executor/cuda/cuda_blas.cc:1515] Unable to register cuBLAS factory: Attempting to register factory for plugin cuBLAS when one has already been registered\n",
      "2024-03-21 10:38:54.903504: I tensorflow/core/platform/cpu_feature_guard.cc:182] This TensorFlow binary is optimized to use available CPU instructions in performance-critical operations.\n",
      "To enable the following instructions: AVX2 AVX512F AVX512_VNNI FMA, in other operations, rebuild TensorFlow with the appropriate compiler flags.\n",
      "2024-03-21 10:38:55.595620: W tensorflow/compiler/tf2tensorrt/utils/py_utils.cc:38] TF-TRT Warning: Could not find TensorRT\n"
     ]
    }
   ],
   "source": [
    "import numpy as np\n",
    "import pandas as pd\n",
    "import matplotlib.pyplot as plt\n",
    "import sys\n",
    "\n",
    "%matplotlib inline\n",
    "from IPython import display\n",
    "\n",
    "\n",
    "import functions.parse_data as parse\n",
    "import functions.handy_functions as hf\n",
    "import torch.nn as nn\n",
    "import torch\n",
    "\n",
    "\n",
    "from multivariate_quantile_regression.network_model import QuantileNetwork\n",
    "\n",
    "from sklearn.metrics import mean_squared_error\n",
    "from sklearn.metrics import r2_score\n",
    "from sklearn.model_selection import train_test_split\n",
    "\n",
    "from tqdm import tqdm\n",
    "\n",
    "import os\n",
    "\n",
    "import netCDF4 as nc\n",
    "import glob\n",
    "\n",
    "from functions.plot_metrics import plot_metrics\n",
    "from functions.plot_metrics_one import plot_metrics_one\n",
    "from functions import calc_metrics"
   ]
  },
  {
   "cell_type": "code",
   "execution_count": 2,
   "metadata": {},
   "outputs": [],
   "source": [
    "data_water=parse.parse('cloudrm2_water.dat')\n",
    "data_clear=parse.parse('cloudrm2_clear.dat')\n",
    "data_ice=parse.parse('cloudrm2_ice.dat')\n",
    "data_mixed=parse.parse('cloudrm2_mixed.dat')\n",
    "\n",
    "#Concatinate all datasets\n",
    "#data_all=pd.concat([data_water,data_clear,data_ice,data_mixed,\n",
    "#                    data_black_water,data_black_clear,data_black_ice,data_black_mixed])\n",
    "data_all=pd.concat([data_water,data_clear,data_ice,data_mixed])\n",
    "\n",
    "\n",
    "data_all=data_all.drop(columns=['Surface_Desc','Cloud_B01','Clear_B01'])\n",
    "data_all=data_all.reset_index()\n",
    "data_all=data_all.drop(columns=('index'))\n",
    "\n",
    "df=data_all.copy()\n",
    "\n",
    "X_labels= ['Cloud_B02','Cloud_B03','Cloud_B04','Cloud_B05','Cloud_B06',\n",
    "           'Cloud_B07','Cloud_B08','Cloud_B09','Cloud_B10','Cloud_B11','Cloud_B12','Cloud_B13']\n",
    "#Leave out 'GOT', 'Water_Vapor'\n",
    "#Band 1 no go.\n",
    "y_labels=['Clear_B02','Clear_B03','Clear_B04','Clear_B05',\n",
    "              'Clear_B06','Clear_B07','Clear_B08', 'Clear_B09',\n",
    "              'Clear_B10','Clear_B11','Clear_B12','Clear_B13']\n",
    "#clear_labels=['Clear_B02','Clear_B03','Clear_B04','Clear_B05',\n",
    "#              'Clear_B06','Clear_B07','Clear_B08', 'Clear_B09',\n",
    "#              'Clear_B10','Clear_B11','Clear_B12','Clear_B13']\n",
    "\n",
    "#y_labels= ['OCloud_B02','OCloud_B03','OCloud_B04','OCloud_B05','OCloud_B06',\n",
    "#           'OCloud_B07','OCloud_B08','OCloud_B09','OCloud_B10','OCloud_B11','OCloud_B12','OCloud_B13']\n",
    "\n",
    "#df[y_labels]=df[X_labels].to_numpy()-df[clear_labels].to_numpy()"
   ]
  },
  {
   "cell_type": "code",
   "execution_count": 12,
   "metadata": {},
   "outputs": [],
   "source": [
    "X=df[X_labels]\n",
    "y=df[y_labels]\n",
    "X_train, X_test, y_train, y_test = train_test_split(X,y,test_size=0.2)"
   ]
  },
  {
   "cell_type": "code",
   "execution_count": 13,
   "metadata": {},
   "outputs": [],
   "source": [
    "X_train = X_train + np.random.randn(np.shape(X_train)[0],np.shape(X_train)[1]) * np.mean(X_train.to_numpy(),axis=0)*0.03\n",
    "X_test = X_test + np.random.randn(np.shape(X_test)[0],np.shape(X_test)[1]) * np.mean(X_test.to_numpy(),axis=0)*0.03"
   ]
  },
  {
   "cell_type": "code",
   "execution_count": 14,
   "metadata": {},
   "outputs": [],
   "source": [
    "#Normalise\n",
    "X_mean=np.mean(X_train,axis=0).to_numpy()\n",
    "X_std=np.std(X_train,axis=0).to_numpy()\n",
    "X_train=(X_train-X_mean)/X_std\n",
    "\n",
    "X_test=(X_test-X_mean)/X_std\n"
   ]
  },
  {
   "cell_type": "code",
   "execution_count": 15,
   "metadata": {},
   "outputs": [
    {
     "name": "stdout",
     "output_type": "stream",
     "text": [
      "[ 5.84288173e-16 -1.11199938e-16 -1.07069908e-16  9.09050613e-17\n",
      " -2.62323496e-16  8.50430837e-18 -1.66622272e-15  2.83750801e-16\n",
      "  3.17967874e-17  3.30402372e-17  1.07869269e-16 -3.58957308e-16]\n",
      "[1. 1. 1. 1. 1. 1. 1. 1. 1. 1. 1. 1.]\n",
      " \n",
      "[-4.05222518e-03 -7.97024883e-05 -3.69865156e-03  2.71012697e-03\n",
      "  2.37210614e-03  1.37069258e-03  1.70002047e-03  1.65819422e-03\n",
      " -6.06969378e-04 -5.15804368e-03  8.79375323e-03  5.43616030e-03]\n",
      "[1.00159814 1.00125113 1.00276308 1.00335048 1.00851934 1.00775873\n",
      " 1.00946119 1.00715295 1.00191094 0.99782198 1.002654   1.00003394]\n"
     ]
    }
   ],
   "source": [
    "print(np.mean(X_train,axis=0).to_numpy())\n",
    "print(np.std(X_train,axis=0).to_numpy())\n",
    "print(\" \")\n",
    "print(np.mean(X_test,axis=0).to_numpy())\n",
    "print(np.std(X_test,axis=0).to_numpy())"
   ]
  },
  {
   "cell_type": "code",
   "execution_count": 16,
   "metadata": {},
   "outputs": [],
   "source": [
    "params = {\n",
    "    \"n_estimators\": 500,\n",
    "    \"max_depth\": 10,\n",
    "    \"min_samples_split\": 5,\n",
    "    \"learning_rate\": 0.003,\n",
    "    \"loss\": \"squared_error\",\n",
    "}"
   ]
  },
  {
   "cell_type": "code",
   "execution_count": 17,
   "metadata": {},
   "outputs": [],
   "source": [
    "def custom_learning_rate(iterations):\n",
    "  \"\"\"\n",
    "  This function reduces the learning rate by 0.1 every 10 iterations.\n",
    "  \"\"\"\n",
    "  return 0.1 * (1.0 - (iterations / 10))"
   ]
  },
  {
   "cell_type": "code",
   "execution_count": 18,
   "metadata": {},
   "outputs": [
    {
     "name": "stderr",
     "output_type": "stream",
     "text": [
      "/home/edgelab/.local/lib/python3.10/site-packages/xgboost/core.py:160: UserWarning: [10:40:49] WARNING: /workspace/src/learner.cc:742: \n",
      "Parameters: { \"loss\" } are not used.\n",
      "\n",
      "  warnings.warn(smsg, UserWarning)\n"
     ]
    }
   ],
   "source": [
    "import xgboost as xgb\n",
    "# Define your training and target data (replace with your actual data)\n",
    "# Your training features\n",
    "# Your training target values\n",
    "\n",
    "# Create the XGBoost regressor model\n",
    "model = xgb.XGBRegressor(device='cuda',n_estimators=500,\n",
    "                         max_depth=5,\n",
    "                         learning_rates=custom_learning_rate,\n",
    "                         loss='squared_error')\n",
    "\n",
    "# Train the model on the training data\n",
    "model.fit(X_train, y_train)\n",
    "\n",
    "# Make predictions on new data (replace with your new data)\n",
    "X_new = X_test# Your new features\n",
    "y_pred = model.predict(X_new)\n"
   ]
  },
  {
   "cell_type": "code",
   "execution_count": 19,
   "metadata": {},
   "outputs": [
    {
     "data": {
      "text/plain": [
       "0.009438828612646095"
      ]
     },
     "execution_count": 19,
     "metadata": {},
     "output_type": "execute_result"
    }
   ],
   "source": [
    "mean_squared_error(y_test,y_pred)"
   ]
  },
  {
   "cell_type": "code",
   "execution_count": 20,
   "metadata": {},
   "outputs": [
    {
     "data": {
      "image/png": "[encoded data removed]",
      "text/plain": [
       "<Figure size 640x480 with 1 Axes>"
      ]
     },
     "metadata": {},
     "output_type": "display_data"
    }
   ],
   "source": [
    "testindices=y_test.index\n",
    "COTs=np.array(df['COT'].iloc[testindices])\n",
    "\n",
    "#Divide into bins depending on COT\n",
    "clear_true = y_test.to_numpy()[(COTs==0),:]\n",
    "clear_pred = y_pred[(COTs==0),:]\n",
    "thin_true = y_test.to_numpy()[(COTs>0) &  (COTs<3.6),:]\n",
    "thin_pred = y_pred[(COTs>0) & (COTs<3.6),:]\n",
    "semi_true = y_test.to_numpy()[(COTs>=3.6) & (COTs<23),:]\n",
    "semi_pred = y_pred[(COTs>=3.6) & (COTs<23),:]\n",
    "thick_true = y_test.to_numpy()[(COTs>=23),:]\n",
    "thick_pred = y_pred[(COTs>=23),:]\n",
    "\n",
    "\n",
    "#Find and print MAE of each band\n",
    "MAE_col_tot = np.mean(np.abs(y_test.to_numpy()-y_pred),axis=0)\n",
    "MAE_col_clear = np.mean(np.abs(clear_true-clear_pred),axis=0)\n",
    "MAE_col_thin = np.mean(np.abs(thin_true-thin_pred),axis=0)\n",
    "MAE_col_semi = np.mean(np.abs(semi_true-semi_pred),axis=0)\n",
    "MAE_col_thick = np.mean(np.abs(thick_true-thick_pred),axis=0)\n",
    "\n",
    "x=np.arange(np.size(MAE_col_tot))\n",
    "plt.figure()\n",
    "plt.scatter(x,MAE_col_tot,c='black',s=100)\n",
    "plt.scatter(x,MAE_col_clear)\n",
    "plt.scatter(x,MAE_col_thin)\n",
    "plt.scatter(x,MAE_col_semi)\n",
    "plt.scatter(x,MAE_col_thick)\n",
    "plt.xticks(x, ['B02','B03','B04','B05','B06','B07','B08','B8A','B09','B10','B11','B12'])\n",
    "plt.title('MAE of each frequency band')\n",
    "plt.xlabel('Frequency band')\n",
    "plt.ylabel('MAE')\n",
    "plt.legend(['All','Clear','Thin','Semi','Thick'])\n",
    "plt.show()"
   ]
  },
  {
   "cell_type": "code",
   "execution_count": null,
   "metadata": {},
   "outputs": [],
   "source": [
    "    ## Prediction v Ground Truth ##\n",
    "    bins=np.linspace(0,1,100)\n",
    "    \n",
    "    freq_true=np.zeros(len(bins))\n",
    "    freq_pred=np.zeros(len(bins))\n",
    "\n",
    "    freq_true_zero=np.zeros(len(bins))\n",
    "    freq_pred_zero=np.zeros(len(bins))\n",
    "\n",
    "    freq_true_thin=np.zeros(len(bins))\n",
    "    freq_pred_thin=np.zeros(len(bins))\n",
    "\n",
    "    freq_true_med=np.zeros(len(bins))\n",
    "    freq_pred_med=np.zeros(len(bins))\n",
    "\n",
    "    y_tmp_zero=y_true[i][indices_zero[i]]\n",
    "    y_tmp_thin=y_true[i][indices_thin[i]]\n",
    "    y_tmp_med=y_true[i][indices_med[i]]\n",
    "\n",
    "    y_tmp_pred_zero=y_pred[i][indices_zero[i]]\n",
    "    y_tmp_pred_thin=y_pred[i][indices_thin[i]]\n",
    "    y_tmp_pred_med=y_pred[i][indices_med[i]]\n",
    "\n",
    "    for j,edge in enumerate(bins):\n",
    "        if j!=0:\n",
    "            indices=(y_true[i]>bins[j-1])&(y_true[i]<=edge)\n",
    "\n",
    "            ind_z=(y_tmp_zero>bins[j-1])&(y_tmp_zero<=edge)\n",
    "            ind_t=(y_tmp_thin>bins[j-1])&(y_tmp_thin<=edge)\n",
    "            ind_m=(y_tmp_med>bins[j-1])&(y_tmp_med<=edge)\n",
    "\n",
    "            mean_bin_true=np.mean(y_true[i][indices])\n",
    "            mean_bin_pred=np.mean(y_pred[i][indices])\n",
    "\n",
    "            mean_bin_true_zero=np.mean(y_tmp_zero[ind_z])\n",
    "            mean_bin_pred_zero=np.mean(y_tmp_pred_zero[ind_z])\n",
    "\n",
    "            mean_bin_true_thin=np.mean(y_tmp_thin[ind_t])\n",
    "            mean_bin_pred_thin=np.mean(y_tmp_pred_thin[ind_t])\n",
    "\n",
    "            mean_bin_true_med=np.mean(y_tmp_med[ind_m])\n",
    "            mean_bin_pred_med=np.mean(y_tmp_pred_med[ind_m])\n",
    "            \n",
    "            freq_true[j]=mean_bin_true\n",
    "            freq_pred[j]=mean_bin_pred\n",
    "\n",
    "            freq_true_zero[j]=mean_bin_true_zero\n",
    "            freq_pred_zero[j]=mean_bin_pred_zero\n",
    "\n",
    "            freq_true_thin[j]=mean_bin_true_thin\n",
    "            freq_pred_thin[j]=mean_bin_pred_thin\n",
    "\n",
    "            freq_true_med[j]=mean_bin_true_med\n",
    "            freq_pred_med[j]=mean_bin_pred_med\n",
    "\n",
    "    axs[f_i].plot(freq_pred,freq_true,'.')\n",
    "    axs[f_i].plot(freq_pred_zero,freq_true_zero,'.')\n",
    "    axs[f_i].plot(freq_pred_thin,freq_true_thin,'.')\n",
    "    axs[f_i].plot(freq_pred_med,freq_true_med,'.')\n",
    "    #plt.plot(cloudy_sort,'.')\n",
    "    line=np.linspace(0,1,100)\n",
    "    axs[f_i].plot(line,line)\n",
    "    axs[f_i].legend(['All predictions','Cloud free','Thin predictions','Medium predictions'])\n",
    "    axs[f_i].set_xlabel(\"Prediction\")\n",
    "    axs[f_i].set_ylabel(\"Ground Truth\")"
   ]
  },
  {
   "cell_type": "code",
   "execution_count": null,
   "metadata": {},
   "outputs": [],
   "source": []
  }
 ],
 "metadata": {
  "kernelspec": {
   "display_name": "Python 3",
   "language": "python",
   "name": "python3"
  },
  "language_info": {
   "codemirror_mode": {
    "name": "ipython",
    "version": 3
   },
   "file_extension": ".py",
   "mimetype": "text/x-python",
   "name": "python",
   "nbconvert_exporter": "python",
   "pygments_lexer": "ipython3",
   "version": "3.10.12"
  }
 },
 "nbformat": 4,
 "nbformat_minor": 2
}
