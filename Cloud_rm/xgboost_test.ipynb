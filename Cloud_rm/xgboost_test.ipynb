{
 "cells": [
  {
   "cell_type": "code",
   "execution_count": 1,
   "metadata": {},
   "outputs": [
    {
     "name": "stderr",
     "output_type": "stream",
     "text": [
      "2024-05-14 14:24:25.498862: I tensorflow/core/util/port.cc:113] oneDNN custom operations are on. You may see slightly different numerical results due to floating-point round-off errors from different computation orders. To turn them off, set the environment variable `TF_ENABLE_ONEDNN_OPTS=0`.\n",
      "2024-05-14 14:24:25.532037: E external/local_xla/xla/stream_executor/cuda/cuda_dnn.cc:9261] Unable to register cuDNN factory: Attempting to register factory for plugin cuDNN when one has already been registered\n",
      "2024-05-14 14:24:25.532056: E external/local_xla/xla/stream_executor/cuda/cuda_fft.cc:607] Unable to register cuFFT factory: Attempting to register factory for plugin cuFFT when one has already been registered\n",
      "2024-05-14 14:24:25.532887: E external/local_xla/xla/stream_executor/cuda/cuda_blas.cc:1515] Unable to register cuBLAS factory: Attempting to register factory for plugin cuBLAS when one has already been registered\n",
      "2024-05-14 14:24:25.538585: I tensorflow/core/platform/cpu_feature_guard.cc:182] This TensorFlow binary is optimized to use available CPU instructions in performance-critical operations.\n",
      "To enable the following instructions: AVX2 AVX512F AVX512_VNNI FMA, in other operations, rebuild TensorFlow with the appropriate compiler flags.\n",
      "2024-05-14 14:24:26.192860: W tensorflow/compiler/tf2tensorrt/utils/py_utils.cc:38] TF-TRT Warning: Could not find TensorRT\n"
     ]
    }
   ],
   "source": [
    "import numpy as np\n",
    "import pandas as pd\n",
    "import matplotlib.pyplot as plt\n",
    "import sys\n",
    "\n",
    "%matplotlib inline\n",
    "from IPython import display\n",
    "\n",
    "\n",
    "import functions.parse_data as parse\n",
    "import functions.handy_functions as hf\n",
    "import torch.nn as nn\n",
    "import torch\n",
    "\n",
    "\n",
    "from multivariate_quantile_regression.network_model import QuantileNetwork\n",
    "\n",
    "from sklearn.metrics import mean_squared_error\n",
    "from sklearn.metrics import r2_score\n",
    "from sklearn.model_selection import train_test_split\n",
    "\n",
    "from tqdm import tqdm\n",
    "\n",
    "import os\n",
    "\n",
    "import netCDF4 as nc\n",
    "import glob\n",
    "\n",
    "from functions.plot_metrics import plot_metrics\n",
    "from functions.plot_metrics_one import plot_metrics_one\n",
    "from functions import calc_metrics"
   ]
  },
  {
   "cell_type": "code",
   "execution_count": 2,
   "metadata": {},
   "outputs": [],
   "source": [
    "data_water=parse.parse('cloudrm3_water_newsurf.dat')\n",
    "data_clear=parse.parse('cloudrm3_clear_newsurf.dat')\n",
    "data_ice=parse.parse('cloudrm3_ice_newsurf.dat')\n",
    "data_mixed=parse.parse('cloudrm3_mixed_newsurf.dat')\n",
    "\n",
    "#Concatinate all datasets\n",
    "#data_all=pd.concat([data_water,data_clear,data_ice,data_mixed,\n",
    "#                    data_black_water,data_black_clear,data_black_ice,data_black_mixed])\n",
    "data_all=pd.concat([data_water,data_clear,data_ice,data_mixed])\n",
    "\n",
    "\n",
    "data_all=data_all.drop(columns=['Surface_Desc','Cloud_B01','Clear_B01'])\n",
    "data_all=data_all.reset_index()\n",
    "data_all=data_all.drop(columns=('index'))\n",
    "\n",
    "df=data_all.copy()\n",
    "\n",
    "X_labels= ['Cloud_B02','Cloud_B03','Cloud_B04','Cloud_B05','Cloud_B06',\n",
    "           'Cloud_B07','Cloud_B08','Cloud_B09','Cloud_B10','Cloud_B11','Cloud_B12','Cloud_B13','Sun_Zenith_Angle']\n",
    "#Leave out 'GOT', 'Water_Vapor'\n",
    "#Band 1 no go.\n",
    "y_labels=['Clear_B02','Clear_B03','Clear_B04','Clear_B05',\n",
    "              'Clear_B06','Clear_B07','Clear_B08', 'Clear_B09',\n",
    "              'Clear_B10','Clear_B11','Clear_B12','Clear_B13']\n",
    "#clear_labels=['Clear_B02','Clear_B03','Clear_B04','Clear_B05',\n",
    "#              'Clear_B06','Clear_B07','Clear_B08', 'Clear_B09',\n",
    "#              'Clear_B10','Clear_B11','Clear_B12','Clear_B13']\n",
    "\n",
    "#y_labels= ['OCloud_B02','OCloud_B03','OCloud_B04','OCloud_B05','OCloud_B06',\n",
    "#           'OCloud_B07','OCloud_B08','OCloud_B09','OCloud_B10','OCloud_B11','OCloud_B12','OCloud_B13']\n",
    "\n",
    "#df[y_labels]=df[X_labels].to_numpy()-df[clear_labels].to_numpy()"
   ]
  },
  {
   "cell_type": "code",
   "execution_count": 3,
   "metadata": {},
   "outputs": [],
   "source": [
    "## Estimate COT ##\n",
    "from cot_train.utils import StatCollector, MLP5, mlp_inference\n",
    "device = torch.device(\"cuda:0\" if torch.cuda.is_available() else \"cpu\")\n",
    "\n",
    "model_load_paths=['cot_model/0/model_it_2000000','cot_model/1/model_it_2000000',\n",
    "                  'cot_model/2/model_it_2000000','cot_model/3/model_it_2000000',\n",
    "                  'cot_model/4/model_it_2000000']\n",
    "\n",
    "input_dim = 13\n",
    "output_dim = 1\n",
    "\n",
    "models_cot=[]\n",
    "for model_path in model_load_paths:\n",
    "    model_cot = MLP5(input_dim, output_dim, apply_relu=True)\n",
    "    model_cot.load_state_dict(torch.load(model_path, map_location=device))\n",
    "    model_cot.to(device)\n",
    "    models_cot.append(model_cot)\n",
    "\n",
    "means=[0.534958,0.538317,0.532992,0.629737,0.826885,0.859306,0.803385,0.880321,0.408178,0.066565,0.428241,0.301306,58.076266]\n",
    "stds=[0.218962,0.188747,0.236514,0.185751,0.169492,0.170012,0.162448,0.171793,0.237684,0.096908,0.309903,0.202586,15.602082]\n",
    "\n",
    "inputs = (df[X_labels].to_numpy() - means) / stds\n",
    "\n",
    "image_input_tens=torch.Tensor(inputs).to(device)\n",
    "#image_pred_cot=model_cot(image_input_tens).cpu().data.numpy()*50\n",
    "\n",
    "preds = 0\n",
    "for model_cot in models_cot:\n",
    "    curr_preds=model_cot(image_input_tens)/len(models_cot)\n",
    "    preds=preds+curr_preds\n",
    "\n",
    "image_pred_cot=preds.cpu().data.numpy()*50 #unnormalise\n",
    "\n",
    "## Reshape back\n",
    "t_is_cloud = 0.025*50 # From Alex\n",
    "t_thin_cloud = 0.015*50 # From Alex\n",
    "\n",
    "im_pred_cot_t=image_pred_cot.copy()\n",
    "im_pred_cot_t[im_pred_cot_t<t_thin_cloud]=0\n",
    "im_pred_cot_t[(im_pred_cot_t>t_thin_cloud)&(im_pred_cot_t<t_is_cloud)]=1\n",
    "im_pred_cot_t[im_pred_cot_t>t_is_cloud]=2\n",
    "column_name='COT_est'\n",
    "c1='clear'\n",
    "c2='thin'\n",
    "c3='thick'\n",
    "df[column_name]=im_pred_cot_t\n",
    "df.loc[df[column_name]==0,c1]=1\n",
    "df.loc[df[column_name]!=0,c1]=0\n",
    "df.loc[df[column_name]==1,c2]=1\n",
    "df.loc[df[column_name]!=1,c2]=0\n",
    "df.loc[df[column_name]==2,c3]=1\n",
    "df.loc[df[column_name]!=2,c3]=0\n",
    "\n",
    "#X_labels.append(c1)\n",
    "#X_labels.append(c2)\n",
    "#X_labels.append(c3)"
   ]
  },
  {
   "cell_type": "code",
   "execution_count": 4,
   "metadata": {},
   "outputs": [],
   "source": [
    "X=df[X_labels]\n",
    "y=df[y_labels]\n",
    "X_train, X_test, y_train, y_test = train_test_split(X,y,test_size=0.2)"
   ]
  },
  {
   "cell_type": "code",
   "execution_count": 5,
   "metadata": {},
   "outputs": [
    {
     "data": {
      "text/html": [
       "<div>\n",
       "<style scoped>\n",
       "    .dataframe tbody tr th:only-of-type {\n",
       "        vertical-align: middle;\n",
       "    }\n",
       "\n",
       "    .dataframe tbody tr th {\n",
       "        vertical-align: top;\n",
       "    }\n",
       "\n",
       "    .dataframe thead th {\n",
       "        text-align: right;\n",
       "    }\n",
       "</style>\n",
       "<table border=\"1\" class=\"dataframe\">\n",
       "  <thead>\n",
       "    <tr style=\"text-align: right;\">\n",
       "      <th></th>\n",
       "      <th>Cloud_B02</th>\n",
       "      <th>Cloud_B03</th>\n",
       "      <th>Cloud_B04</th>\n",
       "      <th>Cloud_B05</th>\n",
       "      <th>Cloud_B06</th>\n",
       "      <th>Cloud_B07</th>\n",
       "      <th>Cloud_B08</th>\n",
       "      <th>Cloud_B09</th>\n",
       "      <th>Cloud_B10</th>\n",
       "      <th>Cloud_B11</th>\n",
       "      <th>Cloud_B12</th>\n",
       "      <th>Cloud_B13</th>\n",
       "      <th>Sun_Zenith_Angle</th>\n",
       "    </tr>\n",
       "  </thead>\n",
       "  <tbody>\n",
       "    <tr>\n",
       "      <th>188116</th>\n",
       "      <td>0.77914</td>\n",
       "      <td>0.70871</td>\n",
       "      <td>0.75465</td>\n",
       "      <td>0.77035</td>\n",
       "      <td>0.77567</td>\n",
       "      <td>0.77469</td>\n",
       "      <td>0.76551</td>\n",
       "      <td>0.77067</td>\n",
       "      <td>0.65793</td>\n",
       "      <td>0.16314</td>\n",
       "      <td>0.10115</td>\n",
       "      <td>0.12396</td>\n",
       "      <td>71.99</td>\n",
       "    </tr>\n",
       "    <tr>\n",
       "      <th>82961</th>\n",
       "      <td>0.19485</td>\n",
       "      <td>0.22673</td>\n",
       "      <td>0.26527</td>\n",
       "      <td>0.30848</td>\n",
       "      <td>0.47109</td>\n",
       "      <td>0.54209</td>\n",
       "      <td>0.50643</td>\n",
       "      <td>0.59577</td>\n",
       "      <td>0.06184</td>\n",
       "      <td>0.00038</td>\n",
       "      <td>0.51132</td>\n",
       "      <td>0.34936</td>\n",
       "      <td>43.18</td>\n",
       "    </tr>\n",
       "    <tr>\n",
       "      <th>33517</th>\n",
       "      <td>0.56683</td>\n",
       "      <td>0.62069</td>\n",
       "      <td>0.61137</td>\n",
       "      <td>0.73794</td>\n",
       "      <td>1.08069</td>\n",
       "      <td>1.10806</td>\n",
       "      <td>1.03559</td>\n",
       "      <td>1.12725</td>\n",
       "      <td>0.31842</td>\n",
       "      <td>0.00093</td>\n",
       "      <td>0.92888</td>\n",
       "      <td>0.66579</td>\n",
       "      <td>32.97</td>\n",
       "    </tr>\n",
       "    <tr>\n",
       "      <th>135663</th>\n",
       "      <td>0.52658</td>\n",
       "      <td>0.60237</td>\n",
       "      <td>0.57533</td>\n",
       "      <td>0.64196</td>\n",
       "      <td>0.83005</td>\n",
       "      <td>0.90377</td>\n",
       "      <td>0.76713</td>\n",
       "      <td>0.94413</td>\n",
       "      <td>0.02949</td>\n",
       "      <td>0.00032</td>\n",
       "      <td>0.18135</td>\n",
       "      <td>0.16434</td>\n",
       "      <td>60.59</td>\n",
       "    </tr>\n",
       "    <tr>\n",
       "      <th>175336</th>\n",
       "      <td>0.53095</td>\n",
       "      <td>0.60330</td>\n",
       "      <td>0.69354</td>\n",
       "      <td>0.76032</td>\n",
       "      <td>1.02794</td>\n",
       "      <td>1.07310</td>\n",
       "      <td>0.96973</td>\n",
       "      <td>1.09992</td>\n",
       "      <td>0.16008</td>\n",
       "      <td>0.00067</td>\n",
       "      <td>0.82613</td>\n",
       "      <td>0.58654</td>\n",
       "      <td>36.81</td>\n",
       "    </tr>\n",
       "    <tr>\n",
       "      <th>...</th>\n",
       "      <td>...</td>\n",
       "      <td>...</td>\n",
       "      <td>...</td>\n",
       "      <td>...</td>\n",
       "      <td>...</td>\n",
       "      <td>...</td>\n",
       "      <td>...</td>\n",
       "      <td>...</td>\n",
       "      <td>...</td>\n",
       "      <td>...</td>\n",
       "      <td>...</td>\n",
       "      <td>...</td>\n",
       "      <td>...</td>\n",
       "    </tr>\n",
       "    <tr>\n",
       "      <th>12880</th>\n",
       "      <td>1.04818</td>\n",
       "      <td>0.98575</td>\n",
       "      <td>1.03612</td>\n",
       "      <td>1.03597</td>\n",
       "      <td>1.05544</td>\n",
       "      <td>1.06631</td>\n",
       "      <td>1.02649</td>\n",
       "      <td>1.07420</td>\n",
       "      <td>0.52156</td>\n",
       "      <td>0.01803</td>\n",
       "      <td>0.90988</td>\n",
       "      <td>0.74065</td>\n",
       "      <td>43.99</td>\n",
       "    </tr>\n",
       "    <tr>\n",
       "      <th>170372</th>\n",
       "      <td>0.71396</td>\n",
       "      <td>0.67254</td>\n",
       "      <td>0.71000</td>\n",
       "      <td>0.72562</td>\n",
       "      <td>0.73589</td>\n",
       "      <td>0.74186</td>\n",
       "      <td>0.73695</td>\n",
       "      <td>0.74862</td>\n",
       "      <td>0.59982</td>\n",
       "      <td>0.16605</td>\n",
       "      <td>0.14853</td>\n",
       "      <td>0.18145</td>\n",
       "      <td>56.04</td>\n",
       "    </tr>\n",
       "    <tr>\n",
       "      <th>141713</th>\n",
       "      <td>0.83149</td>\n",
       "      <td>0.79315</td>\n",
       "      <td>0.81842</td>\n",
       "      <td>0.83738</td>\n",
       "      <td>0.86411</td>\n",
       "      <td>0.86933</td>\n",
       "      <td>0.86629</td>\n",
       "      <td>0.87036</td>\n",
       "      <td>0.83145</td>\n",
       "      <td>0.34327</td>\n",
       "      <td>0.13868</td>\n",
       "      <td>0.16488</td>\n",
       "      <td>42.43</td>\n",
       "    </tr>\n",
       "    <tr>\n",
       "      <th>193277</th>\n",
       "      <td>0.35861</td>\n",
       "      <td>0.37756</td>\n",
       "      <td>0.44081</td>\n",
       "      <td>0.44373</td>\n",
       "      <td>0.47951</td>\n",
       "      <td>0.51748</td>\n",
       "      <td>0.50185</td>\n",
       "      <td>0.56775</td>\n",
       "      <td>0.12410</td>\n",
       "      <td>0.00043</td>\n",
       "      <td>0.79299</td>\n",
       "      <td>0.62695</td>\n",
       "      <td>38.80</td>\n",
       "    </tr>\n",
       "    <tr>\n",
       "      <th>74607</th>\n",
       "      <td>0.26871</td>\n",
       "      <td>0.38025</td>\n",
       "      <td>0.37387</td>\n",
       "      <td>0.61006</td>\n",
       "      <td>0.92046</td>\n",
       "      <td>0.98256</td>\n",
       "      <td>0.99753</td>\n",
       "      <td>1.00011</td>\n",
       "      <td>0.93000</td>\n",
       "      <td>0.46092</td>\n",
       "      <td>0.86840</td>\n",
       "      <td>0.63724</td>\n",
       "      <td>45.91</td>\n",
       "    </tr>\n",
       "  </tbody>\n",
       "</table>\n",
       "<p>160000 rows × 13 columns</p>\n",
       "</div>"
      ],
      "text/plain": [
       "        Cloud_B02  Cloud_B03  Cloud_B04  Cloud_B05  Cloud_B06  Cloud_B07  \\\n",
       "188116    0.77914    0.70871    0.75465    0.77035    0.77567    0.77469   \n",
       "82961     0.19485    0.22673    0.26527    0.30848    0.47109    0.54209   \n",
       "33517     0.56683    0.62069    0.61137    0.73794    1.08069    1.10806   \n",
       "135663    0.52658    0.60237    0.57533    0.64196    0.83005    0.90377   \n",
       "175336    0.53095    0.60330    0.69354    0.76032    1.02794    1.07310   \n",
       "...           ...        ...        ...        ...        ...        ...   \n",
       "12880     1.04818    0.98575    1.03612    1.03597    1.05544    1.06631   \n",
       "170372    0.71396    0.67254    0.71000    0.72562    0.73589    0.74186   \n",
       "141713    0.83149    0.79315    0.81842    0.83738    0.86411    0.86933   \n",
       "193277    0.35861    0.37756    0.44081    0.44373    0.47951    0.51748   \n",
       "74607     0.26871    0.38025    0.37387    0.61006    0.92046    0.98256   \n",
       "\n",
       "        Cloud_B08  Cloud_B09  Cloud_B10  Cloud_B11  Cloud_B12  Cloud_B13  \\\n",
       "188116    0.76551    0.77067    0.65793    0.16314    0.10115    0.12396   \n",
       "82961     0.50643    0.59577    0.06184    0.00038    0.51132    0.34936   \n",
       "33517     1.03559    1.12725    0.31842    0.00093    0.92888    0.66579   \n",
       "135663    0.76713    0.94413    0.02949    0.00032    0.18135    0.16434   \n",
       "175336    0.96973    1.09992    0.16008    0.00067    0.82613    0.58654   \n",
       "...           ...        ...        ...        ...        ...        ...   \n",
       "12880     1.02649    1.07420    0.52156    0.01803    0.90988    0.74065   \n",
       "170372    0.73695    0.74862    0.59982    0.16605    0.14853    0.18145   \n",
       "141713    0.86629    0.87036    0.83145    0.34327    0.13868    0.16488   \n",
       "193277    0.50185    0.56775    0.12410    0.00043    0.79299    0.62695   \n",
       "74607     0.99753    1.00011    0.93000    0.46092    0.86840    0.63724   \n",
       "\n",
       "        Sun_Zenith_Angle  \n",
       "188116             71.99  \n",
       "82961              43.18  \n",
       "33517              32.97  \n",
       "135663             60.59  \n",
       "175336             36.81  \n",
       "...                  ...  \n",
       "12880              43.99  \n",
       "170372             56.04  \n",
       "141713             42.43  \n",
       "193277             38.80  \n",
       "74607              45.91  \n",
       "\n",
       "[160000 rows x 13 columns]"
      ]
     },
     "execution_count": 5,
     "metadata": {},
     "output_type": "execute_result"
    }
   ],
   "source": [
    "X_train"
   ]
  },
  {
   "cell_type": "code",
   "execution_count": 6,
   "metadata": {},
   "outputs": [],
   "source": [
    "X_train = X_train + np.random.randn(np.shape(X_train)[0],np.shape(X_train)[1]) * np.mean(X_train.to_numpy(),axis=0)*0.03\n",
    "X_test = X_test + np.random.randn(np.shape(X_test)[0],np.shape(X_test)[1]) * np.mean(X_test.to_numpy(),axis=0)*0.03"
   ]
  },
  {
   "cell_type": "code",
   "execution_count": 7,
   "metadata": {},
   "outputs": [],
   "source": [
    "#Normalise\n",
    "X_mean=np.mean(X_train,axis=0).to_numpy()\n",
    "X_std=np.std(X_train,axis=0).to_numpy()\n",
    "X_train=(X_train-X_mean)/X_std\n",
    "\n",
    "X_test=(X_test-X_mean)/X_std\n"
   ]
  },
  {
   "cell_type": "code",
   "execution_count": 8,
   "metadata": {},
   "outputs": [
    {
     "name": "stdout",
     "output_type": "stream",
     "text": [
      "[-4.35473879e-16  4.94315699e-16 -2.49267273e-16  6.87361279e-16\n",
      "  2.71804801e-16  1.08713039e-16 -1.05737641e-15 -4.90185670e-16\n",
      " -1.34381395e-16 -3.25517391e-17 -9.59121671e-17 -1.88760119e-16\n",
      " -1.08890674e-16]\n",
      "[1. 1. 1. 1. 1. 1. 1. 1. 1. 1. 1. 1. 1.]\n",
      " \n",
      "[-0.00913631 -0.00905777 -0.00941135 -0.00883199 -0.0052046  -0.00386952\n",
      " -0.00383977 -0.00214445 -0.00013778  0.00177093  0.00389703  0.0010507\n",
      " -0.00459067]\n",
      "[1.00477552 1.00399846 1.00401783 1.00215544 1.00314479 1.00426182\n",
      " 1.00566865 1.00443917 1.00151687 0.99670784 0.99426786 0.98649695\n",
      " 1.00057892]\n"
     ]
    }
   ],
   "source": [
    "print(np.mean(X_train,axis=0).to_numpy())\n",
    "print(np.std(X_train,axis=0).to_numpy())\n",
    "print(\" \")\n",
    "print(np.mean(X_test,axis=0).to_numpy())\n",
    "print(np.std(X_test,axis=0).to_numpy())"
   ]
  },
  {
   "cell_type": "code",
   "execution_count": 9,
   "metadata": {},
   "outputs": [],
   "source": [
    "def custom_learning_rate(iterations):\n",
    "  \"\"\"\n",
    "  This function reduces the learning rate by 0.1 every 10 iterations.\n",
    "  \"\"\"\n",
    "  return 0.1 * (1.0 - (iterations / 10))"
   ]
  },
  {
   "cell_type": "code",
   "execution_count": 10,
   "metadata": {},
   "outputs": [
    {
     "name": "stderr",
     "output_type": "stream",
     "text": [
      "/home/edgelab/.local/lib/python3.10/site-packages/xgboost/core.py:160: UserWarning: [14:24:29] WARNING: /workspace/src/learner.cc:742: \n",
      "Parameters: { \"loss\" } are not used.\n",
      "\n",
      "  warnings.warn(smsg, UserWarning)\n",
      "/home/edgelab/.local/lib/python3.10/site-packages/xgboost/core.py:160: UserWarning: [14:24:40] WARNING: /workspace/src/common/error_msg.cc:58: Falling back to prediction using DMatrix due to mismatched devices. This might lead to higher memory usage and slower performance. XGBoost is running on: cuda:0, while the input data is on: cpu.\n",
      "Potential solutions:\n",
      "- Use a data structure that matches the device ordinal in the booster.\n",
      "- Set the device for booster before call to inplace_predict.\n",
      "\n",
      "This warning will only be shown once.\n",
      "\n",
      "  warnings.warn(smsg, UserWarning)\n"
     ]
    }
   ],
   "source": [
    "import cupy as cp\n",
    "import xgboost as xgb\n",
    "# Define your training and target data (replace with your actual data)\n",
    "# Your training features\n",
    "# Your training target values\n",
    "\n",
    "# Create the XGBoost regressor model\n",
    "X_train_gpu = cp.asarray(X_train.to_numpy())\n",
    "y_train_gpu = cp.asarray(y_train.to_numpy())\n",
    "\n",
    "model = xgb.XGBRegressor(device='cuda',n_estimators=500,\n",
    "                         max_depth=5,\n",
    "                         learning_rates=custom_learning_rate,\n",
    "                         loss='squared_error')\n",
    "\n",
    "# Train the model on the training data\n",
    "model.fit(X_train_gpu, y_train_gpu)\n",
    "\n",
    "# Make predictions on new data (replace with your new data)\n",
    "X_new = X_test# Your new features\n",
    "y_pred = model.predict(X_new)\n"
   ]
  },
  {
   "cell_type": "code",
   "execution_count": 11,
   "metadata": {},
   "outputs": [
    {
     "data": {
      "text/plain": [
       "0.00668285335462294"
      ]
     },
     "execution_count": 11,
     "metadata": {},
     "output_type": "execute_result"
    }
   ],
   "source": [
    "mean_squared_error(y_test,y_pred)"
   ]
  },
  {
   "cell_type": "code",
   "execution_count": 12,
   "metadata": {},
   "outputs": [
    {
     "data": {
      "image/png": "[encoded data removed]",
      "text/plain": [
       "<Figure size 640x480 with 1 Axes>"
      ]
     },
     "metadata": {},
     "output_type": "display_data"
    }
   ],
   "source": [
    "testindices=y_test.index\n",
    "COTs=np.array(df['COT'].iloc[testindices])\n",
    "\n",
    "#Divide into bins depending on COT\n",
    "clear_true = y_test.to_numpy()[(COTs==0),:]\n",
    "clear_pred = y_pred[(COTs==0),:]\n",
    "thin_true = y_test.to_numpy()[(COTs>0) &  (COTs<3.6),:]\n",
    "thin_pred = y_pred[(COTs>0) & (COTs<3.6),:]\n",
    "semi_true = y_test.to_numpy()[(COTs>=3.6) & (COTs<23),:]\n",
    "semi_pred = y_pred[(COTs>=3.6) & (COTs<23),:]\n",
    "thick_true = y_test.to_numpy()[(COTs>=23),:]\n",
    "thick_pred = y_pred[(COTs>=23),:]\n",
    "\n",
    "\n",
    "#Find and print MAE of each band\n",
    "MAE_col_tot = np.mean(np.abs(y_test.to_numpy()-y_pred),axis=0)\n",
    "MAE_col_clear = np.mean(np.abs(clear_true-clear_pred),axis=0)\n",
    "MAE_col_thin = np.mean(np.abs(thin_true-thin_pred),axis=0)\n",
    "MAE_col_semi = np.mean(np.abs(semi_true-semi_pred),axis=0)\n",
    "MAE_col_thick = np.mean(np.abs(thick_true-thick_pred),axis=0)\n",
    "\n",
    "x=np.arange(np.size(MAE_col_tot))\n",
    "plt.figure()\n",
    "plt.scatter(x,MAE_col_tot,c='black',s=100)\n",
    "plt.scatter(x,MAE_col_clear)\n",
    "plt.scatter(x,MAE_col_thin)\n",
    "plt.scatter(x,MAE_col_semi)\n",
    "plt.scatter(x,MAE_col_thick)\n",
    "plt.xticks(x, ['B02','B03','B04','B05','B06','B07','B08','B8A','B09','B10','B11','B12'])\n",
    "plt.title('MAE of each frequency band')\n",
    "plt.xlabel('Frequency band')\n",
    "plt.ylabel('MAE')\n",
    "plt.legend(['All','Clear','Thin','Semi','Thick'])\n",
    "plt.show()"
   ]
  },
  {
   "cell_type": "code",
   "execution_count": 13,
   "metadata": {},
   "outputs": [
    {
     "name": "stderr",
     "output_type": "stream",
     "text": [
      "/home/edgelab/.local/lib/python3.10/site-packages/numpy/core/fromnumeric.py:3504: RuntimeWarning: Mean of empty slice.\n",
      "  return _methods._mean(a, axis=axis, dtype=dtype,\n",
      "/home/edgelab/.local/lib/python3.10/site-packages/numpy/core/_methods.py:129: RuntimeWarning: invalid value encountered in scalar divide\n",
      "  ret = ret.dtype.type(ret / rcount)\n",
      "/home/edgelab/.local/lib/python3.10/site-packages/numpy/core/_methods.py:129: RuntimeWarning: invalid value encountered in divide\n",
      "  ret = ret.dtype.type(ret / rcount)\n"
     ]
    },
    {
     "data": {
      "text/plain": [
       "Text(0, 0.5, 'Ground Truth')"
      ]
     },
     "execution_count": 13,
     "metadata": {},
     "output_type": "execute_result"
    },
    {
     "data": {
      "image/png": "[encoded data removed]",
      "text/plain": [
       "<Figure size 640x480 with 1 Axes>"
      ]
     },
     "metadata": {},
     "output_type": "display_data"
    }
   ],
   "source": [
    "band=10\n",
    "## Prediction v Ground Truth ##\n",
    "y_true=y_test.to_numpy()[:,band]\n",
    "pred_y_11=y_pred[:,band]\n",
    "bins=np.linspace(0,1,100)\n",
    "\n",
    "freq_true=np.zeros(len(bins))\n",
    "freq_pred=np.zeros(len(bins))\n",
    "\n",
    "freq_true_zero=np.zeros(len(bins))\n",
    "freq_pred_zero=np.zeros(len(bins))\n",
    "\n",
    "freq_true_thin=np.zeros(len(bins))\n",
    "freq_pred_thin=np.zeros(len(bins))\n",
    "\n",
    "freq_true_med=np.zeros(len(bins))\n",
    "freq_pred_med=np.zeros(len(bins))\n",
    "\n",
    "y_tmp_zero=clear_true[:,band]\n",
    "y_tmp_thin=thin_true[:,band]\n",
    "y_tmp_med=semi_true[:,band]\n",
    "\n",
    "y_tmp_pred_zero=clear_pred[:,band]\n",
    "y_tmp_pred_thin=thin_pred[:,band]\n",
    "y_tmp_pred_med=semi_pred[:,band]\n",
    "\n",
    "for j,edge in enumerate(bins):\n",
    "    if j!=0:\n",
    "        indices=(y_true>bins[j-1])&(y_true<=edge)\n",
    "\n",
    "        ind_z=(y_tmp_zero>bins[j-1])&(y_tmp_zero<=edge)\n",
    "        ind_t=(y_tmp_thin>bins[j-1])&(y_tmp_thin<=edge)\n",
    "        ind_m=(y_tmp_med>bins[j-1])&(y_tmp_med<=edge)\n",
    "\n",
    "        mean_bin_true=np.mean(y_true[indices])\n",
    "        mean_bin_pred=np.mean(pred_y_11[indices])\n",
    "\n",
    "        mean_bin_true_zero=np.mean(y_tmp_zero[ind_z])\n",
    "        mean_bin_pred_zero=np.mean(y_tmp_pred_zero[ind_z])\n",
    "\n",
    "        mean_bin_true_thin=np.mean(y_tmp_thin[ind_t])\n",
    "        mean_bin_pred_thin=np.mean(y_tmp_pred_thin[ind_t])\n",
    "\n",
    "        mean_bin_true_med=np.mean(y_tmp_med[ind_m])\n",
    "        mean_bin_pred_med=np.mean(y_tmp_pred_med[ind_m])\n",
    "        \n",
    "        freq_true[j]=mean_bin_true\n",
    "        freq_pred[j]=mean_bin_pred\n",
    "\n",
    "        freq_true_zero[j]=mean_bin_true_zero\n",
    "        freq_pred_zero[j]=mean_bin_pred_zero\n",
    "\n",
    "        freq_true_thin[j]=mean_bin_true_thin\n",
    "        freq_pred_thin[j]=mean_bin_pred_thin\n",
    "\n",
    "        freq_true_med[j]=mean_bin_true_med\n",
    "        freq_pred_med[j]=mean_bin_pred_med\n",
    "\n",
    "plt.plot(freq_pred,freq_true,'.')\n",
    "plt.plot(freq_pred_zero,freq_true_zero,'.')\n",
    "plt.plot(freq_pred_thin,freq_true_thin,'.')\n",
    "plt.plot(freq_pred_med,freq_true_med,'.')\n",
    "#plt.plot(cloudy_sort,'.')\n",
    "line=np.linspace(0,1,100)\n",
    "plt.plot(line,line)\n",
    "plt.legend(['All predictions','Cloud free','Thin predictions','Medium predictions'])\n",
    "plt.xlabel(\"Prediction\")\n",
    "plt.ylabel(\"Ground Truth\")"
   ]
  },
  {
   "cell_type": "code",
   "execution_count": 14,
   "metadata": {},
   "outputs": [],
   "source": [
    "test_indices=X_test.index\n",
    "df_test=df.loc[test_indices]\n",
    "df_test=df_test.reset_index()\n",
    "df_test_clear=df_test[df_test['COT']==0]\n",
    "df_test_thin=df_test[(df_test['COT']<=3.6) & (df_test['COT']>0)]\n",
    "df_test_med=df_test[(df_test['COT']<=23) & (df_test['COT']>3.6)]\n",
    "df_test_thick=df_test[(df_test['COT']<=50) & (df_test['COT']>23)]"
   ]
  },
  {
   "cell_type": "code",
   "execution_count": 15,
   "metadata": {},
   "outputs": [],
   "source": [
    "\n",
    "MSE_cot_levels=[]\n",
    "MSE_cot_levels.append(mean_squared_error(y_test.to_numpy(),y_pred))\n",
    "MSE_cot_levels.append(mean_squared_error(y_test.to_numpy()[df_test_clear.index],y_pred[df_test_clear.index,:]))\n",
    "MSE_cot_levels.append(mean_squared_error(y_test.to_numpy()[df_test_thin.index],y_pred[df_test_thin.index,:]))\n",
    "MSE_cot_levels.append(mean_squared_error(y_test.to_numpy()[df_test_med.index],y_pred[df_test_med.index,:]))\n",
    "MSE_cot_levels.append(mean_squared_error(y_test.to_numpy()[df_test_thick.index],y_pred[df_test_thick.index,:]))"
   ]
  },
  {
   "cell_type": "code",
   "execution_count": 16,
   "metadata": {},
   "outputs": [
    {
     "name": "stdout",
     "output_type": "stream",
     "text": [
      "MSE all test data: 0.00668285335462294\n",
      "MSE clear test data: 0.0006911719144513341\n",
      "MSE thin COT <3.6 test data: 0.0027592287760980975\n",
      "MSE med COT <23 test data: 0.005872128667060768\n",
      "MSE thick COT <50 test data: 0.015237843139317685\n"
     ]
    }
   ],
   "source": [
    "print(\"MSE all test data: \"+str(MSE_cot_levels[0]))\n",
    "print(\"MSE clear test data: \"+str(MSE_cot_levels[1]))\n",
    "print(\"MSE thin COT <3.6 test data: \"+str(MSE_cot_levels[2]))\n",
    "print(\"MSE med COT <23 test data: \"+str(MSE_cot_levels[3]))\n",
    "print(\"MSE thick COT <50 test data: \"+str(MSE_cot_levels[4]))"
   ]
  },
  {
   "cell_type": "code",
   "execution_count": 17,
   "metadata": {},
   "outputs": [
    {
     "data": {
      "text/plain": [
       "array([0.08019061, 0.07082569, 0.04378588, 0.02394914, 0.02199093,\n",
       "       0.06476565, 0.05137506, 0.41690576, 0.05827315, 0.01275159,\n",
       "       0.06121662, 0.03121384, 0.06275611], dtype=float32)"
      ]
     },
     "execution_count": 17,
     "metadata": {},
     "output_type": "execute_result"
    }
   ],
   "source": [
    "model.feature_importances_"
   ]
  },
  {
   "cell_type": "code",
   "execution_count": 19,
   "metadata": {},
   "outputs": [],
   "source": [
    "norm_pred=np.linalg.norm((y_test)-y_pred,axis=0)**2\n",
    "norm_gt=np.linalg.norm(y_test,axis=0)**2\n",
    "\n",
    "NMSE_pred=norm_pred/norm_gt\n",
    "\n",
    "NMSE_pred_wo_10=np.concatenate((NMSE_pred[0:9],NMSE_pred[10:]),axis=0)"
   ]
  },
  {
   "cell_type": "code",
   "execution_count": 21,
   "metadata": {},
   "outputs": [
    {
     "data": {
      "text/plain": [
       "0.04187480748879161"
      ]
     },
     "execution_count": 21,
     "metadata": {},
     "output_type": "execute_result"
    }
   ],
   "source": [
    "np.mean(NMSE_pred)"
   ]
  },
  {
   "cell_type": "code",
   "execution_count": 22,
   "metadata": {},
   "outputs": [
    {
     "data": {
      "text/plain": [
       "0.031084416909865988"
      ]
     },
     "execution_count": 22,
     "metadata": {},
     "output_type": "execute_result"
    }
   ],
   "source": [
    "np.mean(NMSE_pred_wo_10)"
   ]
  },
  {
   "cell_type": "code",
   "execution_count": null,
   "metadata": {},
   "outputs": [],
   "source": []
  }
 ],
 "metadata": {
  "kernelspec": {
   "display_name": "Python 3",
   "language": "python",
   "name": "python3"
  },
  "language_info": {
   "codemirror_mode": {
    "name": "ipython",
    "version": 3
   },
   "file_extension": ".py",
   "mimetype": "text/x-python",
   "name": "python",
   "nbconvert_exporter": "python",
   "pygments_lexer": "ipython3",
   "version": "3.10.12"
  }
 },
 "nbformat": 4,
 "nbformat_minor": 2
}
