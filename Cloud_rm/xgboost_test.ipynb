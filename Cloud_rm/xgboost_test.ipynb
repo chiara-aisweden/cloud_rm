{
 "cells": [
  {
   "cell_type": "code",
   "execution_count": 53,
   "metadata": {},
   "outputs": [],
   "source": [
    "import numpy as np\n",
    "import pandas as pd\n",
    "import matplotlib.pyplot as plt\n",
    "import sys\n",
    "\n",
    "%matplotlib inline\n",
    "from IPython import display\n",
    "\n",
    "\n",
    "import functions.parse_data as parse\n",
    "import functions.handy_functions as hf\n",
    "import torch.nn as nn\n",
    "import torch\n",
    "\n",
    "\n",
    "from multivariate_quantile_regression.network_model import QuantileNetwork\n",
    "\n",
    "from sklearn.metrics import mean_squared_error\n",
    "from sklearn.metrics import r2_score\n",
    "from sklearn.model_selection import train_test_split\n",
    "\n",
    "from tqdm import tqdm\n",
    "\n",
    "import os\n",
    "\n",
    "import netCDF4 as nc\n",
    "import glob\n",
    "\n",
    "from functions.plot_metrics import plot_metrics\n",
    "from functions.plot_metrics_one import plot_metrics_one\n",
    "from functions import calc_metrics"
   ]
  },
  {
   "cell_type": "code",
   "execution_count": 54,
   "metadata": {},
   "outputs": [],
   "source": [
    "data_water=parse.parse('cloudrm2_water_newsurf.dat')\n",
    "data_clear=parse.parse('cloudrm2_clear_newsurf.dat')\n",
    "data_ice=parse.parse('cloudrm2_ice_newsurf.dat')\n",
    "data_mixed=parse.parse('cloudrm2_mixed_newsurf.dat')\n",
    "\n",
    "#Concatinate all datasets\n",
    "#data_all=pd.concat([data_water,data_clear,data_ice,data_mixed,\n",
    "#                    data_black_water,data_black_clear,data_black_ice,data_black_mixed])\n",
    "data_all=pd.concat([data_water,data_clear,data_ice,data_mixed])\n",
    "\n",
    "\n",
    "data_all=data_all.drop(columns=['Surface_Desc','Cloud_B01','Clear_B01'])\n",
    "data_all=data_all.reset_index()\n",
    "data_all=data_all.drop(columns=('index'))\n",
    "\n",
    "df=data_all.copy()\n",
    "\n",
    "X_labels= ['Cloud_B02','Cloud_B03','Cloud_B04','Cloud_B05','Cloud_B06',\n",
    "           'Cloud_B07','Cloud_B08','Cloud_B09','Cloud_B10','Cloud_B11','Cloud_B12','Cloud_B13','Sun_Zenith_Angle']\n",
    "#Leave out 'GOT', 'Water_Vapor'\n",
    "#Band 1 no go.\n",
    "y_labels=['Clear_B02','Clear_B03','Clear_B04','Clear_B05',\n",
    "              'Clear_B06','Clear_B07','Clear_B08', 'Clear_B09',\n",
    "              'Clear_B10','Clear_B11','Clear_B12','Clear_B13']\n",
    "#clear_labels=['Clear_B02','Clear_B03','Clear_B04','Clear_B05',\n",
    "#              'Clear_B06','Clear_B07','Clear_B08', 'Clear_B09',\n",
    "#              'Clear_B10','Clear_B11','Clear_B12','Clear_B13']\n",
    "\n",
    "#y_labels= ['OCloud_B02','OCloud_B03','OCloud_B04','OCloud_B05','OCloud_B06',\n",
    "#           'OCloud_B07','OCloud_B08','OCloud_B09','OCloud_B10','OCloud_B11','OCloud_B12','OCloud_B13']\n",
    "\n",
    "#df[y_labels]=df[X_labels].to_numpy()-df[clear_labels].to_numpy()"
   ]
  },
  {
   "cell_type": "code",
   "execution_count": 55,
   "metadata": {},
   "outputs": [],
   "source": [
    "## Estimate COT ##\n",
    "from cot_train.utils import StatCollector, MLP5, mlp_inference\n",
    "device = torch.device(\"cuda:0\" if torch.cuda.is_available() else \"cpu\")\n",
    "\n",
    "model_load_paths=['cot_model/0/model_it_2000000','cot_model/1/model_it_2000000',\n",
    "                  'cot_model/2/model_it_2000000','cot_model/3/model_it_2000000',\n",
    "                  'cot_model/4/model_it_2000000']\n",
    "\n",
    "input_dim = 13\n",
    "output_dim = 1\n",
    "\n",
    "models_cot=[]\n",
    "for model_path in model_load_paths:\n",
    "    model_cot = MLP5(input_dim, output_dim, apply_relu=True)\n",
    "    model_cot.load_state_dict(torch.load(model_path, map_location=device))\n",
    "    model_cot.to(device)\n",
    "    models_cot.append(model_cot)\n",
    "\n",
    "means=[0.534958,0.538317,0.532992,0.629737,0.826885,0.859306,0.803385,0.880321,0.408178,0.066565,0.428241,0.301306,58.076266]\n",
    "stds=[0.218962,0.188747,0.236514,0.185751,0.169492,0.170012,0.162448,0.171793,0.237684,0.096908,0.309903,0.202586,15.602082]\n",
    "\n",
    "inputs = (df[X_labels].to_numpy() - means) / stds\n",
    "\n",
    "image_input_tens=torch.Tensor(inputs).to(device)\n",
    "#image_pred_cot=model_cot(image_input_tens).cpu().data.numpy()*50\n",
    "\n",
    "preds = 0\n",
    "for model_cot in models_cot:\n",
    "    curr_preds=model_cot(image_input_tens)/len(models_cot)\n",
    "    preds=preds+curr_preds\n",
    "\n",
    "image_pred_cot=preds.cpu().data.numpy()*50 #unnormalise\n",
    "\n",
    "## Reshape back\n",
    "t_is_cloud = 0.025*50 # From Alex\n",
    "t_thin_cloud = 0.015*50 # From Alex\n",
    "\n",
    "im_pred_cot_t=image_pred_cot.copy()\n",
    "im_pred_cot_t[im_pred_cot_t<t_thin_cloud]=0\n",
    "im_pred_cot_t[(im_pred_cot_t>t_thin_cloud)&(im_pred_cot_t<t_is_cloud)]=1\n",
    "im_pred_cot_t[im_pred_cot_t>t_is_cloud]=2\n",
    "column_name='COT_est'\n",
    "c1='clear'\n",
    "c2='thin'\n",
    "c3='thick'\n",
    "df[column_name]=im_pred_cot_t\n",
    "df.loc[df[column_name]==0,c1]=1\n",
    "df.loc[df[column_name]!=0,c1]=0\n",
    "df.loc[df[column_name]==1,c2]=1\n",
    "df.loc[df[column_name]!=1,c2]=0\n",
    "df.loc[df[column_name]==2,c3]=1\n",
    "df.loc[df[column_name]!=2,c3]=0\n",
    "\n",
    "X_labels.append(c1)\n",
    "X_labels.append(c2)\n",
    "X_labels.append(c3)"
   ]
  },
  {
   "cell_type": "code",
   "execution_count": 56,
   "metadata": {},
   "outputs": [],
   "source": [
    "X=df[X_labels]\n",
    "y=df[y_labels]\n",
    "X_train, X_test, y_train, y_test = train_test_split(X,y,test_size=0.2)"
   ]
  },
  {
   "cell_type": "code",
   "execution_count": 57,
   "metadata": {},
   "outputs": [],
   "source": [
    "X_train = X_train + np.random.randn(np.shape(X_train)[0],np.shape(X_train)[1]) * np.mean(X_train.to_numpy(),axis=0)*0.03\n",
    "X_test = X_test + np.random.randn(np.shape(X_test)[0],np.shape(X_test)[1]) * np.mean(X_test.to_numpy(),axis=0)*0.03"
   ]
  },
  {
   "cell_type": "code",
   "execution_count": 58,
   "metadata": {},
   "outputs": [],
   "source": [
    "#Normalise\n",
    "X_mean=np.mean(X_train,axis=0).to_numpy()\n",
    "X_std=np.std(X_train,axis=0).to_numpy()\n",
    "X_train=(X_train-X_mean)/X_std\n",
    "\n",
    "X_test=(X_test-X_mean)/X_std\n"
   ]
  },
  {
   "cell_type": "code",
   "execution_count": 59,
   "metadata": {},
   "outputs": [
    {
     "name": "stdout",
     "output_type": "stream",
     "text": [
      "[-2.47724063e-16 -3.11839443e-16 -4.46531701e-16 -4.78905804e-16\n",
      " -3.05000469e-16 -1.87561078e-16 -9.03010999e-16  6.65867361e-16\n",
      " -8.48987547e-17 -1.84074977e-16  1.76325621e-16  1.18305366e-16\n",
      "  2.56061838e-16 -3.10862447e-18 -6.71906975e-17  4.44977388e-16]\n",
      "[1. 1. 1. 1. 1. 1. 1. 1. 1. 1. 1. 1. 1. 1. 1. 1.]\n",
      " \n",
      "[ 0.00394404  0.00562024  0.00300365  0.00524177  0.00893628  0.00772606\n",
      "  0.00827667  0.00448155  0.01037904  0.00219877 -0.00067022 -0.00136903\n",
      " -0.0021464   0.00448786 -0.00424621 -0.00145656]\n",
      "[1.0065801  1.00627187 1.00746443 1.00556363 1.00064034 0.99859563\n",
      " 1.00191665 0.99656253 1.00161808 0.99663699 1.00073968 0.99856874\n",
      " 1.00283081 1.00378436 0.99299294 1.00122455]\n"
     ]
    }
   ],
   "source": [
    "print(np.mean(X_train,axis=0).to_numpy())\n",
    "print(np.std(X_train,axis=0).to_numpy())\n",
    "print(\" \")\n",
    "print(np.mean(X_test,axis=0).to_numpy())\n",
    "print(np.std(X_test,axis=0).to_numpy())"
   ]
  },
  {
   "cell_type": "code",
   "execution_count": 60,
   "metadata": {},
   "outputs": [],
   "source": [
    "def custom_learning_rate(iterations):\n",
    "  \"\"\"\n",
    "  This function reduces the learning rate by 0.1 every 10 iterations.\n",
    "  \"\"\"\n",
    "  return 0.1 * (1.0 - (iterations / 10))"
   ]
  },
  {
   "cell_type": "code",
   "execution_count": 61,
   "metadata": {},
   "outputs": [
    {
     "name": "stderr",
     "output_type": "stream",
     "text": [
      "/home/edgelab/.local/lib/python3.10/site-packages/xgboost/core.py:160: UserWarning: [08:02:20] WARNING: /workspace/src/learner.cc:742: \n",
      "Parameters: { \"loss\" } are not used.\n",
      "\n",
      "  warnings.warn(smsg, UserWarning)\n"
     ]
    }
   ],
   "source": [
    "import cupy as cp\n",
    "import xgboost as xgb\n",
    "# Define your training and target data (replace with your actual data)\n",
    "# Your training features\n",
    "# Your training target values\n",
    "\n",
    "# Create the XGBoost regressor model\n",
    "X_train_gpu = cp.asarray(X_train.to_numpy())\n",
    "y_train_gpu = cp.asarray(y_train.to_numpy())\n",
    "\n",
    "model = xgb.XGBRegressor(device='cuda',n_estimators=500,\n",
    "                         max_depth=5,\n",
    "                         learning_rates=custom_learning_rate,\n",
    "                         loss='squared_error')\n",
    "\n",
    "# Train the model on the training data\n",
    "model.fit(X_train_gpu, y_train_gpu)\n",
    "\n",
    "# Make predictions on new data (replace with your new data)\n",
    "X_new = X_test# Your new features\n",
    "y_pred = model.predict(X_new)\n"
   ]
  },
  {
   "cell_type": "code",
   "execution_count": 62,
   "metadata": {},
   "outputs": [
    {
     "data": {
      "text/plain": [
       "0.005807798407346247"
      ]
     },
     "execution_count": 62,
     "metadata": {},
     "output_type": "execute_result"
    }
   ],
   "source": [
    "mean_squared_error(y_test,y_pred)"
   ]
  },
  {
   "cell_type": "code",
   "execution_count": 63,
   "metadata": {},
   "outputs": [
    {
     "data": {
      "image/png": "[encoded data removed]",
      "text/plain": [
       "<Figure size 640x480 with 1 Axes>"
      ]
     },
     "metadata": {},
     "output_type": "display_data"
    }
   ],
   "source": [
    "testindices=y_test.index\n",
    "COTs=np.array(df['COT'].iloc[testindices])\n",
    "\n",
    "#Divide into bins depending on COT\n",
    "clear_true = y_test.to_numpy()[(COTs==0),:]\n",
    "clear_pred = y_pred[(COTs==0),:]\n",
    "thin_true = y_test.to_numpy()[(COTs>0) &  (COTs<3.6),:]\n",
    "thin_pred = y_pred[(COTs>0) & (COTs<3.6),:]\n",
    "semi_true = y_test.to_numpy()[(COTs>=3.6) & (COTs<23),:]\n",
    "semi_pred = y_pred[(COTs>=3.6) & (COTs<23),:]\n",
    "thick_true = y_test.to_numpy()[(COTs>=23),:]\n",
    "thick_pred = y_pred[(COTs>=23),:]\n",
    "\n",
    "\n",
    "#Find and print MAE of each band\n",
    "MAE_col_tot = np.mean(np.abs(y_test.to_numpy()-y_pred),axis=0)\n",
    "MAE_col_clear = np.mean(np.abs(clear_true-clear_pred),axis=0)\n",
    "MAE_col_thin = np.mean(np.abs(thin_true-thin_pred),axis=0)\n",
    "MAE_col_semi = np.mean(np.abs(semi_true-semi_pred),axis=0)\n",
    "MAE_col_thick = np.mean(np.abs(thick_true-thick_pred),axis=0)\n",
    "\n",
    "x=np.arange(np.size(MAE_col_tot))\n",
    "plt.figure()\n",
    "plt.scatter(x,MAE_col_tot,c='black',s=100)\n",
    "plt.scatter(x,MAE_col_clear)\n",
    "plt.scatter(x,MAE_col_thin)\n",
    "plt.scatter(x,MAE_col_semi)\n",
    "plt.scatter(x,MAE_col_thick)\n",
    "plt.xticks(x, ['B02','B03','B04','B05','B06','B07','B08','B8A','B09','B10','B11','B12'])\n",
    "plt.title('MAE of each frequency band')\n",
    "plt.xlabel('Frequency band')\n",
    "plt.ylabel('MAE')\n",
    "plt.legend(['All','Clear','Thin','Semi','Thick'])\n",
    "plt.show()"
   ]
  },
  {
   "cell_type": "code",
   "execution_count": 64,
   "metadata": {},
   "outputs": [
    {
     "name": "stderr",
     "output_type": "stream",
     "text": [
      "/home/edgelab/.local/lib/python3.10/site-packages/numpy/core/fromnumeric.py:3504: RuntimeWarning: Mean of empty slice.\n",
      "  return _methods._mean(a, axis=axis, dtype=dtype,\n",
      "/home/edgelab/.local/lib/python3.10/site-packages/numpy/core/_methods.py:129: RuntimeWarning: invalid value encountered in scalar divide\n",
      "  ret = ret.dtype.type(ret / rcount)\n",
      "/home/edgelab/.local/lib/python3.10/site-packages/numpy/core/_methods.py:129: RuntimeWarning: invalid value encountered in divide\n",
      "  ret = ret.dtype.type(ret / rcount)\n"
     ]
    },
    {
     "data": {
      "text/plain": [
       "Text(0, 0.5, 'Ground Truth')"
      ]
     },
     "execution_count": 64,
     "metadata": {},
     "output_type": "execute_result"
    },
    {
     "data": {
      "image/png": "[encoded data removed]",
      "text/plain": [
       "<Figure size 640x480 with 1 Axes>"
      ]
     },
     "metadata": {},
     "output_type": "display_data"
    }
   ],
   "source": [
    "band=10\n",
    "## Prediction v Ground Truth ##\n",
    "y_true=y_test.to_numpy()[:,band]\n",
    "pred_y_11=y_pred[:,band]\n",
    "bins=np.linspace(0,1,100)\n",
    "\n",
    "freq_true=np.zeros(len(bins))\n",
    "freq_pred=np.zeros(len(bins))\n",
    "\n",
    "freq_true_zero=np.zeros(len(bins))\n",
    "freq_pred_zero=np.zeros(len(bins))\n",
    "\n",
    "freq_true_thin=np.zeros(len(bins))\n",
    "freq_pred_thin=np.zeros(len(bins))\n",
    "\n",
    "freq_true_med=np.zeros(len(bins))\n",
    "freq_pred_med=np.zeros(len(bins))\n",
    "\n",
    "y_tmp_zero=clear_true[:,band]\n",
    "y_tmp_thin=thin_true[:,band]\n",
    "y_tmp_med=semi_true[:,band]\n",
    "\n",
    "y_tmp_pred_zero=clear_pred[:,band]\n",
    "y_tmp_pred_thin=thin_pred[:,band]\n",
    "y_tmp_pred_med=semi_pred[:,band]\n",
    "\n",
    "for j,edge in enumerate(bins):\n",
    "    if j!=0:\n",
    "        indices=(y_true>bins[j-1])&(y_true<=edge)\n",
    "\n",
    "        ind_z=(y_tmp_zero>bins[j-1])&(y_tmp_zero<=edge)\n",
    "        ind_t=(y_tmp_thin>bins[j-1])&(y_tmp_thin<=edge)\n",
    "        ind_m=(y_tmp_med>bins[j-1])&(y_tmp_med<=edge)\n",
    "\n",
    "        mean_bin_true=np.mean(y_true[indices])\n",
    "        mean_bin_pred=np.mean(pred_y_11[indices])\n",
    "\n",
    "        mean_bin_true_zero=np.mean(y_tmp_zero[ind_z])\n",
    "        mean_bin_pred_zero=np.mean(y_tmp_pred_zero[ind_z])\n",
    "\n",
    "        mean_bin_true_thin=np.mean(y_tmp_thin[ind_t])\n",
    "        mean_bin_pred_thin=np.mean(y_tmp_pred_thin[ind_t])\n",
    "\n",
    "        mean_bin_true_med=np.mean(y_tmp_med[ind_m])\n",
    "        mean_bin_pred_med=np.mean(y_tmp_pred_med[ind_m])\n",
    "        \n",
    "        freq_true[j]=mean_bin_true\n",
    "        freq_pred[j]=mean_bin_pred\n",
    "\n",
    "        freq_true_zero[j]=mean_bin_true_zero\n",
    "        freq_pred_zero[j]=mean_bin_pred_zero\n",
    "\n",
    "        freq_true_thin[j]=mean_bin_true_thin\n",
    "        freq_pred_thin[j]=mean_bin_pred_thin\n",
    "\n",
    "        freq_true_med[j]=mean_bin_true_med\n",
    "        freq_pred_med[j]=mean_bin_pred_med\n",
    "\n",
    "plt.plot(freq_pred,freq_true,'.')\n",
    "plt.plot(freq_pred_zero,freq_true_zero,'.')\n",
    "plt.plot(freq_pred_thin,freq_true_thin,'.')\n",
    "plt.plot(freq_pred_med,freq_true_med,'.')\n",
    "#plt.plot(cloudy_sort,'.')\n",
    "line=np.linspace(0,1,100)\n",
    "plt.plot(line,line)\n",
    "plt.legend(['All predictions','Cloud free','Thin predictions','Medium predictions'])\n",
    "plt.xlabel(\"Prediction\")\n",
    "plt.ylabel(\"Ground Truth\")"
   ]
  },
  {
   "cell_type": "code",
   "execution_count": 65,
   "metadata": {},
   "outputs": [],
   "source": [
    "test_indices=X_test.index\n",
    "df_test=df.loc[test_indices]\n",
    "df_test=df_test.reset_index()\n",
    "df_test_clear=df_test[df_test['COT']==0]\n",
    "df_test_thin=df_test[(df_test['COT']<=3.6) & (df_test['COT']>0)]\n",
    "df_test_med=df_test[(df_test['COT']<=23) & (df_test['COT']>3.6)]\n",
    "df_test_thick=df_test[(df_test['COT']<=50) & (df_test['COT']>23)]"
   ]
  },
  {
   "cell_type": "code",
   "execution_count": 66,
   "metadata": {},
   "outputs": [],
   "source": [
    "\n",
    "MSE_cot_levels=[]\n",
    "MSE_cot_levels.append(mean_squared_error(y_test.to_numpy(),y_pred))\n",
    "MSE_cot_levels.append(mean_squared_error(y_test.to_numpy()[df_test_clear.index],y_pred[df_test_clear.index,:]))\n",
    "MSE_cot_levels.append(mean_squared_error(y_test.to_numpy()[df_test_thin.index],y_pred[df_test_thin.index,:]))\n",
    "MSE_cot_levels.append(mean_squared_error(y_test.to_numpy()[df_test_med.index],y_pred[df_test_med.index,:]))\n",
    "MSE_cot_levels.append(mean_squared_error(y_test.to_numpy()[df_test_thick.index],y_pred[df_test_thick.index,:]))"
   ]
  },
  {
   "cell_type": "code",
   "execution_count": 67,
   "metadata": {},
   "outputs": [
    {
     "name": "stdout",
     "output_type": "stream",
     "text": [
      "MSE all test data: 0.005807798407346247\n",
      "MSE clear test data: 0.0006175617359073993\n",
      "MSE thin COT <3.6 test data: 0.0025191137084998125\n",
      "MSE med COT <23 test data: 0.005398118139862754\n",
      "MSE thick COT <50 test data: 0.012580712291895264\n"
     ]
    }
   ],
   "source": [
    "print(\"MSE all test data: \"+str(MSE_cot_levels[0]))\n",
    "print(\"MSE clear test data: \"+str(MSE_cot_levels[1]))\n",
    "print(\"MSE thin COT <3.6 test data: \"+str(MSE_cot_levels[2]))\n",
    "print(\"MSE med COT <23 test data: \"+str(MSE_cot_levels[3]))\n",
    "print(\"MSE thick COT <50 test data: \"+str(MSE_cot_levels[4]))"
   ]
  },
  {
   "cell_type": "code",
   "execution_count": 68,
   "metadata": {},
   "outputs": [
    {
     "data": {
      "text/plain": [
       "array([0.0687508 , 0.03034375, 0.08626143, 0.07858544, 0.07842034,\n",
       "       0.13164565, 0.08966202, 0.11601621, 0.09274022, 0.0144791 ,\n",
       "       0.0527112 , 0.04450479, 0.0702343 , 0.00852835, 0.00636888,\n",
       "       0.03074753], dtype=float32)"
      ]
     },
     "execution_count": 68,
     "metadata": {},
     "output_type": "execute_result"
    }
   ],
   "source": [
    "model.feature_importances_"
   ]
  },
  {
   "cell_type": "code",
   "execution_count": null,
   "metadata": {},
   "outputs": [],
   "source": []
  },
  {
   "cell_type": "code",
   "execution_count": null,
   "metadata": {},
   "outputs": [],
   "source": []
  },
  {
   "cell_type": "code",
   "execution_count": null,
   "metadata": {},
   "outputs": [],
   "source": []
  },
  {
   "cell_type": "code",
   "execution_count": null,
   "metadata": {},
   "outputs": [],
   "source": []
  }
 ],
 "metadata": {
  "kernelspec": {
   "display_name": "Python 3",
   "language": "python",
   "name": "python3"
  },
  "language_info": {
   "codemirror_mode": {
    "name": "ipython",
    "version": 3
   },
   "file_extension": ".py",
   "mimetype": "text/x-python",
   "name": "python",
   "nbconvert_exporter": "python",
   "pygments_lexer": "ipython3",
   "version": "3.10.12"
  }
 },
 "nbformat": 4,
 "nbformat_minor": 2
}
