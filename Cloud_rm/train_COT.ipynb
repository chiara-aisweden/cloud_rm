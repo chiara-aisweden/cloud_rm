{
 "cells": [
  {
   "cell_type": "code",
   "execution_count": 2,
   "metadata": {},
   "outputs": [
    {
     "name": "stderr",
     "output_type": "stream",
     "text": [
      "/tmp/ipykernel_16045/1751258556.py:2: DeprecationWarning: \n",
      "Pyarrow will become a required dependency of pandas in the next major release of pandas (pandas 3.0),\n",
      "(to allow more performant data types, such as the Arrow string type, and better interoperability with other libraries)\n",
      "but was not found to be installed on your system.\n",
      "If this would cause problems for you,\n",
      "please provide us feedback at https://github.com/pandas-dev/pandas/issues/54466\n",
      "        \n",
      "  import pandas as pd\n"
     ]
    }
   ],
   "source": [
    "import numpy as np\n",
    "import pandas as pd\n",
    "import matplotlib.pyplot as plt\n",
    "import sys\n",
    "\n",
    "%matplotlib inline\n",
    "from IPython import display\n",
    "\n",
    "\n",
    "import functions.parse_data as parse\n",
    "#import functions.handy_functions as hf\n",
    "import torch.nn as nn\n",
    "import torch\n",
    "\n",
    "\n",
    "from sklearn.metrics import mean_squared_error\n",
    "from sklearn.metrics import r2_score\n",
    "from sklearn.model_selection import train_test_split\n",
    "\n",
    "#from tqdm import tqdm\n",
    "\n",
    "import os"
   ]
  },
  {
   "cell_type": "code",
   "execution_count": 14,
   "metadata": {},
   "outputs": [],
   "source": [
    "channel_labels= ['Cloud_B02','Cloud_B03','Cloud_B04','Cloud_B05','Cloud_B06','Cloud_B07',\n",
    "                 'Cloud_B08','Cloud_B09','Cloud_B10','Cloud_B11','Cloud_B12','Cloud_B13']\n",
    "\n",
    "data_water=parse.parse('cloudrm2_water.dat')\n",
    "data_clear=parse.parse('cloudrm2_clear.dat')\n",
    "data_ice=parse.parse('cloudrm2_ice.dat')\n",
    "data_mixed=parse.parse('cloudrm2_mixed.dat')\n",
    "\n",
    "#Concatinate all datasets\n",
    "#data_all=pd.concat([data_water, data_clear, data_ice, data_mixed])\n",
    "data_all=pd.concat([data_water,data_clear,data_ice,data_mixed])\n",
    "#data_all=pd.concat([data_ice])\n",
    "#data_all=data_all.drop(columns=['Surface_Desc','Cloud_B01','Clear_B01'])\n",
    "data_all=data_all.drop(columns=['Clear_B02','Clear_B03','Clear_B04','Clear_B05','Clear_B06',\n",
    "                                'Clear_B07','Clear_B08','Clear_B09','Clear_B10','Clear_B11',\n",
    "                                'Clear_B12','Clear_B13'])\n",
    "data_all=data_all.reset_index()\n",
    "data_all=data_all.drop(columns=('index'))\n",
    "\n",
    "df=data_all.copy()\n",
    "\n",
    "##Train test validation split##\n",
    "#X_labels= ['Cloud_B02','Cloud_B03','Cloud_B04','Cloud_B05','Cloud_B06',\n",
    "#           'Cloud_B07','Cloud_B08','Cloud_B09','Cloud_B10','Cloud_B11','Cloud_B12','Cloud_B13',\n",
    "#           'Sat_Zenith_Angle','Sun_Zenith_Angle','Azimuth_Diff_Angle']\n",
    "\n",
    "labels= ['Cloud_B02','Cloud_B03','Cloud_B04','Cloud_B05','Cloud_B06',\n",
    "           'Cloud_B07','Cloud_B08','Cloud_B09','Cloud_B10','Cloud_B11','Cloud_B12','Cloud_B13','COT']\n",
    "#Leave out 'GOT', 'Water_Vapor'\n",
    "#Band 1 no go."
   ]
  },
  {
   "cell_type": "code",
   "execution_count": 20,
   "metadata": {},
   "outputs": [],
   "source": [
    "df['Surface_Desc']=df.Surface_Desc.astype('category')\n",
    "df['Surface_Desc']=pd.factorize(df.Surface_Desc)[0]"
   ]
  },
  {
   "cell_type": "code",
   "execution_count": 16,
   "metadata": {},
   "outputs": [],
   "source": [
    "X_train, X_test=train_test_split(df,test_size=0.2)\n",
    "X_test,X_val=train_test_split(X_test,test_size=0.5)"
   ]
  },
  {
   "cell_type": "code",
   "execution_count": null,
   "metadata": {},
   "outputs": [],
   "source": []
  },
  {
   "cell_type": "code",
   "execution_count": 17,
   "metadata": {},
   "outputs": [],
   "source": [
    "X_train.to_csv(\"cot_train/data/synthetic-cot-data/train\")\n",
    "X_test.to_csv(\"cot_train/data/synthetic-cot-data/test\")\n",
    "X_val.to_csv(\"cot_train/data/synthetic-cot-data/val\")\n",
    "\n",
    "X_train_npy=X_train.to_numpy()\n",
    "X_test_npy=X_test.to_numpy()\n",
    "X_val_npy=X_val.to_numpy()\n",
    "\n",
    "np.save(\"cot_train/data/synthetic-cot-data/trainset_smhi.npy\",X_train_npy,allow_pickle=True)\n",
    "np.save(\"cot_train/data/synthetic-cot-data/testset_smhi\",X_test_npy,allow_pickle=True)\n",
    "np.save(\"cot_train/data/synthetic-cot-data/valset_smhi\",X_val_npy,allow_pickle=True)\n",
    "\n"
   ]
  },
  {
   "cell_type": "code",
   "execution_count": null,
   "metadata": {},
   "outputs": [],
   "source": []
  },
  {
   "cell_type": "code",
   "execution_count": null,
   "metadata": {},
   "outputs": [],
   "source": []
  },
  {
   "cell_type": "markdown",
   "metadata": {},
   "source": [
    "## Load model and test data"
   ]
  },
  {
   "cell_type": "code",
   "execution_count": 3,
   "metadata": {},
   "outputs": [
    {
     "name": "stdout",
     "output_type": "stream",
     "text": [
      "CUDA is available. Using GPU.\n",
      "Tensor is on device: cuda:0\n"
     ]
    }
   ],
   "source": [
    "# Check if CUDA (GPU support) is available\n",
    "if torch.cuda.is_available():\n",
    "    # CUDA is available, so let's set default device to GPU\n",
    "    torch.set_default_device(0)\n",
    "    print(\"CUDA is available. Using GPU.\")\n",
    "else:\n",
    "    # CUDA is not available, so let's use the CPU\n",
    "    print(\"CUDA is not available. Using CPU.\")\n",
    "\n",
    "# Example usage:\n",
    "tensor = torch.randn(3, 3)  # Create a tensor on the selected device\n",
    "print(\"Tensor is on device:\", tensor.device)"
   ]
  },
  {
   "cell_type": "code",
   "execution_count": 4,
   "metadata": {},
   "outputs": [],
   "source": [
    "from cot_train.utils import StatCollector, MLP5"
   ]
  },
  {
   "cell_type": "code",
   "execution_count": 5,
   "metadata": {},
   "outputs": [],
   "source": [
    "tmp=np.load('cot_train/log/2024-03-11_13-48-42/train_stats/MSE_loss_test.npz')\n"
   ]
  },
  {
   "cell_type": "code",
   "execution_count": 6,
   "metadata": {},
   "outputs": [],
   "source": [
    "with np.load('cot_train/log/2024-03-11_13-48-42/train_stats/MSE_loss_test.npz') as data:\n",
    "    means=data['means']\n",
    "    vals=data['values']\n",
    "    mas=data['mas']\n",
    "    times=data['times']"
   ]
  },
  {
   "cell_type": "code",
   "execution_count": null,
   "metadata": {},
   "outputs": [],
   "source": []
  },
  {
   "cell_type": "code",
   "execution_count": 8,
   "metadata": {},
   "outputs": [
    {
     "data": {
      "text/plain": [
       "<All keys matched successfully>"
      ]
     },
     "execution_count": 8,
     "metadata": {},
     "output_type": "execute_result"
    }
   ],
   "source": [
    "SKIP_BAND_1=1\n",
    "PROPERTY_COLUMN_MAPPING = {'spec_bands': [i for i in range(1 + SKIP_BAND_1, 14)], 'angles': [14, 15, 16], 'thick': [17], 'type': [18], 'prof_id': [19], 'gas_vapour': [20, 21], 'surf_prof': [22]}\n",
    "INPUTS = ['spec_bands']\n",
    "REGRESSOR = 'thick'\n",
    "\n",
    "input_dim = np.sum([len(PROPERTY_COLUMN_MAPPING[inp]) for inp in INPUTS])\n",
    "output_dim = 1\n",
    "\n",
    "model_load_path='holy_cot_estimations/2024-03-11_12-44-40/model_it_2000000'\n",
    "model = MLP5(input_dim, output_dim, apply_relu=True)\n",
    "model.load_state_dict(torch.load(model_load_path))"
   ]
  },
  {
   "cell_type": "code",
   "execution_count": 9,
   "metadata": {},
   "outputs": [
    {
     "data": {
      "text/plain": [
       "MLP5(\n",
       "  (lin1): Linear(in_features=12, out_features=64, bias=True)\n",
       "  (lin2): Linear(in_features=64, out_features=64, bias=True)\n",
       "  (lin3): Linear(in_features=64, out_features=64, bias=True)\n",
       "  (lin4): Linear(in_features=64, out_features=64, bias=True)\n",
       "  (lin5): Linear(in_features=64, out_features=1, bias=True)\n",
       "  (relu): ReLU()\n",
       ")"
      ]
     },
     "execution_count": 9,
     "metadata": {},
     "output_type": "execute_result"
    }
   ],
   "source": [
    "model"
   ]
  }
 ],
 "metadata": {
  "kernelspec": {
   "display_name": "Python 3",
   "language": "python",
   "name": "python3"
  },
  "language_info": {
   "codemirror_mode": {
    "name": "ipython",
    "version": 3
   },
   "file_extension": ".py",
   "mimetype": "text/x-python",
   "name": "python",
   "nbconvert_exporter": "python",
   "pygments_lexer": "ipython3",
   "version": "3.10.12"
  }
 },
 "nbformat": 4,
 "nbformat_minor": 2
}
