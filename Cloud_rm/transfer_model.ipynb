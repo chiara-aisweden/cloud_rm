{
 "cells": [
  {
   "cell_type": "code",
   "execution_count": 1,
   "metadata": {},
   "outputs": [
    {
     "name": "stderr",
     "output_type": "stream",
     "text": [
      "2024-05-06 11:36:12.328902: I tensorflow/core/util/port.cc:113] oneDNN custom operations are on. You may see slightly different numerical results due to floating-point round-off errors from different computation orders. To turn them off, set the environment variable `TF_ENABLE_ONEDNN_OPTS=0`.\n",
      "2024-05-06 11:36:12.364840: E external/local_xla/xla/stream_executor/cuda/cuda_dnn.cc:9261] Unable to register cuDNN factory: Attempting to register factory for plugin cuDNN when one has already been registered\n",
      "2024-05-06 11:36:12.364860: E external/local_xla/xla/stream_executor/cuda/cuda_fft.cc:607] Unable to register cuFFT factory: Attempting to register factory for plugin cuFFT when one has already been registered\n",
      "2024-05-06 11:36:12.365717: E external/local_xla/xla/stream_executor/cuda/cuda_blas.cc:1515] Unable to register cuBLAS factory: Attempting to register factory for plugin cuBLAS when one has already been registered\n",
      "2024-05-06 11:36:12.371516: I tensorflow/core/platform/cpu_feature_guard.cc:182] This TensorFlow binary is optimized to use available CPU instructions in performance-critical operations.\n",
      "To enable the following instructions: AVX2 AVX512F AVX512_VNNI FMA, in other operations, rebuild TensorFlow with the appropriate compiler flags.\n",
      "2024-05-06 11:36:13.135831: W tensorflow/compiler/tf2tensorrt/utils/py_utils.cc:38] TF-TRT Warning: Could not find TensorRT\n"
     ]
    }
   ],
   "source": [
    "from multivariate_quantile_regression.network_model import QuantileNetwork as QN_f\n",
    "from anton_model.network_model import QuantileNetwork as QN_a\n",
    "from anton_model.network_model import QuantileNetworkMM as QNMM_a\n",
    "import numpy as np\n",
    "\n",
    "import torch\n",
    "import torch.nn as nn\n",
    "import os"
   ]
  },
  {
   "cell_type": "code",
   "execution_count": 2,
   "metadata": {},
   "outputs": [],
   "source": [
    "## Load models\n",
    "main_filepath='pytorch_models/final_model_shadow_edition_10ens'\n",
    "n_ensemble=10\n",
    "models=[]\n",
    "for i in range(n_ensemble):\n",
    "    models.append(torch.load(main_filepath+'/model'+str(i)+'/model_file'))"
   ]
  },
  {
   "cell_type": "code",
   "execution_count": 3,
   "metadata": {},
   "outputs": [],
   "source": [
    "models[0].model.state_dict()\n",
    "models_a=[]\n",
    "quantiles=[0.1,0.5,0.9]\n",
    "for model in models:\n",
    "    tmp_state=model.model.state_dict()\n",
    "    model_a=QN_a(quantiles=quantiles)\n",
    "    n_out=model.model.n_out\n",
    "    tX_mean=model.model.tX_mean\n",
    "    tX_std=model.model.tX_std\n",
    "    y_mean=model.model.y_mean\n",
    "    y_std=model.model.y_std\n",
    "    sequence=model.model.linear\n",
    "    device=model.model.device\n",
    "    model_a.model=QNMM_a(n_out,tX_mean,tX_std,y_mean,y_std,seq=sequence,device=device)\n",
    "    model_a.model.load_state_dict(tmp_state)\n",
    "    model_a.train_loss=model.train_loss\n",
    "    model_a.val_loss=model.val_loss\n",
    "    models_a.append(model_a)\n"
   ]
  },
  {
   "cell_type": "code",
   "execution_count": 4,
   "metadata": {},
   "outputs": [
    {
     "name": "stdout",
     "output_type": "stream",
     "text": [
      "Model saved saved...\n",
      "Model saved saved...\n",
      "Model saved saved...\n",
      "Model saved saved...\n",
      "Model saved saved...\n",
      "Model saved saved...\n",
      "Model saved saved...\n",
      "Model saved saved...\n",
      "Model saved saved...\n",
      "Model saved saved...\n"
     ]
    }
   ],
   "source": [
    "for i, model in enumerate(models_a):\n",
    "\n",
    "    filepath=main_filepath+'_trans/model'+str(i)\n",
    "    os.makedirs(filepath,exist_ok=True)\n",
    "    torch.save(model,filepath+'/model_file')\n",
    "    print(\"Model saved saved...\")"
   ]
  },
  {
   "cell_type": "code",
   "execution_count": null,
   "metadata": {},
   "outputs": [],
   "source": []
  },
  {
   "cell_type": "code",
   "execution_count": null,
   "metadata": {},
   "outputs": [],
   "source": []
  }
 ],
 "metadata": {
  "kernelspec": {
   "display_name": "Python 3",
   "language": "python",
   "name": "python3"
  },
  "language_info": {
   "codemirror_mode": {
    "name": "ipython",
    "version": 3
   },
   "file_extension": ".py",
   "mimetype": "text/x-python",
   "name": "python",
   "nbconvert_exporter": "python",
   "pygments_lexer": "ipython3",
   "version": "3.10.12"
  }
 },
 "nbformat": 4,
 "nbformat_minor": 2
}
