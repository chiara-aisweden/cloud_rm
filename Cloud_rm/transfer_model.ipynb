{
 "cells": [
  {
   "cell_type": "code",
   "execution_count": 23,
   "metadata": {},
   "outputs": [],
   "source": [
    "from multivariate_quantile_regression.network_model import QuantileNetwork as QN_f\n",
    "from anton_model.network_model import QuantileNetwork as QN_a\n",
    "from anton_model.network_model import QuantileNetworkMM as QNMM_a\n",
    "import numpy as np\n",
    "\n",
    "import torch\n",
    "import torch.nn as nn\n",
    "import os"
   ]
  },
  {
   "cell_type": "code",
   "execution_count": 24,
   "metadata": {},
   "outputs": [],
   "source": [
    "## Load models\n",
    "main_filepath='pytorch_models/COT_with_noise_clear_anton'\n",
    "n_ensemble=5\n",
    "models=[]\n",
    "for i in range(n_ensemble):\n",
    "    models.append(torch.load(main_filepath+'/model'+str(i)+'/model_file'))"
   ]
  },
  {
   "cell_type": "code",
   "execution_count": 25,
   "metadata": {},
   "outputs": [],
   "source": [
    "models[0].model.state_dict()\n",
    "models_a=[]\n",
    "quantiles=[0.1,0.5,0.9]\n",
    "for model in models:\n",
    "    tmp_state=model.model.state_dict()\n",
    "    model_a=QN_a(quantiles=quantiles)\n",
    "    n_out=model.model.n_out\n",
    "    tX_mean=model.model.tX_mean\n",
    "    tX_std=model.model.tX_std\n",
    "    y_mean=model.model.y_mean\n",
    "    y_std=model.model.y_std\n",
    "    sequence=model.model.linear\n",
    "    device=model.model.device\n",
    "    model_a.model=QNMM_a(n_out,tX_mean,tX_std,y_mean,y_std,seq=sequence,device=device)\n",
    "    model_a.model.load_state_dict(tmp_state)\n",
    "    model_a.train_loss=model.train_loss\n",
    "    model_a.val_loss=model.val_loss\n",
    "    models_a.append(model_a)\n"
   ]
  },
  {
   "cell_type": "code",
   "execution_count": 26,
   "metadata": {},
   "outputs": [
    {
     "name": "stdout",
     "output_type": "stream",
     "text": [
      "Model saved saved...\n",
      "Model saved saved...\n",
      "Model saved saved...\n",
      "Model saved saved...\n",
      "Model saved saved...\n"
     ]
    }
   ],
   "source": [
    "for i, model in enumerate(models_a):\n",
    "\n",
    "    filepath=main_filepath+'_trans/model'+str(i)\n",
    "    os.makedirs(filepath,exist_ok=True)\n",
    "    torch.save(model,filepath+'/model_file')\n",
    "    print(\"Model saved saved...\")"
   ]
  },
  {
   "cell_type": "code",
   "execution_count": null,
   "metadata": {},
   "outputs": [],
   "source": []
  }
 ],
 "metadata": {
  "kernelspec": {
   "display_name": "Python 3",
   "language": "python",
   "name": "python3"
  },
  "language_info": {
   "codemirror_mode": {
    "name": "ipython",
    "version": 3
   },
   "file_extension": ".py",
   "mimetype": "text/x-python",
   "name": "python",
   "nbconvert_exporter": "python",
   "pygments_lexer": "ipython3",
   "version": "3.10.12"
  }
 },
 "nbformat": 4,
 "nbformat_minor": 2
}
